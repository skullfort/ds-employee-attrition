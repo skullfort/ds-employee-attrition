{
  "cells": [
    {
      "cell_type": "code",
      "execution_count": 1,
      "id": "9a520639",
      "metadata": {
        "id": "9a520639"
      },
      "outputs": [],
      "source": [
        "import pandas as pd"
      ]
    },
    {
      "cell_type": "code",
      "execution_count": 2,
      "id": "7553c368",
      "metadata": {
        "id": "7553c368"
      },
      "outputs": [],
      "source": [
        "df = pd.read_csv('aug_train.csv')"
      ]
    },
    {
      "cell_type": "code",
      "execution_count": 3,
      "id": "d4cc336d",
      "metadata": {
        "colab": {
          "base_uri": "https://localhost:8080/"
        },
        "id": "d4cc336d",
        "outputId": "bd79b3a3-7cd4-4761-d4a4-a6a1f2a89832"
      },
      "outputs": [
        {
          "output_type": "stream",
          "name": "stdout",
          "text": [
            "<class 'pandas.core.frame.DataFrame'>\n",
            "RangeIndex: 19158 entries, 0 to 19157\n",
            "Data columns (total 14 columns):\n",
            " #   Column                  Non-Null Count  Dtype  \n",
            "---  ------                  --------------  -----  \n",
            " 0   enrollee_id             19158 non-null  int64  \n",
            " 1   city                    19158 non-null  object \n",
            " 2   city_development_index  19158 non-null  float64\n",
            " 3   gender                  14650 non-null  object \n",
            " 4   relevent_experience     19158 non-null  object \n",
            " 5   enrolled_university     18772 non-null  object \n",
            " 6   education_level         18698 non-null  object \n",
            " 7   major_discipline        16345 non-null  object \n",
            " 8   experience              19093 non-null  object \n",
            " 9   company_size            13220 non-null  object \n",
            " 10  company_type            13018 non-null  object \n",
            " 11  last_new_job            18735 non-null  object \n",
            " 12  training_hours          19158 non-null  int64  \n",
            " 13  target                  19158 non-null  float64\n",
            "dtypes: float64(2), int64(2), object(10)\n",
            "memory usage: 2.0+ MB\n"
          ]
        }
      ],
      "source": [
        "df.info()"
      ]
    },
    {
      "cell_type": "code",
      "execution_count": 4,
      "id": "43a92f08",
      "metadata": {
        "colab": {
          "base_uri": "https://localhost:8080/",
          "height": 206
        },
        "id": "43a92f08",
        "outputId": "3eba0b1f-e2c8-4477-b48d-ad0e7d6c100e"
      },
      "outputs": [
        {
          "output_type": "execute_result",
          "data": {
            "text/plain": [
              "   enrollee_id      city  city_development_index gender  \\\n",
              "0         8949  city_103                   0.920   Male   \n",
              "1        29725   city_40                   0.776   Male   \n",
              "2        11561   city_21                   0.624    NaN   \n",
              "3        33241  city_115                   0.789    NaN   \n",
              "4          666  city_162                   0.767   Male   \n",
              "\n",
              "       relevent_experience enrolled_university education_level  \\\n",
              "0  Has relevent experience       no_enrollment        Graduate   \n",
              "1   No relevent experience       no_enrollment        Graduate   \n",
              "2   No relevent experience    Full time course        Graduate   \n",
              "3   No relevent experience                 NaN        Graduate   \n",
              "4  Has relevent experience       no_enrollment         Masters   \n",
              "\n",
              "  major_discipline experience company_size    company_type last_new_job  \\\n",
              "0             STEM        >20          NaN             NaN            1   \n",
              "1             STEM         15        50-99         Pvt Ltd           >4   \n",
              "2             STEM          5          NaN             NaN        never   \n",
              "3  Business Degree         <1          NaN         Pvt Ltd        never   \n",
              "4             STEM        >20        50-99  Funded Startup            4   \n",
              "\n",
              "   training_hours  target  \n",
              "0              36     1.0  \n",
              "1              47     0.0  \n",
              "2              83     0.0  \n",
              "3              52     1.0  \n",
              "4               8     0.0  "
            ],
            "text/html": [
              "\n",
              "  <div id=\"df-a9dd0dce-f6f1-4229-a7da-73d6bce1aa58\">\n",
              "    <div class=\"colab-df-container\">\n",
              "      <div>\n",
              "<style scoped>\n",
              "    .dataframe tbody tr th:only-of-type {\n",
              "        vertical-align: middle;\n",
              "    }\n",
              "\n",
              "    .dataframe tbody tr th {\n",
              "        vertical-align: top;\n",
              "    }\n",
              "\n",
              "    .dataframe thead th {\n",
              "        text-align: right;\n",
              "    }\n",
              "</style>\n",
              "<table border=\"1\" class=\"dataframe\">\n",
              "  <thead>\n",
              "    <tr style=\"text-align: right;\">\n",
              "      <th></th>\n",
              "      <th>enrollee_id</th>\n",
              "      <th>city</th>\n",
              "      <th>city_development_index</th>\n",
              "      <th>gender</th>\n",
              "      <th>relevent_experience</th>\n",
              "      <th>enrolled_university</th>\n",
              "      <th>education_level</th>\n",
              "      <th>major_discipline</th>\n",
              "      <th>experience</th>\n",
              "      <th>company_size</th>\n",
              "      <th>company_type</th>\n",
              "      <th>last_new_job</th>\n",
              "      <th>training_hours</th>\n",
              "      <th>target</th>\n",
              "    </tr>\n",
              "  </thead>\n",
              "  <tbody>\n",
              "    <tr>\n",
              "      <th>0</th>\n",
              "      <td>8949</td>\n",
              "      <td>city_103</td>\n",
              "      <td>0.920</td>\n",
              "      <td>Male</td>\n",
              "      <td>Has relevent experience</td>\n",
              "      <td>no_enrollment</td>\n",
              "      <td>Graduate</td>\n",
              "      <td>STEM</td>\n",
              "      <td>&gt;20</td>\n",
              "      <td>NaN</td>\n",
              "      <td>NaN</td>\n",
              "      <td>1</td>\n",
              "      <td>36</td>\n",
              "      <td>1.0</td>\n",
              "    </tr>\n",
              "    <tr>\n",
              "      <th>1</th>\n",
              "      <td>29725</td>\n",
              "      <td>city_40</td>\n",
              "      <td>0.776</td>\n",
              "      <td>Male</td>\n",
              "      <td>No relevent experience</td>\n",
              "      <td>no_enrollment</td>\n",
              "      <td>Graduate</td>\n",
              "      <td>STEM</td>\n",
              "      <td>15</td>\n",
              "      <td>50-99</td>\n",
              "      <td>Pvt Ltd</td>\n",
              "      <td>&gt;4</td>\n",
              "      <td>47</td>\n",
              "      <td>0.0</td>\n",
              "    </tr>\n",
              "    <tr>\n",
              "      <th>2</th>\n",
              "      <td>11561</td>\n",
              "      <td>city_21</td>\n",
              "      <td>0.624</td>\n",
              "      <td>NaN</td>\n",
              "      <td>No relevent experience</td>\n",
              "      <td>Full time course</td>\n",
              "      <td>Graduate</td>\n",
              "      <td>STEM</td>\n",
              "      <td>5</td>\n",
              "      <td>NaN</td>\n",
              "      <td>NaN</td>\n",
              "      <td>never</td>\n",
              "      <td>83</td>\n",
              "      <td>0.0</td>\n",
              "    </tr>\n",
              "    <tr>\n",
              "      <th>3</th>\n",
              "      <td>33241</td>\n",
              "      <td>city_115</td>\n",
              "      <td>0.789</td>\n",
              "      <td>NaN</td>\n",
              "      <td>No relevent experience</td>\n",
              "      <td>NaN</td>\n",
              "      <td>Graduate</td>\n",
              "      <td>Business Degree</td>\n",
              "      <td>&lt;1</td>\n",
              "      <td>NaN</td>\n",
              "      <td>Pvt Ltd</td>\n",
              "      <td>never</td>\n",
              "      <td>52</td>\n",
              "      <td>1.0</td>\n",
              "    </tr>\n",
              "    <tr>\n",
              "      <th>4</th>\n",
              "      <td>666</td>\n",
              "      <td>city_162</td>\n",
              "      <td>0.767</td>\n",
              "      <td>Male</td>\n",
              "      <td>Has relevent experience</td>\n",
              "      <td>no_enrollment</td>\n",
              "      <td>Masters</td>\n",
              "      <td>STEM</td>\n",
              "      <td>&gt;20</td>\n",
              "      <td>50-99</td>\n",
              "      <td>Funded Startup</td>\n",
              "      <td>4</td>\n",
              "      <td>8</td>\n",
              "      <td>0.0</td>\n",
              "    </tr>\n",
              "  </tbody>\n",
              "</table>\n",
              "</div>\n",
              "      <button class=\"colab-df-convert\" onclick=\"convertToInteractive('df-a9dd0dce-f6f1-4229-a7da-73d6bce1aa58')\"\n",
              "              title=\"Convert this dataframe to an interactive table.\"\n",
              "              style=\"display:none;\">\n",
              "        \n",
              "  <svg xmlns=\"http://www.w3.org/2000/svg\" height=\"24px\"viewBox=\"0 0 24 24\"\n",
              "       width=\"24px\">\n",
              "    <path d=\"M0 0h24v24H0V0z\" fill=\"none\"/>\n",
              "    <path d=\"M18.56 5.44l.94 2.06.94-2.06 2.06-.94-2.06-.94-.94-2.06-.94 2.06-2.06.94zm-11 1L8.5 8.5l.94-2.06 2.06-.94-2.06-.94L8.5 2.5l-.94 2.06-2.06.94zm10 10l.94 2.06.94-2.06 2.06-.94-2.06-.94-.94-2.06-.94 2.06-2.06.94z\"/><path d=\"M17.41 7.96l-1.37-1.37c-.4-.4-.92-.59-1.43-.59-.52 0-1.04.2-1.43.59L10.3 9.45l-7.72 7.72c-.78.78-.78 2.05 0 2.83L4 21.41c.39.39.9.59 1.41.59.51 0 1.02-.2 1.41-.59l7.78-7.78 2.81-2.81c.8-.78.8-2.07 0-2.86zM5.41 20L4 18.59l7.72-7.72 1.47 1.35L5.41 20z\"/>\n",
              "  </svg>\n",
              "      </button>\n",
              "      \n",
              "  <style>\n",
              "    .colab-df-container {\n",
              "      display:flex;\n",
              "      flex-wrap:wrap;\n",
              "      gap: 12px;\n",
              "    }\n",
              "\n",
              "    .colab-df-convert {\n",
              "      background-color: #E8F0FE;\n",
              "      border: none;\n",
              "      border-radius: 50%;\n",
              "      cursor: pointer;\n",
              "      display: none;\n",
              "      fill: #1967D2;\n",
              "      height: 32px;\n",
              "      padding: 0 0 0 0;\n",
              "      width: 32px;\n",
              "    }\n",
              "\n",
              "    .colab-df-convert:hover {\n",
              "      background-color: #E2EBFA;\n",
              "      box-shadow: 0px 1px 2px rgba(60, 64, 67, 0.3), 0px 1px 3px 1px rgba(60, 64, 67, 0.15);\n",
              "      fill: #174EA6;\n",
              "    }\n",
              "\n",
              "    [theme=dark] .colab-df-convert {\n",
              "      background-color: #3B4455;\n",
              "      fill: #D2E3FC;\n",
              "    }\n",
              "\n",
              "    [theme=dark] .colab-df-convert:hover {\n",
              "      background-color: #434B5C;\n",
              "      box-shadow: 0px 1px 3px 1px rgba(0, 0, 0, 0.15);\n",
              "      filter: drop-shadow(0px 1px 2px rgba(0, 0, 0, 0.3));\n",
              "      fill: #FFFFFF;\n",
              "    }\n",
              "  </style>\n",
              "\n",
              "      <script>\n",
              "        const buttonEl =\n",
              "          document.querySelector('#df-a9dd0dce-f6f1-4229-a7da-73d6bce1aa58 button.colab-df-convert');\n",
              "        buttonEl.style.display =\n",
              "          google.colab.kernel.accessAllowed ? 'block' : 'none';\n",
              "\n",
              "        async function convertToInteractive(key) {\n",
              "          const element = document.querySelector('#df-a9dd0dce-f6f1-4229-a7da-73d6bce1aa58');\n",
              "          const dataTable =\n",
              "            await google.colab.kernel.invokeFunction('convertToInteractive',\n",
              "                                                     [key], {});\n",
              "          if (!dataTable) return;\n",
              "\n",
              "          const docLinkHtml = 'Like what you see? Visit the ' +\n",
              "            '<a target=\"_blank\" href=https://colab.research.google.com/notebooks/data_table.ipynb>data table notebook</a>'\n",
              "            + ' to learn more about interactive tables.';\n",
              "          element.innerHTML = '';\n",
              "          dataTable['output_type'] = 'display_data';\n",
              "          await google.colab.output.renderOutput(dataTable, element);\n",
              "          const docLink = document.createElement('div');\n",
              "          docLink.innerHTML = docLinkHtml;\n",
              "          element.appendChild(docLink);\n",
              "        }\n",
              "      </script>\n",
              "    </div>\n",
              "  </div>\n",
              "  "
            ]
          },
          "metadata": {},
          "execution_count": 4
        }
      ],
      "source": [
        "df.head()"
      ]
    },
    {
      "cell_type": "code",
      "execution_count": 5,
      "id": "d8f9f5a9",
      "metadata": {
        "colab": {
          "base_uri": "https://localhost:8080/"
        },
        "id": "d8f9f5a9",
        "outputId": "9660a49b-d7a5-43c1-c081-e1a56dd5e771"
      },
      "outputs": [
        {
          "output_type": "execute_result",
          "data": {
            "text/plain": [
              "Index(['gender', 'enrolled_university', 'education_level', 'major_discipline',\n",
              "       'experience', 'company_size', 'company_type', 'last_new_job'],\n",
              "      dtype='object')"
            ]
          },
          "metadata": {},
          "execution_count": 5
        }
      ],
      "source": [
        "# Summarize the features with missing values.\n",
        "df.isnull().sum()[df.isnull().sum() != 0].index"
      ]
    },
    {
      "cell_type": "code",
      "execution_count": 5,
      "id": "88042914",
      "metadata": {
        "id": "88042914"
      },
      "outputs": [],
      "source": []
    },
    {
      "cell_type": "markdown",
      "id": "da993b40",
      "metadata": {
        "id": "da993b40"
      },
      "source": [
        "## 0. `enrollee_id`\n",
        "`enrollee_id` is used to identify those enrolled in the program. Since it is unique for each record and has no bearing on the target, it can be dropped."
      ]
    },
    {
      "cell_type": "code",
      "execution_count": 6,
      "id": "394b91a9",
      "metadata": {
        "colab": {
          "base_uri": "https://localhost:8080/"
        },
        "id": "394b91a9",
        "outputId": "5cd3f3ed-885b-49fb-d31b-2da3ea70b43d"
      },
      "outputs": [
        {
          "output_type": "execute_result",
          "data": {
            "text/plain": [
              "19158"
            ]
          },
          "metadata": {},
          "execution_count": 6
        }
      ],
      "source": [
        "df.enrollee_id.nunique()"
      ]
    },
    {
      "cell_type": "code",
      "execution_count": 7,
      "id": "77ac7556",
      "metadata": {
        "id": "77ac7556"
      },
      "outputs": [],
      "source": [
        "df.drop(columns='enrollee_id', inplace=True)"
      ]
    },
    {
      "cell_type": "markdown",
      "id": "ec1a16d8",
      "metadata": {
        "id": "ec1a16d8"
      },
      "source": [
        "## 1. `city`\n",
        "`city` with low counts can be binned together to reduce the total number of categories."
      ]
    },
    {
      "cell_type": "code",
      "execution_count": 8,
      "id": "6ce4c889",
      "metadata": {
        "colab": {
          "base_uri": "https://localhost:8080/"
        },
        "id": "6ce4c889",
        "outputId": "09e4bfdd-958b-42cd-9596-7baeb979f8a5"
      },
      "outputs": [
        {
          "output_type": "execute_result",
          "data": {
            "text/plain": [
              "city_103    4355\n",
              "city_21     2702\n",
              "city_16     1533\n",
              "city_114    1336\n",
              "city_160     845\n",
              "city_136     586\n",
              "city_67      431\n",
              "city_75      305\n",
              "city_102     304\n",
              "city_104     301\n",
              "city_73      280\n",
              "city_100     275\n",
              "city_71      266\n",
              "city_11      247\n",
              "city_90      197\n",
              "city_61      197\n",
              "city_28      192\n",
              "city_23      182\n",
              "city_65      175\n",
              "city_36      160\n",
              "city_173     151\n",
              "city_83      143\n",
              "city_50      140\n",
              "city_116     128\n",
              "city_46      128\n",
              "city_162     128\n",
              "city_138     120\n",
              "city_19      119\n",
              "city_64      114\n",
              "city_45      113\n",
              "city_97      104\n",
              "city_74      104\n",
              "city_57      103\n",
              "city_149     102\n",
              "city_159      94\n",
              "city_99       94\n",
              "city_128      92\n",
              "city_41       89\n",
              "city_10       86\n",
              "city_165      82\n",
              "Name: city, dtype: int64"
            ]
          },
          "metadata": {},
          "execution_count": 8
        }
      ],
      "source": [
        "df.city.value_counts(dropna=False).head(40)"
      ]
    },
    {
      "cell_type": "code",
      "execution_count": 9,
      "id": "902050fd",
      "metadata": {
        "colab": {
          "base_uri": "https://localhost:8080/"
        },
        "id": "902050fd",
        "outputId": "1ae064f0-a2c3-485f-d534-2138f3d3bd17"
      },
      "outputs": [
        {
          "output_type": "execute_result",
          "data": {
            "text/plain": [
              "city_146    8\n",
              "city_180    7\n",
              "city_81     7\n",
              "city_2      7\n",
              "city_120    6\n",
              "city_107    6\n",
              "city_179    5\n",
              "city_139    5\n",
              "city_62     5\n",
              "city_31     4\n",
              "city_82     4\n",
              "city_25     4\n",
              "city_18     4\n",
              "city_166    4\n",
              "city_8      4\n",
              "city_129    3\n",
              "city_111    3\n",
              "city_121    3\n",
              "city_140    1\n",
              "city_171    1\n",
              "Name: city, dtype: int64"
            ]
          },
          "metadata": {},
          "execution_count": 9
        }
      ],
      "source": [
        "df.city.value_counts(dropna=False).tail(20)"
      ]
    },
    {
      "cell_type": "code",
      "execution_count": 10,
      "id": "4176e156",
      "metadata": {
        "colab": {
          "base_uri": "https://localhost:8080/"
        },
        "id": "4176e156",
        "outputId": "9be711da-b452-49d3-bb63-34330d37decc"
      },
      "outputs": [
        {
          "output_type": "execute_result",
          "data": {
            "text/plain": [
              "Other       6460\n",
              "city_103    4355\n",
              "city_21     2702\n",
              "city_16     1533\n",
              "city_114    1336\n",
              "city_160     845\n",
              "city_136     586\n",
              "city_67      431\n",
              "city_75      305\n",
              "city_102     304\n",
              "city_104     301\n",
              "Name: city, dtype: int64"
            ]
          },
          "metadata": {},
          "execution_count": 10
        }
      ],
      "source": [
        "city_counts = df['city'].value_counts()\n",
        "cities_to_replace = city_counts[city_counts<300].index\n",
        "cities_to_replace\n",
        "\n",
        "for city in cities_to_replace:\n",
        "    df['city'] = df['city'].replace(city, 'Other')\n",
        "\n",
        "df['city'].value_counts()"
      ]
    },
    {
      "cell_type": "markdown",
      "id": "c0a59ed4",
      "metadata": {
        "id": "c0a59ed4"
      },
      "source": [
        "## 2. `city_development_index`\n",
        "- city development index, already scaled\n",
        "- confirmed: each city does have a single `city_development_index`, but different cities might share the same value."
      ]
    },
    {
      "cell_type": "code",
      "execution_count": 11,
      "id": "447268d1",
      "metadata": {
        "colab": {
          "base_uri": "https://localhost:8080/"
        },
        "id": "447268d1",
        "outputId": "6f8242c0-9411-4f7d-923d-d07bca190933"
      },
      "outputs": [
        {
          "output_type": "execute_result",
          "data": {
            "text/plain": [
              "93"
            ]
          },
          "metadata": {},
          "execution_count": 11
        }
      ],
      "source": [
        "df['city_development_index'].nunique()"
      ]
    },
    {
      "cell_type": "code",
      "execution_count": 12,
      "id": "ae12dc25",
      "metadata": {
        "colab": {
          "base_uri": "https://localhost:8080/",
          "height": 430
        },
        "id": "ae12dc25",
        "outputId": "669f62ae-5411-4ab5-a341-2bd7aa03cc22"
      },
      "outputs": [
        {
          "output_type": "display_data",
          "data": {
            "text/plain": [
              "<Figure size 640x480 with 1 Axes>"
            ],
            "image/png": "[encoded data removed]"
          },
          "metadata": {}
        }
      ],
      "source": [
        "df['city_development_index'].hist(bins=10);"
      ]
    },
    {
      "cell_type": "code",
      "execution_count": 13,
      "id": "25c73ac3",
      "metadata": {
        "colab": {
          "base_uri": "https://localhost:8080/"
        },
        "id": "25c73ac3",
        "outputId": "62be7ccc-a7c7-4bdf-a013-621e0476ffc6"
      },
      "outputs": [
        {
          "output_type": "execute_result",
          "data": {
            "text/plain": [
              "False"
            ]
          },
          "metadata": {},
          "execution_count": 13
        }
      ],
      "source": [
        "all(df.groupby('city')['city_development_index'].nunique() == 1)"
      ]
    },
    {
      "cell_type": "markdown",
      "id": "7286af1c",
      "metadata": {
        "id": "7286af1c"
      },
      "source": [
        "## 3. `gender`\n",
        "Missing values need to be dealt with. It's not immediately clear how to go about it: do we impute with the most frequent value to simply group it with `Other`? Since there are 10 males to 1 female in this training problem, we can approach this problem with filling in the missing values with `Male`."
      ]
    },
    {
      "cell_type": "code",
      "execution_count": 14,
      "id": "ce607df1",
      "metadata": {
        "colab": {
          "base_uri": "https://localhost:8080/"
        },
        "id": "ce607df1",
        "outputId": "554f4131-9194-41c7-9433-ba2be7df4000"
      },
      "outputs": [
        {
          "output_type": "execute_result",
          "data": {
            "text/plain": [
              "Male      13221\n",
              "NaN        4508\n",
              "Female     1238\n",
              "Other       191\n",
              "Name: gender, dtype: int64"
            ]
          },
          "metadata": {},
          "execution_count": 14
        }
      ],
      "source": [
        "df['gender'].value_counts(dropna=False)"
      ]
    },
    {
      "cell_type": "code",
      "execution_count": 15,
      "id": "ea2fe086",
      "metadata": {
        "colab": {
          "base_uri": "https://localhost:8080/"
        },
        "id": "ea2fe086",
        "outputId": "d40560a7-943b-4095-ace9-fd51145f4f1c"
      },
      "outputs": [
        {
          "output_type": "execute_result",
          "data": {
            "text/plain": [
              "Male      17729\n",
              "Female     1238\n",
              "Other       191\n",
              "Name: gender, dtype: int64"
            ]
          },
          "metadata": {},
          "execution_count": 15
        }
      ],
      "source": [
        "df['gender'].fillna('Male', inplace=True)\n",
        "df['gender'].value_counts(dropna=False)"
      ]
    },
    {
      "cell_type": "markdown",
      "id": "cb4d2fb1",
      "metadata": {
        "id": "cb4d2fb1"
      },
      "source": [
        "## 4. `relevent_experience`\n",
        "This is one of the few categorical features without missing values."
      ]
    },
    {
      "cell_type": "code",
      "execution_count": 16,
      "id": "47188a6e",
      "metadata": {
        "colab": {
          "base_uri": "https://localhost:8080/"
        },
        "id": "47188a6e",
        "outputId": "bd20d4d0-2c68-4e00-eced-9bcaff7c6533"
      },
      "outputs": [
        {
          "output_type": "execute_result",
          "data": {
            "text/plain": [
              "Has relevent experience    13792\n",
              "No relevent experience      5366\n",
              "Name: relevent_experience, dtype: int64"
            ]
          },
          "metadata": {},
          "execution_count": 16
        }
      ],
      "source": [
        "df['relevent_experience'].value_counts(dropna=False)"
      ]
    },
    {
      "cell_type": "code",
      "execution_count": 17,
      "id": "5e1bad3c",
      "metadata": {
        "colab": {
          "base_uri": "https://localhost:8080/"
        },
        "id": "5e1bad3c",
        "outputId": "efa68274-5ddb-4ad6-f896-91314dbd0550"
      },
      "outputs": [
        {
          "output_type": "execute_result",
          "data": {
            "text/plain": [
              "y    13792\n",
              "n     5366\n",
              "Name: relevent_experience, dtype: int64"
            ]
          },
          "metadata": {},
          "execution_count": 17
        }
      ],
      "source": [
        "df['relevent_experience'].replace('Has relevent experience', 'y', inplace=True)\n",
        "df['relevent_experience'].replace('No relevent experience', 'n', inplace=True)\n",
        "df['relevent_experience'].value_counts(dropna=False)"
      ]
    },
    {
      "cell_type": "markdown",
      "id": "85f732a0",
      "metadata": {
        "id": "85f732a0"
      },
      "source": [
        "## 5. `enrolled_university`\n",
        "Missing values need to be dealt with: impute with the most frequent value"
      ]
    },
    {
      "cell_type": "code",
      "execution_count": 18,
      "id": "76e54f98",
      "metadata": {
        "colab": {
          "base_uri": "https://localhost:8080/"
        },
        "id": "76e54f98",
        "outputId": "fac3c498-5e26-4d34-d26b-d00b62ef3146"
      },
      "outputs": [
        {
          "output_type": "execute_result",
          "data": {
            "text/plain": [
              "no_enrollment       13817\n",
              "Full time course     3757\n",
              "Part time course     1198\n",
              "NaN                   386\n",
              "Name: enrolled_university, dtype: int64"
            ]
          },
          "metadata": {},
          "execution_count": 18
        }
      ],
      "source": [
        "df['enrolled_university'].value_counts(dropna=False)"
      ]
    },
    {
      "cell_type": "code",
      "execution_count": 19,
      "id": "20917a0c",
      "metadata": {
        "colab": {
          "base_uri": "https://localhost:8080/"
        },
        "id": "20917a0c",
        "outputId": "9fff395c-5347-4e58-856d-22d1683b092c"
      },
      "outputs": [
        {
          "output_type": "execute_result",
          "data": {
            "text/plain": [
              "none         14203\n",
              "full_time     3757\n",
              "part_time     1198\n",
              "Name: enrolled_university, dtype: int64"
            ]
          },
          "metadata": {},
          "execution_count": 19
        }
      ],
      "source": [
        "df['enrolled_university'].fillna('no_enrollment', inplace=True)\n",
        "df['enrolled_university'].replace('no_enrollment', 'none', inplace=True)\n",
        "df['enrolled_university'].replace('Full time course', 'full_time', inplace=True)\n",
        "df['enrolled_university'].replace('Part time course', 'part_time', inplace=True)\n",
        "df['enrolled_university'].value_counts(dropna=False)"
      ]
    },
    {
      "cell_type": "markdown",
      "id": "c4c91059",
      "metadata": {
        "id": "c4c91059"
      },
      "source": [
        "## 6. `education_level`\n",
        "Missing values need to be dealt with: impute with the most frequent value"
      ]
    },
    {
      "cell_type": "code",
      "execution_count": 20,
      "id": "35f3fd47",
      "metadata": {
        "colab": {
          "base_uri": "https://localhost:8080/"
        },
        "id": "35f3fd47",
        "outputId": "cf18b07b-a6a8-447c-ff64-db36a67f3d87"
      },
      "outputs": [
        {
          "output_type": "execute_result",
          "data": {
            "text/plain": [
              "Graduate          11598\n",
              "Masters            4361\n",
              "High School        2017\n",
              "NaN                 460\n",
              "Phd                 414\n",
              "Primary School      308\n",
              "Name: education_level, dtype: int64"
            ]
          },
          "metadata": {},
          "execution_count": 20
        }
      ],
      "source": [
        "df['education_level'].value_counts(dropna=False)"
      ]
    },
    {
      "cell_type": "code",
      "execution_count": 21,
      "id": "8e53f6bc",
      "metadata": {
        "id": "8e53f6bc"
      },
      "outputs": [],
      "source": [
        "df['education_level'].fillna('Graduate', inplace=True)"
      ]
    },
    {
      "cell_type": "code",
      "execution_count": 22,
      "id": "c1a0efa1",
      "metadata": {
        "colab": {
          "base_uri": "https://localhost:8080/"
        },
        "id": "c1a0efa1",
        "outputId": "4b117794-1e02-4623-c00d-90fb070dbdad"
      },
      "outputs": [
        {
          "output_type": "execute_result",
          "data": {
            "text/plain": [
              "Graduate          12058\n",
              "Masters            4361\n",
              "High School        2017\n",
              "Phd                 414\n",
              "Primary School      308\n",
              "Name: education_level, dtype: int64"
            ]
          },
          "metadata": {},
          "execution_count": 22
        }
      ],
      "source": [
        "df['education_level'].value_counts(dropna=False)"
      ]
    },
    {
      "cell_type": "markdown",
      "id": "1861739b",
      "metadata": {
        "id": "1861739b"
      },
      "source": [
        "## 7. `major_discipline`\n",
        "Missing values need to be dealt with."
      ]
    },
    {
      "cell_type": "code",
      "execution_count": 23,
      "id": "bcffda05",
      "metadata": {
        "colab": {
          "base_uri": "https://localhost:8080/"
        },
        "id": "bcffda05",
        "outputId": "8622f6e7-a0af-4dd0-a652-2246b01e3891"
      },
      "outputs": [
        {
          "output_type": "execute_result",
          "data": {
            "text/plain": [
              "STEM               14492\n",
              "NaN                 2813\n",
              "Humanities           669\n",
              "Other                381\n",
              "Business Degree      327\n",
              "Arts                 253\n",
              "No Major             223\n",
              "Name: major_discipline, dtype: int64"
            ]
          },
          "metadata": {},
          "execution_count": 23
        }
      ],
      "source": [
        "df['major_discipline'].value_counts(dropna=False)"
      ]
    },
    {
      "cell_type": "code",
      "execution_count": 24,
      "id": "6745874b",
      "metadata": {
        "colab": {
          "base_uri": "https://localhost:8080/"
        },
        "id": "6745874b",
        "outputId": "2d90b26f-6871-4f3a-ccf1-95d2da32b583"
      },
      "outputs": [
        {
          "output_type": "execute_result",
          "data": {
            "text/plain": [
              "STEM               17305\n",
              "Humanities           669\n",
              "Other                381\n",
              "Business Degree      327\n",
              "Arts                 253\n",
              "No Major             223\n",
              "Name: major_discipline, dtype: int64"
            ]
          },
          "metadata": {},
          "execution_count": 24
        }
      ],
      "source": [
        "df['major_discipline'].fillna('STEM', inplace=True)\n",
        "df['major_discipline'].value_counts(dropna=False)"
      ]
    },
    {
      "cell_type": "markdown",
      "id": "515777f2",
      "metadata": {
        "id": "515777f2"
      },
      "source": [
        "## 8. `experience`\n",
        "- Candidate total experience in years\n",
        "- Missing values need to be dealt with."
      ]
    },
    {
      "cell_type": "code",
      "execution_count": 25,
      "id": "7e8f4851",
      "metadata": {
        "colab": {
          "base_uri": "https://localhost:8080/"
        },
        "id": "7e8f4851",
        "outputId": "079a0370-514e-40eb-eab7-5056fe22ef78"
      },
      "outputs": [
        {
          "output_type": "execute_result",
          "data": {
            "text/plain": [
              ">20    3286\n",
              "5      1430\n",
              "4      1403\n",
              "3      1354\n",
              "6      1216\n",
              "2      1127\n",
              "7      1028\n",
              "10      985\n",
              "9       980\n",
              "8       802\n",
              "15      686\n",
              "11      664\n",
              "14      586\n",
              "1       549\n",
              "<1      522\n",
              "16      508\n",
              "12      494\n",
              "13      399\n",
              "17      342\n",
              "19      304\n",
              "18      280\n",
              "20      148\n",
              "NaN      65\n",
              "Name: experience, dtype: int64"
            ]
          },
          "metadata": {},
          "execution_count": 25
        }
      ],
      "source": [
        "df['experience'].value_counts(dropna=False)"
      ]
    },
    {
      "cell_type": "code",
      "execution_count": 26,
      "id": "520bc6f6",
      "metadata": {
        "colab": {
          "base_uri": "https://localhost:8080/"
        },
        "id": "520bc6f6",
        "outputId": "c3661223-ef1d-4355-e27c-6eba01ab4469"
      },
      "outputs": [
        {
          "output_type": "execute_result",
          "data": {
            "text/plain": [
              "23"
            ]
          },
          "metadata": {},
          "execution_count": 26
        }
      ],
      "source": [
        "len(df['experience'].value_counts(dropna=False))"
      ]
    },
    {
      "cell_type": "code",
      "execution_count": 27,
      "id": "e751dea8",
      "metadata": {
        "colab": {
          "base_uri": "https://localhost:8080/"
        },
        "id": "e751dea8",
        "outputId": "575f0496-b99a-48bc-8196-b20c8f2ad6bf"
      },
      "outputs": [
        {
          "output_type": "execute_result",
          "data": {
            "text/plain": [
              ">20    3351\n",
              "5      1430\n",
              "4      1403\n",
              "3      1354\n",
              "6      1216\n",
              "2      1127\n",
              "7      1028\n",
              "10      985\n",
              "9       980\n",
              "8       802\n",
              "15      686\n",
              "11      664\n",
              "14      586\n",
              "1       549\n",
              "<1      522\n",
              "16      508\n",
              "12      494\n",
              "13      399\n",
              "17      342\n",
              "19      304\n",
              "18      280\n",
              "20      148\n",
              "Name: experience, dtype: int64"
            ]
          },
          "metadata": {},
          "execution_count": 27
        }
      ],
      "source": [
        "df['experience'].fillna('>20', inplace=True)\n",
        "df['experience'].value_counts(dropna=False)"
      ]
    },
    {
      "cell_type": "code",
      "execution_count": 28,
      "id": "cd0ec2b0",
      "metadata": {
        "colab": {
          "base_uri": "https://localhost:8080/"
        },
        "id": "cd0ec2b0",
        "outputId": "a12f8832-8b3c-4d32-d58e-94b7bbf5ebfb"
      },
      "outputs": [
        {
          "output_type": "execute_result",
          "data": {
            "text/plain": [
              ">=10    8747\n",
              "<10     5456\n",
              "<5      2757\n",
              "<3      2198\n",
              "Name: experience, dtype: int64"
            ]
          },
          "metadata": {},
          "execution_count": 28
        }
      ],
      "source": [
        "for exp in ['<1', '1', '2']:\n",
        "    df['experience'].replace(exp, '<3', inplace=True)\n",
        "\n",
        "for exp in ['3', '4']:\n",
        "    df['experience'].replace(exp, '<5', inplace=True)\n",
        "    \n",
        "for exp in ['5', '6', '7', '8', '9']:\n",
        "    df['experience'].replace(exp, '<10', inplace=True)\n",
        "\n",
        "for exp in ['10', '11', '12', '13', '14', '15', '16', '17', '18', '19', '20', '>20']:\n",
        "    df['experience'].replace(exp, '>=10', inplace=True)\n",
        "\n",
        "df['experience'].value_counts(dropna=False)"
      ]
    },
    {
      "cell_type": "markdown",
      "id": "ee59e1a1",
      "metadata": {
        "id": "ee59e1a1"
      },
      "source": [
        "## 9. `company_size`\n",
        "- Number of employees in current employer's company\n",
        "- Missing values need to be dealt with."
      ]
    },
    {
      "cell_type": "code",
      "execution_count": 29,
      "id": "09ee123a",
      "metadata": {
        "colab": {
          "base_uri": "https://localhost:8080/"
        },
        "id": "09ee123a",
        "outputId": "cd3496ed-7de9-4c86-c118-5b69bbc4250b"
      },
      "outputs": [
        {
          "output_type": "execute_result",
          "data": {
            "text/plain": [
              "NaN          5938\n",
              "50-99        3083\n",
              "100-500      2571\n",
              "10000+       2019\n",
              "10/49        1471\n",
              "1000-4999    1328\n",
              "<10          1308\n",
              "500-999       877\n",
              "5000-9999     563\n",
              "Name: company_size, dtype: int64"
            ]
          },
          "metadata": {},
          "execution_count": 29
        }
      ],
      "source": [
        "df['company_size'].value_counts(dropna=False)"
      ]
    },
    {
      "cell_type": "code",
      "execution_count": 30,
      "id": "6ddc9b52",
      "metadata": {
        "colab": {
          "base_uri": "https://localhost:8080/"
        },
        "id": "6ddc9b52",
        "outputId": "7b21c1f9-805b-45ff-e111-cde12dd322d0"
      },
      "outputs": [
        {
          "output_type": "execute_result",
          "data": {
            "text/plain": [
              "50-99        9021\n",
              "100-500      2571\n",
              "10000+       2019\n",
              "10-49        1471\n",
              "1000-4999    1328\n",
              "<10          1308\n",
              "500-999       877\n",
              "5000-9999     563\n",
              "Name: company_size, dtype: int64"
            ]
          },
          "metadata": {},
          "execution_count": 30
        }
      ],
      "source": [
        "df['company_size'].replace('10/49', '10-49', inplace=True)\n",
        "df['company_size'].fillna('50-99', inplace=True)\n",
        "df['company_size'].value_counts(dropna=False)"
      ]
    },
    {
      "cell_type": "markdown",
      "id": "aac2bbe8",
      "metadata": {
        "id": "aac2bbe8"
      },
      "source": [
        "## 10. `company_type`\n",
        "Missing values need to be dealt with."
      ]
    },
    {
      "cell_type": "code",
      "execution_count": 31,
      "id": "2424b9fa",
      "metadata": {
        "colab": {
          "base_uri": "https://localhost:8080/"
        },
        "id": "2424b9fa",
        "outputId": "faaaaed6-4a0d-497d-c7fc-cba952d98a52"
      },
      "outputs": [
        {
          "output_type": "execute_result",
          "data": {
            "text/plain": [
              "Pvt Ltd                9817\n",
              "NaN                    6140\n",
              "Funded Startup         1001\n",
              "Public Sector           955\n",
              "Early Stage Startup     603\n",
              "NGO                     521\n",
              "Other                   121\n",
              "Name: company_type, dtype: int64"
            ]
          },
          "metadata": {},
          "execution_count": 31
        }
      ],
      "source": [
        "df['company_type'].value_counts(dropna=False)"
      ]
    },
    {
      "cell_type": "code",
      "execution_count": 32,
      "id": "59a0c152",
      "metadata": {
        "colab": {
          "base_uri": "https://localhost:8080/"
        },
        "id": "59a0c152",
        "outputId": "7b1d6b02-30e2-42f6-f9b2-481f0fc9e33a"
      },
      "outputs": [
        {
          "output_type": "execute_result",
          "data": {
            "text/plain": [
              "Pvt Ltd                15957\n",
              "Funded Startup          1001\n",
              "Public Sector            955\n",
              "Early Stage Startup      603\n",
              "NGO                      521\n",
              "Other                    121\n",
              "Name: company_type, dtype: int64"
            ]
          },
          "metadata": {},
          "execution_count": 32
        }
      ],
      "source": [
        "df['company_type'].fillna('Pvt Ltd', inplace=True)\n",
        "df['company_type'].value_counts(dropna=False)"
      ]
    },
    {
      "cell_type": "markdown",
      "id": "2aea7e4d",
      "metadata": {
        "id": "2aea7e4d"
      },
      "source": [
        "## 11. `last_new_job`\n",
        "- difference in years between previous and current job\n",
        "- Missing values need to be dealt with."
      ]
    },
    {
      "cell_type": "code",
      "execution_count": 33,
      "id": "16ef316f",
      "metadata": {
        "colab": {
          "base_uri": "https://localhost:8080/"
        },
        "id": "16ef316f",
        "outputId": "07917ca2-f9a6-48b0-ab27-472c2cade700"
      },
      "outputs": [
        {
          "output_type": "execute_result",
          "data": {
            "text/plain": [
              "1        8040\n",
              ">4       3290\n",
              "2        2900\n",
              "never    2452\n",
              "4        1029\n",
              "3        1024\n",
              "NaN       423\n",
              "Name: last_new_job, dtype: int64"
            ]
          },
          "metadata": {},
          "execution_count": 33
        }
      ],
      "source": [
        "df['last_new_job'].value_counts(dropna=False)"
      ]
    },
    {
      "cell_type": "code",
      "execution_count": 34,
      "id": "becae0ac",
      "metadata": {
        "colab": {
          "base_uri": "https://localhost:8080/"
        },
        "id": "becae0ac",
        "outputId": "4bac4458-9af1-497b-86ef-bc208d37417d"
      },
      "outputs": [
        {
          "output_type": "execute_result",
          "data": {
            "text/plain": [
              "1        8463\n",
              ">4       3290\n",
              "2        2900\n",
              "never    2452\n",
              "4        1029\n",
              "3        1024\n",
              "Name: last_new_job, dtype: int64"
            ]
          },
          "metadata": {},
          "execution_count": 34
        }
      ],
      "source": [
        "df['last_new_job'].fillna('1', inplace=True)\n",
        "df['last_new_job'].value_counts(dropna=False)"
      ]
    },
    {
      "cell_type": "markdown",
      "id": "2d27d79e",
      "metadata": {
        "id": "2d27d79e"
      },
      "source": [
        "## 12. `training_hours`\n",
        "Need to be scaled"
      ]
    },
    {
      "cell_type": "code",
      "execution_count": 35,
      "id": "3f936118",
      "metadata": {
        "colab": {
          "base_uri": "https://localhost:8080/",
          "height": 447
        },
        "id": "3f936118",
        "outputId": "2d0d07bc-019f-4344-fe8e-ea197094ecc5"
      },
      "outputs": [
        {
          "output_type": "execute_result",
          "data": {
            "text/plain": [
              "<Axes: >"
            ]
          },
          "metadata": {},
          "execution_count": 35
        },
        {
          "output_type": "display_data",
          "data": {
            "text/plain": [
              "<Figure size 640x480 with 1 Axes>"
            ],
            "image/png": "[encoded data removed]"
          },
          "metadata": {}
        }
      ],
      "source": [
        "df['training_hours'].hist(bins=50)"
      ]
    },
    {
      "cell_type": "markdown",
      "id": "53b23d8d",
      "metadata": {
        "id": "53b23d8d"
      },
      "source": [
        "## 13. `target`\n",
        "`target` is imbalanced, so it needs to be addressed by ensuring `stratify=y` or resampling."
      ]
    },
    {
      "cell_type": "code",
      "execution_count": 36,
      "id": "09532833",
      "metadata": {
        "colab": {
          "base_uri": "https://localhost:8080/"
        },
        "id": "09532833",
        "outputId": "09a826b4-cdc1-4531-a1c8-ba0ff40223b2"
      },
      "outputs": [
        {
          "output_type": "execute_result",
          "data": {
            "text/plain": [
              "0.0    14381\n",
              "1.0     4777\n",
              "Name: target, dtype: int64"
            ]
          },
          "metadata": {},
          "execution_count": 36
        }
      ],
      "source": [
        "df['target'].value_counts(dropna=False)"
      ]
    },
    {
      "cell_type": "code",
      "source": [
        "df['target'] = df['target'].astype('int')"
      ],
      "metadata": {
        "id": "vz3K4foQRgBm"
      },
      "id": "vz3K4foQRgBm",
      "execution_count": 37,
      "outputs": []
    },
    {
      "cell_type": "code",
      "execution_count": 38,
      "id": "7c13d146",
      "metadata": {
        "colab": {
          "base_uri": "https://localhost:8080/"
        },
        "id": "7c13d146",
        "outputId": "86f7c3a0-ed50-41d1-a96d-b371758f35b6"
      },
      "outputs": [
        {
          "output_type": "stream",
          "name": "stdout",
          "text": [
            "<class 'pandas.core.frame.DataFrame'>\n",
            "RangeIndex: 19158 entries, 0 to 19157\n",
            "Data columns (total 13 columns):\n",
            " #   Column                  Non-Null Count  Dtype  \n",
            "---  ------                  --------------  -----  \n",
            " 0   city                    19158 non-null  object \n",
            " 1   city_development_index  19158 non-null  float64\n",
            " 2   gender                  19158 non-null  object \n",
            " 3   relevent_experience     19158 non-null  object \n",
            " 4   enrolled_university     19158 non-null  object \n",
            " 5   education_level         19158 non-null  object \n",
            " 6   major_discipline        19158 non-null  object \n",
            " 7   experience              19158 non-null  object \n",
            " 8   company_size            19158 non-null  object \n",
            " 9   company_type            19158 non-null  object \n",
            " 10  last_new_job            19158 non-null  object \n",
            " 11  training_hours          19158 non-null  int64  \n",
            " 12  target                  19158 non-null  int64  \n",
            "dtypes: float64(1), int64(2), object(10)\n",
            "memory usage: 1.9+ MB\n"
          ]
        }
      ],
      "source": [
        "df.info()"
      ]
    },
    {
      "cell_type": "code",
      "execution_count": 39,
      "id": "198062cc",
      "metadata": {
        "colab": {
          "base_uri": "https://localhost:8080/",
          "height": 317
        },
        "id": "198062cc",
        "outputId": "3097bbae-d8e7-49ed-bd33-ee547ea6cf4a"
      },
      "outputs": [
        {
          "output_type": "execute_result",
          "data": {
            "text/plain": [
              "   city_development_index  training_hours  target  city_Other  city_city_102  \\\n",
              "0                   0.920              36       1           0              0   \n",
              "1                   0.776              47       0           1              0   \n",
              "2                   0.624              83       0           0              0   \n",
              "3                   0.789              52       1           1              0   \n",
              "4                   0.767               8       0           1              0   \n",
              "\n",
              "   city_city_103  city_city_104  city_city_114  city_city_136  city_city_16  \\\n",
              "0              1              0              0              0             0   \n",
              "1              0              0              0              0             0   \n",
              "2              0              0              0              0             0   \n",
              "3              0              0              0              0             0   \n",
              "4              0              0              0              0             0   \n",
              "\n",
              "   ...  company_type_NGO  company_type_Other  company_type_Public Sector  \\\n",
              "0  ...                 0                   0                           0   \n",
              "1  ...                 0                   0                           0   \n",
              "2  ...                 0                   0                           0   \n",
              "3  ...                 0                   0                           0   \n",
              "4  ...                 0                   0                           0   \n",
              "\n",
              "   company_type_Pvt Ltd  last_new_job_1  last_new_job_2  last_new_job_3  \\\n",
              "0                     1               1               0               0   \n",
              "1                     1               0               0               0   \n",
              "2                     1               0               0               0   \n",
              "3                     1               0               0               0   \n",
              "4                     0               0               0               0   \n",
              "\n",
              "   last_new_job_4  last_new_job_>4  last_new_job_never  \n",
              "0               0                0                   0  \n",
              "1               0                1                   0  \n",
              "2               0                0                   1  \n",
              "3               0                0                   1  \n",
              "4               1                0                   0  \n",
              "\n",
              "[5 rows x 57 columns]"
            ],
            "text/html": [
              "\n",
              "  <div id=\"df-6790c0e1-17f7-4b93-be38-8473a0e23d96\">\n",
              "    <div class=\"colab-df-container\">\n",
              "      <div>\n",
              "<style scoped>\n",
              "    .dataframe tbody tr th:only-of-type {\n",
              "        vertical-align: middle;\n",
              "    }\n",
              "\n",
              "    .dataframe tbody tr th {\n",
              "        vertical-align: top;\n",
              "    }\n",
              "\n",
              "    .dataframe thead th {\n",
              "        text-align: right;\n",
              "    }\n",
              "</style>\n",
              "<table border=\"1\" class=\"dataframe\">\n",
              "  <thead>\n",
              "    <tr style=\"text-align: right;\">\n",
              "      <th></th>\n",
              "      <th>city_development_index</th>\n",
              "      <th>training_hours</th>\n",
              "      <th>target</th>\n",
              "      <th>city_Other</th>\n",
              "      <th>city_city_102</th>\n",
              "      <th>city_city_103</th>\n",
              "      <th>city_city_104</th>\n",
              "      <th>city_city_114</th>\n",
              "      <th>city_city_136</th>\n",
              "      <th>city_city_16</th>\n",
              "      <th>...</th>\n",
              "      <th>company_type_NGO</th>\n",
              "      <th>company_type_Other</th>\n",
              "      <th>company_type_Public Sector</th>\n",
              "      <th>company_type_Pvt Ltd</th>\n",
              "      <th>last_new_job_1</th>\n",
              "      <th>last_new_job_2</th>\n",
              "      <th>last_new_job_3</th>\n",
              "      <th>last_new_job_4</th>\n",
              "      <th>last_new_job_&gt;4</th>\n",
              "      <th>last_new_job_never</th>\n",
              "    </tr>\n",
              "  </thead>\n",
              "  <tbody>\n",
              "    <tr>\n",
              "      <th>0</th>\n",
              "      <td>0.920</td>\n",
              "      <td>36</td>\n",
              "      <td>1</td>\n",
              "      <td>0</td>\n",
              "      <td>0</td>\n",
              "      <td>1</td>\n",
              "      <td>0</td>\n",
              "      <td>0</td>\n",
              "      <td>0</td>\n",
              "      <td>0</td>\n",
              "      <td>...</td>\n",
              "      <td>0</td>\n",
              "      <td>0</td>\n",
              "      <td>0</td>\n",
              "      <td>1</td>\n",
              "      <td>1</td>\n",
              "      <td>0</td>\n",
              "      <td>0</td>\n",
              "      <td>0</td>\n",
              "      <td>0</td>\n",
              "      <td>0</td>\n",
              "    </tr>\n",
              "    <tr>\n",
              "      <th>1</th>\n",
              "      <td>0.776</td>\n",
              "      <td>47</td>\n",
              "      <td>0</td>\n",
              "      <td>1</td>\n",
              "      <td>0</td>\n",
              "      <td>0</td>\n",
              "      <td>0</td>\n",
              "      <td>0</td>\n",
              "      <td>0</td>\n",
              "      <td>0</td>\n",
              "      <td>...</td>\n",
              "      <td>0</td>\n",
              "      <td>0</td>\n",
              "      <td>0</td>\n",
              "      <td>1</td>\n",
              "      <td>0</td>\n",
              "      <td>0</td>\n",
              "      <td>0</td>\n",
              "      <td>0</td>\n",
              "      <td>1</td>\n",
              "      <td>0</td>\n",
              "    </tr>\n",
              "    <tr>\n",
              "      <th>2</th>\n",
              "      <td>0.624</td>\n",
              "      <td>83</td>\n",
              "      <td>0</td>\n",
              "      <td>0</td>\n",
              "      <td>0</td>\n",
              "      <td>0</td>\n",
              "      <td>0</td>\n",
              "      <td>0</td>\n",
              "      <td>0</td>\n",
              "      <td>0</td>\n",
              "      <td>...</td>\n",
              "      <td>0</td>\n",
              "      <td>0</td>\n",
              "      <td>0</td>\n",
              "      <td>1</td>\n",
              "      <td>0</td>\n",
              "      <td>0</td>\n",
              "      <td>0</td>\n",
              "      <td>0</td>\n",
              "      <td>0</td>\n",
              "      <td>1</td>\n",
              "    </tr>\n",
              "    <tr>\n",
              "      <th>3</th>\n",
              "      <td>0.789</td>\n",
              "      <td>52</td>\n",
              "      <td>1</td>\n",
              "      <td>1</td>\n",
              "      <td>0</td>\n",
              "      <td>0</td>\n",
              "      <td>0</td>\n",
              "      <td>0</td>\n",
              "      <td>0</td>\n",
              "      <td>0</td>\n",
              "      <td>...</td>\n",
              "      <td>0</td>\n",
              "      <td>0</td>\n",
              "      <td>0</td>\n",
              "      <td>1</td>\n",
              "      <td>0</td>\n",
              "      <td>0</td>\n",
              "      <td>0</td>\n",
              "      <td>0</td>\n",
              "      <td>0</td>\n",
              "      <td>1</td>\n",
              "    </tr>\n",
              "    <tr>\n",
              "      <th>4</th>\n",
              "      <td>0.767</td>\n",
              "      <td>8</td>\n",
              "      <td>0</td>\n",
              "      <td>1</td>\n",
              "      <td>0</td>\n",
              "      <td>0</td>\n",
              "      <td>0</td>\n",
              "      <td>0</td>\n",
              "      <td>0</td>\n",
              "      <td>0</td>\n",
              "      <td>...</td>\n",
              "      <td>0</td>\n",
              "      <td>0</td>\n",
              "      <td>0</td>\n",
              "      <td>0</td>\n",
              "      <td>0</td>\n",
              "      <td>0</td>\n",
              "      <td>0</td>\n",
              "      <td>1</td>\n",
              "      <td>0</td>\n",
              "      <td>0</td>\n",
              "    </tr>\n",
              "  </tbody>\n",
              "</table>\n",
              "<p>5 rows × 57 columns</p>\n",
              "</div>\n",
              "      <button class=\"colab-df-convert\" onclick=\"convertToInteractive('df-6790c0e1-17f7-4b93-be38-8473a0e23d96')\"\n",
              "              title=\"Convert this dataframe to an interactive table.\"\n",
              "              style=\"display:none;\">\n",
              "        \n",
              "  <svg xmlns=\"http://www.w3.org/2000/svg\" height=\"24px\"viewBox=\"0 0 24 24\"\n",
              "       width=\"24px\">\n",
              "    <path d=\"M0 0h24v24H0V0z\" fill=\"none\"/>\n",
              "    <path d=\"M18.56 5.44l.94 2.06.94-2.06 2.06-.94-2.06-.94-.94-2.06-.94 2.06-2.06.94zm-11 1L8.5 8.5l.94-2.06 2.06-.94-2.06-.94L8.5 2.5l-.94 2.06-2.06.94zm10 10l.94 2.06.94-2.06 2.06-.94-2.06-.94-.94-2.06-.94 2.06-2.06.94z\"/><path d=\"M17.41 7.96l-1.37-1.37c-.4-.4-.92-.59-1.43-.59-.52 0-1.04.2-1.43.59L10.3 9.45l-7.72 7.72c-.78.78-.78 2.05 0 2.83L4 21.41c.39.39.9.59 1.41.59.51 0 1.02-.2 1.41-.59l7.78-7.78 2.81-2.81c.8-.78.8-2.07 0-2.86zM5.41 20L4 18.59l7.72-7.72 1.47 1.35L5.41 20z\"/>\n",
              "  </svg>\n",
              "      </button>\n",
              "      \n",
              "  <style>\n",
              "    .colab-df-container {\n",
              "      display:flex;\n",
              "      flex-wrap:wrap;\n",
              "      gap: 12px;\n",
              "    }\n",
              "\n",
              "    .colab-df-convert {\n",
              "      background-color: #E8F0FE;\n",
              "      border: none;\n",
              "      border-radius: 50%;\n",
              "      cursor: pointer;\n",
              "      display: none;\n",
              "      fill: #1967D2;\n",
              "      height: 32px;\n",
              "      padding: 0 0 0 0;\n",
              "      width: 32px;\n",
              "    }\n",
              "\n",
              "    .colab-df-convert:hover {\n",
              "      background-color: #E2EBFA;\n",
              "      box-shadow: 0px 1px 2px rgba(60, 64, 67, 0.3), 0px 1px 3px 1px rgba(60, 64, 67, 0.15);\n",
              "      fill: #174EA6;\n",
              "    }\n",
              "\n",
              "    [theme=dark] .colab-df-convert {\n",
              "      background-color: #3B4455;\n",
              "      fill: #D2E3FC;\n",
              "    }\n",
              "\n",
              "    [theme=dark] .colab-df-convert:hover {\n",
              "      background-color: #434B5C;\n",
              "      box-shadow: 0px 1px 3px 1px rgba(0, 0, 0, 0.15);\n",
              "      filter: drop-shadow(0px 1px 2px rgba(0, 0, 0, 0.3));\n",
              "      fill: #FFFFFF;\n",
              "    }\n",
              "  </style>\n",
              "\n",
              "      <script>\n",
              "        const buttonEl =\n",
              "          document.querySelector('#df-6790c0e1-17f7-4b93-be38-8473a0e23d96 button.colab-df-convert');\n",
              "        buttonEl.style.display =\n",
              "          google.colab.kernel.accessAllowed ? 'block' : 'none';\n",
              "\n",
              "        async function convertToInteractive(key) {\n",
              "          const element = document.querySelector('#df-6790c0e1-17f7-4b93-be38-8473a0e23d96');\n",
              "          const dataTable =\n",
              "            await google.colab.kernel.invokeFunction('convertToInteractive',\n",
              "                                                     [key], {});\n",
              "          if (!dataTable) return;\n",
              "\n",
              "          const docLinkHtml = 'Like what you see? Visit the ' +\n",
              "            '<a target=\"_blank\" href=https://colab.research.google.com/notebooks/data_table.ipynb>data table notebook</a>'\n",
              "            + ' to learn more about interactive tables.';\n",
              "          element.innerHTML = '';\n",
              "          dataTable['output_type'] = 'display_data';\n",
              "          await google.colab.output.renderOutput(dataTable, element);\n",
              "          const docLink = document.createElement('div');\n",
              "          docLink.innerHTML = docLinkHtml;\n",
              "          element.appendChild(docLink);\n",
              "        }\n",
              "      </script>\n",
              "    </div>\n",
              "  </div>\n",
              "  "
            ]
          },
          "metadata": {},
          "execution_count": 39
        }
      ],
      "source": [
        "df = pd.get_dummies(df)\n",
        "df.head()"
      ]
    },
    {
      "cell_type": "code",
      "execution_count": 40,
      "id": "834385d1",
      "metadata": {
        "id": "834385d1"
      },
      "outputs": [],
      "source": [
        "from sklearn.preprocessing import StandardScaler\n",
        "from imblearn.over_sampling import RandomOverSampler\n",
        "from sklearn.linear_model import LogisticRegression\n",
        "from sklearn.metrics import classification_report\n",
        "\n",
        "y = df.target\n",
        "X = df.drop(columns='target')\n",
        "\n",
        "from sklearn.model_selection import train_test_split\n",
        "X_train, X_test, y_train, y_test = train_test_split(X, y, random_state=42, stratify=y)\n",
        "\n",
        "# Instantiate a StandardScaler instance\n",
        "scaler = StandardScaler()\n",
        "\n",
        "# Fit the training data to the standard scaler\n",
        "X_scaler = scaler.fit(X_train)\n",
        "\n",
        "# Transform the training data using the scaler\n",
        "X_train_scaled = X_scaler.transform(X_train)\n",
        "\n",
        "# Transform the testing data using the scaler\n",
        "X_test_scaled = X_scaler.transform(X_test)"
      ]
    },
    {
      "cell_type": "code",
      "execution_count": 41,
      "id": "54c0a0ef",
      "metadata": {
        "id": "54c0a0ef"
      },
      "outputs": [],
      "source": [
        "# Due to imbalanced target values, instantiate the random oversampler model.\n",
        "ros = RandomOverSampler(random_state=42)\n",
        "X_res, y_res = ros.fit_resample(X_train_scaled, y_train)"
      ]
    },
    {
      "cell_type": "code",
      "source": [
        "import tensorflow as tf\n",
        "\n",
        "# Define the model - deep neural net, i.e., the number of input features and hidden nodes for each layer.\n",
        "number_input_features = len(X.columns)\n",
        "hidden_nodes_layer1 = 100\n",
        "hidden_nodes_layer2 = 50\n",
        "\n",
        "nn = tf.keras.models.Sequential()\n",
        "\n",
        "# Add first hidden layer.\n",
        "nn.add(tf.keras.layers.Dense(units=hidden_nodes_layer1, input_dim=number_input_features, activation='relu'))\n",
        "\n",
        "# Add second hidden layer.\n",
        "nn.add(tf.keras.layers.Dense(units=hidden_nodes_layer2, activation='relu'))\n",
        "\n",
        "# Add output layer.\n",
        "nn.add(tf.keras.layers.Dense(units=1, activation='sigmoid'))\n",
        "\n",
        "# Check the model structure.\n",
        "nn.summary()"
      ],
      "metadata": {
        "colab": {
          "base_uri": "https://localhost:8080/"
        },
        "id": "vb7t5GhgKEQ_",
        "outputId": "26075089-bcde-4da8-c681-164b36e91db7"
      },
      "id": "vb7t5GhgKEQ_",
      "execution_count": 42,
      "outputs": [
        {
          "output_type": "stream",
          "name": "stdout",
          "text": [
            "Model: \"sequential\"\n",
            "_________________________________________________________________\n",
            " Layer (type)                Output Shape              Param #   \n",
            "=================================================================\n",
            " dense (Dense)               (None, 100)               5700      \n",
            "                                                                 \n",
            " dense_1 (Dense)             (None, 50)                5050      \n",
            "                                                                 \n",
            " dense_2 (Dense)             (None, 1)                 51        \n",
            "                                                                 \n",
            "=================================================================\n",
            "Total params: 10,801\n",
            "Trainable params: 10,801\n",
            "Non-trainable params: 0\n",
            "_________________________________________________________________\n"
          ]
        }
      ]
    },
    {
      "cell_type": "code",
      "source": [
        "# Compile the model.\n",
        "nn.compile(loss='binary_crossentropy', \n",
        "           optimizer=tf.keras.optimizers.Adam(learning_rate=1e-4),\n",
        "           metrics=['accuracy'])"
      ],
      "metadata": {
        "id": "axeht7erKZZU"
      },
      "id": "axeht7erKZZU",
      "execution_count": 43,
      "outputs": []
    },
    {
      "cell_type": "code",
      "source": [
        "# Train the model with the checkpoint callback.\n",
        "iters = 50\n",
        "fit_model = nn.fit(X_res, y_res, epochs=iters)"
      ],
      "metadata": {
        "colab": {
          "base_uri": "https://localhost:8080/"
        },
        "id": "gnnjSbA5Kbkg",
        "outputId": "19b386a0-0667-47fb-b10f-806c39ac4b62"
      },
      "id": "gnnjSbA5Kbkg",
      "execution_count": 44,
      "outputs": [
        {
          "output_type": "stream",
          "name": "stdout",
          "text": [
            "Epoch 1/50\n",
            "675/675 [==============================] - 5s 4ms/step - loss: 0.6308 - accuracy: 0.6531\n",
            "Epoch 2/50\n",
            "675/675 [==============================] - 4s 6ms/step - loss: 0.5686 - accuracy: 0.7267\n",
            "Epoch 3/50\n",
            "675/675 [==============================] - 3s 5ms/step - loss: 0.5548 - accuracy: 0.7376\n",
            "Epoch 4/50\n",
            "675/675 [==============================] - 3s 4ms/step - loss: 0.5466 - accuracy: 0.7410\n",
            "Epoch 5/50\n",
            "675/675 [==============================] - 2s 4ms/step - loss: 0.5399 - accuracy: 0.7470\n",
            "Epoch 6/50\n",
            "675/675 [==============================] - 4s 5ms/step - loss: 0.5343 - accuracy: 0.7490\n",
            "Epoch 7/50\n",
            "675/675 [==============================] - 1s 2ms/step - loss: 0.5294 - accuracy: 0.7517\n",
            "Epoch 8/50\n",
            "675/675 [==============================] - 1s 2ms/step - loss: 0.5250 - accuracy: 0.7526\n",
            "Epoch 9/50\n",
            "675/675 [==============================] - 1s 2ms/step - loss: 0.5209 - accuracy: 0.7561\n",
            "Epoch 10/50\n",
            "675/675 [==============================] - 1s 2ms/step - loss: 0.5171 - accuracy: 0.7577\n",
            "Epoch 11/50\n",
            "675/675 [==============================] - 1s 2ms/step - loss: 0.5136 - accuracy: 0.7609\n",
            "Epoch 12/50\n",
            "675/675 [==============================] - 1s 2ms/step - loss: 0.5100 - accuracy: 0.7618\n",
            "Epoch 13/50\n",
            "675/675 [==============================] - 1s 2ms/step - loss: 0.5068 - accuracy: 0.7629\n",
            "Epoch 14/50\n",
            "675/675 [==============================] - 2s 3ms/step - loss: 0.5037 - accuracy: 0.7653\n",
            "Epoch 15/50\n",
            "675/675 [==============================] - 2s 2ms/step - loss: 0.5008 - accuracy: 0.7672\n",
            "Epoch 16/50\n",
            "675/675 [==============================] - 1s 2ms/step - loss: 0.4978 - accuracy: 0.7675\n",
            "Epoch 17/50\n",
            "675/675 [==============================] - 1s 2ms/step - loss: 0.4950 - accuracy: 0.7688\n",
            "Epoch 18/50\n",
            "675/675 [==============================] - 1s 2ms/step - loss: 0.4920 - accuracy: 0.7715\n",
            "Epoch 19/50\n",
            "675/675 [==============================] - 1s 2ms/step - loss: 0.4892 - accuracy: 0.7737\n",
            "Epoch 20/50\n",
            "675/675 [==============================] - 1s 2ms/step - loss: 0.4867 - accuracy: 0.7749\n",
            "Epoch 21/50\n",
            "675/675 [==============================] - 1s 2ms/step - loss: 0.4839 - accuracy: 0.7787\n",
            "Epoch 22/50\n",
            "675/675 [==============================] - 2s 2ms/step - loss: 0.4814 - accuracy: 0.7785\n",
            "Epoch 23/50\n",
            "675/675 [==============================] - 2s 3ms/step - loss: 0.4787 - accuracy: 0.7804\n",
            "Epoch 24/50\n",
            "675/675 [==============================] - 1s 2ms/step - loss: 0.4762 - accuracy: 0.7824\n",
            "Epoch 25/50\n",
            "675/675 [==============================] - 1s 2ms/step - loss: 0.4740 - accuracy: 0.7828\n",
            "Epoch 26/50\n",
            "675/675 [==============================] - 1s 2ms/step - loss: 0.4716 - accuracy: 0.7846\n",
            "Epoch 27/50\n",
            "675/675 [==============================] - 1s 2ms/step - loss: 0.4690 - accuracy: 0.7854\n",
            "Epoch 28/50\n",
            "675/675 [==============================] - 1s 2ms/step - loss: 0.4669 - accuracy: 0.7879\n",
            "Epoch 29/50\n",
            "675/675 [==============================] - 1s 2ms/step - loss: 0.4645 - accuracy: 0.7881\n",
            "Epoch 30/50\n",
            "675/675 [==============================] - 1s 2ms/step - loss: 0.4623 - accuracy: 0.7908\n",
            "Epoch 31/50\n",
            "675/675 [==============================] - 2s 3ms/step - loss: 0.4601 - accuracy: 0.7907\n",
            "Epoch 32/50\n",
            "675/675 [==============================] - 2s 3ms/step - loss: 0.4578 - accuracy: 0.7918\n",
            "Epoch 33/50\n",
            "675/675 [==============================] - 1s 2ms/step - loss: 0.4555 - accuracy: 0.7936\n",
            "Epoch 34/50\n",
            "675/675 [==============================] - 1s 2ms/step - loss: 0.4535 - accuracy: 0.7946\n",
            "Epoch 35/50\n",
            "675/675 [==============================] - 1s 2ms/step - loss: 0.4515 - accuracy: 0.7966\n",
            "Epoch 36/50\n",
            "675/675 [==============================] - 1s 2ms/step - loss: 0.4491 - accuracy: 0.7979\n",
            "Epoch 37/50\n",
            "675/675 [==============================] - 1s 2ms/step - loss: 0.4471 - accuracy: 0.7994\n",
            "Epoch 38/50\n",
            "675/675 [==============================] - 1s 2ms/step - loss: 0.4453 - accuracy: 0.8005\n",
            "Epoch 39/50\n",
            "675/675 [==============================] - 1s 2ms/step - loss: 0.4432 - accuracy: 0.8000\n",
            "Epoch 40/50\n",
            "675/675 [==============================] - 2s 3ms/step - loss: 0.4414 - accuracy: 0.8031\n",
            "Epoch 41/50\n",
            "675/675 [==============================] - 2s 2ms/step - loss: 0.4392 - accuracy: 0.8035\n",
            "Epoch 42/50\n",
            "675/675 [==============================] - 1s 2ms/step - loss: 0.4372 - accuracy: 0.8051\n",
            "Epoch 43/50\n",
            "675/675 [==============================] - 1s 2ms/step - loss: 0.4355 - accuracy: 0.8068\n",
            "Epoch 44/50\n",
            "675/675 [==============================] - 1s 2ms/step - loss: 0.4335 - accuracy: 0.8078\n",
            "Epoch 45/50\n",
            "675/675 [==============================] - 1s 2ms/step - loss: 0.4312 - accuracy: 0.8085\n",
            "Epoch 46/50\n",
            "675/675 [==============================] - 1s 2ms/step - loss: 0.4296 - accuracy: 0.8106\n",
            "Epoch 47/50\n",
            "675/675 [==============================] - 1s 2ms/step - loss: 0.4275 - accuracy: 0.8107\n",
            "Epoch 48/50\n",
            "675/675 [==============================] - 2s 2ms/step - loss: 0.4259 - accuracy: 0.8123\n",
            "Epoch 49/50\n",
            "675/675 [==============================] - 2s 3ms/step - loss: 0.4241 - accuracy: 0.8127\n",
            "Epoch 50/50\n",
            "675/675 [==============================] - 2s 2ms/step - loss: 0.4220 - accuracy: 0.8134\n"
          ]
        }
      ]
    },
    {
      "cell_type": "code",
      "source": [
        "# Evaluate the model using the test data.\n",
        "model_loss, model_accuracy = nn.evaluate(X_test_scaled, y_test, verbose=2)\n",
        "print(f'Loss: {model_loss}, Accuracy: {model_accuracy}')"
      ],
      "metadata": {
        "colab": {
          "base_uri": "https://localhost:8080/"
        },
        "id": "O_GNY6y9LZT0",
        "outputId": "174373b7-7e38-453d-eadc-edefb11a2878"
      },
      "id": "O_GNY6y9LZT0",
      "execution_count": 45,
      "outputs": [
        {
          "output_type": "stream",
          "name": "stdout",
          "text": [
            "150/150 - 0s - loss: 0.5927 - accuracy: 0.7213 - 338ms/epoch - 2ms/step\n",
            "Loss: 0.5927190184593201, Accuracy: 0.7212943434715271\n"
          ]
        }
      ]
    },
    {
      "cell_type": "code",
      "execution_count": 46,
      "id": "7f123268",
      "metadata": {
        "id": "7f123268"
      },
      "outputs": [],
      "source": [
        "import numpy as np\n",
        "predictions = nn.predict(X_test_scaled, verbose=0)\n",
        "classes = np.where(predictions > 0.5, 1, 0)"
      ]
    },
    {
      "cell_type": "code",
      "execution_count": 51,
      "id": "5e01a1b7",
      "metadata": {
        "colab": {
          "base_uri": "https://localhost:8080/"
        },
        "id": "5e01a1b7",
        "outputId": "7d2654c4-b571-4035-a4a7-ba4aaa6a4889"
      },
      "outputs": [
        {
          "output_type": "stream",
          "name": "stdout",
          "text": [
            "              precision    recall  f1-score   support\n",
            "\n",
            "           0       0.89      0.71      0.79      3596\n",
            "           1       0.46      0.74      0.57      1194\n",
            "\n",
            "    accuracy                           0.72      4790\n",
            "   macro avg       0.68      0.73      0.68      4790\n",
            "weighted avg       0.79      0.72      0.74      4790\n",
            "\n"
          ]
        }
      ],
      "source": [
        "print(classification_report(y_test, classes.flatten()))\n"
      ]
    },
    {
      "cell_type": "code",
      "source": [],
      "metadata": {
        "id": "GM9ZXihYRGmM"
      },
      "id": "GM9ZXihYRGmM",
      "execution_count": 47,
      "outputs": []
    }
  ],
  "metadata": {
    "kernelspec": {
      "display_name": "Python 3 (ipykernel)",
      "language": "python",
      "name": "python3"
    },
    "language_info": {
      "codemirror_mode": {
        "name": "ipython",
        "version": 3
      },
      "file_extension": ".py",
      "mimetype": "text/x-python",
      "name": "python",
      "nbconvert_exporter": "python",
      "pygments_lexer": "ipython3",
      "version": "3.10.9"
    },
    "colab": {
      "provenance": []
    }
  },
  "nbformat": 4,
  "nbformat_minor": 5
}