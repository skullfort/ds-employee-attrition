{
 "cells": [
  {
   "cell_type": "markdown",
   "id": "6dec7ea7",
   "metadata": {},
   "source": [
    "# Overview\n",
    "This notebook documents the initial preprocessing of the dataset and training of a logistical regression model to establish a baseline for our analysis. Excluding the target, there are a total of 13 features. Most of them are categorical and missing values to varying degrees."
   ]
  },
  {
   "cell_type": "code",
   "execution_count": 1,
   "id": "9a520639",
   "metadata": {},
   "outputs": [],
   "source": [
    "# Import dependencies.\n",
    "import pandas as pd\n",
    "from sklearn.preprocessing import StandardScaler\n",
    "from imblearn.over_sampling import RandomOverSampler\n",
    "from sklearn.model_selection import train_test_split\n",
    "from sklearn.linear_model import LogisticRegression\n",
    "from sklearn.metrics import accuracy_score, confusion_matrix, classification_report"
   ]
  },
  {
   "cell_type": "code",
   "execution_count": 2,
   "id": "7553c368",
   "metadata": {},
   "outputs": [
    {
     "name": "stdout",
     "output_type": "stream",
     "text": [
      "<class 'pandas.core.frame.DataFrame'>\n",
      "RangeIndex: 19158 entries, 0 to 19157\n",
      "Data columns (total 14 columns):\n",
      " #   Column                  Non-Null Count  Dtype  \n",
      "---  ------                  --------------  -----  \n",
      " 0   enrollee_id             19158 non-null  int64  \n",
      " 1   city                    19158 non-null  object \n",
      " 2   city_development_index  19158 non-null  float64\n",
      " 3   gender                  14650 non-null  object \n",
      " 4   relevent_experience     19158 non-null  object \n",
      " 5   enrolled_university     18772 non-null  object \n",
      " 6   education_level         18698 non-null  object \n",
      " 7   major_discipline        16345 non-null  object \n",
      " 8   experience              19093 non-null  object \n",
      " 9   company_size            13220 non-null  object \n",
      " 10  company_type            13018 non-null  object \n",
      " 11  last_new_job            18735 non-null  object \n",
      " 12  training_hours          19158 non-null  int64  \n",
      " 13  target                  19158 non-null  float64\n",
      "dtypes: float64(2), int64(2), object(10)\n",
      "memory usage: 2.0+ MB\n"
     ]
    }
   ],
   "source": [
    "# Read in the data.\n",
    "df = pd.read_csv('aug_train.csv')\n",
    "df.info()"
   ]
  },
  {
   "cell_type": "code",
   "execution_count": 3,
   "id": "d8f9f5a9",
   "metadata": {},
   "outputs": [
    {
     "data": {
      "text/plain": [
       "gender                 4508\n",
       "enrolled_university     386\n",
       "education_level         460\n",
       "major_discipline       2813\n",
       "experience               65\n",
       "company_size           5938\n",
       "company_type           6140\n",
       "last_new_job            423\n",
       "dtype: int64"
      ]
     },
     "execution_count": 3,
     "metadata": {},
     "output_type": "execute_result"
    }
   ],
   "source": [
    "# Summarize the features with missing values.\n",
    "df.isnull().sum()[df.isnull().sum() != 0]"
   ]
  },
  {
   "cell_type": "markdown",
   "id": "b73a8e24",
   "metadata": {},
   "source": [
    "# Features\n",
    "Data transformation, including filling in missing values, for each feature is looked at individually."
   ]
  },
  {
   "cell_type": "markdown",
   "id": "da993b40",
   "metadata": {},
   "source": [
    "## 0. `enrollee_id`\n",
    "`enrollee_id` is used to identify those enrolled in the program. Since it is unique for each record and has no bearing on the target, it can be dropped."
   ]
  },
  {
   "cell_type": "code",
   "execution_count": 4,
   "id": "394b91a9",
   "metadata": {},
   "outputs": [
    {
     "data": {
      "text/plain": [
       "19158"
      ]
     },
     "execution_count": 4,
     "metadata": {},
     "output_type": "execute_result"
    }
   ],
   "source": [
    "df.enrollee_id.nunique()"
   ]
  },
  {
   "cell_type": "code",
   "execution_count": 5,
   "id": "77ac7556",
   "metadata": {},
   "outputs": [],
   "source": [
    "df.drop(columns='enrollee_id', inplace=True)"
   ]
  },
  {
   "cell_type": "markdown",
   "id": "ec1a16d8",
   "metadata": {},
   "source": [
    "## 1. `city`\n",
    "`city` with low counts can be binned together to reduce the total number of categories."
   ]
  },
  {
   "cell_type": "code",
   "execution_count": 6,
   "id": "6ce4c889",
   "metadata": {},
   "outputs": [
    {
     "data": {
      "text/plain": [
       "city_103    4355\n",
       "city_21     2702\n",
       "city_16     1533\n",
       "city_114    1336\n",
       "city_160     845\n",
       "city_136     586\n",
       "city_67      431\n",
       "city_75      305\n",
       "city_102     304\n",
       "city_104     301\n",
       "city_73      280\n",
       "city_100     275\n",
       "city_71      266\n",
       "city_11      247\n",
       "city_90      197\n",
       "city_61      197\n",
       "city_28      192\n",
       "city_23      182\n",
       "city_65      175\n",
       "city_36      160\n",
       "Name: city, dtype: int64"
      ]
     },
     "execution_count": 6,
     "metadata": {},
     "output_type": "execute_result"
    }
   ],
   "source": [
    "df.city.value_counts(dropna=False).head(20)"
   ]
  },
  {
   "cell_type": "code",
   "execution_count": 7,
   "id": "4176e156",
   "metadata": {},
   "outputs": [
    {
     "data": {
      "text/plain": [
       "Other       5392\n",
       "city_103    4355\n",
       "city_21     2702\n",
       "city_16     1533\n",
       "city_114    1336\n",
       "city_160     845\n",
       "city_136     586\n",
       "city_67      431\n",
       "city_75      305\n",
       "city_102     304\n",
       "city_104     301\n",
       "city_73      280\n",
       "city_100     275\n",
       "city_71      266\n",
       "city_11      247\n",
       "Name: city, dtype: int64"
      ]
     },
     "execution_count": 7,
     "metadata": {},
     "output_type": "execute_result"
    }
   ],
   "source": [
    "# Create a bin for cities with fewer than `threshold` instances.\n",
    "threshold = 200\n",
    "city_counts = df['city'].value_counts()\n",
    "cities_to_replace = city_counts[city_counts<threshold].index\n",
    "\n",
    "for city in cities_to_replace:\n",
    "    df['city'] = df['city'].replace(city, 'Other')\n",
    "\n",
    "df['city'].value_counts(dropna=False)"
   ]
  },
  {
   "cell_type": "markdown",
   "id": "c0a59ed4",
   "metadata": {},
   "source": [
    "## 2. `city_development_index`\n",
    "This is one of the two numerical features in the dataset, and it is already scaled. If the `city` values are kept, it can be confirmed that each city has a single `city_development_index`, but different cities might share the same value: `all(df.groupby('city')['city_development_index'].nunique() == 1)` returns `True`."
   ]
  },
  {
   "cell_type": "code",
   "execution_count": 8,
   "id": "ae12dc25",
   "metadata": {},
   "outputs": [
    {
     "data": {
      "image/png": "[encoded data removed]",
      "text/plain": [
       "<Figure size 640x480 with 1 Axes>"
      ]
     },
     "metadata": {},
     "output_type": "display_data"
    }
   ],
   "source": [
    "# Create a histogram for `city_development_index`.\n",
    "df['city_development_index'].hist(bins=15);"
   ]
  },
  {
   "cell_type": "markdown",
   "id": "7286af1c",
   "metadata": {},
   "source": [
    "## 3. `gender`\n",
    "Missing values need to be dealt with. It's not immediately clear how to go about it: do we impute with the most frequent value to simply group it with `Other`? Since there are 10 males to 1 female in this training problem, we can approach this problem with filling in the missing values with the most frequent value of the feature, i.e., `Male`. The same approach is used for the other categorical features unless otherwise stated."
   ]
  },
  {
   "cell_type": "code",
   "execution_count": 9,
   "id": "ce607df1",
   "metadata": {},
   "outputs": [
    {
     "data": {
      "text/plain": [
       "Male      13221\n",
       "NaN        4508\n",
       "Female     1238\n",
       "Other       191\n",
       "Name: gender, dtype: int64"
      ]
     },
     "execution_count": 9,
     "metadata": {},
     "output_type": "execute_result"
    }
   ],
   "source": [
    "df['gender'].value_counts(dropna=False)"
   ]
  },
  {
   "cell_type": "code",
   "execution_count": 10,
   "id": "ea2fe086",
   "metadata": {},
   "outputs": [
    {
     "data": {
      "text/plain": [
       "Male      17729\n",
       "Female     1238\n",
       "Other       191\n",
       "Name: gender, dtype: int64"
      ]
     },
     "execution_count": 10,
     "metadata": {},
     "output_type": "execute_result"
    }
   ],
   "source": [
    "df['gender'].fillna('Male', inplace=True)\n",
    "df['gender'].value_counts(dropna=False)"
   ]
  },
  {
   "cell_type": "markdown",
   "id": "cb4d2fb1",
   "metadata": {},
   "source": [
    "## 4. `relevent_experience`\n",
    "This is one of the few categorical features without missing values. Since it refers to the individual having or not having relevant experience, and it can be converted to `1`'s and `0`'s."
   ]
  },
  {
   "cell_type": "code",
   "execution_count": 11,
   "id": "47188a6e",
   "metadata": {},
   "outputs": [
    {
     "data": {
      "text/plain": [
       "Has relevent experience    13792\n",
       "No relevent experience      5366\n",
       "Name: relevent_experience, dtype: int64"
      ]
     },
     "execution_count": 11,
     "metadata": {},
     "output_type": "execute_result"
    }
   ],
   "source": [
    "df['relevent_experience'].value_counts(dropna=False)"
   ]
  },
  {
   "cell_type": "code",
   "execution_count": 12,
   "id": "5e1bad3c",
   "metadata": {},
   "outputs": [
    {
     "data": {
      "text/plain": [
       "1    13792\n",
       "0     5366\n",
       "Name: relevent_experience, dtype: int64"
      ]
     },
     "execution_count": 12,
     "metadata": {},
     "output_type": "execute_result"
    }
   ],
   "source": [
    "df['relevent_experience'].replace('Has relevent experience', 1, inplace=True)\n",
    "df['relevent_experience'].replace('No relevent experience', 0, inplace=True)\n",
    "df['relevent_experience'].value_counts(dropna=False)"
   ]
  },
  {
   "cell_type": "markdown",
   "id": "85f732a0",
   "metadata": {},
   "source": [
    "## 5. `enrolled_university`\n",
    "Missing values are imputed with the most frequent value."
   ]
  },
  {
   "cell_type": "code",
   "execution_count": 13,
   "id": "76e54f98",
   "metadata": {},
   "outputs": [
    {
     "data": {
      "text/plain": [
       "no_enrollment       13817\n",
       "Full time course     3757\n",
       "Part time course     1198\n",
       "NaN                   386\n",
       "Name: enrolled_university, dtype: int64"
      ]
     },
     "execution_count": 13,
     "metadata": {},
     "output_type": "execute_result"
    }
   ],
   "source": [
    "df['enrolled_university'].value_counts(dropna=False)"
   ]
  },
  {
   "cell_type": "code",
   "execution_count": 14,
   "id": "20917a0c",
   "metadata": {},
   "outputs": [
    {
     "data": {
      "text/plain": [
       "none         14203\n",
       "full-time     3757\n",
       "part-time     1198\n",
       "Name: enrolled_university, dtype: int64"
      ]
     },
     "execution_count": 14,
     "metadata": {},
     "output_type": "execute_result"
    }
   ],
   "source": [
    "df['enrolled_university'].fillna('no_enrollment', inplace=True)\n",
    "df['enrolled_university'].replace('no_enrollment', 'none', inplace=True)\n",
    "df['enrolled_university'].replace('Full time course', 'full-time', inplace=True)\n",
    "df['enrolled_university'].replace('Part time course', 'part-time', inplace=True)\n",
    "df['enrolled_university'].value_counts(dropna=False)"
   ]
  },
  {
   "cell_type": "markdown",
   "id": "c4c91059",
   "metadata": {},
   "source": [
    "## 6. `education_level`\n",
    "Missing values are imputed with the most frequent value."
   ]
  },
  {
   "cell_type": "code",
   "execution_count": 15,
   "id": "35f3fd47",
   "metadata": {},
   "outputs": [
    {
     "data": {
      "text/plain": [
       "Graduate          11598\n",
       "Masters            4361\n",
       "High School        2017\n",
       "NaN                 460\n",
       "Phd                 414\n",
       "Primary School      308\n",
       "Name: education_level, dtype: int64"
      ]
     },
     "execution_count": 15,
     "metadata": {},
     "output_type": "execute_result"
    }
   ],
   "source": [
    "df['education_level'].value_counts(dropna=False)"
   ]
  },
  {
   "cell_type": "code",
   "execution_count": 16,
   "id": "8e53f6bc",
   "metadata": {},
   "outputs": [
    {
     "data": {
      "text/plain": [
       "Graduate          12058\n",
       "Masters            4361\n",
       "High School        2017\n",
       "Phd                 414\n",
       "Primary School      308\n",
       "Name: education_level, dtype: int64"
      ]
     },
     "execution_count": 16,
     "metadata": {},
     "output_type": "execute_result"
    }
   ],
   "source": [
    "df['education_level'].fillna('Graduate', inplace=True)\n",
    "df['education_level'].value_counts(dropna=False)"
   ]
  },
  {
   "cell_type": "markdown",
   "id": "1861739b",
   "metadata": {},
   "source": [
    "## 7. `major_discipline`\n",
    "Missing values are imputed with the most frequent value. STEM stands for science, technology, engineering and mathematics."
   ]
  },
  {
   "cell_type": "code",
   "execution_count": 17,
   "id": "bcffda05",
   "metadata": {},
   "outputs": [
    {
     "data": {
      "text/plain": [
       "STEM               14492\n",
       "NaN                 2813\n",
       "Humanities           669\n",
       "Other                381\n",
       "Business Degree      327\n",
       "Arts                 253\n",
       "No Major             223\n",
       "Name: major_discipline, dtype: int64"
      ]
     },
     "execution_count": 17,
     "metadata": {},
     "output_type": "execute_result"
    }
   ],
   "source": [
    "df['major_discipline'].value_counts(dropna=False)"
   ]
  },
  {
   "cell_type": "code",
   "execution_count": 18,
   "id": "6745874b",
   "metadata": {},
   "outputs": [
    {
     "data": {
      "text/plain": [
       "STEM               17305\n",
       "Humanities           669\n",
       "Other                381\n",
       "Business Degree      327\n",
       "Arts                 253\n",
       "No Major             223\n",
       "Name: major_discipline, dtype: int64"
      ]
     },
     "execution_count": 18,
     "metadata": {},
     "output_type": "execute_result"
    }
   ],
   "source": [
    "df['major_discipline'].fillna('STEM', inplace=True)\n",
    "df['major_discipline'].value_counts(dropna=False)"
   ]
  },
  {
   "cell_type": "markdown",
   "id": "515777f2",
   "metadata": {},
   "source": [
    "## 8. `experience`\n",
    "Missing values for candidate's total experience in years are imputed with the most frequent value."
   ]
  },
  {
   "cell_type": "code",
   "execution_count": 19,
   "id": "7e8f4851",
   "metadata": {},
   "outputs": [
    {
     "data": {
      "text/plain": [
       ">20    3286\n",
       "5      1430\n",
       "4      1403\n",
       "3      1354\n",
       "6      1216\n",
       "2      1127\n",
       "7      1028\n",
       "10      985\n",
       "9       980\n",
       "8       802\n",
       "15      686\n",
       "11      664\n",
       "14      586\n",
       "1       549\n",
       "<1      522\n",
       "16      508\n",
       "12      494\n",
       "13      399\n",
       "17      342\n",
       "19      304\n",
       "18      280\n",
       "20      148\n",
       "NaN      65\n",
       "Name: experience, dtype: int64"
      ]
     },
     "execution_count": 19,
     "metadata": {},
     "output_type": "execute_result"
    }
   ],
   "source": [
    "df['experience'].value_counts(dropna=False)"
   ]
  },
  {
   "cell_type": "code",
   "execution_count": 20,
   "id": "e751dea8",
   "metadata": {},
   "outputs": [
    {
     "data": {
      "text/plain": [
       ">20    3351\n",
       "5      1430\n",
       "4      1403\n",
       "3      1354\n",
       "6      1216\n",
       "2      1127\n",
       "7      1028\n",
       "10      985\n",
       "9       980\n",
       "8       802\n",
       "15      686\n",
       "11      664\n",
       "14      586\n",
       "1       549\n",
       "<1      522\n",
       "16      508\n",
       "12      494\n",
       "13      399\n",
       "17      342\n",
       "19      304\n",
       "18      280\n",
       "20      148\n",
       "Name: experience, dtype: int64"
      ]
     },
     "execution_count": 20,
     "metadata": {},
     "output_type": "execute_result"
    }
   ],
   "source": [
    "df['experience'].fillna('>20', inplace=True)\n",
    "df['experience'].value_counts(dropna=False)"
   ]
  },
  {
   "cell_type": "code",
   "execution_count": 21,
   "id": "cd0ec2b0",
   "metadata": {},
   "outputs": [
    {
     "data": {
      "text/plain": [
       ">=10    8747\n",
       "5-9     5456\n",
       "3-4     2757\n",
       "0-2     2198\n",
       "Name: experience, dtype: int64"
      ]
     },
     "execution_count": 21,
     "metadata": {},
     "output_type": "execute_result"
    }
   ],
   "source": [
    "# Create bins for boarder categorization of experience.\n",
    "for exp in ['<1', '1', '2']:\n",
    "    df['experience'].replace(exp, '0-2', inplace=True)\n",
    "for exp in ['3', '4']:\n",
    "    df['experience'].replace(exp, '3-4', inplace=True)\n",
    "for exp in ['5', '6', '7', '8', '9']:\n",
    "    df['experience'].replace(exp, '5-9', inplace=True)\n",
    "for exp in ['10', '11', '12', '13', '14', '15', '16', '17', '18', '19', '20', '>20']:\n",
    "    df['experience'].replace(exp, '>=10', inplace=True)\n",
    "\n",
    "df['experience'].value_counts(dropna=False)"
   ]
  },
  {
   "cell_type": "markdown",
   "id": "ee59e1a1",
   "metadata": {},
   "source": [
    "## 9. `company_size`\n",
    "Missing values for the company size are imputed with the most frequent value."
   ]
  },
  {
   "cell_type": "code",
   "execution_count": 22,
   "id": "09ee123a",
   "metadata": {},
   "outputs": [
    {
     "data": {
      "text/plain": [
       "NaN          5938\n",
       "50-99        3083\n",
       "100-500      2571\n",
       "10000+       2019\n",
       "10/49        1471\n",
       "1000-4999    1328\n",
       "<10          1308\n",
       "500-999       877\n",
       "5000-9999     563\n",
       "Name: company_size, dtype: int64"
      ]
     },
     "execution_count": 22,
     "metadata": {},
     "output_type": "execute_result"
    }
   ],
   "source": [
    "df['company_size'].value_counts(dropna=False)"
   ]
  },
  {
   "cell_type": "code",
   "execution_count": 23,
   "id": "6ddc9b52",
   "metadata": {},
   "outputs": [
    {
     "data": {
      "text/plain": [
       "50-99        9021\n",
       "100-500      2571\n",
       ">10000       2019\n",
       "10-49        1471\n",
       "1000-4999    1328\n",
       "<10          1308\n",
       "500-999       877\n",
       "5000-9999     563\n",
       "Name: company_size, dtype: int64"
      ]
     },
     "execution_count": 23,
     "metadata": {},
     "output_type": "execute_result"
    }
   ],
   "source": [
    "df['company_size'].replace('10/49', '10-49', inplace=True)\n",
    "df['company_size'].replace('10000+', '>10000', inplace=True)\n",
    "df['company_size'].fillna('50-99', inplace=True)\n",
    "df['company_size'].value_counts(dropna=False)"
   ]
  },
  {
   "cell_type": "markdown",
   "id": "aac2bbe8",
   "metadata": {},
   "source": [
    "## 10. `company_type`\n",
    "Missing values for the company type are imputed with the most frequent value."
   ]
  },
  {
   "cell_type": "code",
   "execution_count": 24,
   "id": "2424b9fa",
   "metadata": {},
   "outputs": [
    {
     "data": {
      "text/plain": [
       "Pvt Ltd                9817\n",
       "NaN                    6140\n",
       "Funded Startup         1001\n",
       "Public Sector           955\n",
       "Early Stage Startup     603\n",
       "NGO                     521\n",
       "Other                   121\n",
       "Name: company_type, dtype: int64"
      ]
     },
     "execution_count": 24,
     "metadata": {},
     "output_type": "execute_result"
    }
   ],
   "source": [
    "df['company_type'].value_counts(dropna=False)"
   ]
  },
  {
   "cell_type": "code",
   "execution_count": 25,
   "id": "59a0c152",
   "metadata": {},
   "outputs": [
    {
     "data": {
      "text/plain": [
       "Pvt Ltd                15957\n",
       "Funded Startup          1001\n",
       "Public Sector            955\n",
       "Early Stage Startup      603\n",
       "NGO                      521\n",
       "Other                    121\n",
       "Name: company_type, dtype: int64"
      ]
     },
     "execution_count": 25,
     "metadata": {},
     "output_type": "execute_result"
    }
   ],
   "source": [
    "df['company_type'].fillna('Pvt Ltd', inplace=True)\n",
    "df['company_type'].value_counts(dropna=False)"
   ]
  },
  {
   "cell_type": "markdown",
   "id": "2aea7e4d",
   "metadata": {},
   "source": [
    "## 11. `last_new_job`\n",
    "Missing values for difference in years between previous and current job are imputed with the most frequent value."
   ]
  },
  {
   "cell_type": "code",
   "execution_count": 26,
   "id": "16ef316f",
   "metadata": {},
   "outputs": [
    {
     "data": {
      "text/plain": [
       "1        8040\n",
       ">4       3290\n",
       "2        2900\n",
       "never    2452\n",
       "4        1029\n",
       "3        1024\n",
       "NaN       423\n",
       "Name: last_new_job, dtype: int64"
      ]
     },
     "execution_count": 26,
     "metadata": {},
     "output_type": "execute_result"
    }
   ],
   "source": [
    "df['last_new_job'].value_counts(dropna=False)"
   ]
  },
  {
   "cell_type": "code",
   "execution_count": 27,
   "id": "becae0ac",
   "metadata": {},
   "outputs": [
    {
     "data": {
      "text/plain": [
       "1        8463\n",
       ">4       3290\n",
       "2        2900\n",
       "never    2452\n",
       "4        1029\n",
       "3        1024\n",
       "Name: last_new_job, dtype: int64"
      ]
     },
     "execution_count": 27,
     "metadata": {},
     "output_type": "execute_result"
    }
   ],
   "source": [
    "df['last_new_job'].fillna('1', inplace=True)\n",
    "df['last_new_job'].value_counts(dropna=False)"
   ]
  },
  {
   "cell_type": "markdown",
   "id": "2d27d79e",
   "metadata": {},
   "source": [
    "## 12. `training_hours`"
   ]
  },
  {
   "cell_type": "code",
   "execution_count": 28,
   "id": "3f936118",
   "metadata": {},
   "outputs": [
    {
     "data": {
      "image/png": "[encoded data removed]",
      "text/plain": [
       "<Figure size 640x480 with 1 Axes>"
      ]
     },
     "metadata": {},
     "output_type": "display_data"
    }
   ],
   "source": [
    "df['training_hours'].hist(bins=50);"
   ]
  },
  {
   "cell_type": "markdown",
   "id": "53b23d8d",
   "metadata": {},
   "source": [
    "## 13. `target`\n",
    "`target` is imbalanced, so it needs to be addressed by ensuring `stratify=y` and/or resampling."
   ]
  },
  {
   "cell_type": "code",
   "execution_count": 29,
   "id": "09532833",
   "metadata": {},
   "outputs": [
    {
     "data": {
      "text/plain": [
       "0.0    14381\n",
       "1.0     4777\n",
       "Name: target, dtype: int64"
      ]
     },
     "execution_count": 29,
     "metadata": {},
     "output_type": "execute_result"
    }
   ],
   "source": [
    "df['target'].value_counts(dropna=False)"
   ]
  },
  {
   "cell_type": "code",
   "execution_count": 30,
   "id": "7c13d146",
   "metadata": {},
   "outputs": [
    {
     "name": "stdout",
     "output_type": "stream",
     "text": [
      "<class 'pandas.core.frame.DataFrame'>\n",
      "RangeIndex: 19158 entries, 0 to 19157\n",
      "Data columns (total 13 columns):\n",
      " #   Column                  Non-Null Count  Dtype  \n",
      "---  ------                  --------------  -----  \n",
      " 0   city                    19158 non-null  object \n",
      " 1   city_development_index  19158 non-null  float64\n",
      " 2   gender                  19158 non-null  object \n",
      " 3   relevent_experience     19158 non-null  int64  \n",
      " 4   enrolled_university     19158 non-null  object \n",
      " 5   education_level         19158 non-null  object \n",
      " 6   major_discipline        19158 non-null  object \n",
      " 7   experience              19158 non-null  object \n",
      " 8   company_size            19158 non-null  object \n",
      " 9   company_type            19158 non-null  object \n",
      " 10  last_new_job            19158 non-null  object \n",
      " 11  training_hours          19158 non-null  int64  \n",
      " 12  target                  19158 non-null  float64\n",
      "dtypes: float64(2), int64(2), object(9)\n",
      "memory usage: 1.9+ MB\n"
     ]
    }
   ],
   "source": [
    "df.info()"
   ]
  },
  {
   "cell_type": "markdown",
   "id": "62fdbc1c",
   "metadata": {},
   "source": [
    "# Model Implementation"
   ]
  },
  {
   "cell_type": "code",
   "execution_count": 31,
   "id": "198062cc",
   "metadata": {},
   "outputs": [
    {
     "data": {
      "text/html": [
       "<div>\n",
       "<style scoped>\n",
       "    .dataframe tbody tr th:only-of-type {\n",
       "        vertical-align: middle;\n",
       "    }\n",
       "\n",
       "    .dataframe tbody tr th {\n",
       "        vertical-align: top;\n",
       "    }\n",
       "\n",
       "    .dataframe thead th {\n",
       "        text-align: right;\n",
       "    }\n",
       "</style>\n",
       "<table border=\"1\" class=\"dataframe\">\n",
       "  <thead>\n",
       "    <tr style=\"text-align: right;\">\n",
       "      <th></th>\n",
       "      <th>city_development_index</th>\n",
       "      <th>relevent_experience</th>\n",
       "      <th>training_hours</th>\n",
       "      <th>target</th>\n",
       "      <th>city_Other</th>\n",
       "      <th>city_city_100</th>\n",
       "      <th>city_city_102</th>\n",
       "      <th>city_city_103</th>\n",
       "      <th>city_city_104</th>\n",
       "      <th>city_city_11</th>\n",
       "      <th>...</th>\n",
       "      <th>company_type_NGO</th>\n",
       "      <th>company_type_Other</th>\n",
       "      <th>company_type_Public Sector</th>\n",
       "      <th>company_type_Pvt Ltd</th>\n",
       "      <th>last_new_job_1</th>\n",
       "      <th>last_new_job_2</th>\n",
       "      <th>last_new_job_3</th>\n",
       "      <th>last_new_job_4</th>\n",
       "      <th>last_new_job_&gt;4</th>\n",
       "      <th>last_new_job_never</th>\n",
       "    </tr>\n",
       "  </thead>\n",
       "  <tbody>\n",
       "    <tr>\n",
       "      <th>0</th>\n",
       "      <td>0.920</td>\n",
       "      <td>1</td>\n",
       "      <td>36</td>\n",
       "      <td>1.0</td>\n",
       "      <td>0</td>\n",
       "      <td>0</td>\n",
       "      <td>0</td>\n",
       "      <td>1</td>\n",
       "      <td>0</td>\n",
       "      <td>0</td>\n",
       "      <td>...</td>\n",
       "      <td>0</td>\n",
       "      <td>0</td>\n",
       "      <td>0</td>\n",
       "      <td>1</td>\n",
       "      <td>1</td>\n",
       "      <td>0</td>\n",
       "      <td>0</td>\n",
       "      <td>0</td>\n",
       "      <td>0</td>\n",
       "      <td>0</td>\n",
       "    </tr>\n",
       "    <tr>\n",
       "      <th>1</th>\n",
       "      <td>0.776</td>\n",
       "      <td>0</td>\n",
       "      <td>47</td>\n",
       "      <td>0.0</td>\n",
       "      <td>1</td>\n",
       "      <td>0</td>\n",
       "      <td>0</td>\n",
       "      <td>0</td>\n",
       "      <td>0</td>\n",
       "      <td>0</td>\n",
       "      <td>...</td>\n",
       "      <td>0</td>\n",
       "      <td>0</td>\n",
       "      <td>0</td>\n",
       "      <td>1</td>\n",
       "      <td>0</td>\n",
       "      <td>0</td>\n",
       "      <td>0</td>\n",
       "      <td>0</td>\n",
       "      <td>1</td>\n",
       "      <td>0</td>\n",
       "    </tr>\n",
       "    <tr>\n",
       "      <th>2</th>\n",
       "      <td>0.624</td>\n",
       "      <td>0</td>\n",
       "      <td>83</td>\n",
       "      <td>0.0</td>\n",
       "      <td>0</td>\n",
       "      <td>0</td>\n",
       "      <td>0</td>\n",
       "      <td>0</td>\n",
       "      <td>0</td>\n",
       "      <td>0</td>\n",
       "      <td>...</td>\n",
       "      <td>0</td>\n",
       "      <td>0</td>\n",
       "      <td>0</td>\n",
       "      <td>1</td>\n",
       "      <td>0</td>\n",
       "      <td>0</td>\n",
       "      <td>0</td>\n",
       "      <td>0</td>\n",
       "      <td>0</td>\n",
       "      <td>1</td>\n",
       "    </tr>\n",
       "    <tr>\n",
       "      <th>3</th>\n",
       "      <td>0.789</td>\n",
       "      <td>0</td>\n",
       "      <td>52</td>\n",
       "      <td>1.0</td>\n",
       "      <td>1</td>\n",
       "      <td>0</td>\n",
       "      <td>0</td>\n",
       "      <td>0</td>\n",
       "      <td>0</td>\n",
       "      <td>0</td>\n",
       "      <td>...</td>\n",
       "      <td>0</td>\n",
       "      <td>0</td>\n",
       "      <td>0</td>\n",
       "      <td>1</td>\n",
       "      <td>0</td>\n",
       "      <td>0</td>\n",
       "      <td>0</td>\n",
       "      <td>0</td>\n",
       "      <td>0</td>\n",
       "      <td>1</td>\n",
       "    </tr>\n",
       "    <tr>\n",
       "      <th>4</th>\n",
       "      <td>0.767</td>\n",
       "      <td>1</td>\n",
       "      <td>8</td>\n",
       "      <td>0.0</td>\n",
       "      <td>1</td>\n",
       "      <td>0</td>\n",
       "      <td>0</td>\n",
       "      <td>0</td>\n",
       "      <td>0</td>\n",
       "      <td>0</td>\n",
       "      <td>...</td>\n",
       "      <td>0</td>\n",
       "      <td>0</td>\n",
       "      <td>0</td>\n",
       "      <td>0</td>\n",
       "      <td>0</td>\n",
       "      <td>0</td>\n",
       "      <td>0</td>\n",
       "      <td>1</td>\n",
       "      <td>0</td>\n",
       "      <td>0</td>\n",
       "    </tr>\n",
       "  </tbody>\n",
       "</table>\n",
       "<p>5 rows × 60 columns</p>\n",
       "</div>"
      ],
      "text/plain": [
       "   city_development_index  relevent_experience  training_hours  target  \\\n",
       "0                   0.920                    1              36     1.0   \n",
       "1                   0.776                    0              47     0.0   \n",
       "2                   0.624                    0              83     0.0   \n",
       "3                   0.789                    0              52     1.0   \n",
       "4                   0.767                    1               8     0.0   \n",
       "\n",
       "   city_Other  city_city_100  city_city_102  city_city_103  city_city_104  \\\n",
       "0           0              0              0              1              0   \n",
       "1           1              0              0              0              0   \n",
       "2           0              0              0              0              0   \n",
       "3           1              0              0              0              0   \n",
       "4           1              0              0              0              0   \n",
       "\n",
       "   city_city_11  ...  company_type_NGO  company_type_Other  \\\n",
       "0             0  ...                 0                   0   \n",
       "1             0  ...                 0                   0   \n",
       "2             0  ...                 0                   0   \n",
       "3             0  ...                 0                   0   \n",
       "4             0  ...                 0                   0   \n",
       "\n",
       "   company_type_Public Sector  company_type_Pvt Ltd  last_new_job_1  \\\n",
       "0                           0                     1               1   \n",
       "1                           0                     1               0   \n",
       "2                           0                     1               0   \n",
       "3                           0                     1               0   \n",
       "4                           0                     0               0   \n",
       "\n",
       "   last_new_job_2  last_new_job_3  last_new_job_4  last_new_job_>4  \\\n",
       "0               0               0               0                0   \n",
       "1               0               0               0                1   \n",
       "2               0               0               0                0   \n",
       "3               0               0               0                0   \n",
       "4               0               0               1                0   \n",
       "\n",
       "   last_new_job_never  \n",
       "0                   0  \n",
       "1                   0  \n",
       "2                   1  \n",
       "3                   1  \n",
       "4                   0  \n",
       "\n",
       "[5 rows x 60 columns]"
      ]
     },
     "execution_count": 31,
     "metadata": {},
     "output_type": "execute_result"
    }
   ],
   "source": [
    "model_df = pd.get_dummies(df)\n",
    "model_df.head()"
   ]
  },
  {
   "cell_type": "code",
   "execution_count": 32,
   "id": "834385d1",
   "metadata": {},
   "outputs": [],
   "source": [
    "# Split the data into a training set and a testing set.\n",
    "y = model_df.target\n",
    "X = model_df.drop(columns='target')\n",
    "X_train, X_test, y_train, y_test = train_test_split(X, y, random_state=42, stratify=y)\n",
    "\n",
    "# Instantiate a StandardScaler instance.\n",
    "scaler = StandardScaler()\n",
    "\n",
    "# Fit the training data to the standard scaler.\n",
    "X_scaler = scaler.fit(X_train)\n",
    "\n",
    "# Transform the training data using the scaler.\n",
    "X_train_scaled = X_scaler.transform(X_train)\n",
    "\n",
    "# Transform the testing data using the scaler.\n",
    "X_test_scaled = X_scaler.transform(X_test)"
   ]
  },
  {
   "cell_type": "code",
   "execution_count": 33,
   "id": "54c0a0ef",
   "metadata": {},
   "outputs": [],
   "source": [
    "# Due to imbalanced target values, instantiate the random oversampler model.\n",
    "ros = RandomOverSampler(random_state=42)\n",
    "X_res, y_res = ros.fit_resample(X_train_scaled, y_train)"
   ]
  },
  {
   "cell_type": "code",
   "execution_count": 34,
   "id": "7f123268",
   "metadata": {},
   "outputs": [],
   "source": [
    "# Implement a logistic regression model.\n",
    "classifier = LogisticRegression(solver='lbfgs', random_state=42)\n",
    "classifier.fit(X_res, y_res)\n",
    "predictions = classifier.predict(X_test_scaled)"
   ]
  },
  {
   "cell_type": "code",
   "execution_count": 35,
   "id": "aadbb016",
   "metadata": {},
   "outputs": [
    {
     "name": "stdout",
     "output_type": "stream",
     "text": [
      "Accuracy score: 0.74\n"
     ]
    }
   ],
   "source": [
    "# Display the accuracy score for the test dataset.\n",
    "print(f'Accuracy score: {accuracy_score(y_test, predictions):.2f}')"
   ]
  },
  {
   "cell_type": "code",
   "execution_count": 36,
   "id": "32061949",
   "metadata": {},
   "outputs": [
    {
     "data": {
      "text/plain": [
       "array([[2678,  918],\n",
       "       [ 313,  881]], dtype=int64)"
      ]
     },
     "execution_count": 36,
     "metadata": {},
     "output_type": "execute_result"
    }
   ],
   "source": [
    "# Display the confusion matrix.\n",
    "confusion_matrix(y_test, predictions)"
   ]
  },
  {
   "cell_type": "markdown",
   "id": "d86e44f6",
   "metadata": {},
   "source": [
    "| n=19158 | Predicted: Staying | Predicted: Leaving |\n",
    "| --- | --- | --- |\n",
    "| Actual: Staying | 2678 | 918 |\n",
    "| Actual: Leaving | 313 | 881 |\n"
   ]
  },
  {
   "cell_type": "code",
   "execution_count": 37,
   "id": "5e01a1b7",
   "metadata": {},
   "outputs": [
    {
     "name": "stdout",
     "output_type": "stream",
     "text": [
      "              precision    recall  f1-score   support\n",
      "\n",
      "        stay       0.90      0.74      0.81      3596\n",
      "       leave       0.49      0.74      0.59      1194\n",
      "\n",
      "    accuracy                           0.74      4790\n",
      "   macro avg       0.69      0.74      0.70      4790\n",
      "weighted avg       0.79      0.74      0.76      4790\n",
      "\n"
     ]
    }
   ],
   "source": [
    "# Display the classification report.\n",
    "target_names = ['stay', 'leave']\n",
    "print(classification_report(y_test, predictions, target_names=target_names))"
   ]
  },
  {
   "cell_type": "markdown",
   "id": "f911fe60",
   "metadata": {},
   "source": [
    "Considering that a recall score of 0.74 is achieved for predicting individuals leaving their current employment, this is a good starting point for our analysis."
   ]
  },
  {
   "cell_type": "markdown",
   "id": "f645aaea",
   "metadata": {},
   "source": [
    "# Feature Importance"
   ]
  },
  {
   "cell_type": "code",
   "execution_count": 38,
   "id": "3547930c",
   "metadata": {},
   "outputs": [],
   "source": [
    "importance = classifier.coef_[0]"
   ]
  },
  {
   "cell_type": "code",
   "execution_count": 39,
   "id": "fcc6df19",
   "metadata": {},
   "outputs": [
    {
     "name": "stdout",
     "output_type": "stream",
     "text": [
      "Feature: city_development_index, Score: -0.651\n",
      "Feature: relevent_experience, Score: -0.232\n",
      "Feature: city_Other, Score: -0.158\n",
      "Feature: city_city_103, Score: 0.154\n",
      "Feature: city_city_114, Score: -0.105\n",
      "Feature: city_city_136, Score: -0.109\n",
      "Feature: city_city_21, Score: 0.229\n",
      "Feature: education_level_Graduate, Score: 0.117\n",
      "Feature: education_level_High School, Score: -0.178\n",
      "Feature: education_level_Primary School, Score: -0.119\n",
      "Feature: company_size_100-500, Score: -0.125\n",
      "Feature: company_size_50-99, Score: 0.270\n",
      "Feature: company_type_Funded Startup, Score: -0.136\n",
      "Feature: last_new_job_never, Score: -0.133\n"
     ]
    }
   ],
   "source": [
    "for i,v in enumerate(importance):\n",
    "    if abs(v)>=0.1:\n",
    "        print(f'Feature: {X.columns[i]}, Score: {v:.3f}')"
   ]
  },
  {
   "cell_type": "code",
   "execution_count": 40,
   "id": "5396ba72",
   "metadata": {},
   "outputs": [
    {
     "data": {
      "text/plain": [
       "0.92"
      ]
     },
     "execution_count": 40,
     "metadata": {},
     "output_type": "execute_result"
    }
   ],
   "source": [
    "df[df['city']=='city_103']['city_development_index'].unique()[0]"
   ]
  },
  {
   "cell_type": "code",
   "execution_count": 41,
   "id": "6ed0a9ed",
   "metadata": {},
   "outputs": [
    {
     "data": {
      "text/plain": [
       "0.926"
      ]
     },
     "execution_count": 41,
     "metadata": {},
     "output_type": "execute_result"
    }
   ],
   "source": [
    "df[df['city']=='city_114']['city_development_index'].unique()[0]"
   ]
  },
  {
   "cell_type": "code",
   "execution_count": 42,
   "id": "b1d45f0e",
   "metadata": {},
   "outputs": [
    {
     "data": {
      "text/plain": [
       "0.897"
      ]
     },
     "execution_count": 42,
     "metadata": {},
     "output_type": "execute_result"
    }
   ],
   "source": [
    "df[df['city']=='city_136']['city_development_index'].unique()[0]"
   ]
  },
  {
   "cell_type": "code",
   "execution_count": 43,
   "id": "5e33a73f",
   "metadata": {},
   "outputs": [
    {
     "data": {
      "text/plain": [
       "0.624"
      ]
     },
     "execution_count": 43,
     "metadata": {},
     "output_type": "execute_result"
    }
   ],
   "source": [
    "df[df['city']=='city_21']['city_development_index'].unique()[0]"
   ]
  },
  {
   "cell_type": "code",
   "execution_count": 46,
   "id": "e6de0002",
   "metadata": {},
   "outputs": [
    {
     "data": {
      "image/png": "[encoded data removed]",
      "text/plain": [
       "<Figure size 640x480 with 1 Axes>"
      ]
     },
     "metadata": {},
     "output_type": "display_data"
    }
   ],
   "source": [
    "df['city_development_index'].hist(bins=50);"
   ]
  },
  {
   "cell_type": "code",
   "execution_count": 47,
   "id": "2f5ca7b3",
   "metadata": {},
   "outputs": [
    {
     "data": {
      "text/plain": [
       "count    19158.000000\n",
       "mean         0.828848\n",
       "std          0.123362\n",
       "min          0.448000\n",
       "25%          0.740000\n",
       "50%          0.903000\n",
       "75%          0.920000\n",
       "max          0.949000\n",
       "Name: city_development_index, dtype: float64"
      ]
     },
     "execution_count": 47,
     "metadata": {},
     "output_type": "execute_result"
    }
   ],
   "source": [
    "df['city_development_index'].describe()"
   ]
  },
  {
   "cell_type": "code",
   "execution_count": 48,
   "id": "fb1e8137",
   "metadata": {},
   "outputs": [
    {
     "data": {
      "text/html": [
       "<div>\n",
       "<style scoped>\n",
       "    .dataframe tbody tr th:only-of-type {\n",
       "        vertical-align: middle;\n",
       "    }\n",
       "\n",
       "    .dataframe tbody tr th {\n",
       "        vertical-align: top;\n",
       "    }\n",
       "\n",
       "    .dataframe thead th {\n",
       "        text-align: right;\n",
       "    }\n",
       "</style>\n",
       "<table border=\"1\" class=\"dataframe\">\n",
       "  <thead>\n",
       "    <tr style=\"text-align: right;\">\n",
       "      <th></th>\n",
       "      <th>city_development_index</th>\n",
       "      <th>target</th>\n",
       "    </tr>\n",
       "  </thead>\n",
       "  <tbody>\n",
       "    <tr>\n",
       "      <th>city_development_index</th>\n",
       "      <td>1.000000</td>\n",
       "      <td>-0.341665</td>\n",
       "    </tr>\n",
       "    <tr>\n",
       "      <th>target</th>\n",
       "      <td>-0.341665</td>\n",
       "      <td>1.000000</td>\n",
       "    </tr>\n",
       "  </tbody>\n",
       "</table>\n",
       "</div>"
      ],
      "text/plain": [
       "                        city_development_index    target\n",
       "city_development_index                1.000000 -0.341665\n",
       "target                               -0.341665  1.000000"
      ]
     },
     "execution_count": 48,
     "metadata": {},
     "output_type": "execute_result"
    }
   ],
   "source": [
    "df[['city_development_index', 'target']].corr()"
   ]
  },
  {
   "cell_type": "code",
   "execution_count": null,
   "id": "c8db6440",
   "metadata": {},
   "outputs": [],
   "source": []
  },
  {
   "cell_type": "code",
   "execution_count": 45,
   "id": "e1f6351e",
   "metadata": {},
   "outputs": [],
   "source": [
    "# from sklearn.ensemble import RandomForestClassifier\n",
    "\n",
    "# # Create the random forest classifier instance\n",
    "# rf_model = RandomForestClassifier(n_estimators=500, random_state=42)\n",
    "# rf_model = rf_model.fit(X_res, y_res)\n",
    "# predictions = rf_model.predict(X_test_scaled)\n",
    "\n",
    "# # Display the accuracy score for the test dataset.\n",
    "# print(f'Accuracy score: {accuracy_score(y_test, predictions):.2f}')\n",
    "\n",
    "# # Display the confusion matrix.\n",
    "# confusion_matrix(y_test, predictions)\n",
    "\n",
    "# # Display the classification report.\n",
    "# target_names = ['stay', 'leave']\n",
    "# print(classification_report(y_test, predictions, target_names=target_names))"
   ]
  }
 ],
 "metadata": {
  "kernelspec": {
   "display_name": "Python 3 (ipykernel)",
   "language": "python",
   "name": "python3"
  },
  "language_info": {
   "codemirror_mode": {
    "name": "ipython",
    "version": 3
   },
   "file_extension": ".py",
   "mimetype": "text/x-python",
   "name": "python",
   "nbconvert_exporter": "python",
   "pygments_lexer": "ipython3",
   "version": "3.10.9"
  }
 },
 "nbformat": 4,
 "nbformat_minor": 5
}
