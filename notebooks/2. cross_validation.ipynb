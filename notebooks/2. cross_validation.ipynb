{
 "cells": [
  {
   "cell_type": "markdown",
   "id": "ddf70d70",
   "metadata": {
    "id": "ddf70d70"
   },
   "source": [
    "This notebook documents k-fold cross validation process that helps with model selection."
   ]
  },
  {
   "cell_type": "code",
   "execution_count": 1,
   "id": "c72db5f0",
   "metadata": {
    "id": "c72db5f0"
   },
   "outputs": [],
   "source": [
    "# Import dependencies.\n",
    "import pandas as pd\n",
    "from numpy import mean\n",
    "from numpy import std\n",
    "\n",
    "from imblearn.over_sampling import RandomOverSampler\n",
    "from sklearn.ensemble import RandomForestClassifier\n",
    "from sklearn.linear_model import LogisticRegression\n",
    "from sklearn.metrics import accuracy_score, confusion_matrix, classification_report\n",
    "from sklearn.model_selection import train_test_split, KFold, cross_val_score\n",
    "from sklearn.preprocessing import StandardScaler"
   ]
  },
  {
   "cell_type": "code",
   "execution_count": 2,
   "id": "95b48745",
   "metadata": {
    "colab": {
     "base_uri": "https://localhost:8080/"
    },
    "id": "95b48745",
    "outputId": "54701f39-76c9-4750-85f8-545a17e5ebc3"
   },
   "outputs": [
    {
     "name": "stdout",
     "output_type": "stream",
     "text": [
      "<class 'pandas.core.frame.DataFrame'>\n",
      "RangeIndex: 19158 entries, 0 to 19157\n",
      "Data columns (total 13 columns):\n",
      " #   Column                  Non-Null Count  Dtype  \n",
      "---  ------                  --------------  -----  \n",
      " 0   city                    19158 non-null  object \n",
      " 1   city_development_index  19158 non-null  float64\n",
      " 2   gender                  19158 non-null  object \n",
      " 3   relevent_experience     19158 non-null  int64  \n",
      " 4   enrolled_university     19158 non-null  object \n",
      " 5   education_level         19158 non-null  object \n",
      " 6   major_discipline        19158 non-null  object \n",
      " 7   experience              19158 non-null  object \n",
      " 8   company_size            19158 non-null  object \n",
      " 9   company_type            19158 non-null  object \n",
      " 10  last_new_job            19158 non-null  object \n",
      " 11  training_hours          19158 non-null  int64  \n",
      " 12  target                  19158 non-null  float64\n",
      "dtypes: float64(2), int64(2), object(9)\n",
      "memory usage: 1.9+ MB\n"
     ]
    }
   ],
   "source": [
    "# Read in the data.\n",
    "df = pd.read_csv('../resources/cleaned_mode.csv')\n",
    "df.info()"
   ]
  },
  {
   "cell_type": "code",
   "execution_count": 3,
   "id": "134439dc",
   "metadata": {
    "colab": {
     "base_uri": "https://localhost:8080/",
     "height": 309
    },
    "id": "134439dc",
    "outputId": "48dab48f-a35d-45bc-e04f-c6b90138f2ba"
   },
   "outputs": [
    {
     "data": {
      "text/html": [
       "<div>\n",
       "<style scoped>\n",
       "    .dataframe tbody tr th:only-of-type {\n",
       "        vertical-align: middle;\n",
       "    }\n",
       "\n",
       "    .dataframe tbody tr th {\n",
       "        vertical-align: top;\n",
       "    }\n",
       "\n",
       "    .dataframe thead th {\n",
       "        text-align: right;\n",
       "    }\n",
       "</style>\n",
       "<table border=\"1\" class=\"dataframe\">\n",
       "  <thead>\n",
       "    <tr style=\"text-align: right;\">\n",
       "      <th></th>\n",
       "      <th>city_development_index</th>\n",
       "      <th>relevent_experience</th>\n",
       "      <th>training_hours</th>\n",
       "      <th>target</th>\n",
       "      <th>city_Other</th>\n",
       "      <th>city_city_100</th>\n",
       "      <th>city_city_102</th>\n",
       "      <th>city_city_103</th>\n",
       "      <th>city_city_104</th>\n",
       "      <th>city_city_11</th>\n",
       "      <th>...</th>\n",
       "      <th>company_type_NGO</th>\n",
       "      <th>company_type_Other</th>\n",
       "      <th>company_type_Public Sector</th>\n",
       "      <th>company_type_Pvt Ltd</th>\n",
       "      <th>last_new_job_1</th>\n",
       "      <th>last_new_job_2</th>\n",
       "      <th>last_new_job_3</th>\n",
       "      <th>last_new_job_4</th>\n",
       "      <th>last_new_job_&gt;4</th>\n",
       "      <th>last_new_job_never</th>\n",
       "    </tr>\n",
       "  </thead>\n",
       "  <tbody>\n",
       "    <tr>\n",
       "      <th>0</th>\n",
       "      <td>0.920</td>\n",
       "      <td>1</td>\n",
       "      <td>36</td>\n",
       "      <td>1.0</td>\n",
       "      <td>0</td>\n",
       "      <td>0</td>\n",
       "      <td>0</td>\n",
       "      <td>1</td>\n",
       "      <td>0</td>\n",
       "      <td>0</td>\n",
       "      <td>...</td>\n",
       "      <td>0</td>\n",
       "      <td>0</td>\n",
       "      <td>0</td>\n",
       "      <td>1</td>\n",
       "      <td>1</td>\n",
       "      <td>0</td>\n",
       "      <td>0</td>\n",
       "      <td>0</td>\n",
       "      <td>0</td>\n",
       "      <td>0</td>\n",
       "    </tr>\n",
       "    <tr>\n",
       "      <th>1</th>\n",
       "      <td>0.776</td>\n",
       "      <td>0</td>\n",
       "      <td>47</td>\n",
       "      <td>0.0</td>\n",
       "      <td>1</td>\n",
       "      <td>0</td>\n",
       "      <td>0</td>\n",
       "      <td>0</td>\n",
       "      <td>0</td>\n",
       "      <td>0</td>\n",
       "      <td>...</td>\n",
       "      <td>0</td>\n",
       "      <td>0</td>\n",
       "      <td>0</td>\n",
       "      <td>1</td>\n",
       "      <td>0</td>\n",
       "      <td>0</td>\n",
       "      <td>0</td>\n",
       "      <td>0</td>\n",
       "      <td>1</td>\n",
       "      <td>0</td>\n",
       "    </tr>\n",
       "    <tr>\n",
       "      <th>2</th>\n",
       "      <td>0.624</td>\n",
       "      <td>0</td>\n",
       "      <td>83</td>\n",
       "      <td>0.0</td>\n",
       "      <td>0</td>\n",
       "      <td>0</td>\n",
       "      <td>0</td>\n",
       "      <td>0</td>\n",
       "      <td>0</td>\n",
       "      <td>0</td>\n",
       "      <td>...</td>\n",
       "      <td>0</td>\n",
       "      <td>0</td>\n",
       "      <td>0</td>\n",
       "      <td>1</td>\n",
       "      <td>0</td>\n",
       "      <td>0</td>\n",
       "      <td>0</td>\n",
       "      <td>0</td>\n",
       "      <td>0</td>\n",
       "      <td>1</td>\n",
       "    </tr>\n",
       "    <tr>\n",
       "      <th>3</th>\n",
       "      <td>0.789</td>\n",
       "      <td>0</td>\n",
       "      <td>52</td>\n",
       "      <td>1.0</td>\n",
       "      <td>1</td>\n",
       "      <td>0</td>\n",
       "      <td>0</td>\n",
       "      <td>0</td>\n",
       "      <td>0</td>\n",
       "      <td>0</td>\n",
       "      <td>...</td>\n",
       "      <td>0</td>\n",
       "      <td>0</td>\n",
       "      <td>0</td>\n",
       "      <td>1</td>\n",
       "      <td>0</td>\n",
       "      <td>0</td>\n",
       "      <td>0</td>\n",
       "      <td>0</td>\n",
       "      <td>0</td>\n",
       "      <td>1</td>\n",
       "    </tr>\n",
       "    <tr>\n",
       "      <th>4</th>\n",
       "      <td>0.767</td>\n",
       "      <td>1</td>\n",
       "      <td>8</td>\n",
       "      <td>0.0</td>\n",
       "      <td>1</td>\n",
       "      <td>0</td>\n",
       "      <td>0</td>\n",
       "      <td>0</td>\n",
       "      <td>0</td>\n",
       "      <td>0</td>\n",
       "      <td>...</td>\n",
       "      <td>0</td>\n",
       "      <td>0</td>\n",
       "      <td>0</td>\n",
       "      <td>0</td>\n",
       "      <td>0</td>\n",
       "      <td>0</td>\n",
       "      <td>0</td>\n",
       "      <td>1</td>\n",
       "      <td>0</td>\n",
       "      <td>0</td>\n",
       "    </tr>\n",
       "  </tbody>\n",
       "</table>\n",
       "<p>5 rows × 60 columns</p>\n",
       "</div>"
      ],
      "text/plain": [
       "   city_development_index  relevent_experience  training_hours  target  \\\n",
       "0                   0.920                    1              36     1.0   \n",
       "1                   0.776                    0              47     0.0   \n",
       "2                   0.624                    0              83     0.0   \n",
       "3                   0.789                    0              52     1.0   \n",
       "4                   0.767                    1               8     0.0   \n",
       "\n",
       "   city_Other  city_city_100  city_city_102  city_city_103  city_city_104  \\\n",
       "0           0              0              0              1              0   \n",
       "1           1              0              0              0              0   \n",
       "2           0              0              0              0              0   \n",
       "3           1              0              0              0              0   \n",
       "4           1              0              0              0              0   \n",
       "\n",
       "   city_city_11  ...  company_type_NGO  company_type_Other  \\\n",
       "0             0  ...                 0                   0   \n",
       "1             0  ...                 0                   0   \n",
       "2             0  ...                 0                   0   \n",
       "3             0  ...                 0                   0   \n",
       "4             0  ...                 0                   0   \n",
       "\n",
       "   company_type_Public Sector  company_type_Pvt Ltd  last_new_job_1  \\\n",
       "0                           0                     1               1   \n",
       "1                           0                     1               0   \n",
       "2                           0                     1               0   \n",
       "3                           0                     1               0   \n",
       "4                           0                     0               0   \n",
       "\n",
       "   last_new_job_2  last_new_job_3  last_new_job_4  last_new_job_>4  \\\n",
       "0               0               0               0                0   \n",
       "1               0               0               0                1   \n",
       "2               0               0               0                0   \n",
       "3               0               0               0                0   \n",
       "4               0               0               1                0   \n",
       "\n",
       "   last_new_job_never  \n",
       "0                   0  \n",
       "1                   0  \n",
       "2                   1  \n",
       "3                   1  \n",
       "4                   0  \n",
       "\n",
       "[5 rows x 60 columns]"
      ]
     },
     "execution_count": 3,
     "metadata": {},
     "output_type": "execute_result"
    }
   ],
   "source": [
    "model_df = pd.get_dummies(df)\n",
    "model_df.head()"
   ]
  },
  {
   "cell_type": "code",
   "execution_count": 4,
   "id": "f9392fa5",
   "metadata": {
    "id": "f9392fa5"
   },
   "outputs": [],
   "source": [
    "# Split the data into a training set and a testing set.\n",
    "y = model_df.target\n",
    "X = model_df.drop(columns='target')\n",
    "X_train, X_test, y_train, y_test = train_test_split(X, y, random_state=42, stratify=y)\n",
    "\n",
    "# Instantiate a StandardScaler instance.\n",
    "scaler = StandardScaler()\n",
    "\n",
    "# Fit the training data to the standard scaler.\n",
    "X_scaler = scaler.fit(X_train)\n",
    "\n",
    "# Transform the training data using the scaler.\n",
    "X_train_scaled = X_scaler.transform(X_train)\n",
    "\n",
    "# Transform the testing data using the scaler.\n",
    "X_test_scaled = X_scaler.transform(X_test)"
   ]
  },
  {
   "cell_type": "code",
   "execution_count": 5,
   "id": "4770b610",
   "metadata": {
    "id": "4770b610"
   },
   "outputs": [],
   "source": [
    "# Due to imbalanced target values, instantiate the random oversampler model.\n",
    "ros = RandomOverSampler(random_state=42)\n",
    "X_res, y_res = ros.fit_resample(X_train_scaled, y_train)"
   ]
  },
  {
   "cell_type": "markdown",
   "id": "55fb0af3",
   "metadata": {},
   "source": [
    "## Logistic Regression"
   ]
  },
  {
   "cell_type": "code",
   "execution_count": 6,
   "id": "87fae7cd",
   "metadata": {},
   "outputs": [],
   "source": [
    "# Implement a logistic regression model.\n",
    "classifier = LogisticRegression(solver='lbfgs', random_state=42)\n",
    "classifier.fit(X_res, y_res)\n",
    "predictions = classifier.predict(X_test_scaled)"
   ]
  },
  {
   "cell_type": "code",
   "execution_count": 7,
   "id": "0b23a559",
   "metadata": {
    "colab": {
     "base_uri": "https://localhost:8080/"
    },
    "id": "0b23a559",
    "outputId": "7ef773f5-e366-4d5d-b803-1c148766a17c"
   },
   "outputs": [
    {
     "name": "stdout",
     "output_type": "stream",
     "text": [
      "Accuracy score: 0.743\n"
     ]
    }
   ],
   "source": [
    "# Display the accuracy score for the test dataset.\n",
    "print(f'Accuracy score: {accuracy_score(y_test, predictions):.3f}')"
   ]
  },
  {
   "cell_type": "code",
   "execution_count": 8,
   "id": "00ccdd15",
   "metadata": {
    "colab": {
     "base_uri": "https://localhost:8080/"
    },
    "id": "00ccdd15",
    "outputId": "f11ccc55-c223-428b-f520-302a126dbf89"
   },
   "outputs": [
    {
     "data": {
      "text/plain": [
       "array([[2678,  918],\n",
       "       [ 313,  881]], dtype=int64)"
      ]
     },
     "execution_count": 8,
     "metadata": {},
     "output_type": "execute_result"
    }
   ],
   "source": [
    "# Display the confusion matrix.\n",
    "confusion_matrix(y_test, predictions)"
   ]
  },
  {
   "cell_type": "markdown",
   "id": "52c38f32",
   "metadata": {
    "id": "52c38f32"
   },
   "source": [
    "| n=19158 | Predicted: Staying | Predicted: Leaving |\n",
    "| --- | --- | --- |\n",
    "| Actual: Staying | 2678 | 918 |\n",
    "| Actual: Leaving | 313 | 881 |\n"
   ]
  },
  {
   "cell_type": "code",
   "execution_count": 9,
   "id": "5072a8f7",
   "metadata": {
    "colab": {
     "base_uri": "https://localhost:8080/"
    },
    "id": "5072a8f7",
    "outputId": "0ae58552-7c63-4a26-f7f6-45a7677ab1d4"
   },
   "outputs": [
    {
     "name": "stdout",
     "output_type": "stream",
     "text": [
      "              precision    recall  f1-score   support\n",
      "\n",
      "        stay       0.90      0.74      0.81      3596\n",
      "       leave       0.49      0.74      0.59      1194\n",
      "\n",
      "    accuracy                           0.74      4790\n",
      "   macro avg       0.69      0.74      0.70      4790\n",
      "weighted avg       0.79      0.74      0.76      4790\n",
      "\n"
     ]
    }
   ],
   "source": [
    "# Display the classification report.\n",
    "target_names = ['stay', 'leave']\n",
    "print(classification_report(y_test, predictions, target_names=target_names))"
   ]
  },
  {
   "cell_type": "markdown",
   "id": "ubZHAHAxR8Nf",
   "metadata": {
    "id": "ubZHAHAxR8Nf"
   },
   "source": [
    "### K-Fold Cross Validation"
   ]
  },
  {
   "cell_type": "code",
   "execution_count": 10,
   "id": "Qq6c5FThaSos",
   "metadata": {
    "colab": {
     "base_uri": "https://localhost:8080/"
    },
    "id": "Qq6c5FThaSos",
    "outputId": "22fc4573-dfaa-469d-9ff4-d2bdee5a6a0b"
   },
   "outputs": [
    {
     "name": "stdout",
     "output_type": "stream",
     "text": [
      "Accuracy: 0.771 (0.012)\n"
     ]
    }
   ],
   "source": [
    "# Code is sourced from https://machinelearningmastery.com/how-to-configure-k-fold-cross-validation/.\n",
    "# Prepare the cross-validation procedure.\n",
    "cv = KFold(n_splits=10, random_state=1, shuffle=True)\n",
    "\n",
    "# Create model.\n",
    "model = LogisticRegression()\n",
    "\n",
    "# Evaluate model.\n",
    "scores = cross_val_score(model, X, y, scoring='accuracy', cv=cv, n_jobs=-1)\n",
    "\n",
    "# Report performance.\n",
    "print('Accuracy: %.3f (%.3f)' % (mean(scores), std(scores)))"
   ]
  },
  {
   "cell_type": "markdown",
   "id": "UaFukXtQfqZG",
   "metadata": {
    "id": "UaFukXtQfqZG"
   },
   "source": [
    "Cross validation demonstrates that using logistic regression results in an estimated classification accuracy of about 77.1%, which is close to and above above 74% model accuracy formerly achieve."
   ]
  },
  {
   "cell_type": "markdown",
   "id": "HJvRePm0XvGB",
   "metadata": {
    "id": "HJvRePm0XvGB"
   },
   "source": [
    "## Random Forest Classifier Model"
   ]
  },
  {
   "cell_type": "code",
   "execution_count": 11,
   "id": "4rXepbxFaSgs",
   "metadata": {
    "colab": {
     "base_uri": "https://localhost:8080/"
    },
    "id": "4rXepbxFaSgs",
    "outputId": "94086aaa-e448-4b56-bbe0-49bb89360a14"
   },
   "outputs": [
    {
     "name": "stdout",
     "output_type": "stream",
     "text": [
      "Accuracy score: 0.749\n"
     ]
    }
   ],
   "source": [
    "# Create the random forest classifier instance\n",
    "rf_model = RandomForestClassifier(n_estimators=500, random_state=42)\n",
    "rf_model = rf_model.fit(X_res, y_res)\n",
    "predictions = rf_model.predict(X_test_scaled)\n",
    "\n",
    "# Display the accuracy score for the test dataset.\n",
    "print(f'Accuracy score: {accuracy_score(y_test, predictions):.3f}')"
   ]
  },
  {
   "cell_type": "code",
   "execution_count": 12,
   "id": "bad67c8d",
   "metadata": {},
   "outputs": [
    {
     "data": {
      "text/plain": [
       "array([[3024,  572],\n",
       "       [ 632,  562]], dtype=int64)"
      ]
     },
     "execution_count": 12,
     "metadata": {},
     "output_type": "execute_result"
    }
   ],
   "source": [
    "# Display the confusion matrix.\n",
    "confusion_matrix(y_test, predictions)"
   ]
  },
  {
   "cell_type": "code",
   "execution_count": 13,
   "id": "392670a3",
   "metadata": {},
   "outputs": [
    {
     "name": "stdout",
     "output_type": "stream",
     "text": [
      "              precision    recall  f1-score   support\n",
      "\n",
      "        stay       0.83      0.84      0.83      3596\n",
      "       leave       0.50      0.47      0.48      1194\n",
      "\n",
      "    accuracy                           0.75      4790\n",
      "   macro avg       0.66      0.66      0.66      4790\n",
      "weighted avg       0.74      0.75      0.75      4790\n",
      "\n"
     ]
    }
   ],
   "source": [
    "# Display the classification report.\n",
    "target_names = ['stay', 'leave']\n",
    "print(classification_report(y_test, predictions, target_names=target_names))"
   ]
  },
  {
   "cell_type": "markdown",
   "id": "MfipaQShZGsk",
   "metadata": {
    "id": "MfipaQShZGsk"
   },
   "source": [
    "### K-Fold Cross Validation"
   ]
  },
  {
   "cell_type": "code",
   "execution_count": 14,
   "id": "4ZX02t0lZGHX",
   "metadata": {
    "colab": {
     "base_uri": "https://localhost:8080/"
    },
    "id": "4ZX02t0lZGHX",
    "outputId": "8239cc4f-1ac9-43c9-a476-d5e9e765248e"
   },
   "outputs": [
    {
     "name": "stdout",
     "output_type": "stream",
     "text": [
      "Accuracy: 0.757 (0.008)\n"
     ]
    }
   ],
   "source": [
    "# Prepare the cross-validation procedure.\n",
    "cv = KFold(n_splits=10, random_state=1, shuffle=True)\n",
    "\n",
    "# Create model.\n",
    "model = RandomForestClassifier()\n",
    "\n",
    "# Evaluate model.\n",
    "scores = cross_val_score(model, X, y, scoring='accuracy', cv=cv, n_jobs=-1)\n",
    "\n",
    "# Report performance.\n",
    "print('Accuracy: %.3f (%.3f)' % (mean(scores), std(scores)))"
   ]
  },
  {
   "cell_type": "markdown",
   "id": "ptGeewSiu3O0",
   "metadata": {
    "id": "ptGeewSiu3O0"
   },
   "source": [
    "Cross validation demonstrates that using random forest classifier results in an estimated classification accuracy of about 75.7%, which is again close to and above 75.0% model accuracy formerly achieved."
   ]
  }
 ],
 "metadata": {
  "colab": {
   "provenance": []
  },
  "kernelspec": {
   "display_name": "Python 3 (ipykernel)",
   "language": "python",
   "name": "python3"
  },
  "language_info": {
   "codemirror_mode": {
    "name": "ipython",
    "version": 3
   },
   "file_extension": ".py",
   "mimetype": "text/x-python",
   "name": "python",
   "nbconvert_exporter": "python",
   "pygments_lexer": "ipython3",
   "version": "3.10.9"
  }
 },
 "nbformat": 4,
 "nbformat_minor": 5
}
