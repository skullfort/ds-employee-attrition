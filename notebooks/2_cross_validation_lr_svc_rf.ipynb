{
 "cells": [
  {
   "cell_type": "markdown",
   "id": "98d2b6ac",
   "metadata": {
    "id": "ddf70d70"
   },
   "source": [
    "This notebook documents k-fold cross validation for three models: logistic regression (linear), SVC (non-linear), and random forest (ensemble). The code for cross-validation is sourced from https://towardsdatascience.com/the-right-way-of-using-smote-with-cross-validation-92a8d09d00c7."
   ]
  },
  {
   "cell_type": "code",
   "execution_count": 1,
   "id": "a842c75f",
   "metadata": {
    "id": "c72db5f0"
   },
   "outputs": [],
   "source": [
    "# Import dependencies.\n",
    "import pandas as pd\n",
    "from numpy import mean, std\n",
    "\n",
    "from imblearn.over_sampling import RandomOverSampler\n",
    "from imblearn.pipeline import Pipeline as imbpipeline\n",
    "from sklearn.ensemble import RandomForestClassifier\n",
    "from sklearn.linear_model import LogisticRegression\n",
    "from sklearn.model_selection import StratifiedKFold, cross_val_score\n",
    "from sklearn.preprocessing import StandardScaler\n",
    "from sklearn.svm import SVC\n",
    "\n",
    "from project_pipeline import preprocess, perf_metrics"
   ]
  },
  {
   "cell_type": "code",
   "execution_count": 2,
   "id": "49ff86f5",
   "metadata": {
    "colab": {
     "base_uri": "https://localhost:8080/"
    },
    "id": "95b48745",
    "outputId": "54701f39-76c9-4750-85f8-545a17e5ebc3"
   },
   "outputs": [
    {
     "name": "stdout",
     "output_type": "stream",
     "text": [
      "<class 'pandas.core.frame.DataFrame'>\n",
      "RangeIndex: 19158 entries, 0 to 19157\n",
      "Data columns (total 13 columns):\n",
      " #   Column                  Non-Null Count  Dtype  \n",
      "---  ------                  --------------  -----  \n",
      " 0   city                    19158 non-null  object \n",
      " 1   city_development_index  19158 non-null  float64\n",
      " 2   gender                  19158 non-null  object \n",
      " 3   relevent_experience     19158 non-null  int64  \n",
      " 4   enrolled_university     19158 non-null  object \n",
      " 5   education_level         19158 non-null  object \n",
      " 6   major_discipline        19158 non-null  object \n",
      " 7   experience              19158 non-null  object \n",
      " 8   company_size            19158 non-null  object \n",
      " 9   company_type            19158 non-null  object \n",
      " 10  last_new_job            19158 non-null  object \n",
      " 11  training_hours          19158 non-null  int64  \n",
      " 12  target                  19158 non-null  float64\n",
      "dtypes: float64(2), int64(2), object(9)\n",
      "memory usage: 1.9+ MB\n"
     ]
    }
   ],
   "source": [
    "# Read in 'cleaned_mode.csv' data.\n",
    "df = pd.read_csv('../resources/cleaned_mode.csv')\n",
    "df.info()"
   ]
  },
  {
   "cell_type": "markdown",
   "id": "35e84141",
   "metadata": {},
   "source": [
    "## Model performance based on random split"
   ]
  },
  {
   "cell_type": "code",
   "execution_count": 3,
   "id": "47551af7",
   "metadata": {
    "id": "f9392fa5"
   },
   "outputs": [],
   "source": [
    "# Split data into train and test.\n",
    "X_train, X_test, y_train, y_test = preprocess(df)"
   ]
  },
  {
   "cell_type": "markdown",
   "id": "818e0b96",
   "metadata": {},
   "source": [
    "### Logistic Regression"
   ]
  },
  {
   "cell_type": "code",
   "execution_count": 4,
   "id": "d9553606",
   "metadata": {},
   "outputs": [
    {
     "name": "stdout",
     "output_type": "stream",
     "text": [
      "ROC AUC: 0.74\n",
      "Classification report:\n",
      "              precision    recall  f1-score   support\n",
      "\n",
      "        stay       0.90      0.74      0.81      3596\n",
      "       leave       0.49      0.74      0.59      1194\n",
      "\n",
      "    accuracy                           0.74      4790\n",
      "   macro avg       0.69      0.74      0.70      4790\n",
      "weighted avg       0.79      0.74      0.76      4790\n",
      "\n"
     ]
    }
   ],
   "source": [
    "# Implement a logistic regression model.\n",
    "lr_model = LogisticRegression(solver='lbfgs', random_state=42)\n",
    "lr_model.fit(X_train, y_train)\n",
    "y_pred = lr_model.predict(X_test)\n",
    "\n",
    "# Print out accuracy score, ROC AUC score, and classification report.\n",
    "perf_metrics(y_test, y_pred)"
   ]
  },
  {
   "cell_type": "markdown",
   "id": "cdd9a894",
   "metadata": {},
   "source": [
    "### SVC"
   ]
  },
  {
   "cell_type": "code",
   "execution_count": 5,
   "id": "b03524f6",
   "metadata": {},
   "outputs": [
    {
     "name": "stdout",
     "output_type": "stream",
     "text": [
      "ROC AUC: 0.74\n",
      "Classification report:\n",
      "              precision    recall  f1-score   support\n",
      "\n",
      "        stay       0.89      0.74      0.81      3596\n",
      "       leave       0.48      0.74      0.59      1194\n",
      "\n",
      "    accuracy                           0.74      4790\n",
      "   macro avg       0.69      0.74      0.70      4790\n",
      "weighted avg       0.79      0.74      0.75      4790\n",
      "\n"
     ]
    }
   ],
   "source": [
    "# Implement a SVC model with RBF kernel.\n",
    "svc_model = SVC(kernel='rbf', random_state=42)\n",
    "svc_model.fit(X_train, y_train)\n",
    "y_pred = svc_model.predict(X_test)\n",
    "\n",
    "# Print out accuracy score, ROC AUC score, and classification report.\n",
    "perf_metrics(y_test, y_pred)"
   ]
  },
  {
   "cell_type": "markdown",
   "id": "d0c2a953",
   "metadata": {
    "id": "HJvRePm0XvGB"
   },
   "source": [
    "### Random Forest"
   ]
  },
  {
   "cell_type": "code",
   "execution_count": 6,
   "id": "60be571d",
   "metadata": {
    "colab": {
     "base_uri": "https://localhost:8080/"
    },
    "id": "4rXepbxFaSgs",
    "outputId": "94086aaa-e448-4b56-bbe0-49bb89360a14"
   },
   "outputs": [
    {
     "name": "stdout",
     "output_type": "stream",
     "text": [
      "ROC AUC: 0.66\n",
      "Classification report:\n",
      "              precision    recall  f1-score   support\n",
      "\n",
      "        stay       0.83      0.84      0.83      3596\n",
      "       leave       0.50      0.47      0.48      1194\n",
      "\n",
      "    accuracy                           0.75      4790\n",
      "   macro avg       0.66      0.66      0.66      4790\n",
      "weighted avg       0.74      0.75      0.75      4790\n",
      "\n"
     ]
    }
   ],
   "source": [
    "# Create the random forest classifier instance.\n",
    "rf_model = RandomForestClassifier(n_estimators=500, random_state=42)\n",
    "rf_model = rf_model.fit(X_train, y_train)\n",
    "y_pred = rf_model.predict(X_test)\n",
    "\n",
    "# Print out accuracy score, ROC AUC score, and classification report.\n",
    "perf_metrics(y_test, y_pred)"
   ]
  },
  {
   "cell_type": "markdown",
   "id": "bcd7fee9",
   "metadata": {},
   "source": [
    "## Model performance based on cross validation"
   ]
  },
  {
   "cell_type": "code",
   "execution_count": 7,
   "id": "328079d0",
   "metadata": {},
   "outputs": [],
   "source": [
    "# Use `get_dummies` to encode all categorical features.\n",
    "df = pd.get_dummies(df)\n",
    "y = df.target\n",
    "X = df.drop(columns='target')"
   ]
  },
  {
   "cell_type": "code",
   "execution_count": 8,
   "id": "0bb0dd6b",
   "metadata": {},
   "outputs": [],
   "source": [
    "# Create all models.\n",
    "models = {\n",
    "    'lr': LogisticRegression(solver='lbfgs', random_state=42),\n",
    "    'svc': SVC(kernel='rbf', random_state=42),\n",
    "    'rf': RandomForestClassifier(n_estimators=500, random_state=42)\n",
    "}"
   ]
  },
  {
   "cell_type": "code",
   "execution_count": 9,
   "id": "0bc878a0",
   "metadata": {},
   "outputs": [
    {
     "name": "stdout",
     "output_type": "stream",
     "text": [
      "lr\n",
      "---\n",
      "roc_auc: 0.78 (0.02)\n",
      "recall: 0.73 (0.03)\n",
      "---\n",
      "svc\n",
      "---\n",
      "roc_auc: 0.77 (0.01)\n",
      "recall: 0.72 (0.02)\n",
      "---\n",
      "rf\n",
      "---\n",
      "roc_auc: 0.74 (0.01)\n",
      "recall: 0.47 (0.02)\n",
      "---\n"
     ]
    }
   ],
   "source": [
    "for name, model in models.items():\n",
    "    # Prepare the cross-validation procedure.\n",
    "    cv = StratifiedKFold(n_splits=10, random_state=42, shuffle=True)\n",
    "\n",
    "    # Create a pipeline that includes oversampler, scaler, and model.\n",
    "    clf = imbpipeline(steps = [['oversampler', RandomOverSampler(random_state=42)],\n",
    "                               ['scaler', StandardScaler()],\n",
    "                               ['classifer', model]])\n",
    "\n",
    "    # Evaluate model.\n",
    "    roc_auc_scores = cross_val_score(clf, X, y, scoring='roc_auc', cv=cv, n_jobs=-1)\n",
    "    recall_scores = cross_val_score(clf, X, y, scoring='recall', cv=cv, n_jobs=-1)\n",
    "\n",
    "    # Report performance.\n",
    "    print(name)\n",
    "    print('---')\n",
    "    print(f'roc_auc: {mean(roc_auc_scores):.2f} ({std(roc_auc_scores):.2f})')\n",
    "    print(f'recall: {mean(recall_scores):.2f} ({std(recall_scores):.2f})')\n",
    "    print('---')"
   ]
  },
  {
   "cell_type": "markdown",
   "id": "024af62d",
   "metadata": {
    "id": "UaFukXtQfqZG"
   },
   "source": [
    "Cross validation demonstrates the following key points:\n",
    "- `Logistic regression results in an average ROC AUC score of about 0.78,` which is above and close to 0.74 achieved with a single random split. Since it achieves the highest ROC AUC and recall scores of the three models investigated, it is used for further study regarding feature importance.\n",
    "- `SVC with `RBF` kernel results in an average ROC AUC score of about 0.77,` which is above and close to 0.74 achieved with a single random split.\n",
    "- `Random forest classifier results in an average ROC AUC score of 0.74,` which is 0.08 higher than the score achieved with a single random split. However, the average recall obtained is considerably lower than the other two models. \n",
    "- `Since predicting individuals leaving their current employment is an important objective of the analysis, random forest classifer is not recommended for this classification task.`"
   ]
  },
  {
   "cell_type": "code",
   "execution_count": null,
   "id": "fc91de2e",
   "metadata": {},
   "outputs": [],
   "source": []
  }
 ],
 "metadata": {
  "colab": {
   "provenance": []
  },
  "kernelspec": {
   "display_name": "Python 3 (ipykernel)",
   "language": "python",
   "name": "python3"
  },
  "language_info": {
   "codemirror_mode": {
    "name": "ipython",
    "version": 3
   },
   "file_extension": ".py",
   "mimetype": "text/x-python",
   "name": "python",
   "nbconvert_exporter": "python",
   "pygments_lexer": "ipython3",
   "version": "3.7.7"
  }
 },
 "nbformat": 4,
 "nbformat_minor": 5
}
