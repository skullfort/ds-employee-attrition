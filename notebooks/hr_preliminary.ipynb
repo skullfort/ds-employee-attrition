{
 "cells": [
  {
   "cell_type": "code",
   "execution_count": 1,
   "id": "9a520639",
   "metadata": {},
   "outputs": [],
   "source": [
    "import pandas as pd"
   ]
  },
  {
   "cell_type": "code",
   "execution_count": 2,
   "id": "7553c368",
   "metadata": {},
   "outputs": [],
   "source": [
    "df = pd.read_csv('aug_train.csv')"
   ]
  },
  {
   "cell_type": "code",
   "execution_count": 3,
   "id": "d4cc336d",
   "metadata": {},
   "outputs": [
    {
     "name": "stdout",
     "output_type": "stream",
     "text": [
      "<class 'pandas.core.frame.DataFrame'>\n",
      "RangeIndex: 19158 entries, 0 to 19157\n",
      "Data columns (total 14 columns):\n",
      " #   Column                  Non-Null Count  Dtype  \n",
      "---  ------                  --------------  -----  \n",
      " 0   enrollee_id             19158 non-null  int64  \n",
      " 1   city                    19158 non-null  object \n",
      " 2   city_development_index  19158 non-null  float64\n",
      " 3   gender                  14650 non-null  object \n",
      " 4   relevent_experience     19158 non-null  object \n",
      " 5   enrolled_university     18772 non-null  object \n",
      " 6   education_level         18698 non-null  object \n",
      " 7   major_discipline        16345 non-null  object \n",
      " 8   experience              19093 non-null  object \n",
      " 9   company_size            13220 non-null  object \n",
      " 10  company_type            13018 non-null  object \n",
      " 11  last_new_job            18735 non-null  object \n",
      " 12  training_hours          19158 non-null  int64  \n",
      " 13  target                  19158 non-null  float64\n",
      "dtypes: float64(2), int64(2), object(10)\n",
      "memory usage: 2.0+ MB\n"
     ]
    }
   ],
   "source": [
    "df.info()"
   ]
  },
  {
   "cell_type": "code",
   "execution_count": 4,
   "id": "43a92f08",
   "metadata": {},
   "outputs": [
    {
     "data": {
      "text/html": [
       "<div>\n",
       "<style scoped>\n",
       "    .dataframe tbody tr th:only-of-type {\n",
       "        vertical-align: middle;\n",
       "    }\n",
       "\n",
       "    .dataframe tbody tr th {\n",
       "        vertical-align: top;\n",
       "    }\n",
       "\n",
       "    .dataframe thead th {\n",
       "        text-align: right;\n",
       "    }\n",
       "</style>\n",
       "<table border=\"1\" class=\"dataframe\">\n",
       "  <thead>\n",
       "    <tr style=\"text-align: right;\">\n",
       "      <th></th>\n",
       "      <th>enrollee_id</th>\n",
       "      <th>city</th>\n",
       "      <th>city_development_index</th>\n",
       "      <th>gender</th>\n",
       "      <th>relevent_experience</th>\n",
       "      <th>enrolled_university</th>\n",
       "      <th>education_level</th>\n",
       "      <th>major_discipline</th>\n",
       "      <th>experience</th>\n",
       "      <th>company_size</th>\n",
       "      <th>company_type</th>\n",
       "      <th>last_new_job</th>\n",
       "      <th>training_hours</th>\n",
       "      <th>target</th>\n",
       "    </tr>\n",
       "  </thead>\n",
       "  <tbody>\n",
       "    <tr>\n",
       "      <th>0</th>\n",
       "      <td>8949</td>\n",
       "      <td>city_103</td>\n",
       "      <td>0.920</td>\n",
       "      <td>Male</td>\n",
       "      <td>Has relevent experience</td>\n",
       "      <td>no_enrollment</td>\n",
       "      <td>Graduate</td>\n",
       "      <td>STEM</td>\n",
       "      <td>&gt;20</td>\n",
       "      <td>NaN</td>\n",
       "      <td>NaN</td>\n",
       "      <td>1</td>\n",
       "      <td>36</td>\n",
       "      <td>1.0</td>\n",
       "    </tr>\n",
       "    <tr>\n",
       "      <th>1</th>\n",
       "      <td>29725</td>\n",
       "      <td>city_40</td>\n",
       "      <td>0.776</td>\n",
       "      <td>Male</td>\n",
       "      <td>No relevent experience</td>\n",
       "      <td>no_enrollment</td>\n",
       "      <td>Graduate</td>\n",
       "      <td>STEM</td>\n",
       "      <td>15</td>\n",
       "      <td>50-99</td>\n",
       "      <td>Pvt Ltd</td>\n",
       "      <td>&gt;4</td>\n",
       "      <td>47</td>\n",
       "      <td>0.0</td>\n",
       "    </tr>\n",
       "    <tr>\n",
       "      <th>2</th>\n",
       "      <td>11561</td>\n",
       "      <td>city_21</td>\n",
       "      <td>0.624</td>\n",
       "      <td>NaN</td>\n",
       "      <td>No relevent experience</td>\n",
       "      <td>Full time course</td>\n",
       "      <td>Graduate</td>\n",
       "      <td>STEM</td>\n",
       "      <td>5</td>\n",
       "      <td>NaN</td>\n",
       "      <td>NaN</td>\n",
       "      <td>never</td>\n",
       "      <td>83</td>\n",
       "      <td>0.0</td>\n",
       "    </tr>\n",
       "    <tr>\n",
       "      <th>3</th>\n",
       "      <td>33241</td>\n",
       "      <td>city_115</td>\n",
       "      <td>0.789</td>\n",
       "      <td>NaN</td>\n",
       "      <td>No relevent experience</td>\n",
       "      <td>NaN</td>\n",
       "      <td>Graduate</td>\n",
       "      <td>Business Degree</td>\n",
       "      <td>&lt;1</td>\n",
       "      <td>NaN</td>\n",
       "      <td>Pvt Ltd</td>\n",
       "      <td>never</td>\n",
       "      <td>52</td>\n",
       "      <td>1.0</td>\n",
       "    </tr>\n",
       "    <tr>\n",
       "      <th>4</th>\n",
       "      <td>666</td>\n",
       "      <td>city_162</td>\n",
       "      <td>0.767</td>\n",
       "      <td>Male</td>\n",
       "      <td>Has relevent experience</td>\n",
       "      <td>no_enrollment</td>\n",
       "      <td>Masters</td>\n",
       "      <td>STEM</td>\n",
       "      <td>&gt;20</td>\n",
       "      <td>50-99</td>\n",
       "      <td>Funded Startup</td>\n",
       "      <td>4</td>\n",
       "      <td>8</td>\n",
       "      <td>0.0</td>\n",
       "    </tr>\n",
       "  </tbody>\n",
       "</table>\n",
       "</div>"
      ],
      "text/plain": [
       "   enrollee_id      city  city_development_index gender  \\\n",
       "0         8949  city_103                   0.920   Male   \n",
       "1        29725   city_40                   0.776   Male   \n",
       "2        11561   city_21                   0.624    NaN   \n",
       "3        33241  city_115                   0.789    NaN   \n",
       "4          666  city_162                   0.767   Male   \n",
       "\n",
       "       relevent_experience enrolled_university education_level  \\\n",
       "0  Has relevent experience       no_enrollment        Graduate   \n",
       "1   No relevent experience       no_enrollment        Graduate   \n",
       "2   No relevent experience    Full time course        Graduate   \n",
       "3   No relevent experience                 NaN        Graduate   \n",
       "4  Has relevent experience       no_enrollment         Masters   \n",
       "\n",
       "  major_discipline experience company_size    company_type last_new_job  \\\n",
       "0             STEM        >20          NaN             NaN            1   \n",
       "1             STEM         15        50-99         Pvt Ltd           >4   \n",
       "2             STEM          5          NaN             NaN        never   \n",
       "3  Business Degree         <1          NaN         Pvt Ltd        never   \n",
       "4             STEM        >20        50-99  Funded Startup            4   \n",
       "\n",
       "   training_hours  target  \n",
       "0              36     1.0  \n",
       "1              47     0.0  \n",
       "2              83     0.0  \n",
       "3              52     1.0  \n",
       "4               8     0.0  "
      ]
     },
     "execution_count": 4,
     "metadata": {},
     "output_type": "execute_result"
    }
   ],
   "source": [
    "df.head()"
   ]
  },
  {
   "cell_type": "code",
   "execution_count": 5,
   "id": "d8f9f5a9",
   "metadata": {},
   "outputs": [
    {
     "data": {
      "text/plain": [
       "Index(['gender', 'enrolled_university', 'education_level', 'major_discipline',\n",
       "       'experience', 'company_size', 'company_type', 'last_new_job'],\n",
       "      dtype='object')"
      ]
     },
     "execution_count": 5,
     "metadata": {},
     "output_type": "execute_result"
    }
   ],
   "source": [
    "# Summarize the features with missing values.\n",
    "df.isnull().sum()[df.isnull().sum() != 0].index"
   ]
  },
  {
   "cell_type": "code",
   "execution_count": null,
   "id": "88042914",
   "metadata": {},
   "outputs": [],
   "source": []
  },
  {
   "cell_type": "markdown",
   "id": "da993b40",
   "metadata": {},
   "source": [
    "## 0. `enrollee_id`\n",
    "`enrollee_id` is used to identify those enrolled in the program. Since it is unique for each record and has no bearing on the target, it can be dropped."
   ]
  },
  {
   "cell_type": "code",
   "execution_count": 6,
   "id": "394b91a9",
   "metadata": {},
   "outputs": [
    {
     "data": {
      "text/plain": [
       "19158"
      ]
     },
     "execution_count": 6,
     "metadata": {},
     "output_type": "execute_result"
    }
   ],
   "source": [
    "df.enrollee_id.nunique()"
   ]
  },
  {
   "cell_type": "code",
   "execution_count": 7,
   "id": "77ac7556",
   "metadata": {},
   "outputs": [],
   "source": [
    "df.drop(columns='enrollee_id', inplace=True)"
   ]
  },
  {
   "cell_type": "markdown",
   "id": "ec1a16d8",
   "metadata": {},
   "source": [
    "## 1. `city`\n",
    "`city` with low counts can be binned together to reduce the total number of categories."
   ]
  },
  {
   "cell_type": "code",
   "execution_count": 8,
   "id": "6ce4c889",
   "metadata": {},
   "outputs": [
    {
     "data": {
      "text/plain": [
       "city_103    4355\n",
       "city_21     2702\n",
       "city_16     1533\n",
       "city_114    1336\n",
       "city_160     845\n",
       "city_136     586\n",
       "city_67      431\n",
       "city_75      305\n",
       "city_102     304\n",
       "city_104     301\n",
       "city_73      280\n",
       "city_100     275\n",
       "city_71      266\n",
       "city_11      247\n",
       "city_90      197\n",
       "city_61      197\n",
       "city_28      192\n",
       "city_23      182\n",
       "city_65      175\n",
       "city_36      160\n",
       "city_173     151\n",
       "city_83      143\n",
       "city_50      140\n",
       "city_116     128\n",
       "city_46      128\n",
       "city_162     128\n",
       "city_138     120\n",
       "city_19      119\n",
       "city_64      114\n",
       "city_45      113\n",
       "city_97      104\n",
       "city_74      104\n",
       "city_57      103\n",
       "city_149     102\n",
       "city_159      94\n",
       "city_99       94\n",
       "city_128      92\n",
       "city_41       89\n",
       "city_10       86\n",
       "city_165      82\n",
       "Name: city, dtype: int64"
      ]
     },
     "execution_count": 8,
     "metadata": {},
     "output_type": "execute_result"
    }
   ],
   "source": [
    "df.city.value_counts(dropna=False).head(40)"
   ]
  },
  {
   "cell_type": "code",
   "execution_count": 9,
   "id": "902050fd",
   "metadata": {},
   "outputs": [
    {
     "data": {
      "text/plain": [
       "city_146    8\n",
       "city_180    7\n",
       "city_81     7\n",
       "city_2      7\n",
       "city_120    6\n",
       "city_107    6\n",
       "city_179    5\n",
       "city_139    5\n",
       "city_62     5\n",
       "city_31     4\n",
       "city_82     4\n",
       "city_25     4\n",
       "city_18     4\n",
       "city_166    4\n",
       "city_8      4\n",
       "city_129    3\n",
       "city_111    3\n",
       "city_121    3\n",
       "city_140    1\n",
       "city_171    1\n",
       "Name: city, dtype: int64"
      ]
     },
     "execution_count": 9,
     "metadata": {},
     "output_type": "execute_result"
    }
   ],
   "source": [
    "df.city.value_counts(dropna=False).tail(20)"
   ]
  },
  {
   "cell_type": "code",
   "execution_count": 10,
   "id": "4176e156",
   "metadata": {},
   "outputs": [
    {
     "data": {
      "text/plain": [
       "Other       6460\n",
       "city_103    4355\n",
       "city_21     2702\n",
       "city_16     1533\n",
       "city_114    1336\n",
       "city_160     845\n",
       "city_136     586\n",
       "city_67      431\n",
       "city_75      305\n",
       "city_102     304\n",
       "city_104     301\n",
       "Name: city, dtype: int64"
      ]
     },
     "execution_count": 10,
     "metadata": {},
     "output_type": "execute_result"
    }
   ],
   "source": [
    "city_counts = df['city'].value_counts()\n",
    "cities_to_replace = city_counts[city_counts<300].index\n",
    "cities_to_replace\n",
    "\n",
    "for city in cities_to_replace:\n",
    "    df['city'] = df['city'].replace(city, 'Other')\n",
    "\n",
    "df['city'].value_counts()"
   ]
  },
  {
   "cell_type": "markdown",
   "id": "c0a59ed4",
   "metadata": {},
   "source": [
    "## 2. `city_development_index`\n",
    "- city development index, already scaled\n",
    "- confirmed: each city does have a single `city_development_index`, but different cities might share the same value."
   ]
  },
  {
   "cell_type": "code",
   "execution_count": 11,
   "id": "447268d1",
   "metadata": {},
   "outputs": [
    {
     "data": {
      "text/plain": [
       "93"
      ]
     },
     "execution_count": 11,
     "metadata": {},
     "output_type": "execute_result"
    }
   ],
   "source": [
    "df['city_development_index'].nunique()"
   ]
  },
  {
   "cell_type": "code",
   "execution_count": 12,
   "id": "ae12dc25",
   "metadata": {},
   "outputs": [
    {
     "data": {
      "image/png": "[encoded data removed]",
      "text/plain": [
       "<Figure size 640x480 with 1 Axes>"
      ]
     },
     "metadata": {},
     "output_type": "display_data"
    }
   ],
   "source": [
    "df['city_development_index'].hist(bins=10);"
   ]
  },
  {
   "cell_type": "code",
   "execution_count": 13,
   "id": "25c73ac3",
   "metadata": {},
   "outputs": [
    {
     "data": {
      "text/plain": [
       "False"
      ]
     },
     "execution_count": 13,
     "metadata": {},
     "output_type": "execute_result"
    }
   ],
   "source": [
    "all(df.groupby('city')['city_development_index'].nunique() == 1)"
   ]
  },
  {
   "cell_type": "markdown",
   "id": "7286af1c",
   "metadata": {},
   "source": [
    "## 3. `gender`\n",
    "Missing values need to be dealt with. It's not immediately clear how to go about it: do we impute with the most frequent value to simply group it with `Other`? Since there are 10 males to 1 female in this training problem, we can approach this problem with filling in the missing values with `Male`."
   ]
  },
  {
   "cell_type": "code",
   "execution_count": 14,
   "id": "ce607df1",
   "metadata": {},
   "outputs": [
    {
     "data": {
      "text/plain": [
       "Male      13221\n",
       "NaN        4508\n",
       "Female     1238\n",
       "Other       191\n",
       "Name: gender, dtype: int64"
      ]
     },
     "execution_count": 14,
     "metadata": {},
     "output_type": "execute_result"
    }
   ],
   "source": [
    "df['gender'].value_counts(dropna=False)"
   ]
  },
  {
   "cell_type": "code",
   "execution_count": 15,
   "id": "ea2fe086",
   "metadata": {},
   "outputs": [
    {
     "data": {
      "text/plain": [
       "Male      17729\n",
       "Female     1238\n",
       "Other       191\n",
       "Name: gender, dtype: int64"
      ]
     },
     "execution_count": 15,
     "metadata": {},
     "output_type": "execute_result"
    }
   ],
   "source": [
    "df['gender'].fillna('Male', inplace=True)\n",
    "df['gender'].value_counts(dropna=False)"
   ]
  },
  {
   "cell_type": "markdown",
   "id": "cb4d2fb1",
   "metadata": {},
   "source": [
    "## 4. `relevent_experience`\n",
    "This is one of the few categorical features without missing values."
   ]
  },
  {
   "cell_type": "code",
   "execution_count": 16,
   "id": "47188a6e",
   "metadata": {},
   "outputs": [
    {
     "data": {
      "text/plain": [
       "Has relevent experience    13792\n",
       "No relevent experience      5366\n",
       "Name: relevent_experience, dtype: int64"
      ]
     },
     "execution_count": 16,
     "metadata": {},
     "output_type": "execute_result"
    }
   ],
   "source": [
    "df['relevent_experience'].value_counts(dropna=False)"
   ]
  },
  {
   "cell_type": "code",
   "execution_count": 17,
   "id": "5e1bad3c",
   "metadata": {},
   "outputs": [
    {
     "data": {
      "text/plain": [
       "y    13792\n",
       "n     5366\n",
       "Name: relevent_experience, dtype: int64"
      ]
     },
     "execution_count": 17,
     "metadata": {},
     "output_type": "execute_result"
    }
   ],
   "source": [
    "df['relevent_experience'].replace('Has relevent experience', 'y', inplace=True)\n",
    "df['relevent_experience'].replace('No relevent experience', 'n', inplace=True)\n",
    "df['relevent_experience'].value_counts(dropna=False)"
   ]
  },
  {
   "cell_type": "markdown",
   "id": "85f732a0",
   "metadata": {},
   "source": [
    "## 5. `enrolled_university`\n",
    "Missing values need to be dealt with: impute with the most frequent value"
   ]
  },
  {
   "cell_type": "code",
   "execution_count": 18,
   "id": "76e54f98",
   "metadata": {},
   "outputs": [
    {
     "data": {
      "text/plain": [
       "no_enrollment       13817\n",
       "Full time course     3757\n",
       "Part time course     1198\n",
       "NaN                   386\n",
       "Name: enrolled_university, dtype: int64"
      ]
     },
     "execution_count": 18,
     "metadata": {},
     "output_type": "execute_result"
    }
   ],
   "source": [
    "df['enrolled_university'].value_counts(dropna=False)"
   ]
  },
  {
   "cell_type": "code",
   "execution_count": 19,
   "id": "20917a0c",
   "metadata": {},
   "outputs": [
    {
     "data": {
      "text/plain": [
       "none         14203\n",
       "full_time     3757\n",
       "part_time     1198\n",
       "Name: enrolled_university, dtype: int64"
      ]
     },
     "execution_count": 19,
     "metadata": {},
     "output_type": "execute_result"
    }
   ],
   "source": [
    "df['enrolled_university'].fillna('no_enrollment', inplace=True)\n",
    "df['enrolled_university'].replace('no_enrollment', 'none', inplace=True)\n",
    "df['enrolled_university'].replace('Full time course', 'full_time', inplace=True)\n",
    "df['enrolled_university'].replace('Part time course', 'part_time', inplace=True)\n",
    "df['enrolled_university'].value_counts(dropna=False)"
   ]
  },
  {
   "cell_type": "markdown",
   "id": "c4c91059",
   "metadata": {},
   "source": [
    "## 6. `education_level`\n",
    "Missing values need to be dealt with: impute with the most frequent value"
   ]
  },
  {
   "cell_type": "code",
   "execution_count": 20,
   "id": "35f3fd47",
   "metadata": {},
   "outputs": [
    {
     "data": {
      "text/plain": [
       "Graduate          11598\n",
       "Masters            4361\n",
       "High School        2017\n",
       "NaN                 460\n",
       "Phd                 414\n",
       "Primary School      308\n",
       "Name: education_level, dtype: int64"
      ]
     },
     "execution_count": 20,
     "metadata": {},
     "output_type": "execute_result"
    }
   ],
   "source": [
    "df['education_level'].value_counts(dropna=False)"
   ]
  },
  {
   "cell_type": "code",
   "execution_count": 21,
   "id": "8e53f6bc",
   "metadata": {},
   "outputs": [],
   "source": [
    "df['education_level'].fillna('Graduate', inplace=True)"
   ]
  },
  {
   "cell_type": "code",
   "execution_count": 22,
   "id": "c1a0efa1",
   "metadata": {},
   "outputs": [
    {
     "data": {
      "text/plain": [
       "Graduate          12058\n",
       "Masters            4361\n",
       "High School        2017\n",
       "Phd                 414\n",
       "Primary School      308\n",
       "Name: education_level, dtype: int64"
      ]
     },
     "execution_count": 22,
     "metadata": {},
     "output_type": "execute_result"
    }
   ],
   "source": [
    "df['education_level'].value_counts(dropna=False)"
   ]
  },
  {
   "cell_type": "markdown",
   "id": "1861739b",
   "metadata": {},
   "source": [
    "## 7. `major_discipline`\n",
    "Missing values need to be dealt with."
   ]
  },
  {
   "cell_type": "code",
   "execution_count": 23,
   "id": "bcffda05",
   "metadata": {},
   "outputs": [
    {
     "data": {
      "text/plain": [
       "STEM               14492\n",
       "NaN                 2813\n",
       "Humanities           669\n",
       "Other                381\n",
       "Business Degree      327\n",
       "Arts                 253\n",
       "No Major             223\n",
       "Name: major_discipline, dtype: int64"
      ]
     },
     "execution_count": 23,
     "metadata": {},
     "output_type": "execute_result"
    }
   ],
   "source": [
    "df['major_discipline'].value_counts(dropna=False)"
   ]
  },
  {
   "cell_type": "code",
   "execution_count": 24,
   "id": "6745874b",
   "metadata": {},
   "outputs": [
    {
     "data": {
      "text/plain": [
       "STEM               17305\n",
       "Humanities           669\n",
       "Other                381\n",
       "Business Degree      327\n",
       "Arts                 253\n",
       "No Major             223\n",
       "Name: major_discipline, dtype: int64"
      ]
     },
     "execution_count": 24,
     "metadata": {},
     "output_type": "execute_result"
    }
   ],
   "source": [
    "df['major_discipline'].fillna('STEM', inplace=True)\n",
    "df['major_discipline'].value_counts(dropna=False)"
   ]
  },
  {
   "cell_type": "markdown",
   "id": "515777f2",
   "metadata": {},
   "source": [
    "## 8. `experience`\n",
    "- Candidate total experience in years\n",
    "- Missing values need to be dealt with."
   ]
  },
  {
   "cell_type": "code",
   "execution_count": 25,
   "id": "7e8f4851",
   "metadata": {},
   "outputs": [
    {
     "data": {
      "text/plain": [
       ">20    3286\n",
       "5      1430\n",
       "4      1403\n",
       "3      1354\n",
       "6      1216\n",
       "2      1127\n",
       "7      1028\n",
       "10      985\n",
       "9       980\n",
       "8       802\n",
       "15      686\n",
       "11      664\n",
       "14      586\n",
       "1       549\n",
       "<1      522\n",
       "16      508\n",
       "12      494\n",
       "13      399\n",
       "17      342\n",
       "19      304\n",
       "18      280\n",
       "20      148\n",
       "NaN      65\n",
       "Name: experience, dtype: int64"
      ]
     },
     "execution_count": 25,
     "metadata": {},
     "output_type": "execute_result"
    }
   ],
   "source": [
    "df['experience'].value_counts(dropna=False)"
   ]
  },
  {
   "cell_type": "code",
   "execution_count": 26,
   "id": "520bc6f6",
   "metadata": {},
   "outputs": [
    {
     "data": {
      "text/plain": [
       "23"
      ]
     },
     "execution_count": 26,
     "metadata": {},
     "output_type": "execute_result"
    }
   ],
   "source": [
    "len(df['experience'].value_counts(dropna=False))"
   ]
  },
  {
   "cell_type": "code",
   "execution_count": 27,
   "id": "e751dea8",
   "metadata": {},
   "outputs": [
    {
     "data": {
      "text/plain": [
       ">20    3351\n",
       "5      1430\n",
       "4      1403\n",
       "3      1354\n",
       "6      1216\n",
       "2      1127\n",
       "7      1028\n",
       "10      985\n",
       "9       980\n",
       "8       802\n",
       "15      686\n",
       "11      664\n",
       "14      586\n",
       "1       549\n",
       "<1      522\n",
       "16      508\n",
       "12      494\n",
       "13      399\n",
       "17      342\n",
       "19      304\n",
       "18      280\n",
       "20      148\n",
       "Name: experience, dtype: int64"
      ]
     },
     "execution_count": 27,
     "metadata": {},
     "output_type": "execute_result"
    }
   ],
   "source": [
    "df['experience'].fillna('>20', inplace=True)\n",
    "df['experience'].value_counts(dropna=False)"
   ]
  },
  {
   "cell_type": "code",
   "execution_count": 28,
   "id": "cd0ec2b0",
   "metadata": {},
   "outputs": [
    {
     "data": {
      "text/plain": [
       ">=10    8747\n",
       "<10     5456\n",
       "<5      2757\n",
       "<3      2198\n",
       "Name: experience, dtype: int64"
      ]
     },
     "execution_count": 28,
     "metadata": {},
     "output_type": "execute_result"
    }
   ],
   "source": [
    "for exp in ['<1', '1', '2']:\n",
    "    df['experience'].replace(exp, '<3', inplace=True)\n",
    "\n",
    "for exp in ['3', '4']:\n",
    "    df['experience'].replace(exp, '<5', inplace=True)\n",
    "    \n",
    "for exp in ['5', '6', '7', '8', '9']:\n",
    "    df['experience'].replace(exp, '<10', inplace=True)\n",
    "\n",
    "for exp in ['10', '11', '12', '13', '14', '15', '16', '17', '18', '19', '20', '>20']:\n",
    "    df['experience'].replace(exp, '>=10', inplace=True)\n",
    "\n",
    "df['experience'].value_counts(dropna=False)"
   ]
  },
  {
   "cell_type": "markdown",
   "id": "ee59e1a1",
   "metadata": {},
   "source": [
    "## 9. `company_size`\n",
    "- Number of employees in current employer's company\n",
    "- Missing values need to be dealt with."
   ]
  },
  {
   "cell_type": "code",
   "execution_count": 29,
   "id": "09ee123a",
   "metadata": {},
   "outputs": [
    {
     "data": {
      "text/plain": [
       "NaN          5938\n",
       "50-99        3083\n",
       "100-500      2571\n",
       "10000+       2019\n",
       "10/49        1471\n",
       "1000-4999    1328\n",
       "<10          1308\n",
       "500-999       877\n",
       "5000-9999     563\n",
       "Name: company_size, dtype: int64"
      ]
     },
     "execution_count": 29,
     "metadata": {},
     "output_type": "execute_result"
    }
   ],
   "source": [
    "df['company_size'].value_counts(dropna=False)"
   ]
  },
  {
   "cell_type": "code",
   "execution_count": 30,
   "id": "6ddc9b52",
   "metadata": {},
   "outputs": [
    {
     "data": {
      "text/plain": [
       "50-99        9021\n",
       "100-500      2571\n",
       "10000+       2019\n",
       "10-49        1471\n",
       "1000-4999    1328\n",
       "<10          1308\n",
       "500-999       877\n",
       "5000-9999     563\n",
       "Name: company_size, dtype: int64"
      ]
     },
     "execution_count": 30,
     "metadata": {},
     "output_type": "execute_result"
    }
   ],
   "source": [
    "df['company_size'].replace('10/49', '10-49', inplace=True)\n",
    "df['company_size'].fillna('50-99', inplace=True)\n",
    "df['company_size'].value_counts(dropna=False)"
   ]
  },
  {
   "cell_type": "markdown",
   "id": "aac2bbe8",
   "metadata": {},
   "source": [
    "## 10. `company_type`\n",
    "Missing values need to be dealt with."
   ]
  },
  {
   "cell_type": "code",
   "execution_count": 31,
   "id": "2424b9fa",
   "metadata": {},
   "outputs": [
    {
     "data": {
      "text/plain": [
       "Pvt Ltd                9817\n",
       "NaN                    6140\n",
       "Funded Startup         1001\n",
       "Public Sector           955\n",
       "Early Stage Startup     603\n",
       "NGO                     521\n",
       "Other                   121\n",
       "Name: company_type, dtype: int64"
      ]
     },
     "execution_count": 31,
     "metadata": {},
     "output_type": "execute_result"
    }
   ],
   "source": [
    "df['company_type'].value_counts(dropna=False)"
   ]
  },
  {
   "cell_type": "code",
   "execution_count": 32,
   "id": "59a0c152",
   "metadata": {},
   "outputs": [
    {
     "data": {
      "text/plain": [
       "Pvt Ltd                15957\n",
       "Funded Startup          1001\n",
       "Public Sector            955\n",
       "Early Stage Startup      603\n",
       "NGO                      521\n",
       "Other                    121\n",
       "Name: company_type, dtype: int64"
      ]
     },
     "execution_count": 32,
     "metadata": {},
     "output_type": "execute_result"
    }
   ],
   "source": [
    "df['company_type'].fillna('Pvt Ltd', inplace=True)\n",
    "df['company_type'].value_counts(dropna=False)"
   ]
  },
  {
   "cell_type": "markdown",
   "id": "2aea7e4d",
   "metadata": {},
   "source": [
    "## 11. `last_new_job`\n",
    "- difference in years between previous and current job\n",
    "- Missing values need to be dealt with."
   ]
  },
  {
   "cell_type": "code",
   "execution_count": 33,
   "id": "16ef316f",
   "metadata": {},
   "outputs": [
    {
     "data": {
      "text/plain": [
       "1        8040\n",
       ">4       3290\n",
       "2        2900\n",
       "never    2452\n",
       "4        1029\n",
       "3        1024\n",
       "NaN       423\n",
       "Name: last_new_job, dtype: int64"
      ]
     },
     "execution_count": 33,
     "metadata": {},
     "output_type": "execute_result"
    }
   ],
   "source": [
    "df['last_new_job'].value_counts(dropna=False)"
   ]
  },
  {
   "cell_type": "code",
   "execution_count": 34,
   "id": "becae0ac",
   "metadata": {},
   "outputs": [
    {
     "data": {
      "text/plain": [
       "1        8463\n",
       ">4       3290\n",
       "2        2900\n",
       "never    2452\n",
       "4        1029\n",
       "3        1024\n",
       "Name: last_new_job, dtype: int64"
      ]
     },
     "execution_count": 34,
     "metadata": {},
     "output_type": "execute_result"
    }
   ],
   "source": [
    "df['last_new_job'].fillna('1', inplace=True)\n",
    "df['last_new_job'].value_counts(dropna=False)"
   ]
  },
  {
   "cell_type": "markdown",
   "id": "2d27d79e",
   "metadata": {},
   "source": [
    "## 12. `training_hours`\n",
    "Need to be scaled"
   ]
  },
  {
   "cell_type": "code",
   "execution_count": 35,
   "id": "3f936118",
   "metadata": {},
   "outputs": [
    {
     "data": {
      "text/plain": [
       "<Axes: >"
      ]
     },
     "execution_count": 35,
     "metadata": {},
     "output_type": "execute_result"
    },
    {
     "data": {
      "image/png": "[encoded data removed]",
      "text/plain": [
       "<Figure size 640x480 with 1 Axes>"
      ]
     },
     "metadata": {},
     "output_type": "display_data"
    }
   ],
   "source": [
    "df['training_hours'].hist(bins=50)"
   ]
  },
  {
   "cell_type": "markdown",
   "id": "53b23d8d",
   "metadata": {},
   "source": [
    "## 13. `target`\n",
    "`target` is imbalanced, so it needs to be addressed by ensuring `stratify=y` or resampling."
   ]
  },
  {
   "cell_type": "code",
   "execution_count": 36,
   "id": "09532833",
   "metadata": {},
   "outputs": [
    {
     "data": {
      "text/plain": [
       "0.0    14381\n",
       "1.0     4777\n",
       "Name: target, dtype: int64"
      ]
     },
     "execution_count": 36,
     "metadata": {},
     "output_type": "execute_result"
    }
   ],
   "source": [
    "df['target'].value_counts(dropna=False)"
   ]
  },
  {
   "cell_type": "code",
   "execution_count": 37,
   "id": "7c13d146",
   "metadata": {},
   "outputs": [
    {
     "name": "stdout",
     "output_type": "stream",
     "text": [
      "<class 'pandas.core.frame.DataFrame'>\n",
      "RangeIndex: 19158 entries, 0 to 19157\n",
      "Data columns (total 13 columns):\n",
      " #   Column                  Non-Null Count  Dtype  \n",
      "---  ------                  --------------  -----  \n",
      " 0   city                    19158 non-null  object \n",
      " 1   city_development_index  19158 non-null  float64\n",
      " 2   gender                  19158 non-null  object \n",
      " 3   relevent_experience     19158 non-null  object \n",
      " 4   enrolled_university     19158 non-null  object \n",
      " 5   education_level         19158 non-null  object \n",
      " 6   major_discipline        19158 non-null  object \n",
      " 7   experience              19158 non-null  object \n",
      " 8   company_size            19158 non-null  object \n",
      " 9   company_type            19158 non-null  object \n",
      " 10  last_new_job            19158 non-null  object \n",
      " 11  training_hours          19158 non-null  int64  \n",
      " 12  target                  19158 non-null  float64\n",
      "dtypes: float64(2), int64(1), object(10)\n",
      "memory usage: 1.9+ MB\n"
     ]
    }
   ],
   "source": [
    "df.info()"
   ]
  },
  {
   "cell_type": "code",
   "execution_count": 38,
   "id": "198062cc",
   "metadata": {},
   "outputs": [
    {
     "data": {
      "text/html": [
       "<div>\n",
       "<style scoped>\n",
       "    .dataframe tbody tr th:only-of-type {\n",
       "        vertical-align: middle;\n",
       "    }\n",
       "\n",
       "    .dataframe tbody tr th {\n",
       "        vertical-align: top;\n",
       "    }\n",
       "\n",
       "    .dataframe thead th {\n",
       "        text-align: right;\n",
       "    }\n",
       "</style>\n",
       "<table border=\"1\" class=\"dataframe\">\n",
       "  <thead>\n",
       "    <tr style=\"text-align: right;\">\n",
       "      <th></th>\n",
       "      <th>city_development_index</th>\n",
       "      <th>training_hours</th>\n",
       "      <th>target</th>\n",
       "      <th>city_Other</th>\n",
       "      <th>city_city_102</th>\n",
       "      <th>city_city_103</th>\n",
       "      <th>city_city_104</th>\n",
       "      <th>city_city_114</th>\n",
       "      <th>city_city_136</th>\n",
       "      <th>city_city_16</th>\n",
       "      <th>...</th>\n",
       "      <th>company_type_NGO</th>\n",
       "      <th>company_type_Other</th>\n",
       "      <th>company_type_Public Sector</th>\n",
       "      <th>company_type_Pvt Ltd</th>\n",
       "      <th>last_new_job_1</th>\n",
       "      <th>last_new_job_2</th>\n",
       "      <th>last_new_job_3</th>\n",
       "      <th>last_new_job_4</th>\n",
       "      <th>last_new_job_&gt;4</th>\n",
       "      <th>last_new_job_never</th>\n",
       "    </tr>\n",
       "  </thead>\n",
       "  <tbody>\n",
       "    <tr>\n",
       "      <th>0</th>\n",
       "      <td>0.920</td>\n",
       "      <td>36</td>\n",
       "      <td>1.0</td>\n",
       "      <td>0</td>\n",
       "      <td>0</td>\n",
       "      <td>1</td>\n",
       "      <td>0</td>\n",
       "      <td>0</td>\n",
       "      <td>0</td>\n",
       "      <td>0</td>\n",
       "      <td>...</td>\n",
       "      <td>0</td>\n",
       "      <td>0</td>\n",
       "      <td>0</td>\n",
       "      <td>1</td>\n",
       "      <td>1</td>\n",
       "      <td>0</td>\n",
       "      <td>0</td>\n",
       "      <td>0</td>\n",
       "      <td>0</td>\n",
       "      <td>0</td>\n",
       "    </tr>\n",
       "    <tr>\n",
       "      <th>1</th>\n",
       "      <td>0.776</td>\n",
       "      <td>47</td>\n",
       "      <td>0.0</td>\n",
       "      <td>1</td>\n",
       "      <td>0</td>\n",
       "      <td>0</td>\n",
       "      <td>0</td>\n",
       "      <td>0</td>\n",
       "      <td>0</td>\n",
       "      <td>0</td>\n",
       "      <td>...</td>\n",
       "      <td>0</td>\n",
       "      <td>0</td>\n",
       "      <td>0</td>\n",
       "      <td>1</td>\n",
       "      <td>0</td>\n",
       "      <td>0</td>\n",
       "      <td>0</td>\n",
       "      <td>0</td>\n",
       "      <td>1</td>\n",
       "      <td>0</td>\n",
       "    </tr>\n",
       "    <tr>\n",
       "      <th>2</th>\n",
       "      <td>0.624</td>\n",
       "      <td>83</td>\n",
       "      <td>0.0</td>\n",
       "      <td>0</td>\n",
       "      <td>0</td>\n",
       "      <td>0</td>\n",
       "      <td>0</td>\n",
       "      <td>0</td>\n",
       "      <td>0</td>\n",
       "      <td>0</td>\n",
       "      <td>...</td>\n",
       "      <td>0</td>\n",
       "      <td>0</td>\n",
       "      <td>0</td>\n",
       "      <td>1</td>\n",
       "      <td>0</td>\n",
       "      <td>0</td>\n",
       "      <td>0</td>\n",
       "      <td>0</td>\n",
       "      <td>0</td>\n",
       "      <td>1</td>\n",
       "    </tr>\n",
       "    <tr>\n",
       "      <th>3</th>\n",
       "      <td>0.789</td>\n",
       "      <td>52</td>\n",
       "      <td>1.0</td>\n",
       "      <td>1</td>\n",
       "      <td>0</td>\n",
       "      <td>0</td>\n",
       "      <td>0</td>\n",
       "      <td>0</td>\n",
       "      <td>0</td>\n",
       "      <td>0</td>\n",
       "      <td>...</td>\n",
       "      <td>0</td>\n",
       "      <td>0</td>\n",
       "      <td>0</td>\n",
       "      <td>1</td>\n",
       "      <td>0</td>\n",
       "      <td>0</td>\n",
       "      <td>0</td>\n",
       "      <td>0</td>\n",
       "      <td>0</td>\n",
       "      <td>1</td>\n",
       "    </tr>\n",
       "    <tr>\n",
       "      <th>4</th>\n",
       "      <td>0.767</td>\n",
       "      <td>8</td>\n",
       "      <td>0.0</td>\n",
       "      <td>1</td>\n",
       "      <td>0</td>\n",
       "      <td>0</td>\n",
       "      <td>0</td>\n",
       "      <td>0</td>\n",
       "      <td>0</td>\n",
       "      <td>0</td>\n",
       "      <td>...</td>\n",
       "      <td>0</td>\n",
       "      <td>0</td>\n",
       "      <td>0</td>\n",
       "      <td>0</td>\n",
       "      <td>0</td>\n",
       "      <td>0</td>\n",
       "      <td>0</td>\n",
       "      <td>1</td>\n",
       "      <td>0</td>\n",
       "      <td>0</td>\n",
       "    </tr>\n",
       "  </tbody>\n",
       "</table>\n",
       "<p>5 rows × 57 columns</p>\n",
       "</div>"
      ],
      "text/plain": [
       "   city_development_index  training_hours  target  city_Other  city_city_102  \\\n",
       "0                   0.920              36     1.0           0              0   \n",
       "1                   0.776              47     0.0           1              0   \n",
       "2                   0.624              83     0.0           0              0   \n",
       "3                   0.789              52     1.0           1              0   \n",
       "4                   0.767               8     0.0           1              0   \n",
       "\n",
       "   city_city_103  city_city_104  city_city_114  city_city_136  city_city_16  \\\n",
       "0              1              0              0              0             0   \n",
       "1              0              0              0              0             0   \n",
       "2              0              0              0              0             0   \n",
       "3              0              0              0              0             0   \n",
       "4              0              0              0              0             0   \n",
       "\n",
       "   ...  company_type_NGO  company_type_Other  company_type_Public Sector  \\\n",
       "0  ...                 0                   0                           0   \n",
       "1  ...                 0                   0                           0   \n",
       "2  ...                 0                   0                           0   \n",
       "3  ...                 0                   0                           0   \n",
       "4  ...                 0                   0                           0   \n",
       "\n",
       "   company_type_Pvt Ltd  last_new_job_1  last_new_job_2  last_new_job_3  \\\n",
       "0                     1               1               0               0   \n",
       "1                     1               0               0               0   \n",
       "2                     1               0               0               0   \n",
       "3                     1               0               0               0   \n",
       "4                     0               0               0               0   \n",
       "\n",
       "   last_new_job_4  last_new_job_>4  last_new_job_never  \n",
       "0               0                0                   0  \n",
       "1               0                1                   0  \n",
       "2               0                0                   1  \n",
       "3               0                0                   1  \n",
       "4               1                0                   0  \n",
       "\n",
       "[5 rows x 57 columns]"
      ]
     },
     "execution_count": 38,
     "metadata": {},
     "output_type": "execute_result"
    }
   ],
   "source": [
    "df = pd.get_dummies(df)\n",
    "df.head()"
   ]
  },
  {
   "cell_type": "code",
   "execution_count": 39,
   "id": "834385d1",
   "metadata": {},
   "outputs": [],
   "source": [
    "from sklearn.preprocessing import StandardScaler\n",
    "from imblearn.over_sampling import RandomOverSampler\n",
    "from sklearn.linear_model import LogisticRegression\n",
    "from sklearn.metrics import classification_report\n",
    "\n",
    "y = df.target\n",
    "X = df.drop(columns='target')\n",
    "\n",
    "from sklearn.model_selection import train_test_split\n",
    "X_train, X_test, y_train, y_test = train_test_split(X, y, random_state=42, stratify=y)\n",
    "\n",
    "# Instantiate a StandardScaler instance\n",
    "scaler = StandardScaler()\n",
    "\n",
    "# Fit the training data to the standard scaler\n",
    "X_scaler = scaler.fit(X_train)\n",
    "\n",
    "# Transform the training data using the scaler\n",
    "X_train_scaled = X_scaler.transform(X_train)\n",
    "\n",
    "# Transform the testing data using the scaler\n",
    "X_test_scaled = X_scaler.transform(X_test)"
   ]
  },
  {
   "cell_type": "code",
   "execution_count": 40,
   "id": "54c0a0ef",
   "metadata": {},
   "outputs": [],
   "source": [
    "# Due to imbalanced target values, instantiate the random oversampler model.\n",
    "ros = RandomOverSampler(random_state=42)\n",
    "X_res, y_res = ros.fit_resample(X_train_scaled, y_train)"
   ]
  },
  {
   "cell_type": "code",
   "execution_count": 41,
   "id": "7f123268",
   "metadata": {},
   "outputs": [
    {
     "name": "stdout",
     "output_type": "stream",
     "text": [
      "              precision    recall  f1-score   support\n",
      "\n",
      "         0.0       0.90      0.74      0.81      3596\n",
      "         1.0       0.49      0.74      0.59      1194\n",
      "\n",
      "    accuracy                           0.74      4790\n",
      "   macro avg       0.69      0.74      0.70      4790\n",
      "weighted avg       0.79      0.74      0.76      4790\n",
      "\n"
     ]
    }
   ],
   "source": [
    "# Logistic Regression\n",
    "classifier = LogisticRegression(solver='lbfgs', random_state=42)\n",
    "\n",
    "classifier.fit(X_res, y_res)\n",
    "\n",
    "predictions = classifier.predict(X_test_scaled)\n",
    "\n",
    "print(classification_report(y_test, predictions))"
   ]
  },
  {
   "cell_type": "code",
   "execution_count": null,
   "id": "5e01a1b7",
   "metadata": {},
   "outputs": [],
   "source": []
  }
 ],
 "metadata": {
  "kernelspec": {
   "display_name": "Python 3 (ipykernel)",
   "language": "python",
   "name": "python3"
  },
  "language_info": {
   "codemirror_mode": {
    "name": "ipython",
    "version": 3
   },
   "file_extension": ".py",
   "mimetype": "text/x-python",
   "name": "python",
   "nbconvert_exporter": "python",
   "pygments_lexer": "ipython3",
   "version": "3.10.9"
  }
 },
 "nbformat": 4,
 "nbformat_minor": 5
}
