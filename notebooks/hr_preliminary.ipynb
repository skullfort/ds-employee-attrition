{
 "cells": [
  {
   "cell_type": "markdown",
   "id": "ddf70d70",
   "metadata": {
    "id": "ddf70d70"
   },
   "source": [
    "# Overview\n",
    "This notebook documents the initial preprocessing of the dataset and training of a logistical regression model to establish a baseline for our analysis. Excluding the target, there are a total of 13 features. Most of them are categorical and missing values to varying degrees."
   ]
  },
  {
   "cell_type": "code",
   "execution_count": 1,
   "id": "c72db5f0",
   "metadata": {
    "id": "c72db5f0"
   },
   "outputs": [],
   "source": [
    "# Import dependencies.\n",
    "import pandas as pd\n",
    "from sklearn.preprocessing import StandardScaler\n",
    "from imblearn.over_sampling import RandomOverSampler\n",
    "from sklearn.model_selection import train_test_split\n",
    "from sklearn.linear_model import LogisticRegression\n",
    "from sklearn.metrics import accuracy_score, confusion_matrix, classification_report"
   ]
  },
  {
   "cell_type": "code",
   "execution_count": 2,
   "id": "95b48745",
   "metadata": {
    "colab": {
     "base_uri": "https://localhost:8080/"
    },
    "id": "95b48745",
    "outputId": "54701f39-76c9-4750-85f8-545a17e5ebc3"
   },
   "outputs": [
    {
     "name": "stdout",
     "output_type": "stream",
     "text": [
      "<class 'pandas.core.frame.DataFrame'>\n",
      "RangeIndex: 18014 entries, 0 to 18013\n",
      "Data columns (total 14 columns):\n",
      " #   Column                  Non-Null Count  Dtype  \n",
      "---  ------                  --------------  -----  \n",
      " 0   enrollee_id             18014 non-null  int64  \n",
      " 1   city                    18014 non-null  object \n",
      " 2   city_development_index  18014 non-null  float64\n",
      " 3   gender                  18014 non-null  object \n",
      " 4   relevent_experience     18014 non-null  object \n",
      " 5   enrolled_university     18014 non-null  object \n",
      " 6   education_level         18014 non-null  object \n",
      " 7   major_discipline        18014 non-null  object \n",
      " 8   experience              18014 non-null  object \n",
      " 9   company_size            18014 non-null  object \n",
      " 10  company_type            18014 non-null  object \n",
      " 11  last_new_job            18014 non-null  object \n",
      " 12  training_hours          18014 non-null  int64  \n",
      " 13  target                  18014 non-null  float64\n",
      "dtypes: float64(2), int64(2), object(10)\n",
      "memory usage: 1.9+ MB\n"
     ]
    }
   ],
   "source": [
    "# Read in the data.\n",
    "df = pd.read_csv('/content/hr_job_change.csv')\n",
    "df.info()"
   ]
  },
  {
   "cell_type": "code",
   "execution_count": 3,
   "id": "90e79a53",
   "metadata": {
    "colab": {
     "base_uri": "https://localhost:8080/"
    },
    "id": "90e79a53",
    "outputId": "1959c0a7-4fd1-482b-8b47-bbd8f6b3ef61"
   },
   "outputs": [
    {
     "data": {
      "text/plain": [
       "Series([], dtype: int64)"
      ]
     },
     "execution_count": 3,
     "metadata": {},
     "output_type": "execute_result"
    }
   ],
   "source": [
    "# Summarize the features with missing values.\n",
    "df.isnull().sum()[df.isnull().sum() != 0]"
   ]
  },
  {
   "cell_type": "markdown",
   "id": "15a34a7f",
   "metadata": {
    "id": "15a34a7f"
   },
   "source": [
    "# Features\n",
    "Data transformation, including filling in missing values, for each feature is looked at individually."
   ]
  },
  {
   "cell_type": "markdown",
   "id": "41e75a49",
   "metadata": {
    "id": "41e75a49"
   },
   "source": [
    "## 0. `enrollee_id`\n",
    "`enrollee_id` is used to identify those enrolled in the program. Since it is unique for each record and has no bearing on the target, it can be dropped."
   ]
  },
  {
   "cell_type": "code",
   "execution_count": 4,
   "id": "44c714e9",
   "metadata": {
    "colab": {
     "base_uri": "https://localhost:8080/"
    },
    "id": "44c714e9",
    "outputId": "fb57bebd-fbf3-4a04-c9c1-6703da54de07"
   },
   "outputs": [
    {
     "data": {
      "text/plain": [
       "18014"
      ]
     },
     "execution_count": 4,
     "metadata": {},
     "output_type": "execute_result"
    }
   ],
   "source": [
    "df.enrollee_id.nunique()"
   ]
  },
  {
   "cell_type": "code",
   "execution_count": 5,
   "id": "4659650c",
   "metadata": {
    "id": "4659650c"
   },
   "outputs": [],
   "source": [
    "df.drop(columns='enrollee_id', inplace=True)"
   ]
  },
  {
   "cell_type": "markdown",
   "id": "631af3be",
   "metadata": {
    "id": "631af3be"
   },
   "source": [
    "## 1. `city`\n",
    "`city` with low counts can be binned together to reduce the total number of categories."
   ]
  },
  {
   "cell_type": "code",
   "execution_count": 6,
   "id": "1d7f7db3",
   "metadata": {
    "colab": {
     "base_uri": "https://localhost:8080/"
    },
    "id": "1d7f7db3",
    "outputId": "52bfb5ea-0ae1-4757-9dae-2abb2e869bab"
   },
   "outputs": [
    {
     "data": {
      "text/plain": [
       "city_103    4194\n",
       "city_21     2454\n",
       "city_16     1471\n",
       "city_114    1254\n",
       "city_160     817\n",
       "city_136     542\n",
       "city_67      414\n",
       "city_75      295\n",
       "city_102     287\n",
       "city_104     287\n",
       "city_73      270\n",
       "city_100     259\n",
       "city_71      256\n",
       "city_11      231\n",
       "city_61      191\n",
       "city_28      183\n",
       "city_90      178\n",
       "city_23      173\n",
       "city_65      165\n",
       "city_36      154\n",
       "Name: city, dtype: int64"
      ]
     },
     "execution_count": 6,
     "metadata": {},
     "output_type": "execute_result"
    }
   ],
   "source": [
    "df.city.value_counts(dropna=False).head(20)"
   ]
  },
  {
   "cell_type": "code",
   "execution_count": 7,
   "id": "e2b09dd8",
   "metadata": {
    "colab": {
     "base_uri": "https://localhost:8080/"
    },
    "id": "e2b09dd8",
    "outputId": "5a21854d-5de9-41e5-e31e-8d3bac692141"
   },
   "outputs": [
    {
     "data": {
      "text/plain": [
       "Other       4983\n",
       "city_103    4194\n",
       "city_21     2454\n",
       "city_16     1471\n",
       "city_114    1254\n",
       "city_160     817\n",
       "city_136     542\n",
       "city_67      414\n",
       "city_75      295\n",
       "city_102     287\n",
       "city_104     287\n",
       "city_73      270\n",
       "city_100     259\n",
       "city_71      256\n",
       "city_11      231\n",
       "Name: city, dtype: int64"
      ]
     },
     "execution_count": 7,
     "metadata": {},
     "output_type": "execute_result"
    }
   ],
   "source": [
    "# Create a bin for cities with fewer than `threshold` instances.\n",
    "threshold = 200\n",
    "city_counts = df['city'].value_counts()\n",
    "cities_to_replace = city_counts[city_counts<threshold].index\n",
    "\n",
    "for city in cities_to_replace:\n",
    "    df['city'] = df['city'].replace(city, 'Other')\n",
    "\n",
    "df['city'].value_counts(dropna=False)"
   ]
  },
  {
   "cell_type": "markdown",
   "id": "f244ebda",
   "metadata": {
    "id": "f244ebda"
   },
   "source": [
    "## 2. `city_development_index`\n",
    "This is one of the two numerical features in the dataset, and it is already scaled. If the `city` values are kept, it can be confirmed that each city has a single `city_development_index`, but different cities might share the same value: `all(df.groupby('city')['city_development_index'].nunique() == 1)` returns `True`."
   ]
  },
  {
   "cell_type": "code",
   "execution_count": 8,
   "id": "3a78fa87",
   "metadata": {
    "colab": {
     "base_uri": "https://localhost:8080/",
     "height": 429
    },
    "id": "3a78fa87",
    "outputId": "4fa4c63d-3c5f-478c-c809-671eddccfa51"
   },
   "outputs": [
    {
     "data": {
      "image/png": "[encoded data removed]",
      "text/plain": [
       "<Figure size 640x480 with 1 Axes>"
      ]
     },
     "metadata": {},
     "output_type": "display_data"
    }
   ],
   "source": [
    "# Create a histogram for `city_development_index`.\n",
    "df['city_development_index'].hist(bins=15);"
   ]
  },
  {
   "cell_type": "markdown",
   "id": "b8f9b4f7",
   "metadata": {
    "id": "b8f9b4f7"
   },
   "source": [
    "## 3. `gender`\n",
    "Missing values need to be dealt with. It's not immediately clear how to go about it: do we impute with the most frequent value to simply group it with `Other`? Since there are 10 males to 1 female in this training problem, we can approach this problem with filling in the missing values with the most frequent value of the feature, i.e., `Male`. The same approach is used for the other categorical features unless otherwise stated."
   ]
  },
  {
   "cell_type": "code",
   "execution_count": 9,
   "id": "f0ac5336",
   "metadata": {
    "colab": {
     "base_uri": "https://localhost:8080/"
    },
    "id": "f0ac5336",
    "outputId": "3130cc3c-404b-4237-b068-3bd40bffbd76"
   },
   "outputs": [
    {
     "data": {
      "text/plain": [
       "Male      16634\n",
       "Female     1207\n",
       "Other       173\n",
       "Name: gender, dtype: int64"
      ]
     },
     "execution_count": 9,
     "metadata": {},
     "output_type": "execute_result"
    }
   ],
   "source": [
    "df['gender'].value_counts(dropna=False)"
   ]
  },
  {
   "cell_type": "code",
   "execution_count": 10,
   "id": "93160066",
   "metadata": {
    "colab": {
     "base_uri": "https://localhost:8080/"
    },
    "id": "93160066",
    "outputId": "ecf8a673-b98a-4c8a-9c91-ca430f5cef8e"
   },
   "outputs": [
    {
     "data": {
      "text/plain": [
       "Male      16634\n",
       "Female     1207\n",
       "Other       173\n",
       "Name: gender, dtype: int64"
      ]
     },
     "execution_count": 10,
     "metadata": {},
     "output_type": "execute_result"
    }
   ],
   "source": [
    "df['gender'].fillna('Male', inplace=True)\n",
    "df['gender'].value_counts(dropna=False)"
   ]
  },
  {
   "cell_type": "markdown",
   "id": "9d6d3406",
   "metadata": {
    "id": "9d6d3406"
   },
   "source": [
    "## 4. `relevent_experience`\n",
    "This is one of the few categorical features without missing values. Since it refers to the individual having or not having relevant experience, and it can be converted to `1`'s and `0`'s."
   ]
  },
  {
   "cell_type": "code",
   "execution_count": 11,
   "id": "17a4d0ff",
   "metadata": {
    "colab": {
     "base_uri": "https://localhost:8080/"
    },
    "id": "17a4d0ff",
    "outputId": "6776f653-bae3-42ca-b355-21b57d5585e8"
   },
   "outputs": [
    {
     "data": {
      "text/plain": [
       "Has relevent experience    13190\n",
       "No relevent experience      4824\n",
       "Name: relevent_experience, dtype: int64"
      ]
     },
     "execution_count": 11,
     "metadata": {},
     "output_type": "execute_result"
    }
   ],
   "source": [
    "df['relevent_experience'].value_counts(dropna=False)"
   ]
  },
  {
   "cell_type": "code",
   "execution_count": 12,
   "id": "2ab791c1",
   "metadata": {
    "colab": {
     "base_uri": "https://localhost:8080/"
    },
    "id": "2ab791c1",
    "outputId": "832b46a8-847d-470a-db09-25b2cb2ac1f1"
   },
   "outputs": [
    {
     "data": {
      "text/plain": [
       "1    13190\n",
       "0     4824\n",
       "Name: relevent_experience, dtype: int64"
      ]
     },
     "execution_count": 12,
     "metadata": {},
     "output_type": "execute_result"
    }
   ],
   "source": [
    "df['relevent_experience'].replace('Has relevent experience', 1, inplace=True)\n",
    "df['relevent_experience'].replace('No relevent experience', 0, inplace=True)\n",
    "df['relevent_experience'].value_counts(dropna=False)"
   ]
  },
  {
   "cell_type": "markdown",
   "id": "968b0aa9",
   "metadata": {
    "id": "968b0aa9"
   },
   "source": [
    "## 5. `enrolled_university`\n",
    "Missing values are imputed with the most frequent value."
   ]
  },
  {
   "cell_type": "code",
   "execution_count": 13,
   "id": "cd00386b",
   "metadata": {
    "colab": {
     "base_uri": "https://localhost:8080/"
    },
    "id": "cd00386b",
    "outputId": "31e3b533-1a6d-4df7-cd60-862c3cb16e1e"
   },
   "outputs": [
    {
     "data": {
      "text/plain": [
       "no_enrollment       13348\n",
       "Full time course     3517\n",
       "Part time course     1149\n",
       "Name: enrolled_university, dtype: int64"
      ]
     },
     "execution_count": 13,
     "metadata": {},
     "output_type": "execute_result"
    }
   ],
   "source": [
    "df['enrolled_university'].value_counts(dropna=False)"
   ]
  },
  {
   "cell_type": "code",
   "execution_count": 14,
   "id": "f05af174",
   "metadata": {
    "colab": {
     "base_uri": "https://localhost:8080/"
    },
    "id": "f05af174",
    "outputId": "d7fb3798-0603-450c-fc38-06af53213500"
   },
   "outputs": [
    {
     "data": {
      "text/plain": [
       "none         13348\n",
       "full-time     3517\n",
       "part-time     1149\n",
       "Name: enrolled_university, dtype: int64"
      ]
     },
     "execution_count": 14,
     "metadata": {},
     "output_type": "execute_result"
    }
   ],
   "source": [
    "df['enrolled_university'].fillna('no_enrollment', inplace=True)\n",
    "df['enrolled_university'].replace('no_enrollment', 'none', inplace=True)\n",
    "df['enrolled_university'].replace('Full time course', 'full-time', inplace=True)\n",
    "df['enrolled_university'].replace('Part time course', 'part-time', inplace=True)\n",
    "df['enrolled_university'].value_counts(dropna=False)"
   ]
  },
  {
   "cell_type": "markdown",
   "id": "ad8a9a04",
   "metadata": {
    "id": "ad8a9a04"
   },
   "source": [
    "## 6. `education_level`\n",
    "Missing values are imputed with the most frequent value."
   ]
  },
  {
   "cell_type": "code",
   "execution_count": 15,
   "id": "afbd902f",
   "metadata": {
    "colab": {
     "base_uri": "https://localhost:8080/"
    },
    "id": "afbd902f",
    "outputId": "22649ac9-3d46-41d6-d27c-9f9476141317"
   },
   "outputs": [
    {
     "data": {
      "text/plain": [
       "Graduate          11188\n",
       "Masters            4228\n",
       "High School        1908\n",
       "Phd                 399\n",
       "Primary School      291\n",
       "Name: education_level, dtype: int64"
      ]
     },
     "execution_count": 15,
     "metadata": {},
     "output_type": "execute_result"
    }
   ],
   "source": [
    "df['education_level'].value_counts(dropna=False)"
   ]
  },
  {
   "cell_type": "code",
   "execution_count": 16,
   "id": "608e665d",
   "metadata": {
    "colab": {
     "base_uri": "https://localhost:8080/"
    },
    "id": "608e665d",
    "outputId": "177ea3b3-2d02-4be3-bb80-e3795c3cda5a"
   },
   "outputs": [
    {
     "data": {
      "text/plain": [
       "Graduate          11188\n",
       "Masters            4228\n",
       "High School        1908\n",
       "Phd                 399\n",
       "Primary School      291\n",
       "Name: education_level, dtype: int64"
      ]
     },
     "execution_count": 16,
     "metadata": {},
     "output_type": "execute_result"
    }
   ],
   "source": [
    "df['education_level'].fillna('Graduate', inplace=True)\n",
    "df['education_level'].value_counts(dropna=False)"
   ]
  },
  {
   "cell_type": "markdown",
   "id": "2834c96f",
   "metadata": {
    "id": "2834c96f"
   },
   "source": [
    "## 7. `major_discipline`\n",
    "Missing values are imputed with the most frequent value. STEM stands for science, technology, engineering and mathematics."
   ]
  },
  {
   "cell_type": "code",
   "execution_count": 17,
   "id": "37117a2e",
   "metadata": {
    "colab": {
     "base_uri": "https://localhost:8080/"
    },
    "id": "37117a2e",
    "outputId": "7300b224-29a8-4ceb-91e4-25487e38c0c9"
   },
   "outputs": [
    {
     "data": {
      "text/plain": [
       "STEM               16214\n",
       "Humanities           654\n",
       "Other                364\n",
       "Business Degree      322\n",
       "Arts                 248\n",
       "No Major             212\n",
       "Name: major_discipline, dtype: int64"
      ]
     },
     "execution_count": 17,
     "metadata": {},
     "output_type": "execute_result"
    }
   ],
   "source": [
    "df['major_discipline'].value_counts(dropna=False)"
   ]
  },
  {
   "cell_type": "code",
   "execution_count": 18,
   "id": "6fa9d406",
   "metadata": {
    "colab": {
     "base_uri": "https://localhost:8080/"
    },
    "id": "6fa9d406",
    "outputId": "23e360db-9f7b-4ea4-aa10-c99de978ec59"
   },
   "outputs": [
    {
     "data": {
      "text/plain": [
       "STEM               16214\n",
       "Humanities           654\n",
       "Other                364\n",
       "Business Degree      322\n",
       "Arts                 248\n",
       "No Major             212\n",
       "Name: major_discipline, dtype: int64"
      ]
     },
     "execution_count": 18,
     "metadata": {},
     "output_type": "execute_result"
    }
   ],
   "source": [
    "df['major_discipline'].fillna('STEM', inplace=True)\n",
    "df['major_discipline'].value_counts(dropna=False)"
   ]
  },
  {
   "cell_type": "markdown",
   "id": "ff90f10c",
   "metadata": {
    "id": "ff90f10c"
   },
   "source": [
    "## 8. `experience`\n",
    "Missing values for candidate's total experience in years are imputed with the most frequent value."
   ]
  },
  {
   "cell_type": "code",
   "execution_count": 19,
   "id": "890d3785",
   "metadata": {
    "colab": {
     "base_uri": "https://localhost:8080/"
    },
    "id": "890d3785",
    "outputId": "f1240626-acbc-47fe-82bd-185c48cbd324"
   },
   "outputs": [
    {
     "data": {
      "text/plain": [
       ">20    3182\n",
       "5      1337\n",
       "4      1298\n",
       "3      1223\n",
       "6      1143\n",
       "2       997\n",
       "7       982\n",
       "10      946\n",
       "9       936\n",
       "8       768\n",
       "15      668\n",
       "11      649\n",
       "14      569\n",
       "16      488\n",
       "1       475\n",
       "12      475\n",
       "<1      451\n",
       "13      387\n",
       "17      331\n",
       "19      294\n",
       "18      273\n",
       "20      142\n",
       "Name: experience, dtype: int64"
      ]
     },
     "execution_count": 19,
     "metadata": {},
     "output_type": "execute_result"
    }
   ],
   "source": [
    "df['experience'].value_counts(dropna=False)"
   ]
  },
  {
   "cell_type": "code",
   "execution_count": 20,
   "id": "7920d5d2",
   "metadata": {
    "colab": {
     "base_uri": "https://localhost:8080/"
    },
    "id": "7920d5d2",
    "outputId": "664798c6-5b27-4ab8-d6fc-448d17ab6ba4"
   },
   "outputs": [
    {
     "data": {
      "text/plain": [
       ">20    3182\n",
       "5      1337\n",
       "4      1298\n",
       "3      1223\n",
       "6      1143\n",
       "2       997\n",
       "7       982\n",
       "10      946\n",
       "9       936\n",
       "8       768\n",
       "15      668\n",
       "11      649\n",
       "14      569\n",
       "16      488\n",
       "1       475\n",
       "12      475\n",
       "<1      451\n",
       "13      387\n",
       "17      331\n",
       "19      294\n",
       "18      273\n",
       "20      142\n",
       "Name: experience, dtype: int64"
      ]
     },
     "execution_count": 20,
     "metadata": {},
     "output_type": "execute_result"
    }
   ],
   "source": [
    "df['experience'].fillna('>20', inplace=True)\n",
    "df['experience'].value_counts(dropna=False)"
   ]
  },
  {
   "cell_type": "code",
   "execution_count": 21,
   "id": "9fea40d0",
   "metadata": {
    "colab": {
     "base_uri": "https://localhost:8080/"
    },
    "id": "9fea40d0",
    "outputId": "67f38376-cc85-4ed3-e816-6812c910f8d7"
   },
   "outputs": [
    {
     "data": {
      "text/plain": [
       ">=10    8404\n",
       "5-9     5166\n",
       "3-4     2521\n",
       "0-2     1923\n",
       "Name: experience, dtype: int64"
      ]
     },
     "execution_count": 21,
     "metadata": {},
     "output_type": "execute_result"
    }
   ],
   "source": [
    "# Create bins for boarder categorization of experience.\n",
    "for exp in ['<1', '1', '2']:\n",
    "    df['experience'].replace(exp, '0-2', inplace=True)\n",
    "for exp in ['3', '4']:\n",
    "    df['experience'].replace(exp, '3-4', inplace=True)\n",
    "for exp in ['5', '6', '7', '8', '9']:\n",
    "    df['experience'].replace(exp, '5-9', inplace=True)\n",
    "for exp in ['10', '11', '12', '13', '14', '15', '16', '17', '18', '19', '20', '>20']:\n",
    "    df['experience'].replace(exp, '>=10', inplace=True)\n",
    "\n",
    "df['experience'].value_counts(dropna=False)"
   ]
  },
  {
   "cell_type": "markdown",
   "id": "708629a2",
   "metadata": {
    "id": "708629a2"
   },
   "source": [
    "## 9. `company_size`\n",
    "Missing values for the company size are imputed with the most frequent value."
   ]
  },
  {
   "cell_type": "code",
   "execution_count": 22,
   "id": "07e75f27",
   "metadata": {
    "colab": {
     "base_uri": "https://localhost:8080/"
    },
    "id": "07e75f27",
    "outputId": "258e480c-3438-43a1-a617-def595070ed6"
   },
   "outputs": [
    {
     "data": {
      "text/plain": [
       "50-99        5387\n",
       "10000+       3270\n",
       "100-500      2868\n",
       "<10          2367\n",
       "10/49        1428\n",
       "1000-4999    1305\n",
       "500-999       847\n",
       "5000-9999     542\n",
       "Name: company_size, dtype: int64"
      ]
     },
     "execution_count": 22,
     "metadata": {},
     "output_type": "execute_result"
    }
   ],
   "source": [
    "df['company_size'].value_counts(dropna=False)"
   ]
  },
  {
   "cell_type": "code",
   "execution_count": 23,
   "id": "fe0e2555",
   "metadata": {
    "colab": {
     "base_uri": "https://localhost:8080/"
    },
    "id": "fe0e2555",
    "outputId": "9472668f-c46c-493e-f348-6cfc6e17d63f"
   },
   "outputs": [
    {
     "data": {
      "text/plain": [
       "50-99        5387\n",
       ">10000       3270\n",
       "100-500      2868\n",
       "<10          2367\n",
       "10-49        1428\n",
       "1000-4999    1305\n",
       "500-999       847\n",
       "5000-9999     542\n",
       "Name: company_size, dtype: int64"
      ]
     },
     "execution_count": 23,
     "metadata": {},
     "output_type": "execute_result"
    }
   ],
   "source": [
    "df['company_size'].replace('10/49', '10-49', inplace=True)\n",
    "df['company_size'].replace('10000+', '>10000', inplace=True)\n",
    "df['company_size'].fillna('50-99', inplace=True)\n",
    "df['company_size'].value_counts(dropna=False)"
   ]
  },
  {
   "cell_type": "markdown",
   "id": "470d61a9",
   "metadata": {
    "id": "470d61a9"
   },
   "source": [
    "## 10. `company_type`\n",
    "Missing values for the company type are imputed with the most frequent value."
   ]
  },
  {
   "cell_type": "code",
   "execution_count": 24,
   "id": "e61c54cb",
   "metadata": {
    "colab": {
     "base_uri": "https://localhost:8080/"
    },
    "id": "e61c54cb",
    "outputId": "69130b52-88f6-4636-800c-5b91ea2995a2"
   },
   "outputs": [
    {
     "data": {
      "text/plain": [
       "Pvt Ltd                14870\n",
       "Public Sector            992\n",
       "Funded Startup           975\n",
       "Early Stage Startup      562\n",
       "NGO                      501\n",
       "Other                    114\n",
       "Name: company_type, dtype: int64"
      ]
     },
     "execution_count": 24,
     "metadata": {},
     "output_type": "execute_result"
    }
   ],
   "source": [
    "df['company_type'].value_counts(dropna=False)"
   ]
  },
  {
   "cell_type": "code",
   "execution_count": 25,
   "id": "6a1e982c",
   "metadata": {
    "colab": {
     "base_uri": "https://localhost:8080/"
    },
    "id": "6a1e982c",
    "outputId": "3d8fb1db-5835-4a0d-9295-1e7f346b00c9"
   },
   "outputs": [
    {
     "data": {
      "text/plain": [
       "Pvt Ltd                14870\n",
       "Public Sector            992\n",
       "Funded Startup           975\n",
       "Early Stage Startup      562\n",
       "NGO                      501\n",
       "Other                    114\n",
       "Name: company_type, dtype: int64"
      ]
     },
     "execution_count": 25,
     "metadata": {},
     "output_type": "execute_result"
    }
   ],
   "source": [
    "df['company_type'].fillna('Pvt Ltd', inplace=True)\n",
    "df['company_type'].value_counts(dropna=False)"
   ]
  },
  {
   "cell_type": "markdown",
   "id": "b42b3992",
   "metadata": {
    "id": "b42b3992"
   },
   "source": [
    "## 11. `last_new_job`\n",
    "Missing values for difference in years between previous and current job are imputed with the most frequent value."
   ]
  },
  {
   "cell_type": "code",
   "execution_count": 26,
   "id": "093ef2f2",
   "metadata": {
    "colab": {
     "base_uri": "https://localhost:8080/"
    },
    "id": "093ef2f2",
    "outputId": "27d66db5-39cb-4019-cb5d-ebfc7df7a154"
   },
   "outputs": [
    {
     "data": {
      "text/plain": [
       "1        7789\n",
       ">4       3210\n",
       "2        2827\n",
       "never    2187\n",
       "4        1010\n",
       "3         991\n",
       "Name: last_new_job, dtype: int64"
      ]
     },
     "execution_count": 26,
     "metadata": {},
     "output_type": "execute_result"
    }
   ],
   "source": [
    "df['last_new_job'].value_counts(dropna=False)"
   ]
  },
  {
   "cell_type": "code",
   "execution_count": 27,
   "id": "23ac2adf",
   "metadata": {
    "colab": {
     "base_uri": "https://localhost:8080/"
    },
    "id": "23ac2adf",
    "outputId": "a76e124a-db7c-4db1-81ff-5488e4045deb"
   },
   "outputs": [
    {
     "data": {
      "text/plain": [
       "1        7789\n",
       ">4       3210\n",
       "2        2827\n",
       "never    2187\n",
       "4        1010\n",
       "3         991\n",
       "Name: last_new_job, dtype: int64"
      ]
     },
     "execution_count": 27,
     "metadata": {},
     "output_type": "execute_result"
    }
   ],
   "source": [
    "df['last_new_job'].fillna('1', inplace=True)\n",
    "df['last_new_job'].value_counts(dropna=False)"
   ]
  },
  {
   "cell_type": "markdown",
   "id": "c4f97bb8",
   "metadata": {
    "id": "c4f97bb8"
   },
   "source": [
    "## 12. `training_hours`"
   ]
  },
  {
   "cell_type": "code",
   "execution_count": 28,
   "id": "6b7c78b1",
   "metadata": {
    "colab": {
     "base_uri": "https://localhost:8080/",
     "height": 429
    },
    "id": "6b7c78b1",
    "outputId": "4bb650eb-b531-4c00-b248-52d5a422fd45"
   },
   "outputs": [
    {
     "data": {
      "image/png": "[encoded data removed]",
      "text/plain": [
       "<Figure size 640x480 with 1 Axes>"
      ]
     },
     "metadata": {},
     "output_type": "display_data"
    }
   ],
   "source": [
    "df['training_hours'].hist(bins=50);"
   ]
  },
  {
   "cell_type": "markdown",
   "id": "54202e5b",
   "metadata": {
    "id": "54202e5b"
   },
   "source": [
    "## 13. `target`\n",
    "`target` is imbalanced, so it needs to be addressed by ensuring `stratify=y` and/or resampling."
   ]
  },
  {
   "cell_type": "code",
   "execution_count": 29,
   "id": "0cf83bef",
   "metadata": {
    "colab": {
     "base_uri": "https://localhost:8080/"
    },
    "id": "0cf83bef",
    "outputId": "78c872c9-984d-468a-dca3-c2a3b97ec1b7"
   },
   "outputs": [
    {
     "data": {
      "text/plain": [
       "0.0    13593\n",
       "1.0     4421\n",
       "Name: target, dtype: int64"
      ]
     },
     "execution_count": 29,
     "metadata": {},
     "output_type": "execute_result"
    }
   ],
   "source": [
    "df['target'].value_counts(dropna=False)"
   ]
  },
  {
   "cell_type": "code",
   "execution_count": 30,
   "id": "d985f197",
   "metadata": {
    "colab": {
     "base_uri": "https://localhost:8080/"
    },
    "id": "d985f197",
    "outputId": "7681f21b-f502-42cd-9bcc-9653e7d93cff"
   },
   "outputs": [
    {
     "name": "stdout",
     "output_type": "stream",
     "text": [
      "<class 'pandas.core.frame.DataFrame'>\n",
      "RangeIndex: 18014 entries, 0 to 18013\n",
      "Data columns (total 13 columns):\n",
      " #   Column                  Non-Null Count  Dtype  \n",
      "---  ------                  --------------  -----  \n",
      " 0   city                    18014 non-null  object \n",
      " 1   city_development_index  18014 non-null  float64\n",
      " 2   gender                  18014 non-null  object \n",
      " 3   relevent_experience     18014 non-null  int64  \n",
      " 4   enrolled_university     18014 non-null  object \n",
      " 5   education_level         18014 non-null  object \n",
      " 6   major_discipline        18014 non-null  object \n",
      " 7   experience              18014 non-null  object \n",
      " 8   company_size            18014 non-null  object \n",
      " 9   company_type            18014 non-null  object \n",
      " 10  last_new_job            18014 non-null  object \n",
      " 11  training_hours          18014 non-null  int64  \n",
      " 12  target                  18014 non-null  float64\n",
      "dtypes: float64(2), int64(2), object(9)\n",
      "memory usage: 1.8+ MB\n"
     ]
    }
   ],
   "source": [
    "df.info()"
   ]
  },
  {
   "cell_type": "markdown",
   "id": "3ce7812f",
   "metadata": {
    "id": "3ce7812f"
   },
   "source": [
    "# Model Implementation"
   ]
  },
  {
   "cell_type": "code",
   "execution_count": 31,
   "id": "134439dc",
   "metadata": {
    "colab": {
     "base_uri": "https://localhost:8080/",
     "height": 309
    },
    "id": "134439dc",
    "outputId": "48dab48f-a35d-45bc-e04f-c6b90138f2ba"
   },
   "outputs": [
    {
     "data": {
      "text/html": [
       "\n",
       "  <div id=\"df-1c17e28f-1011-481f-9d37-1d5dec2d22bd\">\n",
       "    <div class=\"colab-df-container\">\n",
       "      <div>\n",
       "<style scoped>\n",
       "    .dataframe tbody tr th:only-of-type {\n",
       "        vertical-align: middle;\n",
       "    }\n",
       "\n",
       "    .dataframe tbody tr th {\n",
       "        vertical-align: top;\n",
       "    }\n",
       "\n",
       "    .dataframe thead th {\n",
       "        text-align: right;\n",
       "    }\n",
       "</style>\n",
       "<table border=\"1\" class=\"dataframe\">\n",
       "  <thead>\n",
       "    <tr style=\"text-align: right;\">\n",
       "      <th></th>\n",
       "      <th>city_development_index</th>\n",
       "      <th>relevent_experience</th>\n",
       "      <th>training_hours</th>\n",
       "      <th>target</th>\n",
       "      <th>city_Other</th>\n",
       "      <th>city_city_100</th>\n",
       "      <th>city_city_102</th>\n",
       "      <th>city_city_103</th>\n",
       "      <th>city_city_104</th>\n",
       "      <th>city_city_11</th>\n",
       "      <th>...</th>\n",
       "      <th>company_type_NGO</th>\n",
       "      <th>company_type_Other</th>\n",
       "      <th>company_type_Public Sector</th>\n",
       "      <th>company_type_Pvt Ltd</th>\n",
       "      <th>last_new_job_1</th>\n",
       "      <th>last_new_job_2</th>\n",
       "      <th>last_new_job_3</th>\n",
       "      <th>last_new_job_4</th>\n",
       "      <th>last_new_job_&gt;4</th>\n",
       "      <th>last_new_job_never</th>\n",
       "    </tr>\n",
       "  </thead>\n",
       "  <tbody>\n",
       "    <tr>\n",
       "      <th>0</th>\n",
       "      <td>0.920</td>\n",
       "      <td>1</td>\n",
       "      <td>36</td>\n",
       "      <td>1.0</td>\n",
       "      <td>0</td>\n",
       "      <td>0</td>\n",
       "      <td>0</td>\n",
       "      <td>1</td>\n",
       "      <td>0</td>\n",
       "      <td>0</td>\n",
       "      <td>...</td>\n",
       "      <td>0</td>\n",
       "      <td>0</td>\n",
       "      <td>0</td>\n",
       "      <td>1</td>\n",
       "      <td>1</td>\n",
       "      <td>0</td>\n",
       "      <td>0</td>\n",
       "      <td>0</td>\n",
       "      <td>0</td>\n",
       "      <td>0</td>\n",
       "    </tr>\n",
       "    <tr>\n",
       "      <th>1</th>\n",
       "      <td>0.776</td>\n",
       "      <td>0</td>\n",
       "      <td>47</td>\n",
       "      <td>0.0</td>\n",
       "      <td>1</td>\n",
       "      <td>0</td>\n",
       "      <td>0</td>\n",
       "      <td>0</td>\n",
       "      <td>0</td>\n",
       "      <td>0</td>\n",
       "      <td>...</td>\n",
       "      <td>0</td>\n",
       "      <td>0</td>\n",
       "      <td>0</td>\n",
       "      <td>1</td>\n",
       "      <td>0</td>\n",
       "      <td>0</td>\n",
       "      <td>0</td>\n",
       "      <td>0</td>\n",
       "      <td>1</td>\n",
       "      <td>0</td>\n",
       "    </tr>\n",
       "    <tr>\n",
       "      <th>2</th>\n",
       "      <td>0.624</td>\n",
       "      <td>0</td>\n",
       "      <td>83</td>\n",
       "      <td>0.0</td>\n",
       "      <td>0</td>\n",
       "      <td>0</td>\n",
       "      <td>0</td>\n",
       "      <td>0</td>\n",
       "      <td>0</td>\n",
       "      <td>0</td>\n",
       "      <td>...</td>\n",
       "      <td>0</td>\n",
       "      <td>0</td>\n",
       "      <td>0</td>\n",
       "      <td>1</td>\n",
       "      <td>0</td>\n",
       "      <td>0</td>\n",
       "      <td>0</td>\n",
       "      <td>0</td>\n",
       "      <td>0</td>\n",
       "      <td>1</td>\n",
       "    </tr>\n",
       "    <tr>\n",
       "      <th>3</th>\n",
       "      <td>0.767</td>\n",
       "      <td>1</td>\n",
       "      <td>8</td>\n",
       "      <td>0.0</td>\n",
       "      <td>1</td>\n",
       "      <td>0</td>\n",
       "      <td>0</td>\n",
       "      <td>0</td>\n",
       "      <td>0</td>\n",
       "      <td>0</td>\n",
       "      <td>...</td>\n",
       "      <td>0</td>\n",
       "      <td>0</td>\n",
       "      <td>0</td>\n",
       "      <td>0</td>\n",
       "      <td>0</td>\n",
       "      <td>0</td>\n",
       "      <td>0</td>\n",
       "      <td>1</td>\n",
       "      <td>0</td>\n",
       "      <td>0</td>\n",
       "    </tr>\n",
       "    <tr>\n",
       "      <th>4</th>\n",
       "      <td>0.764</td>\n",
       "      <td>1</td>\n",
       "      <td>24</td>\n",
       "      <td>1.0</td>\n",
       "      <td>1</td>\n",
       "      <td>0</td>\n",
       "      <td>0</td>\n",
       "      <td>0</td>\n",
       "      <td>0</td>\n",
       "      <td>0</td>\n",
       "      <td>...</td>\n",
       "      <td>0</td>\n",
       "      <td>0</td>\n",
       "      <td>0</td>\n",
       "      <td>1</td>\n",
       "      <td>1</td>\n",
       "      <td>0</td>\n",
       "      <td>0</td>\n",
       "      <td>0</td>\n",
       "      <td>0</td>\n",
       "      <td>0</td>\n",
       "    </tr>\n",
       "  </tbody>\n",
       "</table>\n",
       "<p>5 rows × 60 columns</p>\n",
       "</div>\n",
       "      <button class=\"colab-df-convert\" onclick=\"convertToInteractive('df-1c17e28f-1011-481f-9d37-1d5dec2d22bd')\"\n",
       "              title=\"Convert this dataframe to an interactive table.\"\n",
       "              style=\"display:none;\">\n",
       "        \n",
       "  <svg xmlns=\"http://www.w3.org/2000/svg\" height=\"24px\"viewBox=\"0 0 24 24\"\n",
       "       width=\"24px\">\n",
       "    <path d=\"M0 0h24v24H0V0z\" fill=\"none\"/>\n",
       "    <path d=\"M18.56 5.44l.94 2.06.94-2.06 2.06-.94-2.06-.94-.94-2.06-.94 2.06-2.06.94zm-11 1L8.5 8.5l.94-2.06 2.06-.94-2.06-.94L8.5 2.5l-.94 2.06-2.06.94zm10 10l.94 2.06.94-2.06 2.06-.94-2.06-.94-.94-2.06-.94 2.06-2.06.94z\"/><path d=\"M17.41 7.96l-1.37-1.37c-.4-.4-.92-.59-1.43-.59-.52 0-1.04.2-1.43.59L10.3 9.45l-7.72 7.72c-.78.78-.78 2.05 0 2.83L4 21.41c.39.39.9.59 1.41.59.51 0 1.02-.2 1.41-.59l7.78-7.78 2.81-2.81c.8-.78.8-2.07 0-2.86zM5.41 20L4 18.59l7.72-7.72 1.47 1.35L5.41 20z\"/>\n",
       "  </svg>\n",
       "      </button>\n",
       "      \n",
       "  <style>\n",
       "    .colab-df-container {\n",
       "      display:flex;\n",
       "      flex-wrap:wrap;\n",
       "      gap: 12px;\n",
       "    }\n",
       "\n",
       "    .colab-df-convert {\n",
       "      background-color: #E8F0FE;\n",
       "      border: none;\n",
       "      border-radius: 50%;\n",
       "      cursor: pointer;\n",
       "      display: none;\n",
       "      fill: #1967D2;\n",
       "      height: 32px;\n",
       "      padding: 0 0 0 0;\n",
       "      width: 32px;\n",
       "    }\n",
       "\n",
       "    .colab-df-convert:hover {\n",
       "      background-color: #E2EBFA;\n",
       "      box-shadow: 0px 1px 2px rgba(60, 64, 67, 0.3), 0px 1px 3px 1px rgba(60, 64, 67, 0.15);\n",
       "      fill: #174EA6;\n",
       "    }\n",
       "\n",
       "    [theme=dark] .colab-df-convert {\n",
       "      background-color: #3B4455;\n",
       "      fill: #D2E3FC;\n",
       "    }\n",
       "\n",
       "    [theme=dark] .colab-df-convert:hover {\n",
       "      background-color: #434B5C;\n",
       "      box-shadow: 0px 1px 3px 1px rgba(0, 0, 0, 0.15);\n",
       "      filter: drop-shadow(0px 1px 2px rgba(0, 0, 0, 0.3));\n",
       "      fill: #FFFFFF;\n",
       "    }\n",
       "  </style>\n",
       "\n",
       "      <script>\n",
       "        const buttonEl =\n",
       "          document.querySelector('#df-1c17e28f-1011-481f-9d37-1d5dec2d22bd button.colab-df-convert');\n",
       "        buttonEl.style.display =\n",
       "          google.colab.kernel.accessAllowed ? 'block' : 'none';\n",
       "\n",
       "        async function convertToInteractive(key) {\n",
       "          const element = document.querySelector('#df-1c17e28f-1011-481f-9d37-1d5dec2d22bd');\n",
       "          const dataTable =\n",
       "            await google.colab.kernel.invokeFunction('convertToInteractive',\n",
       "                                                     [key], {});\n",
       "          if (!dataTable) return;\n",
       "\n",
       "          const docLinkHtml = 'Like what you see? Visit the ' +\n",
       "            '<a target=\"_blank\" href=https://colab.research.google.com/notebooks/data_table.ipynb>data table notebook</a>'\n",
       "            + ' to learn more about interactive tables.';\n",
       "          element.innerHTML = '';\n",
       "          dataTable['output_type'] = 'display_data';\n",
       "          await google.colab.output.renderOutput(dataTable, element);\n",
       "          const docLink = document.createElement('div');\n",
       "          docLink.innerHTML = docLinkHtml;\n",
       "          element.appendChild(docLink);\n",
       "        }\n",
       "      </script>\n",
       "    </div>\n",
       "  </div>\n",
       "  "
      ],
      "text/plain": [
       "   city_development_index  relevent_experience  training_hours  target  \\\n",
       "0                   0.920                    1              36     1.0   \n",
       "1                   0.776                    0              47     0.0   \n",
       "2                   0.624                    0              83     0.0   \n",
       "3                   0.767                    1               8     0.0   \n",
       "4                   0.764                    1              24     1.0   \n",
       "\n",
       "   city_Other  city_city_100  city_city_102  city_city_103  city_city_104  \\\n",
       "0           0              0              0              1              0   \n",
       "1           1              0              0              0              0   \n",
       "2           0              0              0              0              0   \n",
       "3           1              0              0              0              0   \n",
       "4           1              0              0              0              0   \n",
       "\n",
       "   city_city_11  ...  company_type_NGO  company_type_Other  \\\n",
       "0             0  ...                 0                   0   \n",
       "1             0  ...                 0                   0   \n",
       "2             0  ...                 0                   0   \n",
       "3             0  ...                 0                   0   \n",
       "4             0  ...                 0                   0   \n",
       "\n",
       "   company_type_Public Sector  company_type_Pvt Ltd  last_new_job_1  \\\n",
       "0                           0                     1               1   \n",
       "1                           0                     1               0   \n",
       "2                           0                     1               0   \n",
       "3                           0                     0               0   \n",
       "4                           0                     1               1   \n",
       "\n",
       "   last_new_job_2  last_new_job_3  last_new_job_4  last_new_job_>4  \\\n",
       "0               0               0               0                0   \n",
       "1               0               0               0                1   \n",
       "2               0               0               0                0   \n",
       "3               0               0               1                0   \n",
       "4               0               0               0                0   \n",
       "\n",
       "   last_new_job_never  \n",
       "0                   0  \n",
       "1                   0  \n",
       "2                   1  \n",
       "3                   0  \n",
       "4                   0  \n",
       "\n",
       "[5 rows x 60 columns]"
      ]
     },
     "execution_count": 31,
     "metadata": {},
     "output_type": "execute_result"
    }
   ],
   "source": [
    "df = pd.get_dummies(df)\n",
    "df.head()"
   ]
  },
  {
   "cell_type": "code",
   "execution_count": 32,
   "id": "f9392fa5",
   "metadata": {
    "id": "f9392fa5"
   },
   "outputs": [],
   "source": [
    "# Split the data into a training set and a testing set.\n",
    "y = df.target\n",
    "X = df.drop(columns='target')\n",
    "X_train, X_test, y_train, y_test = train_test_split(X, y, random_state=42, stratify=y)\n",
    "\n",
    "# Instantiate a StandardScaler instance.\n",
    "scaler = StandardScaler()\n",
    "\n",
    "# Fit the training data to the standard scaler.\n",
    "X_scaler = scaler.fit(X_train)\n",
    "\n",
    "# Transform the training data using the scaler.\n",
    "X_train_scaled = X_scaler.transform(X_train)\n",
    "\n",
    "# Transform the testing data using the scaler.\n",
    "X_test_scaled = X_scaler.transform(X_test)"
   ]
  },
  {
   "cell_type": "code",
   "execution_count": 33,
   "id": "4770b610",
   "metadata": {
    "id": "4770b610"
   },
   "outputs": [],
   "source": [
    "# Due to imbalanced target values, instantiate the random oversampler model.\n",
    "ros = RandomOverSampler(random_state=42)\n",
    "X_res, y_res = ros.fit_resample(X_train_scaled, y_train)"
   ]
  },
  {
   "cell_type": "markdown",
   "id": "ys9OS5y8Xm-m",
   "metadata": {
    "id": "ys9OS5y8Xm-m"
   },
   "source": [
    "## Logistic Regression Model"
   ]
  },
  {
   "cell_type": "code",
   "execution_count": 34,
   "id": "f1b0ee85",
   "metadata": {
    "id": "f1b0ee85"
   },
   "outputs": [],
   "source": [
    "# Implement a logistic regression model.\n",
    "classifier = LogisticRegression(solver='lbfgs', random_state=42)\n",
    "classifier.fit(X_res, y_res)\n",
    "predictions = classifier.predict(X_test_scaled)"
   ]
  },
  {
   "cell_type": "code",
   "execution_count": 35,
   "id": "0b23a559",
   "metadata": {
    "colab": {
     "base_uri": "https://localhost:8080/"
    },
    "id": "0b23a559",
    "outputId": "7ef773f5-e366-4d5d-b803-1c148766a17c"
   },
   "outputs": [
    {
     "name": "stdout",
     "output_type": "stream",
     "text": [
      "Accuracy score: 0.74\n"
     ]
    }
   ],
   "source": [
    "# Display the accuracy score for the test dataset.\n",
    "print(f'Accuracy score: {accuracy_score(y_test, predictions):.2f}')"
   ]
  },
  {
   "cell_type": "code",
   "execution_count": 36,
   "id": "00ccdd15",
   "metadata": {
    "colab": {
     "base_uri": "https://localhost:8080/"
    },
    "id": "00ccdd15",
    "outputId": "f11ccc55-c223-428b-f520-302a126dbf89"
   },
   "outputs": [
    {
     "data": {
      "text/plain": [
       "array([[2561,  838],\n",
       "       [ 353,  752]])"
      ]
     },
     "execution_count": 36,
     "metadata": {},
     "output_type": "execute_result"
    }
   ],
   "source": [
    "# Display the confusion matrix.\n",
    "confusion_matrix(y_test, predictions)"
   ]
  },
  {
   "cell_type": "markdown",
   "id": "52c38f32",
   "metadata": {
    "id": "52c38f32"
   },
   "source": [
    "| n=19158 | Predicted: Staying | Predicted: Leaving |\n",
    "| --- | --- | --- |\n",
    "| Actual: Staying | 2678 | 918 |\n",
    "| Actual: Leaving | 313 | 881 |\n"
   ]
  },
  {
   "cell_type": "code",
   "execution_count": 37,
   "id": "5072a8f7",
   "metadata": {
    "colab": {
     "base_uri": "https://localhost:8080/"
    },
    "id": "5072a8f7",
    "outputId": "0ae58552-7c63-4a26-f7f6-45a7677ab1d4"
   },
   "outputs": [
    {
     "name": "stdout",
     "output_type": "stream",
     "text": [
      "              precision    recall  f1-score   support\n",
      "\n",
      "        stay       0.88      0.75      0.81      3399\n",
      "       leave       0.47      0.68      0.56      1105\n",
      "\n",
      "    accuracy                           0.74      4504\n",
      "   macro avg       0.68      0.72      0.68      4504\n",
      "weighted avg       0.78      0.74      0.75      4504\n",
      "\n"
     ]
    }
   ],
   "source": [
    "# Display the classification report.\n",
    "target_names = ['stay', 'leave']\n",
    "print(classification_report(y_test, predictions, target_names=target_names))"
   ]
  },
  {
   "cell_type": "markdown",
   "id": "30599b46",
   "metadata": {
    "id": "30599b46"
   },
   "source": [
    "Considering that a recall score of 0.74 is achieved for predicting individuals leaving their current employment, this is a good starting point for our analysis."
   ]
  },
  {
   "cell_type": "markdown",
   "id": "ubZHAHAxR8Nf",
   "metadata": {
    "id": "ubZHAHAxR8Nf"
   },
   "source": [
    "## K-Fold Cross Validation - Logistic Regression\n",
    "\n",
    "---\n",
    "\n"
   ]
  },
  {
   "cell_type": "code",
   "execution_count": 38,
   "id": "9o2ju-RraSrm",
   "metadata": {
    "id": "9o2ju-RraSrm"
   },
   "outputs": [],
   "source": [
    "from numpy import mean\n",
    "from numpy import std\n",
    "from sklearn.model_selection import KFold\n",
    "from sklearn.model_selection import cross_val_score"
   ]
  },
  {
   "cell_type": "code",
   "execution_count": 39,
   "id": "Qq6c5FThaSos",
   "metadata": {
    "colab": {
     "base_uri": "https://localhost:8080/"
    },
    "id": "Qq6c5FThaSos",
    "outputId": "22fc4573-dfaa-469d-9ff4-d2bdee5a6a0b"
   },
   "outputs": [
    {
     "name": "stdout",
     "output_type": "stream",
     "text": [
      "Accuracy: 0.777 (0.009)\n"
     ]
    }
   ],
   "source": [
    "# Code is sourced from https://machinelearningmastery.com/how-to-configure-k-fold-cross-validation/\n",
    "\n",
    "# Prepare the cross-validation procedure\n",
    "cv = KFold(n_splits=10, random_state=1, shuffle=True)\n",
    "\n",
    "# Create model\n",
    "model = LogisticRegression()\n",
    "\n",
    "# Evaluate model\n",
    "scores = cross_val_score(model, X, y, scoring='accuracy', cv=cv, n_jobs=-1)\n",
    "\n",
    "# Report performance\n",
    "print('Accuracy: %.3f (%.3f)' % (mean(scores), std(scores)))"
   ]
  },
  {
   "cell_type": "markdown",
   "id": "UaFukXtQfqZG",
   "metadata": {
    "id": "UaFukXtQfqZG"
   },
   "source": [
    "In this case, with `logistic regression`, we can see that the model achieved an estimated classification accuracy of about `77.9%.` This model had preformed well as it is close and above 74% model accuracy."
   ]
  },
  {
   "cell_type": "markdown",
   "id": "HJvRePm0XvGB",
   "metadata": {
    "id": "HJvRePm0XvGB"
   },
   "source": [
    "## Random Forest Classifier Model"
   ]
  },
  {
   "cell_type": "code",
   "execution_count": 40,
   "id": "4rXepbxFaSgs",
   "metadata": {
    "colab": {
     "base_uri": "https://localhost:8080/"
    },
    "id": "4rXepbxFaSgs",
    "outputId": "94086aaa-e448-4b56-bbe0-49bb89360a14"
   },
   "outputs": [
    {
     "name": "stdout",
     "output_type": "stream",
     "text": [
      "Accuracy score: 0.75\n",
      "              precision    recall  f1-score   support\n",
      "\n",
      "        stay       0.83      0.84      0.83      3399\n",
      "       leave       0.48      0.45      0.47      1105\n",
      "\n",
      "    accuracy                           0.75      4504\n",
      "   macro avg       0.65      0.65      0.65      4504\n",
      "weighted avg       0.74      0.75      0.74      4504\n",
      "\n"
     ]
    }
   ],
   "source": [
    "from sklearn.ensemble import RandomForestClassifier\n",
    "\n",
    "# Create the random forest classifier instance\n",
    "rf_model = RandomForestClassifier(n_estimators=500, random_state=42)\n",
    "rf_model = rf_model.fit(X_res, y_res)\n",
    "predictions = rf_model.predict(X_test_scaled)\n",
    "\n",
    "# Display the accuracy score for the test dataset.\n",
    "print(f'Accuracy score: {accuracy_score(y_test, predictions):.2f}')\n",
    "\n",
    "# Display the confusion matrix.\n",
    "confusion_matrix(y_test, predictions)\n",
    "\n",
    "# Display the classification report.\n",
    "target_names = ['stay', 'leave']\n",
    "print(classification_report(y_test, predictions, target_names=target_names))"
   ]
  },
  {
   "cell_type": "markdown",
   "id": "MfipaQShZGsk",
   "metadata": {
    "id": "MfipaQShZGsk"
   },
   "source": [
    "## K-Fold Cross Validation - Random Forest Classifier\n"
   ]
  },
  {
   "cell_type": "code",
   "execution_count": 41,
   "id": "4ZX02t0lZGHX",
   "metadata": {
    "colab": {
     "base_uri": "https://localhost:8080/"
    },
    "id": "4ZX02t0lZGHX",
    "outputId": "8239cc4f-1ac9-43c9-a476-d5e9e765248e"
   },
   "outputs": [
    {
     "name": "stdout",
     "output_type": "stream",
     "text": [
      "Accuracy: 0.754 (0.009)\n"
     ]
    }
   ],
   "source": [
    "# Code is sourced from https://machinelearningmastery.com/how-to-configure-k-fold-cross-validation/\n",
    "\n",
    "# Prepare the cross-validation procedure\n",
    "cv = KFold(n_splits=10, random_state=1, shuffle=True)\n",
    "\n",
    "# Create model\n",
    "model = RandomForestClassifier()\n",
    "\n",
    "# Evaluate model\n",
    "scores = cross_val_score(model, X, y, scoring='accuracy', cv=cv, n_jobs=-1)\n",
    "\n",
    "# Report performance\n",
    "print('Accuracy: %.3f (%.3f)' % (mean(scores), std(scores)))"
   ]
  },
  {
   "cell_type": "markdown",
   "id": "ptGeewSiu3O0",
   "metadata": {
    "id": "ptGeewSiu3O0"
   },
   "source": [
    "In this case, with `random forest classifier`, we can see that the model achieved an estimated classification accuracy of about `75.4%.` This model had preformed well as it is close and above 75% model accuracy."
   ]
  },
  {
   "cell_type": "code",
   "execution_count": null,
   "id": "V1BJUwNVZW3A",
   "metadata": {
    "id": "V1BJUwNVZW3A"
   },
   "outputs": [],
   "source": []
  }
 ],
 "metadata": {
  "colab": {
   "provenance": []
  },
  "kernelspec": {
   "display_name": "Python 3 (ipykernel)",
   "language": "python",
   "name": "python3"
  },
  "language_info": {
   "codemirror_mode": {
    "name": "ipython",
    "version": 3
   },
   "file_extension": ".py",
   "mimetype": "text/x-python",
   "name": "python",
   "nbconvert_exporter": "python",
   "pygments_lexer": "ipython3",
   "version": "3.10.9"
  }
 },
 "nbformat": 4,
 "nbformat_minor": 5
}
