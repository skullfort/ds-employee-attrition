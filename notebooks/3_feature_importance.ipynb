{
 "cells": [
  {
   "cell_type": "markdown",
   "id": "fc6d3dee",
   "metadata": {},
   "source": [
    "This notebook first evaluates feature importance for the logistic regression model. Once the most important features are extracted, they serve as input for cross-validation to ensure minimal loss of model accuracy in terms of ROC AUC and recall."
   ]
  },
  {
   "cell_type": "code",
   "execution_count": 1,
   "id": "23515a53",
   "metadata": {},
   "outputs": [],
   "source": [
    "# Import dependencies.\n",
    "import pandas as pd\n",
    "from numpy import mean, std\n",
    "\n",
    "from imblearn.over_sampling import RandomOverSampler\n",
    "from imblearn.pipeline import Pipeline as imbpipeline\n",
    "\n",
    "from sklearn.ensemble import RandomForestClassifier\n",
    "from sklearn.feature_selection import SelectFromModel\n",
    "from sklearn.linear_model import LogisticRegression\n",
    "from sklearn.metrics import accuracy_score, confusion_matrix, classification_report\n",
    "from sklearn.model_selection import StratifiedKFold, cross_val_score\n",
    "from sklearn.preprocessing import StandardScaler\n",
    "from sklearn.svm import SVC\n",
    "\n",
    "from project_pipeline import preprocess, lr_model"
   ]
  },
  {
   "cell_type": "code",
   "execution_count": 2,
   "id": "b80c45e5",
   "metadata": {},
   "outputs": [
    {
     "name": "stdout",
     "output_type": "stream",
     "text": [
      "<class 'pandas.core.frame.DataFrame'>\n",
      "RangeIndex: 19158 entries, 0 to 19157\n",
      "Data columns (total 13 columns):\n",
      " #   Column                  Non-Null Count  Dtype  \n",
      "---  ------                  --------------  -----  \n",
      " 0   city                    19158 non-null  object \n",
      " 1   city_development_index  19158 non-null  float64\n",
      " 2   gender                  19158 non-null  object \n",
      " 3   relevent_experience     19158 non-null  int64  \n",
      " 4   enrolled_university     19158 non-null  object \n",
      " 5   education_level         19158 non-null  object \n",
      " 6   major_discipline        19158 non-null  object \n",
      " 7   experience              19158 non-null  object \n",
      " 8   company_size            19158 non-null  object \n",
      " 9   company_type            19158 non-null  object \n",
      " 10  last_new_job            19158 non-null  object \n",
      " 11  training_hours          19158 non-null  int64  \n",
      " 12  target                  19158 non-null  float64\n",
      "dtypes: float64(2), int64(2), object(9)\n",
      "memory usage: 1.9+ MB\n"
     ]
    }
   ],
   "source": [
    "# Read in 'cleaned_mode.csv' data.\n",
    "df = pd.read_csv('../resources/cleaned_mode.csv')\n",
    "df.info()"
   ]
  },
  {
   "cell_type": "markdown",
   "id": "8a31fb03",
   "metadata": {},
   "source": [
    "## Feature Importance"
   ]
  },
  {
   "cell_type": "code",
   "execution_count": 3,
   "id": "c5a36714",
   "metadata": {},
   "outputs": [],
   "source": [
    "# Preprocess the cleaned data in preparation for model implementation with get dummies.\n",
    "features = pd.get_dummies(df).drop(columns='target').columns.tolist()\n",
    "\n",
    "# Split data into train and test.\n",
    "X_train, X_test, y_train, y_test = preprocess(df)"
   ]
  },
  {
   "cell_type": "code",
   "execution_count": 4,
   "id": "f0f1e7c3",
   "metadata": {},
   "outputs": [
    {
     "data": {
      "text/html": [
       "<style>#sk-container-id-1 {color: black;background-color: white;}#sk-container-id-1 pre{padding: 0;}#sk-container-id-1 div.sk-toggleable {background-color: white;}#sk-container-id-1 label.sk-toggleable__label {cursor: pointer;display: block;width: 100%;margin-bottom: 0;padding: 0.3em;box-sizing: border-box;text-align: center;}#sk-container-id-1 label.sk-toggleable__label-arrow:before {content: \"▸\";float: left;margin-right: 0.25em;color: #696969;}#sk-container-id-1 label.sk-toggleable__label-arrow:hover:before {color: black;}#sk-container-id-1 div.sk-estimator:hover label.sk-toggleable__label-arrow:before {color: black;}#sk-container-id-1 div.sk-toggleable__content {max-height: 0;max-width: 0;overflow: hidden;text-align: left;background-color: #f0f8ff;}#sk-container-id-1 div.sk-toggleable__content pre {margin: 0.2em;color: black;border-radius: 0.25em;background-color: #f0f8ff;}#sk-container-id-1 input.sk-toggleable__control:checked~div.sk-toggleable__content {max-height: 200px;max-width: 100%;overflow: auto;}#sk-container-id-1 input.sk-toggleable__control:checked~label.sk-toggleable__label-arrow:before {content: \"▾\";}#sk-container-id-1 div.sk-estimator input.sk-toggleable__control:checked~label.sk-toggleable__label {background-color: #d4ebff;}#sk-container-id-1 div.sk-label input.sk-toggleable__control:checked~label.sk-toggleable__label {background-color: #d4ebff;}#sk-container-id-1 input.sk-hidden--visually {border: 0;clip: rect(1px 1px 1px 1px);clip: rect(1px, 1px, 1px, 1px);height: 1px;margin: -1px;overflow: hidden;padding: 0;position: absolute;width: 1px;}#sk-container-id-1 div.sk-estimator {font-family: monospace;background-color: #f0f8ff;border: 1px dotted black;border-radius: 0.25em;box-sizing: border-box;margin-bottom: 0.5em;}#sk-container-id-1 div.sk-estimator:hover {background-color: #d4ebff;}#sk-container-id-1 div.sk-parallel-item::after {content: \"\";width: 100%;border-bottom: 1px solid gray;flex-grow: 1;}#sk-container-id-1 div.sk-label:hover label.sk-toggleable__label {background-color: #d4ebff;}#sk-container-id-1 div.sk-serial::before {content: \"\";position: absolute;border-left: 1px solid gray;box-sizing: border-box;top: 0;bottom: 0;left: 50%;z-index: 0;}#sk-container-id-1 div.sk-serial {display: flex;flex-direction: column;align-items: center;background-color: white;padding-right: 0.2em;padding-left: 0.2em;position: relative;}#sk-container-id-1 div.sk-item {position: relative;z-index: 1;}#sk-container-id-1 div.sk-parallel {display: flex;align-items: stretch;justify-content: center;background-color: white;position: relative;}#sk-container-id-1 div.sk-item::before, #sk-container-id-1 div.sk-parallel-item::before {content: \"\";position: absolute;border-left: 1px solid gray;box-sizing: border-box;top: 0;bottom: 0;left: 50%;z-index: -1;}#sk-container-id-1 div.sk-parallel-item {display: flex;flex-direction: column;z-index: 1;position: relative;background-color: white;}#sk-container-id-1 div.sk-parallel-item:first-child::after {align-self: flex-end;width: 50%;}#sk-container-id-1 div.sk-parallel-item:last-child::after {align-self: flex-start;width: 50%;}#sk-container-id-1 div.sk-parallel-item:only-child::after {width: 0;}#sk-container-id-1 div.sk-dashed-wrapped {border: 1px dashed gray;margin: 0 0.4em 0.5em 0.4em;box-sizing: border-box;padding-bottom: 0.4em;background-color: white;}#sk-container-id-1 div.sk-label label {font-family: monospace;font-weight: bold;display: inline-block;line-height: 1.2em;}#sk-container-id-1 div.sk-label-container {text-align: center;}#sk-container-id-1 div.sk-container {/* jupyter's `normalize.less` sets `[hidden] { display: none; }` but bootstrap.min.css set `[hidden] { display: none !important; }` so we also need the `!important` here to be able to override the default hidden behavior on the sphinx rendered scikit-learn.org. See: https://github.com/scikit-learn/scikit-learn/issues/21755 */display: inline-block !important;position: relative;}#sk-container-id-1 div.sk-text-repr-fallback {display: none;}</style><div id=\"sk-container-id-1\" class=\"sk-top-container\"><div class=\"sk-text-repr-fallback\"><pre>LogisticRegression(random_state=42)</pre><b>In a Jupyter environment, please rerun this cell to show the HTML representation or trust the notebook. <br />On GitHub, the HTML representation is unable to render, please try loading this page with nbviewer.org.</b></div><div class=\"sk-container\" hidden><div class=\"sk-item\"><div class=\"sk-estimator sk-toggleable\"><input class=\"sk-toggleable__control sk-hidden--visually\" id=\"sk-estimator-id-1\" type=\"checkbox\" checked><label for=\"sk-estimator-id-1\" class=\"sk-toggleable__label sk-toggleable__label-arrow\">LogisticRegression</label><div class=\"sk-toggleable__content\"><pre>LogisticRegression(random_state=42)</pre></div></div></div></div></div>"
      ],
      "text/plain": [
       "LogisticRegression(random_state=42)"
      ]
     },
     "execution_count": 4,
     "metadata": {},
     "output_type": "execute_result"
    }
   ],
   "source": [
    "# Implement a logistic regression model \n",
    "# (since based on cross validation it has the highest ROC AUC and recall scores) \n",
    "# to extract feature importance.\n",
    "lr_model = LogisticRegression(solver='lbfgs', random_state=42)\n",
    "lr_model.fit(X_train, y_train)"
   ]
  },
  {
   "cell_type": "code",
   "execution_count": 5,
   "id": "0823a0e7",
   "metadata": {},
   "outputs": [],
   "source": [
    "# Obtain the weights of the trained model.\n",
    "importance = lr_model.coef_[0]"
   ]
  },
  {
   "cell_type": "code",
   "execution_count": 6,
   "id": "f7d4d130",
   "metadata": {},
   "outputs": [
    {
     "name": "stdout",
     "output_type": "stream",
     "text": [
      "Feature: city_development_index, Score: -0.651\n",
      "Feature: relevent_experience, Score: -0.232\n",
      "Feature: city_Other, Score: -0.158\n",
      "Feature: city_city_103, Score: 0.154\n",
      "Feature: city_city_114, Score: -0.105\n",
      "Feature: city_city_136, Score: -0.109\n",
      "Feature: city_city_21, Score: 0.229\n",
      "Feature: education_level_Graduate, Score: 0.117\n",
      "Feature: education_level_High School, Score: -0.178\n",
      "Feature: education_level_Primary School, Score: -0.119\n",
      "Feature: company_size_100-500, Score: -0.125\n",
      "Feature: company_size_50-99, Score: 0.270\n",
      "Feature: company_type_Funded Startup, Score: -0.136\n",
      "Feature: last_new_job_never, Score: -0.133\n"
     ]
    }
   ],
   "source": [
    "# Print out weights whose absolute values are greater than 0.1.\n",
    "for i, v in enumerate(importance):\n",
    "    if abs(v)>=0.1:\n",
    "        print(f'Feature: {features[i]}, Score: {v:.3f}')"
   ]
  },
  {
   "cell_type": "markdown",
   "id": "0f12e304",
   "metadata": {},
   "source": [
    "## Feature Selection"
   ]
  },
  {
   "cell_type": "code",
   "execution_count": 7,
   "id": "cbf0fe3b",
   "metadata": {},
   "outputs": [
    {
     "data": {
      "text/plain": [
       "array([[-0.65140121, -0.23167118, -0.0514573 , -0.15821284,  0.0521078 ,\n",
       "        -0.05837959,  0.15449212, -0.0533812 ,  0.00552392, -0.10526186,\n",
       "        -0.10890443, -0.06622287,  0.08645613,  0.22879413, -0.07164638,\n",
       "         0.00220629, -0.04281134, -0.03367829,  0.00563469, -0.01538898,\n",
       "         0.02623327,  0.08487657, -0.07754639,  0.00138743,  0.11699965,\n",
       "        -0.17804317,  0.03398504, -0.00639011, -0.11867378,  0.02063516,\n",
       "         0.00733451, -0.01489595,  0.00509301, -0.02659591,  0.00870619,\n",
       "         0.03107172,  0.02823662, -0.00310362, -0.036975  ,  0.00620151,\n",
       "        -0.12540064, -0.09570847,  0.26984747, -0.08635383, -0.04510293,\n",
       "        -0.06316184, -0.09091874, -0.04814895, -0.13560523,  0.00227551,\n",
       "         0.04807361,  0.05006992,  0.06285272,  0.00693116,  0.05197182,\n",
       "         0.03980949,  0.03650156,  0.01431254, -0.13315972]])"
      ]
     },
     "execution_count": 7,
     "metadata": {},
     "output_type": "execute_result"
    }
   ],
   "source": [
    "# Print out the weights of the trained model.\n",
    "selector = SelectFromModel(estimator=LogisticRegression()).fit(X_train, y_train)\n",
    "selector.estimator_.coef_"
   ]
  },
  {
   "cell_type": "code",
   "execution_count": 8,
   "id": "adf0cf98",
   "metadata": {},
   "outputs": [
    {
     "data": {
      "text/plain": [
       "array([ True,  True, False,  True, False, False,  True, False, False,\n",
       "        True,  True, False,  True,  True, False, False, False, False,\n",
       "       False, False, False,  True,  True, False,  True,  True, False,\n",
       "       False,  True, False, False, False, False, False, False, False,\n",
       "       False, False, False, False,  True,  True,  True,  True, False,\n",
       "       False,  True, False,  True, False, False, False, False, False,\n",
       "       False, False, False, False,  True])"
      ]
     },
     "execution_count": 8,
     "metadata": {},
     "output_type": "execute_result"
    }
   ],
   "source": [
    "# Print out the important features selected.\n",
    "fs = [features[i] for i, x in enumerate(selector.get_support()) if x == True]\n",
    "fs"
   ]
  },
  {
   "cell_type": "code",
   "execution_count": 9,
   "id": "ed2bfa2c",
   "metadata": {},
   "outputs": [],
   "source": [
    "# # Transform the training and testing features using the selector.\n",
    "# X_train_fs = selector.transform(X_train)\n",
    "# X_test_fs = selector.transform(X_test)"
   ]
  },
  {
   "cell_type": "code",
   "execution_count": 11,
   "id": "5d881e62",
   "metadata": {},
   "outputs": [],
   "source": [
    "# Use the extracted features to reconstruct cross-validation input.\n",
    "df_fs = pd.get_dummies(df)[fs + ['target']]\n",
    "y = df_fs.target\n",
    "X = df_fs.drop(columns='target')"
   ]
  },
  {
   "cell_type": "code",
   "execution_count": 12,
   "id": "aa355a97",
   "metadata": {},
   "outputs": [],
   "source": [
    "# Create models variable to include all models.\n",
    "models = {\n",
    "    'lr': LogisticRegression(solver='lbfgs', random_state=42),\n",
    "    'svc': SVC(kernel='rbf', random_state=42),\n",
    "    'rf': RandomForestClassifier(n_estimators=500, random_state=42)\n",
    "}"
   ]
  },
  {
   "cell_type": "code",
   "execution_count": 13,
   "id": "0268d128",
   "metadata": {},
   "outputs": [
    {
     "name": "stdout",
     "output_type": "stream",
     "text": [
      "lr\n",
      "---\n",
      "roc_auc: 0.78 (0.01)\n",
      "recall: 0.73 (0.02)\n",
      "---\n",
      "svc\n",
      "---\n",
      "roc_auc: 0.77 (0.01)\n",
      "recall: 0.73 (0.03)\n",
      "---\n",
      "rf\n",
      "---\n",
      "roc_auc: 0.74 (0.01)\n",
      "recall: 0.70 (0.02)\n",
      "---\n"
     ]
    }
   ],
   "source": [
    "for name, model in models.items():\n",
    "    # Prepare the cross-validation procedure.\n",
    "    cv = StratifiedKFold(n_splits=10, random_state=42, shuffle=True)\n",
    "\n",
    "    # Create a pipeline that includes oversampler, scaler, and model.\n",
    "    clf = imbpipeline(steps = [['oversampler', RandomOverSampler(random_state=42)],\n",
    "                               ['scaler', StandardScaler()],\n",
    "                               ['classifer', model]])\n",
    "\n",
    "    # Evaluate model.\n",
    "    roc_auc_scores = cross_val_score(clf, X, y, scoring='roc_auc', cv=cv, n_jobs=-1)\n",
    "    recall_scores = cross_val_score(clf, X, y, scoring='recall', cv=cv, n_jobs=-1)\n",
    "\n",
    "    # Report performance.\n",
    "    print(name)\n",
    "    print('---')\n",
    "    print(f'roc_auc: {mean(roc_auc_scores):.2f} ({std(roc_auc_scores):.2f})')\n",
    "    print(f'recall: {mean(recall_scores):.2f} ({std(recall_scores):.2f})')\n",
    "    print('---')"
   ]
  },
  {
   "cell_type": "code",
   "execution_count": null,
   "id": "5c9539c9",
   "metadata": {},
   "outputs": [],
   "source": []
  }
 ],
 "metadata": {
  "kernelspec": {
   "display_name": "Python 3 (ipykernel)",
   "language": "python",
   "name": "python3"
  },
  "language_info": {
   "codemirror_mode": {
    "name": "ipython",
    "version": 3
   },
   "file_extension": ".py",
   "mimetype": "text/x-python",
   "name": "python",
   "nbconvert_exporter": "python",
   "pygments_lexer": "ipython3",
   "version": "3.7.7"
  }
 },
 "nbformat": 4,
 "nbformat_minor": 5
}
