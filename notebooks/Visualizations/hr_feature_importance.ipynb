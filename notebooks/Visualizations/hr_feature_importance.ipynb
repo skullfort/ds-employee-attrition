{
 "cells": [
  {
   "cell_type": "markdown",
   "id": "6dec7ea7",
   "metadata": {},
   "source": [
    "# Overview\n",
    "This notebook documents the initial preprocessing of the dataset and training of a logistical regression model to establish a baseline for our analysis. Excluding the target, there are a total of 13 features. Most of them are categorical and missing values to varying degrees."
   ]
  },
  {
   "cell_type": "code",
   "execution_count": 138,
   "id": "9a520639",
   "metadata": {},
   "outputs": [],
   "source": [
    "# Import dependencies.\n",
    "import pandas as pd\n",
    "from sklearn.preprocessing import StandardScaler\n",
    "from imblearn.over_sampling import RandomOverSampler\n",
    "from sklearn.model_selection import train_test_split\n",
    "from sklearn.linear_model import LogisticRegression\n",
    "from sklearn.metrics import accuracy_score, confusion_matrix, classification_report\n",
    "import matplotlib.pyplot as plt\n"
   ]
  },
  {
   "cell_type": "code",
   "execution_count": 139,
   "id": "7553c368",
   "metadata": {},
   "outputs": [
    {
     "name": "stdout",
     "output_type": "stream",
     "text": [
      "<class 'pandas.core.frame.DataFrame'>\n",
      "RangeIndex: 18014 entries, 0 to 18013\n",
      "Data columns (total 14 columns):\n",
      " #   Column                  Non-Null Count  Dtype  \n",
      "---  ------                  --------------  -----  \n",
      " 0   enrollee_id             18014 non-null  int64  \n",
      " 1   city                    18014 non-null  object \n",
      " 2   city_development_index  18014 non-null  float64\n",
      " 3   gender                  18014 non-null  object \n",
      " 4   relevent_experience     18014 non-null  object \n",
      " 5   enrolled_university     18014 non-null  object \n",
      " 6   education_level         18014 non-null  object \n",
      " 7   major_discipline        18014 non-null  object \n",
      " 8   experience              18014 non-null  object \n",
      " 9   company_size            18014 non-null  object \n",
      " 10  company_type            18014 non-null  object \n",
      " 11  last_new_job            18014 non-null  object \n",
      " 12  training_hours          18014 non-null  int64  \n",
      " 13  target                  18014 non-null  float64\n",
      "dtypes: float64(2), int64(2), object(10)\n",
      "memory usage: 1.9+ MB\n"
     ]
    }
   ],
   "source": [
    "# Read in the data.\n",
    "df = pd.read_csv('hr_job_change.csv')\n",
    "df.info()"
   ]
  },
  {
   "cell_type": "code",
   "execution_count": 140,
   "id": "d8f9f5a9",
   "metadata": {},
   "outputs": [
    {
     "data": {
      "text/plain": [
       "Series([], dtype: int64)"
      ]
     },
     "execution_count": 140,
     "metadata": {},
     "output_type": "execute_result"
    }
   ],
   "source": [
    "# Summarize the features with missing values.\n",
    "df.isnull().sum()[df.isnull().sum() != 0]"
   ]
  },
  {
   "cell_type": "markdown",
   "id": "b73a8e24",
   "metadata": {},
   "source": [
    "# Features\n",
    "Data transformation, including filling in missing values, for each feature is looked at individually."
   ]
  },
  {
   "cell_type": "markdown",
   "id": "da993b40",
   "metadata": {},
   "source": [
    "## 0. `enrollee_id`\n",
    "`enrollee_id` is used to identify those enrolled in the program. Since it is unique for each record and has no bearing on the target, it can be dropped."
   ]
  },
  {
   "cell_type": "code",
   "execution_count": 141,
   "id": "394b91a9",
   "metadata": {},
   "outputs": [
    {
     "data": {
      "text/plain": [
       "18014"
      ]
     },
     "execution_count": 141,
     "metadata": {},
     "output_type": "execute_result"
    }
   ],
   "source": [
    "df.enrollee_id.nunique()"
   ]
  },
  {
   "cell_type": "code",
   "execution_count": 142,
   "id": "77ac7556",
   "metadata": {},
   "outputs": [],
   "source": [
    "df.drop(columns='enrollee_id', inplace=True)"
   ]
  },
  {
   "cell_type": "markdown",
   "id": "ec1a16d8",
   "metadata": {},
   "source": [
    "## 1. `city`\n",
    "`city` with low counts can be binned together to reduce the total number of categories."
   ]
  },
  {
   "cell_type": "code",
   "execution_count": 143,
   "id": "6ce4c889",
   "metadata": {},
   "outputs": [
    {
     "data": {
      "text/plain": [
       "city\n",
       "city_103    4194\n",
       "city_21     2454\n",
       "city_16     1471\n",
       "city_114    1254\n",
       "city_160     817\n",
       "city_136     542\n",
       "city_67      414\n",
       "city_75      295\n",
       "city_102     287\n",
       "city_104     287\n",
       "city_73      270\n",
       "city_100     259\n",
       "city_71      256\n",
       "city_11      231\n",
       "city_61      191\n",
       "city_28      183\n",
       "city_90      178\n",
       "city_23      173\n",
       "city_65      165\n",
       "city_36      154\n",
       "Name: count, dtype: int64"
      ]
     },
     "execution_count": 143,
     "metadata": {},
     "output_type": "execute_result"
    }
   ],
   "source": [
    "df.city.value_counts(dropna=False).head(20)"
   ]
  },
  {
   "cell_type": "code",
   "execution_count": 144,
   "id": "4176e156",
   "metadata": {},
   "outputs": [
    {
     "data": {
      "text/plain": [
       "city\n",
       "Other       4983\n",
       "city_103    4194\n",
       "city_21     2454\n",
       "city_16     1471\n",
       "city_114    1254\n",
       "city_160     817\n",
       "city_136     542\n",
       "city_67      414\n",
       "city_75      295\n",
       "city_102     287\n",
       "city_104     287\n",
       "city_73      270\n",
       "city_100     259\n",
       "city_71      256\n",
       "city_11      231\n",
       "Name: count, dtype: int64"
      ]
     },
     "execution_count": 144,
     "metadata": {},
     "output_type": "execute_result"
    }
   ],
   "source": [
    "# Create a bin for cities with fewer than `threshold` instances.\n",
    "threshold = 200\n",
    "city_counts = df['city'].value_counts()\n",
    "cities_to_replace = city_counts[city_counts<threshold].index\n",
    "\n",
    "for city in cities_to_replace:\n",
    "    df['city'] = df['city'].replace(city, 'Other')\n",
    "\n",
    "df['city'].value_counts(dropna=False)"
   ]
  },
  {
   "cell_type": "markdown",
   "id": "c0a59ed4",
   "metadata": {},
   "source": [
    "## 2. `city_development_index`\n",
    "This is one of the two numerical features in the dataset, and it is already scaled. If the `city` values are kept, it can be confirmed that each city has a single `city_development_index`, but different cities might share the same value: `all(df.groupby('city')['city_development_index'].nunique() == 1)` returns `True`."
   ]
  },
  {
   "cell_type": "code",
   "execution_count": 145,
   "id": "ae12dc25",
   "metadata": {},
   "outputs": [
    {
     "data": {
      "image/png": "[encoded data removed]",
      "text/plain": [
       "<Figure size 640x480 with 1 Axes>"
      ]
     },
     "metadata": {},
     "output_type": "display_data"
    }
   ],
   "source": [
    "# Create a histogram for `city_development_index`.\n",
    "df['city_development_index'].hist(bins=15);"
   ]
  },
  {
   "cell_type": "markdown",
   "id": "7286af1c",
   "metadata": {},
   "source": [
    "## 3. `gender`\n",
    "Missing values need to be dealt with. It's not immediately clear how to go about it: do we impute with the most frequent value to simply group it with `Other`? Since there are 10 males to 1 female in this training problem, we can approach this problem with filling in the missing values with the most frequent value of the feature, i.e., `Male`. The same approach is used for the other categorical features unless otherwise stated."
   ]
  },
  {
   "cell_type": "code",
   "execution_count": 146,
   "id": "ce607df1",
   "metadata": {},
   "outputs": [
    {
     "data": {
      "text/plain": [
       "gender\n",
       "Male      16633\n",
       "Female     1208\n",
       "Other       173\n",
       "Name: count, dtype: int64"
      ]
     },
     "execution_count": 146,
     "metadata": {},
     "output_type": "execute_result"
    }
   ],
   "source": [
    "df['gender'].value_counts(dropna=False)"
   ]
  },
  {
   "cell_type": "code",
   "execution_count": 147,
   "id": "ea2fe086",
   "metadata": {},
   "outputs": [
    {
     "data": {
      "text/plain": [
       "gender\n",
       "Male      16633\n",
       "Female     1208\n",
       "Other       173\n",
       "Name: count, dtype: int64"
      ]
     },
     "execution_count": 147,
     "metadata": {},
     "output_type": "execute_result"
    }
   ],
   "source": [
    "df['gender'].fillna('Male', inplace=True)\n",
    "df['gender'].value_counts(dropna=False)"
   ]
  },
  {
   "cell_type": "markdown",
   "id": "cb4d2fb1",
   "metadata": {},
   "source": [
    "## 4. `relevent_experience`\n",
    "This is one of the few categorical features without missing values. Since it refers to the individual having or not having relevant experience, and it can be converted to `1`'s and `0`'s."
   ]
  },
  {
   "cell_type": "code",
   "execution_count": 148,
   "id": "47188a6e",
   "metadata": {},
   "outputs": [
    {
     "data": {
      "text/plain": [
       "relevent_experience\n",
       "Has relevent experience    13190\n",
       "No relevent experience      4824\n",
       "Name: count, dtype: int64"
      ]
     },
     "execution_count": 148,
     "metadata": {},
     "output_type": "execute_result"
    }
   ],
   "source": [
    "df['relevent_experience'].value_counts(dropna=False)"
   ]
  },
  {
   "cell_type": "code",
   "execution_count": 149,
   "id": "5e1bad3c",
   "metadata": {},
   "outputs": [
    {
     "data": {
      "text/plain": [
       "relevent_experience\n",
       "1    13190\n",
       "0     4824\n",
       "Name: count, dtype: int64"
      ]
     },
     "execution_count": 149,
     "metadata": {},
     "output_type": "execute_result"
    }
   ],
   "source": [
    "df['relevent_experience'].replace('Has relevent experience', 1, inplace=True)\n",
    "df['relevent_experience'].replace('No relevent experience', 0, inplace=True)\n",
    "df['relevent_experience'].value_counts(dropna=False)"
   ]
  },
  {
   "cell_type": "markdown",
   "id": "85f732a0",
   "metadata": {},
   "source": [
    "## 5. `enrolled_university`\n",
    "Missing values are imputed with the most frequent value."
   ]
  },
  {
   "cell_type": "code",
   "execution_count": 150,
   "id": "76e54f98",
   "metadata": {},
   "outputs": [
    {
     "data": {
      "text/plain": [
       "enrolled_university\n",
       "no_enrollment       13348\n",
       "Full time course     3517\n",
       "Part time course     1149\n",
       "Name: count, dtype: int64"
      ]
     },
     "execution_count": 150,
     "metadata": {},
     "output_type": "execute_result"
    }
   ],
   "source": [
    "df['enrolled_university'].value_counts(dropna=False)"
   ]
  },
  {
   "cell_type": "code",
   "execution_count": 200,
   "id": "20917a0c",
   "metadata": {},
   "outputs": [
    {
     "data": {
      "image/png": "[encoded data removed]",
      "text/plain": [
       "<Figure size 640x480 with 1 Axes>"
      ]
     },
     "metadata": {},
     "output_type": "display_data"
    }
   ],
   "source": [
    "df['enrolled_university'].fillna('no_enrollment', inplace=True)\n",
    "df['enrolled_university'].replace('no_enrollment', 'none', inplace=True)\n",
    "df['enrolled_university'].replace('Full time course', 'full-time', inplace=True)\n",
    "df['enrolled_university'].replace('Part time course', 'part-time', inplace=True)\n",
    "\n",
    "value_counts = df['enrolled_university'].value_counts(dropna=False)\n",
    "\n",
    "# Creating a bar graph\n",
    "plt.bar(value_counts.index, value_counts.values)\n",
    "plt.ylabel('Count')\n",
    "plt.title('University Enrollment')\n",
    "plt.show()"
   ]
  },
  {
   "cell_type": "markdown",
   "id": "c4c91059",
   "metadata": {},
   "source": [
    "## 6. `education_level`\n",
    "Missing values are imputed with the most frequent value."
   ]
  },
  {
   "cell_type": "code",
   "execution_count": 152,
   "id": "35f3fd47",
   "metadata": {},
   "outputs": [
    {
     "data": {
      "text/plain": [
       "education_level\n",
       "Graduate          11188\n",
       "Masters            4228\n",
       "High School        1908\n",
       "Phd                 399\n",
       "Primary School      291\n",
       "Name: count, dtype: int64"
      ]
     },
     "execution_count": 152,
     "metadata": {},
     "output_type": "execute_result"
    }
   ],
   "source": [
    "df['education_level'].value_counts(dropna=False)"
   ]
  },
  {
   "cell_type": "code",
   "execution_count": 194,
   "id": "8e53f6bc",
   "metadata": {},
   "outputs": [
    {
     "data": {
      "image/png": "[encoded data removed]",
      "text/plain": [
       "<Figure size 640x480 with 1 Axes>"
      ]
     },
     "metadata": {},
     "output_type": "display_data"
    }
   ],
   "source": [
    "df['education_level'].fillna('Graduate', inplace=True)\n",
    "df['education_level'].value_counts(dropna=False)\n",
    "\n",
    "value_counts = df['education_level'].value_counts(dropna=False)\n",
    "\n",
    "# Creating a bar graph\n",
    "plt.bar(value_counts.index, value_counts.values)\n",
    "plt.ylabel('Count')\n",
    "plt.title('Education Level')\n",
    "plt.show()\n"
   ]
  },
  {
   "cell_type": "markdown",
   "id": "1861739b",
   "metadata": {},
   "source": [
    "## 7. `major_discipline`\n",
    "Missing values are imputed with the most frequent value. STEM stands for science, technology, engineering and mathematics."
   ]
  },
  {
   "cell_type": "code",
   "execution_count": 154,
   "id": "bcffda05",
   "metadata": {},
   "outputs": [
    {
     "data": {
      "text/plain": [
       "major_discipline\n",
       "STEM               16213\n",
       "Humanities           655\n",
       "Other                364\n",
       "Business Degree      322\n",
       "Arts                 248\n",
       "No Major             212\n",
       "Name: count, dtype: int64"
      ]
     },
     "execution_count": 154,
     "metadata": {},
     "output_type": "execute_result"
    }
   ],
   "source": [
    "df['major_discipline'].value_counts(dropna=False)"
   ]
  },
  {
   "cell_type": "code",
   "execution_count": 155,
   "id": "6745874b",
   "metadata": {},
   "outputs": [
    {
     "data": {
      "text/plain": [
       "major_discipline\n",
       "STEM               16213\n",
       "Humanities           655\n",
       "Other                364\n",
       "Business Degree      322\n",
       "Arts                 248\n",
       "No Major             212\n",
       "Name: count, dtype: int64"
      ]
     },
     "execution_count": 155,
     "metadata": {},
     "output_type": "execute_result"
    }
   ],
   "source": [
    "df['major_discipline'].fillna('STEM', inplace=True)\n",
    "df['major_discipline'].value_counts(dropna=False)"
   ]
  },
  {
   "cell_type": "markdown",
   "id": "515777f2",
   "metadata": {},
   "source": [
    "## 8. `experience`\n",
    "Missing values for candidate's total experience in years are imputed with the most frequent value."
   ]
  },
  {
   "cell_type": "code",
   "execution_count": 156,
   "id": "7e8f4851",
   "metadata": {},
   "outputs": [
    {
     "data": {
      "text/plain": [
       "experience\n",
       ">20    3182\n",
       "5      1337\n",
       "4      1298\n",
       "3      1223\n",
       "6      1143\n",
       "2       997\n",
       "7       982\n",
       "10      946\n",
       "9       936\n",
       "8       768\n",
       "15      668\n",
       "11      649\n",
       "14      569\n",
       "16      488\n",
       "1       475\n",
       "12      475\n",
       "<1      451\n",
       "13      387\n",
       "17      331\n",
       "19      294\n",
       "18      273\n",
       "20      142\n",
       "Name: count, dtype: int64"
      ]
     },
     "execution_count": 156,
     "metadata": {},
     "output_type": "execute_result"
    }
   ],
   "source": [
    "df['experience'].value_counts(dropna=False)"
   ]
  },
  {
   "cell_type": "code",
   "execution_count": 157,
   "id": "e751dea8",
   "metadata": {},
   "outputs": [
    {
     "data": {
      "text/plain": [
       "experience\n",
       ">20    3182\n",
       "5      1337\n",
       "4      1298\n",
       "3      1223\n",
       "6      1143\n",
       "2       997\n",
       "7       982\n",
       "10      946\n",
       "9       936\n",
       "8       768\n",
       "15      668\n",
       "11      649\n",
       "14      569\n",
       "16      488\n",
       "1       475\n",
       "12      475\n",
       "<1      451\n",
       "13      387\n",
       "17      331\n",
       "19      294\n",
       "18      273\n",
       "20      142\n",
       "Name: count, dtype: int64"
      ]
     },
     "execution_count": 157,
     "metadata": {},
     "output_type": "execute_result"
    }
   ],
   "source": [
    "df['experience'].fillna('>20', inplace=True)\n",
    "df['experience'].value_counts(dropna=False)"
   ]
  },
  {
   "cell_type": "code",
   "execution_count": 196,
   "id": "cd0ec2b0",
   "metadata": {},
   "outputs": [
    {
     "data": {
      "image/png": "[encoded data removed]",
      "text/plain": [
       "<Figure size 640x480 with 1 Axes>"
      ]
     },
     "metadata": {},
     "output_type": "display_data"
    }
   ],
   "source": [
    "# Create bins for boarder categorization of experience.\n",
    "for exp in ['<1', '1', '2']:\n",
    "    df['experience'].replace(exp, '0-2', inplace=True)\n",
    "for exp in ['3', '4']:\n",
    "    df['experience'].replace(exp, '3-4', inplace=True)\n",
    "for exp in ['5', '6', '7', '8', '9']:\n",
    "    df['experience'].replace(exp, '5-9', inplace=True)\n",
    "for exp in ['10', '11', '12', '13', '14', '15', '16', '17', '18', '19', '20', '>20']:\n",
    "    df['experience'].replace(exp, '>=10', inplace=True)\n",
    "\n",
    "value_counts = df['experience'].value_counts(dropna=False)\n",
    "\n",
    "# Creating a bar graph\n",
    "plt.bar(value_counts.index, value_counts.values)\n",
    "plt.xlabel('Years')\n",
    "plt.ylabel('Count')\n",
    "plt.title('Experience')\n",
    "plt.show()"
   ]
  },
  {
   "cell_type": "markdown",
   "id": "ee59e1a1",
   "metadata": {},
   "source": [
    "## 9. `company_size`\n",
    "Missing values for the company size are imputed with the most frequent value."
   ]
  },
  {
   "cell_type": "code",
   "execution_count": 159,
   "id": "09ee123a",
   "metadata": {},
   "outputs": [
    {
     "data": {
      "text/plain": [
       "company_size\n",
       "<10          6552\n",
       "50-99        2950\n",
       "100-500      2483\n",
       "10000+       1964\n",
       "10/49        1394\n",
       "1000-4999    1282\n",
       "500-999       847\n",
       "5000-9999     542\n",
       "Name: count, dtype: int64"
      ]
     },
     "execution_count": 159,
     "metadata": {},
     "output_type": "execute_result"
    }
   ],
   "source": [
    "df['company_size'].value_counts(dropna=False)"
   ]
  },
  {
   "cell_type": "code",
   "execution_count": 199,
   "id": "6ddc9b52",
   "metadata": {},
   "outputs": [
    {
     "data": {
      "image/png": "[encoded data removed]",
      "text/plain": [
       "<Figure size 640x480 with 1 Axes>"
      ]
     },
     "metadata": {},
     "output_type": "display_data"
    }
   ],
   "source": [
    "df['company_size'].replace('10/49', '10-49', inplace=True)\n",
    "df['company_size'].replace('10000+', '>10000', inplace=True)\n",
    "df['company_size'].fillna('50-99', inplace=True)\n",
    "df['company_size'].value_counts(dropna=False)\n",
    "\n",
    "value_counts = df['company_size'].value_counts(dropna=False)\n",
    "\n",
    "# Creating a bar graph\n",
    "plt.bar(value_counts.index, value_counts.values)\n",
    "plt.xlabel('Employees')\n",
    "plt.ylabel('Count')\n",
    "plt.title('Company Size')\n",
    "plt.show()"
   ]
  },
  {
   "cell_type": "markdown",
   "id": "aac2bbe8",
   "metadata": {},
   "source": [
    "## 10. `company_type`\n",
    "Missing values for the company type are imputed with the most frequent value."
   ]
  },
  {
   "cell_type": "code",
   "execution_count": 161,
   "id": "2424b9fa",
   "metadata": {},
   "outputs": [
    {
     "data": {
      "text/plain": [
       "company_type\n",
       "Pvt Ltd                14402\n",
       "Public Sector           1456\n",
       "Funded Startup           977\n",
       "Early Stage Startup      565\n",
       "NGO                      500\n",
       "Other                    114\n",
       "Name: count, dtype: int64"
      ]
     },
     "execution_count": 161,
     "metadata": {},
     "output_type": "execute_result"
    }
   ],
   "source": [
    "df['company_type'].value_counts(dropna=False)"
   ]
  },
  {
   "cell_type": "code",
   "execution_count": 162,
   "id": "59a0c152",
   "metadata": {},
   "outputs": [
    {
     "data": {
      "text/plain": [
       "company_type\n",
       "Pvt Ltd                14402\n",
       "Public Sector           1456\n",
       "Funded Startup           977\n",
       "Early Stage Startup      565\n",
       "NGO                      500\n",
       "Other                    114\n",
       "Name: count, dtype: int64"
      ]
     },
     "execution_count": 162,
     "metadata": {},
     "output_type": "execute_result"
    }
   ],
   "source": [
    "df['company_type'].fillna('Pvt Ltd', inplace=True)\n",
    "df['company_type'].value_counts(dropna=False)"
   ]
  },
  {
   "cell_type": "markdown",
   "id": "2aea7e4d",
   "metadata": {},
   "source": [
    "## 11. `last_new_job`\n",
    "Missing values for difference in years between previous and current job are imputed with the most frequent value."
   ]
  },
  {
   "cell_type": "code",
   "execution_count": 163,
   "id": "16ef316f",
   "metadata": {},
   "outputs": [
    {
     "data": {
      "text/plain": [
       "last_new_job\n",
       "1        7789\n",
       ">4       3210\n",
       "2        2827\n",
       "never    2187\n",
       "4        1010\n",
       "3         991\n",
       "Name: count, dtype: int64"
      ]
     },
     "execution_count": 163,
     "metadata": {},
     "output_type": "execute_result"
    }
   ],
   "source": [
    "df['last_new_job'].value_counts(dropna=False)"
   ]
  },
  {
   "cell_type": "code",
   "execution_count": 164,
   "id": "becae0ac",
   "metadata": {},
   "outputs": [
    {
     "data": {
      "text/plain": [
       "last_new_job\n",
       "1        7789\n",
       ">4       3210\n",
       "2        2827\n",
       "never    2187\n",
       "4        1010\n",
       "3         991\n",
       "Name: count, dtype: int64"
      ]
     },
     "execution_count": 164,
     "metadata": {},
     "output_type": "execute_result"
    }
   ],
   "source": [
    "df['last_new_job'].fillna('1', inplace=True)\n",
    "df['last_new_job'].value_counts(dropna=False)"
   ]
  },
  {
   "cell_type": "markdown",
   "id": "2d27d79e",
   "metadata": {},
   "source": [
    "## 12. `training_hours`"
   ]
  },
  {
   "cell_type": "code",
   "execution_count": 165,
   "id": "3f936118",
   "metadata": {},
   "outputs": [
    {
     "data": {
      "image/png": "[encoded data removed]",
      "text/plain": [
       "<Figure size 640x480 with 1 Axes>"
      ]
     },
     "metadata": {},
     "output_type": "display_data"
    }
   ],
   "source": [
    "df['training_hours'].hist(bins=50);"
   ]
  },
  {
   "cell_type": "markdown",
   "id": "53b23d8d",
   "metadata": {},
   "source": [
    "## 13. `target`\n",
    "`target` is imbalanced, so it needs to be addressed by ensuring `stratify=y` and/or resampling."
   ]
  },
  {
   "cell_type": "code",
   "execution_count": 166,
   "id": "09532833",
   "metadata": {},
   "outputs": [
    {
     "data": {
      "text/plain": [
       "target\n",
       "0.0    13593\n",
       "1.0     4421\n",
       "Name: count, dtype: int64"
      ]
     },
     "execution_count": 166,
     "metadata": {},
     "output_type": "execute_result"
    }
   ],
   "source": [
    "df['target'].value_counts(dropna=False)"
   ]
  },
  {
   "cell_type": "code",
   "execution_count": 167,
   "id": "7c13d146",
   "metadata": {},
   "outputs": [
    {
     "name": "stdout",
     "output_type": "stream",
     "text": [
      "<class 'pandas.core.frame.DataFrame'>\n",
      "RangeIndex: 18014 entries, 0 to 18013\n",
      "Data columns (total 13 columns):\n",
      " #   Column                  Non-Null Count  Dtype  \n",
      "---  ------                  --------------  -----  \n",
      " 0   city                    18014 non-null  object \n",
      " 1   city_development_index  18014 non-null  float64\n",
      " 2   gender                  18014 non-null  object \n",
      " 3   relevent_experience     18014 non-null  int64  \n",
      " 4   enrolled_university     18014 non-null  object \n",
      " 5   education_level         18014 non-null  object \n",
      " 6   major_discipline        18014 non-null  object \n",
      " 7   experience              18014 non-null  object \n",
      " 8   company_size            18014 non-null  object \n",
      " 9   company_type            18014 non-null  object \n",
      " 10  last_new_job            18014 non-null  object \n",
      " 11  training_hours          18014 non-null  int64  \n",
      " 12  target                  18014 non-null  float64\n",
      "dtypes: float64(2), int64(2), object(9)\n",
      "memory usage: 1.8+ MB\n"
     ]
    }
   ],
   "source": [
    "df.info()"
   ]
  },
  {
   "cell_type": "markdown",
   "id": "62fdbc1c",
   "metadata": {},
   "source": [
    "# Model Implementation"
   ]
  },
  {
   "cell_type": "code",
   "execution_count": 168,
   "id": "198062cc",
   "metadata": {},
   "outputs": [
    {
     "data": {
      "text/html": [
       "<div>\n",
       "<style scoped>\n",
       "    .dataframe tbody tr th:only-of-type {\n",
       "        vertical-align: middle;\n",
       "    }\n",
       "\n",
       "    .dataframe tbody tr th {\n",
       "        vertical-align: top;\n",
       "    }\n",
       "\n",
       "    .dataframe thead th {\n",
       "        text-align: right;\n",
       "    }\n",
       "</style>\n",
       "<table border=\"1\" class=\"dataframe\">\n",
       "  <thead>\n",
       "    <tr style=\"text-align: right;\">\n",
       "      <th></th>\n",
       "      <th>city_development_index</th>\n",
       "      <th>relevent_experience</th>\n",
       "      <th>training_hours</th>\n",
       "      <th>target</th>\n",
       "      <th>city_Other</th>\n",
       "      <th>city_city_100</th>\n",
       "      <th>city_city_102</th>\n",
       "      <th>city_city_103</th>\n",
       "      <th>city_city_104</th>\n",
       "      <th>city_city_11</th>\n",
       "      <th>...</th>\n",
       "      <th>company_type_NGO</th>\n",
       "      <th>company_type_Other</th>\n",
       "      <th>company_type_Public Sector</th>\n",
       "      <th>company_type_Pvt Ltd</th>\n",
       "      <th>last_new_job_1</th>\n",
       "      <th>last_new_job_2</th>\n",
       "      <th>last_new_job_3</th>\n",
       "      <th>last_new_job_4</th>\n",
       "      <th>last_new_job_&gt;4</th>\n",
       "      <th>last_new_job_never</th>\n",
       "    </tr>\n",
       "  </thead>\n",
       "  <tbody>\n",
       "    <tr>\n",
       "      <th>0</th>\n",
       "      <td>0.920</td>\n",
       "      <td>1</td>\n",
       "      <td>36</td>\n",
       "      <td>1.0</td>\n",
       "      <td>False</td>\n",
       "      <td>False</td>\n",
       "      <td>False</td>\n",
       "      <td>True</td>\n",
       "      <td>False</td>\n",
       "      <td>False</td>\n",
       "      <td>...</td>\n",
       "      <td>False</td>\n",
       "      <td>False</td>\n",
       "      <td>False</td>\n",
       "      <td>True</td>\n",
       "      <td>True</td>\n",
       "      <td>False</td>\n",
       "      <td>False</td>\n",
       "      <td>False</td>\n",
       "      <td>False</td>\n",
       "      <td>False</td>\n",
       "    </tr>\n",
       "    <tr>\n",
       "      <th>1</th>\n",
       "      <td>0.776</td>\n",
       "      <td>0</td>\n",
       "      <td>47</td>\n",
       "      <td>0.0</td>\n",
       "      <td>True</td>\n",
       "      <td>False</td>\n",
       "      <td>False</td>\n",
       "      <td>False</td>\n",
       "      <td>False</td>\n",
       "      <td>False</td>\n",
       "      <td>...</td>\n",
       "      <td>False</td>\n",
       "      <td>False</td>\n",
       "      <td>False</td>\n",
       "      <td>True</td>\n",
       "      <td>False</td>\n",
       "      <td>False</td>\n",
       "      <td>False</td>\n",
       "      <td>False</td>\n",
       "      <td>True</td>\n",
       "      <td>False</td>\n",
       "    </tr>\n",
       "    <tr>\n",
       "      <th>2</th>\n",
       "      <td>0.624</td>\n",
       "      <td>0</td>\n",
       "      <td>83</td>\n",
       "      <td>0.0</td>\n",
       "      <td>False</td>\n",
       "      <td>False</td>\n",
       "      <td>False</td>\n",
       "      <td>False</td>\n",
       "      <td>False</td>\n",
       "      <td>False</td>\n",
       "      <td>...</td>\n",
       "      <td>False</td>\n",
       "      <td>False</td>\n",
       "      <td>False</td>\n",
       "      <td>True</td>\n",
       "      <td>False</td>\n",
       "      <td>False</td>\n",
       "      <td>False</td>\n",
       "      <td>False</td>\n",
       "      <td>False</td>\n",
       "      <td>True</td>\n",
       "    </tr>\n",
       "    <tr>\n",
       "      <th>3</th>\n",
       "      <td>0.767</td>\n",
       "      <td>1</td>\n",
       "      <td>8</td>\n",
       "      <td>0.0</td>\n",
       "      <td>True</td>\n",
       "      <td>False</td>\n",
       "      <td>False</td>\n",
       "      <td>False</td>\n",
       "      <td>False</td>\n",
       "      <td>False</td>\n",
       "      <td>...</td>\n",
       "      <td>False</td>\n",
       "      <td>False</td>\n",
       "      <td>False</td>\n",
       "      <td>False</td>\n",
       "      <td>False</td>\n",
       "      <td>False</td>\n",
       "      <td>False</td>\n",
       "      <td>True</td>\n",
       "      <td>False</td>\n",
       "      <td>False</td>\n",
       "    </tr>\n",
       "    <tr>\n",
       "      <th>4</th>\n",
       "      <td>0.764</td>\n",
       "      <td>1</td>\n",
       "      <td>24</td>\n",
       "      <td>1.0</td>\n",
       "      <td>True</td>\n",
       "      <td>False</td>\n",
       "      <td>False</td>\n",
       "      <td>False</td>\n",
       "      <td>False</td>\n",
       "      <td>False</td>\n",
       "      <td>...</td>\n",
       "      <td>False</td>\n",
       "      <td>False</td>\n",
       "      <td>False</td>\n",
       "      <td>True</td>\n",
       "      <td>True</td>\n",
       "      <td>False</td>\n",
       "      <td>False</td>\n",
       "      <td>False</td>\n",
       "      <td>False</td>\n",
       "      <td>False</td>\n",
       "    </tr>\n",
       "  </tbody>\n",
       "</table>\n",
       "<p>5 rows × 60 columns</p>\n",
       "</div>"
      ],
      "text/plain": [
       "   city_development_index  relevent_experience  training_hours  target   \n",
       "0                   0.920                    1              36     1.0  \\\n",
       "1                   0.776                    0              47     0.0   \n",
       "2                   0.624                    0              83     0.0   \n",
       "3                   0.767                    1               8     0.0   \n",
       "4                   0.764                    1              24     1.0   \n",
       "\n",
       "   city_Other  city_city_100  city_city_102  city_city_103  city_city_104   \n",
       "0       False          False          False           True          False  \\\n",
       "1        True          False          False          False          False   \n",
       "2       False          False          False          False          False   \n",
       "3        True          False          False          False          False   \n",
       "4        True          False          False          False          False   \n",
       "\n",
       "   city_city_11  ...  company_type_NGO  company_type_Other   \n",
       "0         False  ...             False               False  \\\n",
       "1         False  ...             False               False   \n",
       "2         False  ...             False               False   \n",
       "3         False  ...             False               False   \n",
       "4         False  ...             False               False   \n",
       "\n",
       "   company_type_Public Sector  company_type_Pvt Ltd  last_new_job_1   \n",
       "0                       False                  True            True  \\\n",
       "1                       False                  True           False   \n",
       "2                       False                  True           False   \n",
       "3                       False                 False           False   \n",
       "4                       False                  True            True   \n",
       "\n",
       "   last_new_job_2  last_new_job_3  last_new_job_4  last_new_job_>4   \n",
       "0           False           False           False            False  \\\n",
       "1           False           False           False             True   \n",
       "2           False           False           False            False   \n",
       "3           False           False            True            False   \n",
       "4           False           False           False            False   \n",
       "\n",
       "   last_new_job_never  \n",
       "0               False  \n",
       "1               False  \n",
       "2                True  \n",
       "3               False  \n",
       "4               False  \n",
       "\n",
       "[5 rows x 60 columns]"
      ]
     },
     "execution_count": 168,
     "metadata": {},
     "output_type": "execute_result"
    }
   ],
   "source": [
    "model_df = pd.get_dummies(df)\n",
    "model_df.head()"
   ]
  },
  {
   "cell_type": "code",
   "execution_count": 169,
   "id": "834385d1",
   "metadata": {},
   "outputs": [],
   "source": [
    "# Split the data into a training set and a testing set.\n",
    "y = model_df.target\n",
    "X = model_df.drop(columns='target')\n",
    "X_train, X_test, y_train, y_test = train_test_split(X, y, random_state=42, stratify=y)\n",
    "\n",
    "# Instantiate a StandardScaler instance.\n",
    "scaler = StandardScaler()\n",
    "\n",
    "# Fit the training data to the standard scaler.\n",
    "X_scaler = scaler.fit(X_train)\n",
    "\n",
    "# Transform the training data using the scaler.\n",
    "X_train_scaled = X_scaler.transform(X_train)\n",
    "\n",
    "# Transform the testing data using the scaler.\n",
    "X_test_scaled = X_scaler.transform(X_test)"
   ]
  },
  {
   "cell_type": "code",
   "execution_count": 170,
   "id": "54c0a0ef",
   "metadata": {},
   "outputs": [],
   "source": [
    "# Due to imbalanced target values, instantiate the random oversampler model.\n",
    "ros = RandomOverSampler(random_state=42)\n",
    "X_res, y_res = ros.fit_resample(X_train_scaled, y_train)"
   ]
  },
  {
   "cell_type": "code",
   "execution_count": 171,
   "id": "7f123268",
   "metadata": {},
   "outputs": [],
   "source": [
    "# Implement a logistic regression model.\n",
    "classifier = LogisticRegression(solver='lbfgs', random_state=42)\n",
    "classifier.fit(X_res, y_res)\n",
    "predictions = classifier.predict(X_test_scaled)"
   ]
  },
  {
   "cell_type": "code",
   "execution_count": 172,
   "id": "aadbb016",
   "metadata": {},
   "outputs": [
    {
     "name": "stdout",
     "output_type": "stream",
     "text": [
      "Accuracy score: 0.76\n"
     ]
    }
   ],
   "source": [
    "# Display the accuracy score for the test dataset.\n",
    "print(f'Accuracy score: {accuracy_score(y_test, predictions):.2f}')"
   ]
  },
  {
   "cell_type": "code",
   "execution_count": 173,
   "id": "32061949",
   "metadata": {},
   "outputs": [
    {
     "data": {
      "text/plain": [
       "array([[2590,  809],\n",
       "       [ 276,  829]], dtype=int64)"
      ]
     },
     "execution_count": 173,
     "metadata": {},
     "output_type": "execute_result"
    }
   ],
   "source": [
    "# Display the confusion matrix.\n",
    "confusion_matrix(y_test, predictions)"
   ]
  },
  {
   "cell_type": "markdown",
   "id": "d86e44f6",
   "metadata": {},
   "source": [
    "| n=19158 | Predicted: Staying | Predicted: Leaving |\n",
    "| --- | --- | --- |\n",
    "| Actual: Staying | 2678 | 918 |\n",
    "| Actual: Leaving | 313 | 881 |\n"
   ]
  },
  {
   "cell_type": "code",
   "execution_count": 174,
   "id": "5e01a1b7",
   "metadata": {},
   "outputs": [
    {
     "name": "stdout",
     "output_type": "stream",
     "text": [
      "              precision    recall  f1-score   support\n",
      "\n",
      "        stay       0.90      0.76      0.83      3399\n",
      "       leave       0.51      0.75      0.60      1105\n",
      "\n",
      "    accuracy                           0.76      4504\n",
      "   macro avg       0.70      0.76      0.72      4504\n",
      "weighted avg       0.81      0.76      0.77      4504\n",
      "\n"
     ]
    }
   ],
   "source": [
    "# Display the classification report.\n",
    "target_names = ['stay', 'leave']\n",
    "print(classification_report(y_test, predictions, target_names=target_names))"
   ]
  },
  {
   "cell_type": "markdown",
   "id": "f911fe60",
   "metadata": {},
   "source": [
    "Considering that a recall score of 0.74 is achieved for predicting individuals leaving their current employment, this is a good starting point for our analysis."
   ]
  },
  {
   "cell_type": "markdown",
   "id": "f645aaea",
   "metadata": {},
   "source": [
    "# Feature Importance"
   ]
  },
  {
   "cell_type": "code",
   "execution_count": 175,
   "id": "3547930c",
   "metadata": {},
   "outputs": [],
   "source": [
    "importance = classifier.coef_[0]"
   ]
  },
  {
   "cell_type": "code",
   "execution_count": 176,
   "id": "fcc6df19",
   "metadata": {},
   "outputs": [
    {
     "name": "stdout",
     "output_type": "stream",
     "text": [
      "Feature: city_development_index, Score: -0.597\n",
      "Feature: relevent_experience, Score: -0.163\n",
      "Feature: city_Other, Score: -0.173\n",
      "Feature: city_city_103, Score: 0.165\n",
      "Feature: city_city_136, Score: -0.129\n",
      "Feature: city_city_16, Score: -0.110\n",
      "Feature: city_city_21, Score: 0.285\n",
      "Feature: city_city_67, Score: -0.102\n",
      "Feature: education_level_Graduate, Score: 0.102\n",
      "Feature: education_level_High School, Score: -0.163\n",
      "Feature: education_level_Primary School, Score: -0.134\n",
      "Feature: company_size_100-500, Score: -0.175\n",
      "Feature: company_size_1000-4999, Score: -0.107\n",
      "Feature: company_size_50-99, Score: -0.125\n",
      "Feature: company_size_500-999, Score: -0.106\n",
      "Feature: company_size_<10, Score: 0.415\n",
      "Feature: company_size_>10000, Score: -0.107\n",
      "Feature: last_new_job_never, Score: -0.156\n"
     ]
    }
   ],
   "source": [
    "for i,v in enumerate(importance):\n",
    "    if abs(v)>=0.1:\n",
    "        print(f'Feature: {X.columns[i]}, Score: {v:.3f}')"
   ]
  },
  {
   "cell_type": "code",
   "execution_count": 177,
   "id": "d9647cbf",
   "metadata": {},
   "outputs": [
    {
     "data": {
      "image/png": "[encoded data removed]",
      "text/plain": [
       "<Figure size 640x480 with 1 Axes>"
      ]
     },
     "metadata": {},
     "output_type": "display_data"
    }
   ],
   "source": [
    "# Criteria 1\n",
    "criteria_1 = ['education_level_Graduate', 'education_level_High School', 'education_level_Primary School']\n",
    "\n",
    "# Mapping of original column names\n",
    "label_mapping_1 = {\n",
    "    'education_level_Graduate': 'Graduate',\n",
    "    'education_level_High School': 'High School',\n",
    "    'education_level_Primary School': 'Primary School'\n",
    "}\n",
    "\n",
    "true_counts_1 = []  # Store the counts of True values for Criteria 1\n",
    "x_labels_1 = []  # Store the corresponding column labels for Criteria 1\n",
    "\n",
    "for criterion in criteria_1:\n",
    "    if criterion in X.columns:\n",
    "        true_count = X.loc[X[criterion] == True, criterion].value_counts().loc[True]\n",
    "        true_counts_1.append(true_count)\n",
    "        x_labels_1.append(label_mapping_1.get(criterion, criterion))\n",
    "\n",
    "# Plotting the bar chart\n",
    "plt.bar(x_labels_1, true_counts_1)\n",
    "plt.xlabel('Criteria')\n",
    "plt.ylabel('Count')\n",
    "plt.title('Education Level')\n",
    "plt.xticks(rotation=45)\n",
    "\n",
    "plt.show()"
   ]
  },
  {
   "cell_type": "code",
   "execution_count": 178,
   "id": "8076412b",
   "metadata": {},
   "outputs": [
    {
     "data": {
      "image/png": "[encoded data removed]",
      "text/plain": [
       "<Figure size 640x480 with 1 Axes>"
      ]
     },
     "metadata": {},
     "output_type": "display_data"
    }
   ],
   "source": [
    "# Criteria 2\n",
    "criteria_2 = ['company_size_100-500', 'company_size_1000-4999', 'company_size_50-99',\n",
    "              'company_size_500-999', 'company_size_<10', 'company_size_>10000']\n",
    "\n",
    "# Mapping of original column names\n",
    "label_mapping_2 = {\n",
    "    'company_size_100-500': '100-500',\n",
    "    'company_size_1000-4999': '1000-4999',\n",
    "    'company_size_50-99': '50-99',\n",
    "    'company_size_500-999': '500-999',\n",
    "    'company_size_<10': '<10',\n",
    "    'company_size_>10000': '>10000'\n",
    "}\n",
    "\n",
    "true_counts_2 = []  # Store the counts of True values for Criteria 2\n",
    "x_labels_2 = []  # Store the corresponding column labels for Criteria 2\n",
    "\n",
    "for criterion in criteria_2:\n",
    "    if criterion in X.columns:\n",
    "        true_count = X.loc[X[criterion] == True, criterion].value_counts().loc[True]\n",
    "        true_counts_2.append(true_count)\n",
    "        x_labels_2.append(label_mapping_2.get(criterion, criterion))\n",
    "\n",
    "# Sort the data in descending order\n",
    "sorted_data = sorted(zip(true_counts_2, x_labels_2), reverse=True)\n",
    "true_counts_2, x_labels_2 = zip(*sorted_data)\n",
    "\n",
    "# Plotting the bar chart\n",
    "plt.bar(x_labels_2, true_counts_2)\n",
    "plt.xlabel('Criteria')\n",
    "plt.ylabel('Count')\n",
    "plt.title('Company Size')\n",
    "plt.xticks(rotation=45)\n",
    "\n",
    "plt.show()"
   ]
  },
  {
   "cell_type": "code",
   "execution_count": 179,
   "id": "1db85640",
   "metadata": {},
   "outputs": [
    {
     "data": {
      "image/png": "[encoded data removed]",
      "text/plain": [
       "<Figure size 640x480 with 1 Axes>"
      ]
     },
     "metadata": {},
     "output_type": "display_data"
    }
   ],
   "source": [
    "import matplotlib.pyplot as plt\n",
    "\n",
    "# Criteria 1\n",
    "criteria_1 = ['enrolled_university_full-time', 'enrolled_university_none', 'enrolled_university_part-time']\n",
    "\n",
    "# Mapping of original column names\n",
    "label_mapping = {\n",
    "    'enrolled_university_full-time': 'Full Time',\n",
    "    'enrolled_university_none': 'None',\n",
    "    'enrolled_university_part-time': 'Part-Time'\n",
    "}\n",
    "\n",
    "true_counts = []  # Store the counts of True values\n",
    "x_labels = []  # Store the corresponding column labels\n",
    "\n",
    "for criterion in criteria_1:\n",
    "    if criterion in X.columns:\n",
    "        true_count = X.loc[X[criterion] == True, criterion].value_counts().loc[True]\n",
    "        true_counts.append(true_count)\n",
    "        x_labels.append(label_mapping.get(criterion, criterion))\n",
    "\n",
    "# Plotting the bar chart\n",
    "plt.bar(x_labels, true_counts)\n",
    "plt.xlabel('Criteria')\n",
    "plt.ylabel('Count')\n",
    "plt.title('University Enrollment')\n",
    "plt.xticks(rotation=45)\n",
    "\n",
    "plt.show()"
   ]
  },
  {
   "cell_type": "code",
   "execution_count": 180,
   "id": "5396ba72",
   "metadata": {},
   "outputs": [
    {
     "data": {
      "text/plain": [
       "0.92"
      ]
     },
     "execution_count": 180,
     "metadata": {},
     "output_type": "execute_result"
    }
   ],
   "source": [
    "df[df['city']=='city_103']['city_development_index'].unique()[0]"
   ]
  },
  {
   "cell_type": "code",
   "execution_count": 181,
   "id": "6ed0a9ed",
   "metadata": {},
   "outputs": [
    {
     "data": {
      "text/plain": [
       "0.926"
      ]
     },
     "execution_count": 181,
     "metadata": {},
     "output_type": "execute_result"
    }
   ],
   "source": [
    "df[df['city']=='city_114']['city_development_index'].unique()[0]"
   ]
  },
  {
   "cell_type": "code",
   "execution_count": 182,
   "id": "b1d45f0e",
   "metadata": {},
   "outputs": [
    {
     "data": {
      "text/plain": [
       "0.897"
      ]
     },
     "execution_count": 182,
     "metadata": {},
     "output_type": "execute_result"
    }
   ],
   "source": [
    "df[df['city']=='city_136']['city_development_index'].unique()[0]"
   ]
  },
  {
   "cell_type": "code",
   "execution_count": 183,
   "id": "5e33a73f",
   "metadata": {},
   "outputs": [
    {
     "data": {
      "text/plain": [
       "0.624"
      ]
     },
     "execution_count": 183,
     "metadata": {},
     "output_type": "execute_result"
    }
   ],
   "source": [
    "df[df['city']=='city_21']['city_development_index'].unique()[0]"
   ]
  },
  {
   "cell_type": "code",
   "execution_count": 184,
   "id": "e6de0002",
   "metadata": {},
   "outputs": [
    {
     "data": {
      "image/png": "[encoded data removed]",
      "text/plain": [
       "<Figure size 640x480 with 1 Axes>"
      ]
     },
     "metadata": {},
     "output_type": "display_data"
    }
   ],
   "source": [
    "df['city_development_index'].hist(bins=50);"
   ]
  },
  {
   "cell_type": "code",
   "execution_count": 185,
   "id": "2f5ca7b3",
   "metadata": {},
   "outputs": [
    {
     "data": {
      "text/plain": [
       "count    18014.000000\n",
       "mean         0.831728\n",
       "std          0.122115\n",
       "min          0.448000\n",
       "25%          0.745000\n",
       "50%          0.910000\n",
       "75%          0.920000\n",
       "max          0.949000\n",
       "Name: city_development_index, dtype: float64"
      ]
     },
     "execution_count": 185,
     "metadata": {},
     "output_type": "execute_result"
    }
   ],
   "source": [
    "df['city_development_index'].describe()"
   ]
  },
  {
   "cell_type": "code",
   "execution_count": 186,
   "id": "fb1e8137",
   "metadata": {},
   "outputs": [
    {
     "data": {
      "text/html": [
       "<div>\n",
       "<style scoped>\n",
       "    .dataframe tbody tr th:only-of-type {\n",
       "        vertical-align: middle;\n",
       "    }\n",
       "\n",
       "    .dataframe tbody tr th {\n",
       "        vertical-align: top;\n",
       "    }\n",
       "\n",
       "    .dataframe thead th {\n",
       "        text-align: right;\n",
       "    }\n",
       "</style>\n",
       "<table border=\"1\" class=\"dataframe\">\n",
       "  <thead>\n",
       "    <tr style=\"text-align: right;\">\n",
       "      <th></th>\n",
       "      <th>city_development_index</th>\n",
       "      <th>target</th>\n",
       "    </tr>\n",
       "  </thead>\n",
       "  <tbody>\n",
       "    <tr>\n",
       "      <th>city_development_index</th>\n",
       "      <td>1.000000</td>\n",
       "      <td>-0.336234</td>\n",
       "    </tr>\n",
       "    <tr>\n",
       "      <th>target</th>\n",
       "      <td>-0.336234</td>\n",
       "      <td>1.000000</td>\n",
       "    </tr>\n",
       "  </tbody>\n",
       "</table>\n",
       "</div>"
      ],
      "text/plain": [
       "                        city_development_index    target\n",
       "city_development_index                1.000000 -0.336234\n",
       "target                               -0.336234  1.000000"
      ]
     },
     "execution_count": 186,
     "metadata": {},
     "output_type": "execute_result"
    }
   ],
   "source": [
    "df[['city_development_index', 'target']].corr()"
   ]
  },
  {
   "cell_type": "code",
   "execution_count": null,
   "id": "c8db6440",
   "metadata": {},
   "outputs": [],
   "source": []
  },
  {
   "cell_type": "code",
   "execution_count": 187,
   "id": "e1f6351e",
   "metadata": {},
   "outputs": [],
   "source": [
    "# from sklearn.ensemble import RandomForestClassifier\n",
    "\n",
    "# # Create the random forest classifier instance\n",
    "# rf_model = RandomForestClassifier(n_estimators=500, random_state=42)\n",
    "# rf_model = rf_model.fit(X_res, y_res)\n",
    "# predictions = rf_model.predict(X_test_scaled)\n",
    "\n",
    "# # Display the accuracy score for the test dataset.\n",
    "# print(f'Accuracy score: {accuracy_score(y_test, predictions):.2f}')\n",
    "\n",
    "# # Display the confusion matrix.\n",
    "# confusion_matrix(y_test, predictions)\n",
    "\n",
    "# # Display the classification report.\n",
    "# target_names = ['stay', 'leave']\n",
    "# print(classification_report(y_test, predictions, target_names=target_names))"
   ]
  }
 ],
 "metadata": {
  "kernelspec": {
   "display_name": "Python 3 (ipykernel)",
   "language": "python",
   "name": "python3"
  },
  "language_info": {
   "codemirror_mode": {
    "name": "ipython",
    "version": 3
   },
   "file_extension": ".py",
   "mimetype": "text/x-python",
   "name": "python",
   "nbconvert_exporter": "python",
   "pygments_lexer": "ipython3",
   "version": "3.11.2"
  }
 },
 "nbformat": 4,
 "nbformat_minor": 5
}
