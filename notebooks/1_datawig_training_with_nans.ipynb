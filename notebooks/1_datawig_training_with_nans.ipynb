{
 "cells": [
  {
   "cell_type": "code",
   "execution_count": 1,
   "id": "74442b47",
   "metadata": {},
   "outputs": [],
   "source": [
    "# Import dependencies\n",
    "import pandas as pd\n",
    "from pprint import pprint"
   ]
  },
  {
   "cell_type": "markdown",
   "id": "8a4100db",
   "metadata": {},
   "source": [
    "# HR ANALYSIS"
   ]
  },
  {
   "cell_type": "code",
   "execution_count": 2,
   "id": "d87d37d3",
   "metadata": {},
   "outputs": [],
   "source": [
    "# Load data\n",
    "path = '../resources/train.csv'\n",
    "\n",
    "hr_df = pd.read_csv(path)"
   ]
  },
  {
   "cell_type": "code",
   "execution_count": 3,
   "id": "32c930ab",
   "metadata": {},
   "outputs": [
    {
     "data": {
      "text/html": [
       "<div>\n",
       "<style scoped>\n",
       "    .dataframe tbody tr th:only-of-type {\n",
       "        vertical-align: middle;\n",
       "    }\n",
       "\n",
       "    .dataframe tbody tr th {\n",
       "        vertical-align: top;\n",
       "    }\n",
       "\n",
       "    .dataframe thead th {\n",
       "        text-align: right;\n",
       "    }\n",
       "</style>\n",
       "<table border=\"1\" class=\"dataframe\">\n",
       "  <thead>\n",
       "    <tr style=\"text-align: right;\">\n",
       "      <th></th>\n",
       "      <th>enrollee_id</th>\n",
       "      <th>city</th>\n",
       "      <th>city_development_index</th>\n",
       "      <th>gender</th>\n",
       "      <th>relevent_experience</th>\n",
       "      <th>enrolled_university</th>\n",
       "      <th>education_level</th>\n",
       "      <th>major_discipline</th>\n",
       "      <th>experience</th>\n",
       "      <th>company_size</th>\n",
       "      <th>company_type</th>\n",
       "      <th>last_new_job</th>\n",
       "      <th>training_hours</th>\n",
       "      <th>target</th>\n",
       "    </tr>\n",
       "  </thead>\n",
       "  <tbody>\n",
       "    <tr>\n",
       "      <th>0</th>\n",
       "      <td>8949</td>\n",
       "      <td>city_103</td>\n",
       "      <td>0.920</td>\n",
       "      <td>Male</td>\n",
       "      <td>Has relevent experience</td>\n",
       "      <td>no_enrollment</td>\n",
       "      <td>Graduate</td>\n",
       "      <td>STEM</td>\n",
       "      <td>&gt;20</td>\n",
       "      <td>NaN</td>\n",
       "      <td>NaN</td>\n",
       "      <td>1</td>\n",
       "      <td>36</td>\n",
       "      <td>1.0</td>\n",
       "    </tr>\n",
       "    <tr>\n",
       "      <th>1</th>\n",
       "      <td>29725</td>\n",
       "      <td>city_40</td>\n",
       "      <td>0.776</td>\n",
       "      <td>Male</td>\n",
       "      <td>No relevent experience</td>\n",
       "      <td>no_enrollment</td>\n",
       "      <td>Graduate</td>\n",
       "      <td>STEM</td>\n",
       "      <td>15</td>\n",
       "      <td>50-99</td>\n",
       "      <td>Pvt Ltd</td>\n",
       "      <td>&gt;4</td>\n",
       "      <td>47</td>\n",
       "      <td>0.0</td>\n",
       "    </tr>\n",
       "    <tr>\n",
       "      <th>2</th>\n",
       "      <td>11561</td>\n",
       "      <td>city_21</td>\n",
       "      <td>0.624</td>\n",
       "      <td>NaN</td>\n",
       "      <td>No relevent experience</td>\n",
       "      <td>Full time course</td>\n",
       "      <td>Graduate</td>\n",
       "      <td>STEM</td>\n",
       "      <td>5</td>\n",
       "      <td>NaN</td>\n",
       "      <td>NaN</td>\n",
       "      <td>never</td>\n",
       "      <td>83</td>\n",
       "      <td>0.0</td>\n",
       "    </tr>\n",
       "    <tr>\n",
       "      <th>3</th>\n",
       "      <td>33241</td>\n",
       "      <td>city_115</td>\n",
       "      <td>0.789</td>\n",
       "      <td>NaN</td>\n",
       "      <td>No relevent experience</td>\n",
       "      <td>NaN</td>\n",
       "      <td>Graduate</td>\n",
       "      <td>Business Degree</td>\n",
       "      <td>&lt;1</td>\n",
       "      <td>NaN</td>\n",
       "      <td>Pvt Ltd</td>\n",
       "      <td>never</td>\n",
       "      <td>52</td>\n",
       "      <td>1.0</td>\n",
       "    </tr>\n",
       "    <tr>\n",
       "      <th>4</th>\n",
       "      <td>666</td>\n",
       "      <td>city_162</td>\n",
       "      <td>0.767</td>\n",
       "      <td>Male</td>\n",
       "      <td>Has relevent experience</td>\n",
       "      <td>no_enrollment</td>\n",
       "      <td>Masters</td>\n",
       "      <td>STEM</td>\n",
       "      <td>&gt;20</td>\n",
       "      <td>50-99</td>\n",
       "      <td>Funded Startup</td>\n",
       "      <td>4</td>\n",
       "      <td>8</td>\n",
       "      <td>0.0</td>\n",
       "    </tr>\n",
       "    <tr>\n",
       "      <th>...</th>\n",
       "      <td>...</td>\n",
       "      <td>...</td>\n",
       "      <td>...</td>\n",
       "      <td>...</td>\n",
       "      <td>...</td>\n",
       "      <td>...</td>\n",
       "      <td>...</td>\n",
       "      <td>...</td>\n",
       "      <td>...</td>\n",
       "      <td>...</td>\n",
       "      <td>...</td>\n",
       "      <td>...</td>\n",
       "      <td>...</td>\n",
       "      <td>...</td>\n",
       "    </tr>\n",
       "    <tr>\n",
       "      <th>19153</th>\n",
       "      <td>7386</td>\n",
       "      <td>city_173</td>\n",
       "      <td>0.878</td>\n",
       "      <td>Male</td>\n",
       "      <td>No relevent experience</td>\n",
       "      <td>no_enrollment</td>\n",
       "      <td>Graduate</td>\n",
       "      <td>Humanities</td>\n",
       "      <td>14</td>\n",
       "      <td>NaN</td>\n",
       "      <td>NaN</td>\n",
       "      <td>1</td>\n",
       "      <td>42</td>\n",
       "      <td>1.0</td>\n",
       "    </tr>\n",
       "    <tr>\n",
       "      <th>19154</th>\n",
       "      <td>31398</td>\n",
       "      <td>city_103</td>\n",
       "      <td>0.920</td>\n",
       "      <td>Male</td>\n",
       "      <td>Has relevent experience</td>\n",
       "      <td>no_enrollment</td>\n",
       "      <td>Graduate</td>\n",
       "      <td>STEM</td>\n",
       "      <td>14</td>\n",
       "      <td>NaN</td>\n",
       "      <td>NaN</td>\n",
       "      <td>4</td>\n",
       "      <td>52</td>\n",
       "      <td>1.0</td>\n",
       "    </tr>\n",
       "    <tr>\n",
       "      <th>19155</th>\n",
       "      <td>24576</td>\n",
       "      <td>city_103</td>\n",
       "      <td>0.920</td>\n",
       "      <td>Male</td>\n",
       "      <td>Has relevent experience</td>\n",
       "      <td>no_enrollment</td>\n",
       "      <td>Graduate</td>\n",
       "      <td>STEM</td>\n",
       "      <td>&gt;20</td>\n",
       "      <td>50-99</td>\n",
       "      <td>Pvt Ltd</td>\n",
       "      <td>4</td>\n",
       "      <td>44</td>\n",
       "      <td>0.0</td>\n",
       "    </tr>\n",
       "    <tr>\n",
       "      <th>19156</th>\n",
       "      <td>5756</td>\n",
       "      <td>city_65</td>\n",
       "      <td>0.802</td>\n",
       "      <td>Male</td>\n",
       "      <td>Has relevent experience</td>\n",
       "      <td>no_enrollment</td>\n",
       "      <td>High School</td>\n",
       "      <td>NaN</td>\n",
       "      <td>&lt;1</td>\n",
       "      <td>500-999</td>\n",
       "      <td>Pvt Ltd</td>\n",
       "      <td>2</td>\n",
       "      <td>97</td>\n",
       "      <td>0.0</td>\n",
       "    </tr>\n",
       "    <tr>\n",
       "      <th>19157</th>\n",
       "      <td>23834</td>\n",
       "      <td>city_67</td>\n",
       "      <td>0.855</td>\n",
       "      <td>NaN</td>\n",
       "      <td>No relevent experience</td>\n",
       "      <td>no_enrollment</td>\n",
       "      <td>Primary School</td>\n",
       "      <td>NaN</td>\n",
       "      <td>2</td>\n",
       "      <td>NaN</td>\n",
       "      <td>NaN</td>\n",
       "      <td>1</td>\n",
       "      <td>127</td>\n",
       "      <td>0.0</td>\n",
       "    </tr>\n",
       "  </tbody>\n",
       "</table>\n",
       "<p>19158 rows × 14 columns</p>\n",
       "</div>"
      ],
      "text/plain": [
       "       enrollee_id      city  city_development_index gender  \\\n",
       "0             8949  city_103                   0.920   Male   \n",
       "1            29725   city_40                   0.776   Male   \n",
       "2            11561   city_21                   0.624    NaN   \n",
       "3            33241  city_115                   0.789    NaN   \n",
       "4              666  city_162                   0.767   Male   \n",
       "...            ...       ...                     ...    ...   \n",
       "19153         7386  city_173                   0.878   Male   \n",
       "19154        31398  city_103                   0.920   Male   \n",
       "19155        24576  city_103                   0.920   Male   \n",
       "19156         5756   city_65                   0.802   Male   \n",
       "19157        23834   city_67                   0.855    NaN   \n",
       "\n",
       "           relevent_experience enrolled_university education_level  \\\n",
       "0      Has relevent experience       no_enrollment        Graduate   \n",
       "1       No relevent experience       no_enrollment        Graduate   \n",
       "2       No relevent experience    Full time course        Graduate   \n",
       "3       No relevent experience                 NaN        Graduate   \n",
       "4      Has relevent experience       no_enrollment         Masters   \n",
       "...                        ...                 ...             ...   \n",
       "19153   No relevent experience       no_enrollment        Graduate   \n",
       "19154  Has relevent experience       no_enrollment        Graduate   \n",
       "19155  Has relevent experience       no_enrollment        Graduate   \n",
       "19156  Has relevent experience       no_enrollment     High School   \n",
       "19157   No relevent experience       no_enrollment  Primary School   \n",
       "\n",
       "      major_discipline experience company_size    company_type last_new_job  \\\n",
       "0                 STEM        >20          NaN             NaN            1   \n",
       "1                 STEM         15        50-99         Pvt Ltd           >4   \n",
       "2                 STEM          5          NaN             NaN        never   \n",
       "3      Business Degree         <1          NaN         Pvt Ltd        never   \n",
       "4                 STEM        >20        50-99  Funded Startup            4   \n",
       "...                ...        ...          ...             ...          ...   \n",
       "19153       Humanities         14          NaN             NaN            1   \n",
       "19154             STEM         14          NaN             NaN            4   \n",
       "19155             STEM        >20        50-99         Pvt Ltd            4   \n",
       "19156              NaN         <1      500-999         Pvt Ltd            2   \n",
       "19157              NaN          2          NaN             NaN            1   \n",
       "\n",
       "       training_hours  target  \n",
       "0                  36     1.0  \n",
       "1                  47     0.0  \n",
       "2                  83     0.0  \n",
       "3                  52     1.0  \n",
       "4                   8     0.0  \n",
       "...               ...     ...  \n",
       "19153              42     1.0  \n",
       "19154              52     1.0  \n",
       "19155              44     0.0  \n",
       "19156              97     0.0  \n",
       "19157             127     0.0  \n",
       "\n",
       "[19158 rows x 14 columns]"
      ]
     },
     "execution_count": 3,
     "metadata": {},
     "output_type": "execute_result"
    }
   ],
   "source": [
    "# View data\n",
    "hr_df"
   ]
  },
  {
   "cell_type": "markdown",
   "id": "6d438951",
   "metadata": {},
   "source": [
    "### Features\n",
    "\n",
    "1. `enrollee_id :` Unique ID for candidate\n",
    "\n",
    "2. `city :` City code\n",
    "\n",
    "3. `city_development_index :` Developement index of the city (scaled)\n",
    "\n",
    "4. `gender :` Gender of candidate\n",
    "\n",
    "5. `relevent_experience :` Relevant experience of candidate\n",
    "\n",
    "6. `enrolled_university :` Type of University course enrolled if any\n",
    "\n",
    "7. `education_level :` Education level of candidate\n",
    "\n",
    "8. `major_discipline :` Education major discipline of candidate\n",
    "\n",
    "9. `experience :` Candidate total experience in years\n",
    "\n",
    "10. `company_size :` No of employees in current employer's company\n",
    "\n",
    "11. `company_type :` Type of current employer\n",
    "\n",
    "12. `last_new_job :` Difference in years between previous job and current job\n",
    "\n",
    "13. `training_hours :` training hours completed\n",
    "\n",
    "14. `target :` 0 – Not looking for job change, 1 – Looking for a job change"
   ]
  },
  {
   "cell_type": "code",
   "execution_count": 4,
   "id": "03689211",
   "metadata": {
    "scrolled": false
   },
   "outputs": [
    {
     "name": "stdout",
     "output_type": "stream",
     "text": [
      "<class 'pandas.core.frame.DataFrame'>\n",
      "RangeIndex: 19158 entries, 0 to 19157\n",
      "Data columns (total 14 columns):\n",
      "enrollee_id               19158 non-null int64\n",
      "city                      19158 non-null object\n",
      "city_development_index    19158 non-null float64\n",
      "gender                    14650 non-null object\n",
      "relevent_experience       19158 non-null object\n",
      "enrolled_university       18772 non-null object\n",
      "education_level           18698 non-null object\n",
      "major_discipline          16345 non-null object\n",
      "experience                19093 non-null object\n",
      "company_size              13220 non-null object\n",
      "company_type              13018 non-null object\n",
      "last_new_job              18735 non-null object\n",
      "training_hours            19158 non-null int64\n",
      "target                    19158 non-null float64\n",
      "dtypes: float64(2), int64(2), object(10)\n",
      "memory usage: 2.0+ MB\n",
      "None\n"
     ]
    }
   ],
   "source": [
    "# View data information\n",
    "print(hr_df.info())"
   ]
  },
  {
   "cell_type": "code",
   "execution_count": 5,
   "id": "ac039898",
   "metadata": {
    "scrolled": true
   },
   "outputs": [
    {
     "name": "stdout",
     "output_type": "stream",
     "text": [
      "enrollee_id                  0\n",
      "city                         0\n",
      "city_development_index       0\n",
      "gender                    4508\n",
      "relevent_experience          0\n",
      "enrolled_university        386\n",
      "education_level            460\n",
      "major_discipline          2813\n",
      "experience                  65\n",
      "company_size              5938\n",
      "company_type              6140\n",
      "last_new_job               423\n",
      "training_hours               0\n",
      "target                       0\n",
      "dtype: int64\n",
      "(19158, 14)\n"
     ]
    }
   ],
   "source": [
    "# Print null value counts for each column\n",
    "print(hr_df.isnull().sum())\n",
    "print(hr_df.shape)"
   ]
  },
  {
   "cell_type": "code",
   "execution_count": 6,
   "id": "2fedcfc9",
   "metadata": {},
   "outputs": [],
   "source": [
    "# Drop rows with all nan values\n",
    "dropped_nan_rows = hr_df.dropna(how='all')"
   ]
  },
  {
   "cell_type": "code",
   "execution_count": 7,
   "id": "d30a203d",
   "metadata": {},
   "outputs": [
    {
     "name": "stdout",
     "output_type": "stream",
     "text": [
      "enrollee_id                  0\n",
      "city                         0\n",
      "city_development_index       0\n",
      "gender                    4508\n",
      "relevent_experience          0\n",
      "enrolled_university        386\n",
      "education_level            460\n",
      "major_discipline          2813\n",
      "experience                  65\n",
      "company_size              5938\n",
      "company_type              6140\n",
      "last_new_job               423\n",
      "training_hours               0\n",
      "target                       0\n",
      "dtype: int64\n",
      "(19158, 14)\n"
     ]
    }
   ],
   "source": [
    "# View dropped rows\n",
    "print(dropped_nan_rows.isnull().sum())\n",
    "print(dropped_nan_rows.shape)"
   ]
  },
  {
   "cell_type": "code",
   "execution_count": 8,
   "id": "51177a09",
   "metadata": {},
   "outputs": [],
   "source": [
    "# Drop rows with nan values from selected columns\n",
    "dropped_rows = hr_df.dropna(subset=['enrolled_university', \n",
    "                                     'education_level',\n",
    "                                     'experience',\n",
    "                                     'last_new_job'\n",
    "                                    ])"
   ]
  },
  {
   "cell_type": "code",
   "execution_count": 9,
   "id": "d3f6912b",
   "metadata": {},
   "outputs": [
    {
     "name": "stdout",
     "output_type": "stream",
     "text": [
      "enrollee_id                  0\n",
      "city                         0\n",
      "city_development_index       0\n",
      "gender                    3863\n",
      "relevent_experience          0\n",
      "enrolled_university          0\n",
      "education_level              0\n",
      "major_discipline          2222\n",
      "experience                   0\n",
      "company_size              5310\n",
      "company_type              5476\n",
      "last_new_job                 0\n",
      "training_hours               0\n",
      "target                       0\n",
      "dtype: int64\n",
      "(18014, 14)\n"
     ]
    }
   ],
   "source": [
    "# View dropped rows\n",
    "print(dropped_rows.isnull().sum())\n",
    "print(dropped_rows.shape)"
   ]
  },
  {
   "cell_type": "code",
   "execution_count": 10,
   "id": "e8135b34",
   "metadata": {},
   "outputs": [],
   "source": [
    "# Create a copy of the dropped_rows\n",
    "dropped_df = dropped_rows.copy()"
   ]
  },
  {
   "cell_type": "markdown",
   "id": "3ff77edf",
   "metadata": {},
   "source": [
    "## Impute missing values with Datawig\n",
    "* https://github.com/awslabs/datawig\n",
    "* https://towardsdatascience.com/imputation-of-missing-data-in-tables-with-datawig-2d7ab327ece2"
   ]
  },
  {
   "cell_type": "code",
   "execution_count": 11,
   "id": "a6e276fc",
   "metadata": {
    "scrolled": true
   },
   "outputs": [],
   "source": [
    "# Import dependencies\n",
    "import numpy as np\n",
    "import datawig\n",
    "from datawig.utils import random_split\n",
    "from datawig import SimpleImputer\n",
    "\n",
    "# Perform train-test split (Default is 80/20 split)\n",
    "df_train, df_test = random_split(dropped_df, split_ratios=[0.8, 0.2])\n",
    "\n",
    "# Randomly hide 25% of cells in test dataframe\n",
    "hide_proportion = 0.25\n",
    "df_test_missing = df_test.mask(np.random.rand(*df_test.shape) > (1 - hide_proportion))"
   ]
  },
  {
   "cell_type": "code",
   "execution_count": 12,
   "id": "ece47147",
   "metadata": {},
   "outputs": [],
   "source": [
    "# Define columns with useful info for to-be-imputed column\n",
    "input_cols = ['city',\n",
    "              'city_development_index',\n",
    "              'relevent_experience',\n",
    "              'enrolled_university', \n",
    "              'education_level', \n",
    "              'experience',\n",
    "              'last_new_job',\n",
    "              'training_hours'\n",
    "             ]\n",
    "\n",
    "# Define columns to be imputed\n",
    "output_col_gen = 'gender'\n",
    "output_col_major = 'major_discipline'\n",
    "output_col_comp_size = 'company_size'\n",
    "output_col_comp_type = 'company_type'\n",
    "\n",
    "# Initialize a SimpleImputer model for categorical imputation\n",
    "imputer_gen = datawig.SimpleImputer(\n",
    "    input_columns = input_cols, # column(s) containing information about the column we want to impute\n",
    "    output_column = output_col_gen, # the column we'd like to impute values for\n",
    "    output_path =  'imputer_gen' # stores model data and metrics\n",
    "    )\n",
    "\n",
    "imputer_major = datawig.SimpleImputer(\n",
    "    input_columns = input_cols,\n",
    "    output_column = output_col_major,\n",
    "    output_path =  'imputer_major'\n",
    "    )\n",
    "\n",
    "imputer_comp_size = datawig.SimpleImputer(\n",
    "    input_columns = input_cols, \n",
    "    output_column = output_col_comp_size, \n",
    "    output_path =  'imputer_comp_size'\n",
    "    )\n",
    "\n",
    "imputer_comp_type = datawig.SimpleImputer(\n",
    "    input_columns = input_cols, \n",
    "    output_column = output_col_comp_type, \n",
    "    output_path =  'imputer_comp_type' \n",
    "    )"
   ]
  },
  {
   "cell_type": "code",
   "execution_count": 13,
   "id": "0a9c4a1a",
   "metadata": {
    "collapsed": true
   },
   "outputs": [
    {
     "name": "stderr",
     "output_type": "stream",
     "text": [
      "/Users/ronaldlam/opt/anaconda3/envs/PythonData/lib/python3.7/site-packages/pandas/core/frame.py:3509: SettingWithCopyWarning: \n",
      "A value is trying to be set on a copy of a slice from a DataFrame.\n",
      "Try using .loc[row_indexer,col_indexer] = value instead\n",
      "\n",
      "See the caveats in the documentation: http://pandas.pydata.org/pandas-docs/stable/user_guide/indexing.html#returning-a-view-versus-a-copy\n",
      "  self[k1] = value[k2]\n",
      "[15:13:50] src/operator/random/../../common/utils.h:450: \n",
      "Storage type fallback detected:\n",
      "operator = Concat\n",
      "input storage types = [csr, default, ]\n",
      "output storage types = [default, ]\n",
      "params = {\"num_args\" : 2, \"dim\" : 1, }\n",
      "context.dev_mask = cpu\n",
      "The operator with default storage type will be dispatched for execution. You're seeing this warning message because the operator above is unable to process the given ndarrays with specified storage types, context and parameter. Temporary dense ndarrays are generated in order to execute the operator. This does not affect the correctness of the programme. You can set environment variable MXNET_STORAGE_FALLBACK_LOG_VERBOSE to 0 to suppress this warning.\n",
      "2023-06-07 15:13:50,357 [INFO]  \n",
      "========== start: fit model\n",
      "2023-06-07 15:13:50,358 [WARNING]  Already bound, ignoring bind()\n",
      "2023-06-07 15:13:52,513 [INFO]  Epoch[0] Batch [0-320]\tSpeed: 2389.24 samples/sec\tcross-entropy=0.351402\tgender-accuracy=0.909073\n",
      "2023-06-07 15:13:54,726 [INFO]  Epoch[0] Train-cross-entropy=0.346246\n",
      "2023-06-07 15:13:54,727 [INFO]  Epoch[0] Train-gender-accuracy=0.903854\n",
      "2023-06-07 15:13:54,727 [INFO]  Epoch[0] Time cost=4.367\n",
      "2023-06-07 15:13:54,734 [INFO]  Saved checkpoint to \"imputer_gen/model-0000.params\"\n",
      "2023-06-07 15:13:55,147 [INFO]  Epoch[0] Validation-cross-entropy=0.352412\n",
      "2023-06-07 15:13:55,148 [INFO]  Epoch[0] Validation-gender-accuracy=0.894643\n",
      "2023-06-07 15:13:57,571 [INFO]  Epoch[1] Batch [0-320]\tSpeed: 2121.39 samples/sec\tcross-entropy=0.318953\tgender-accuracy=0.909073\n",
      "2023-06-07 15:13:59,922 [INFO]  Epoch[1] Train-cross-entropy=0.325621\n",
      "2023-06-07 15:13:59,923 [INFO]  Epoch[1] Train-gender-accuracy=0.903951\n",
      "2023-06-07 15:13:59,924 [INFO]  Epoch[1] Time cost=4.775\n",
      "2023-06-07 15:13:59,929 [INFO]  Saved checkpoint to \"imputer_gen/model-0001.params\"\n",
      "2023-06-07 15:14:00,338 [INFO]  Epoch[1] Validation-cross-entropy=0.341673\n",
      "2023-06-07 15:14:00,339 [INFO]  Epoch[1] Validation-gender-accuracy=0.894643\n",
      "2023-06-07 15:14:02,681 [INFO]  Epoch[2] Batch [0-320]\tSpeed: 2194.82 samples/sec\tcross-entropy=0.314057\tgender-accuracy=0.909073\n",
      "2023-06-07 15:14:04,993 [INFO]  Epoch[2] Train-cross-entropy=0.321118\n",
      "2023-06-07 15:14:04,994 [INFO]  Epoch[2] Train-gender-accuracy=0.903951\n",
      "2023-06-07 15:14:04,994 [INFO]  Epoch[2] Time cost=4.654\n",
      "2023-06-07 15:14:05,001 [INFO]  Saved checkpoint to \"imputer_gen/model-0002.params\"\n",
      "2023-06-07 15:14:05,412 [INFO]  Epoch[2] Validation-cross-entropy=0.339301\n",
      "2023-06-07 15:14:05,413 [INFO]  Epoch[2] Validation-gender-accuracy=0.894643\n",
      "2023-06-07 15:14:07,676 [INFO]  Epoch[3] Batch [0-320]\tSpeed: 2269.90 samples/sec\tcross-entropy=0.311848\tgender-accuracy=0.909073\n",
      "2023-06-07 15:14:10,032 [INFO]  Epoch[3] Train-cross-entropy=0.318855\n",
      "2023-06-07 15:14:10,032 [INFO]  Epoch[3] Train-gender-accuracy=0.903951\n",
      "2023-06-07 15:14:10,033 [INFO]  Epoch[3] Time cost=4.620\n",
      "2023-06-07 15:14:10,038 [INFO]  Saved checkpoint to \"imputer_gen/model-0003.params\"\n",
      "2023-06-07 15:14:10,437 [INFO]  Epoch[3] Validation-cross-entropy=0.337705\n",
      "2023-06-07 15:14:10,438 [INFO]  Epoch[3] Validation-gender-accuracy=0.894643\n",
      "2023-06-07 15:14:12,752 [INFO]  Epoch[4] Batch [0-320]\tSpeed: 2220.49 samples/sec\tcross-entropy=0.310517\tgender-accuracy=0.909073\n",
      "2023-06-07 15:14:14,976 [INFO]  Epoch[4] Train-cross-entropy=0.317432\n",
      "2023-06-07 15:14:14,977 [INFO]  Epoch[4] Train-gender-accuracy=0.903951\n",
      "2023-06-07 15:14:14,977 [INFO]  Epoch[4] Time cost=4.539\n",
      "2023-06-07 15:14:14,982 [INFO]  Saved checkpoint to \"imputer_gen/model-0004.params\"\n",
      "2023-06-07 15:14:15,375 [INFO]  Epoch[4] Validation-cross-entropy=0.336807\n",
      "2023-06-07 15:14:15,376 [INFO]  Epoch[4] Validation-gender-accuracy=0.894643\n",
      "2023-06-07 15:14:17,726 [INFO]  Epoch[5] Batch [0-320]\tSpeed: 2186.00 samples/sec\tcross-entropy=0.309504\tgender-accuracy=0.909073\n",
      "2023-06-07 15:14:20,149 [INFO]  Epoch[5] Train-cross-entropy=0.316380\n",
      "2023-06-07 15:14:20,150 [INFO]  Epoch[5] Train-gender-accuracy=0.903951\n",
      "2023-06-07 15:14:20,151 [INFO]  Epoch[5] Time cost=4.775\n",
      "2023-06-07 15:14:20,160 [INFO]  Saved checkpoint to \"imputer_gen/model-0005.params\"\n",
      "2023-06-07 15:14:20,624 [INFO]  Epoch[5] Validation-cross-entropy=0.336207\n",
      "2023-06-07 15:14:20,624 [INFO]  Epoch[5] Validation-gender-accuracy=0.894643\n",
      "2023-06-07 15:14:23,038 [INFO]  Epoch[6] Batch [0-320]\tSpeed: 2129.37 samples/sec\tcross-entropy=0.308671\tgender-accuracy=0.909073\n",
      "2023-06-07 15:14:25,353 [INFO]  Epoch[6] Train-cross-entropy=0.315526\n",
      "2023-06-07 15:14:25,354 [INFO]  Epoch[6] Train-gender-accuracy=0.903951\n",
      "2023-06-07 15:14:25,354 [INFO]  Epoch[6] Time cost=4.729\n",
      "2023-06-07 15:14:25,360 [INFO]  Saved checkpoint to \"imputer_gen/model-0006.params\"\n",
      "2023-06-07 15:14:25,765 [INFO]  Epoch[6] Validation-cross-entropy=0.335838\n",
      "2023-06-07 15:14:25,766 [INFO]  Epoch[6] Validation-gender-accuracy=0.894643\n",
      "2023-06-07 15:14:28,078 [INFO]  Epoch[7] Batch [0-320]\tSpeed: 2222.73 samples/sec\tcross-entropy=0.308016\tgender-accuracy=0.909073\n",
      "2023-06-07 15:14:30,288 [INFO]  Epoch[7] Train-cross-entropy=0.314819\n",
      "2023-06-07 15:14:30,288 [INFO]  Epoch[7] Train-gender-accuracy=0.903951\n",
      "2023-06-07 15:14:30,289 [INFO]  Epoch[7] Time cost=4.523\n",
      "2023-06-07 15:14:30,294 [INFO]  Saved checkpoint to \"imputer_gen/model-0007.params\"\n",
      "2023-06-07 15:14:30,711 [INFO]  Epoch[7] Validation-cross-entropy=0.335581\n",
      "2023-06-07 15:14:30,711 [INFO]  Epoch[7] Validation-gender-accuracy=0.894643\n",
      "2023-06-07 15:14:32,961 [INFO]  Epoch[8] Batch [0-320]\tSpeed: 2284.92 samples/sec\tcross-entropy=0.307443\tgender-accuracy=0.909073\n",
      "2023-06-07 15:14:35,139 [INFO]  Epoch[8] Train-cross-entropy=0.314226\n",
      "2023-06-07 15:14:35,140 [INFO]  Epoch[8] Train-gender-accuracy=0.903951\n",
      "2023-06-07 15:14:35,141 [INFO]  Epoch[8] Time cost=4.428\n",
      "2023-06-07 15:14:35,145 [INFO]  Saved checkpoint to \"imputer_gen/model-0008.params\"\n",
      "2023-06-07 15:14:35,558 [INFO]  Epoch[8] Validation-cross-entropy=0.335468\n",
      "2023-06-07 15:14:35,559 [INFO]  Epoch[8] Validation-gender-accuracy=0.894643\n",
      "2023-06-07 15:14:37,804 [INFO]  Epoch[9] Batch [0-320]\tSpeed: 2289.57 samples/sec\tcross-entropy=0.306951\tgender-accuracy=0.909073\n",
      "2023-06-07 15:14:40,001 [INFO]  Epoch[9] Train-cross-entropy=0.313747\n",
      "2023-06-07 15:14:40,001 [INFO]  Epoch[9] Train-gender-accuracy=0.903951\n",
      "2023-06-07 15:14:40,002 [INFO]  Epoch[9] Time cost=4.443\n",
      "2023-06-07 15:14:40,007 [INFO]  Saved checkpoint to \"imputer_gen/model-0009.params\"\n",
      "2023-06-07 15:14:40,412 [INFO]  Epoch[9] Validation-cross-entropy=0.335371\n",
      "2023-06-07 15:14:40,413 [INFO]  Epoch[9] Validation-gender-accuracy=0.894643\n",
      "2023-06-07 15:14:42,699 [INFO]  Epoch[10] Batch [0-320]\tSpeed: 2248.51 samples/sec\tcross-entropy=0.306543\tgender-accuracy=0.909073\n",
      "2023-06-07 15:14:44,912 [INFO]  Epoch[10] Train-cross-entropy=0.313299\n",
      "2023-06-07 15:14:44,914 [INFO]  Epoch[10] Train-gender-accuracy=0.903951\n",
      "2023-06-07 15:14:44,915 [INFO]  Epoch[10] Time cost=4.501\n",
      "2023-06-07 15:14:44,920 [INFO]  Saved checkpoint to \"imputer_gen/model-0010.params\"\n",
      "2023-06-07 15:14:45,324 [INFO]  Epoch[10] Validation-cross-entropy=0.335373\n",
      "2023-06-07 15:14:45,324 [INFO]  Epoch[10] Validation-gender-accuracy=0.894643\n",
      "2023-06-07 15:14:47,543 [INFO]  Epoch[11] Batch [0-320]\tSpeed: 2316.27 samples/sec\tcross-entropy=0.306174\tgender-accuracy=0.909073\n",
      "2023-06-07 15:14:49,805 [INFO]  Epoch[11] Train-cross-entropy=0.312910\n",
      "2023-06-07 15:14:49,806 [INFO]  Epoch[11] Train-gender-accuracy=0.903951\n",
      "2023-06-07 15:14:49,807 [INFO]  Epoch[11] Time cost=4.482\n",
      "2023-06-07 15:14:49,814 [INFO]  Saved checkpoint to \"imputer_gen/model-0011.params\"\n",
      "2023-06-07 15:14:50,244 [INFO]  Epoch[11] Validation-cross-entropy=0.335387\n",
      "2023-06-07 15:14:50,245 [INFO]  Epoch[11] Validation-gender-accuracy=0.894643\n",
      "2023-06-07 15:14:52,548 [INFO]  Epoch[12] Batch [0-320]\tSpeed: 2230.68 samples/sec\tcross-entropy=0.305920\tgender-accuracy=0.909073\n",
      "2023-06-07 15:14:54,793 [INFO]  Epoch[12] Train-cross-entropy=0.312610\n"
     ]
    },
    {
     "name": "stderr",
     "output_type": "stream",
     "text": [
      "2023-06-07 15:14:54,794 [INFO]  Epoch[12] Train-gender-accuracy=0.903951\n",
      "2023-06-07 15:14:54,794 [INFO]  Epoch[12] Time cost=4.549\n",
      "2023-06-07 15:14:54,800 [INFO]  Saved checkpoint to \"imputer_gen/model-0012.params\"\n",
      "2023-06-07 15:14:55,201 [INFO]  Epoch[12] Validation-cross-entropy=0.335364\n",
      "2023-06-07 15:14:55,202 [INFO]  Epoch[12] Validation-gender-accuracy=0.894643\n",
      "2023-06-07 15:14:57,447 [INFO]  Epoch[13] Batch [0-320]\tSpeed: 2288.51 samples/sec\tcross-entropy=0.305563\tgender-accuracy=0.909073\n",
      "2023-06-07 15:14:59,652 [INFO]  Epoch[13] Train-cross-entropy=0.312286\n",
      "2023-06-07 15:14:59,653 [INFO]  Epoch[13] Train-gender-accuracy=0.903854\n",
      "2023-06-07 15:14:59,653 [INFO]  Epoch[13] Time cost=4.451\n",
      "2023-06-07 15:14:59,659 [INFO]  Saved checkpoint to \"imputer_gen/model-0013.params\"\n",
      "2023-06-07 15:15:00,069 [INFO]  Epoch[13] Validation-cross-entropy=0.335387\n",
      "2023-06-07 15:15:00,070 [INFO]  Epoch[13] Validation-gender-accuracy=0.894643\n",
      "2023-06-07 15:15:02,372 [INFO]  Epoch[14] Batch [0-320]\tSpeed: 2232.27 samples/sec\tcross-entropy=0.305277\tgender-accuracy=0.909073\n",
      "2023-06-07 15:15:04,567 [INFO]  Epoch[14] Train-cross-entropy=0.311995\n",
      "2023-06-07 15:15:04,567 [INFO]  Epoch[14] Train-gender-accuracy=0.903854\n",
      "2023-06-07 15:15:04,568 [INFO]  Epoch[14] Time cost=4.497\n",
      "2023-06-07 15:15:04,573 [INFO]  Saved checkpoint to \"imputer_gen/model-0014.params\"\n",
      "2023-06-07 15:15:04,999 [INFO]  Epoch[14] Validation-cross-entropy=0.335427\n",
      "2023-06-07 15:15:05,000 [INFO]  Epoch[14] Validation-gender-accuracy=0.893750\n",
      "2023-06-07 15:15:07,313 [INFO]  Epoch[15] Batch [0-320]\tSpeed: 2221.66 samples/sec\tcross-entropy=0.305076\tgender-accuracy=0.909073\n",
      "2023-06-07 15:15:09,544 [INFO]  Epoch[15] Train-cross-entropy=0.311769\n",
      "2023-06-07 15:15:09,544 [INFO]  Epoch[15] Train-gender-accuracy=0.903854\n",
      "2023-06-07 15:15:09,545 [INFO]  Epoch[15] Time cost=4.544\n",
      "2023-06-07 15:15:09,551 [INFO]  Saved checkpoint to \"imputer_gen/model-0015.params\"\n",
      "2023-06-07 15:15:09,956 [INFO]  Epoch[15] Validation-cross-entropy=0.335494\n",
      "2023-06-07 15:15:09,957 [INFO]  Epoch[15] Validation-gender-accuracy=0.893750\n",
      "2023-06-07 15:15:12,259 [INFO]  Epoch[16] Batch [0-320]\tSpeed: 2231.71 samples/sec\tcross-entropy=0.304767\tgender-accuracy=0.909073\n",
      "2023-06-07 15:15:14,478 [INFO]  Epoch[16] Train-cross-entropy=0.311500\n",
      "2023-06-07 15:15:14,479 [INFO]  Epoch[16] Train-gender-accuracy=0.903854\n",
      "2023-06-07 15:15:14,480 [INFO]  Epoch[16] Time cost=4.522\n",
      "2023-06-07 15:15:14,484 [INFO]  Saved checkpoint to \"imputer_gen/model-0016.params\"\n",
      "2023-06-07 15:15:14,891 [INFO]  Epoch[16] Validation-cross-entropy=0.335552\n",
      "2023-06-07 15:15:14,891 [INFO]  Epoch[16] Validation-gender-accuracy=0.893750\n",
      "2023-06-07 15:15:17,105 [INFO]  Epoch[17] Batch [0-320]\tSpeed: 2321.13 samples/sec\tcross-entropy=0.304534\tgender-accuracy=0.909073\n",
      "2023-06-07 15:15:19,262 [INFO]  Epoch[17] Train-cross-entropy=0.311280\n",
      "2023-06-07 15:15:19,263 [INFO]  Epoch[17] Train-gender-accuracy=0.903854\n",
      "2023-06-07 15:15:19,264 [INFO]  Epoch[17] Time cost=4.372\n",
      "2023-06-07 15:15:19,269 [INFO]  Saved checkpoint to \"imputer_gen/model-0017.params\"\n",
      "2023-06-07 15:15:19,673 [INFO]  No improvement detected for 5 epochs compared to 0.33536422859345166 last error obtained: 0.33561823208417213, stopping here\n",
      "2023-06-07 15:15:19,674 [INFO]  \n",
      "========== done (89.31771397590637 s) fit model\n",
      "/Users/ronaldlam/opt/anaconda3/envs/PythonData/lib/python3.7/site-packages/sklearn/metrics/_classification.py:1272: UndefinedMetricWarning: Precision is ill-defined and being set to 0.0 in labels with no predicted samples. Use `zero_division` parameter to control this behavior.\n",
      "  _warn_prf(average, modifier, msg_start, len(result))\n",
      "/Users/ronaldlam/opt/anaconda3/envs/PythonData/lib/python3.7/site-packages/pandas/core/frame.py:3509: SettingWithCopyWarning: \n",
      "A value is trying to be set on a copy of a slice from a DataFrame.\n",
      "Try using .loc[row_indexer,col_indexer] = value instead\n",
      "\n",
      "See the caveats in the documentation: http://pandas.pydata.org/pandas-docs/stable/user_guide/indexing.html#returning-a-view-versus-a-copy\n",
      "  self[k1] = value[k2]\n",
      "/Users/ronaldlam/opt/anaconda3/envs/PythonData/lib/python3.7/site-packages/sklearn/metrics/_classification.py:1272: UndefinedMetricWarning: Precision is ill-defined and being set to 0.0 in labels with no predicted samples. Use `zero_division` parameter to control this behavior.\n",
      "  _warn_prf(average, modifier, msg_start, len(result))\n",
      "/Users/ronaldlam/opt/anaconda3/envs/PythonData/lib/python3.7/site-packages/pandas/core/frame.py:3509: SettingWithCopyWarning: \n",
      "A value is trying to be set on a copy of a slice from a DataFrame.\n",
      "Try using .loc[row_indexer,col_indexer] = value instead\n",
      "\n",
      "See the caveats in the documentation: http://pandas.pydata.org/pandas-docs/stable/user_guide/indexing.html#returning-a-view-versus-a-copy\n",
      "  self[k1] = value[k2]\n",
      "/Users/ronaldlam/opt/anaconda3/envs/PythonData/lib/python3.7/site-packages/sklearn/metrics/_classification.py:1272: UndefinedMetricWarning: Precision is ill-defined and being set to 0.0 in labels with no predicted samples. Use `zero_division` parameter to control this behavior.\n",
      "  _warn_prf(average, modifier, msg_start, len(result))\n",
      "/Users/ronaldlam/opt/anaconda3/envs/PythonData/lib/python3.7/site-packages/pandas/core/frame.py:3509: SettingWithCopyWarning: \n",
      "A value is trying to be set on a copy of a slice from a DataFrame.\n",
      "Try using .loc[row_indexer,col_indexer] = value instead\n",
      "\n",
      "See the caveats in the documentation: http://pandas.pydata.org/pandas-docs/stable/user_guide/indexing.html#returning-a-view-versus-a-copy\n",
      "  self[k1] = value[k2]\n",
      "/Users/ronaldlam/opt/anaconda3/envs/PythonData/lib/python3.7/site-packages/sklearn/metrics/_classification.py:1272: UndefinedMetricWarning: Precision is ill-defined and being set to 0.0 in labels with no predicted samples. Use `zero_division` parameter to control this behavior.\n",
      "  _warn_prf(average, modifier, msg_start, len(result))\n"
     ]
    },
    {
     "data": {
      "text/plain": [
       "<datawig.simple_imputer.SimpleImputer at 0x7fadea6f5f90>"
      ]
     },
     "execution_count": 13,
     "metadata": {},
     "output_type": "execute_result"
    }
   ],
   "source": [
    "#Fit an imputer model on the train data\n",
    "imputer_gen.fit(train_df=df_train, num_epochs=50)\n",
    "imputer_major.fit(train_df=df_train, num_epochs=50)\n",
    "imputer_comp_size.fit(train_df=df_train, num_epochs=50)\n",
    "imputer_comp_type.fit(train_df=df_train, num_epochs=50)"
   ]
  },
  {
   "cell_type": "markdown",
   "id": "0453c3e3",
   "metadata": {},
   "source": [
    "## Test set"
   ]
  },
  {
   "cell_type": "code",
   "execution_count": 14,
   "id": "3fe18e26",
   "metadata": {},
   "outputs": [],
   "source": [
    "# Impute missing values and return original dataframe with predictions\n",
    "pred_gen_test = imputer_gen.predict(df_test_missing)\n",
    "pred_major_test = imputer_major.predict(df_test_missing)\n",
    "pred_comp_size_test = imputer_comp_size.predict(df_test_missing)\n",
    "pred_comp_type_test = imputer_comp_type.predict(df_test_missing)"
   ]
  },
  {
   "cell_type": "code",
   "execution_count": 15,
   "id": "451fa2b8",
   "metadata": {},
   "outputs": [
    {
     "data": {
      "text/plain": [
       "Index(['enrollee_id', 'city', 'city_development_index', 'gender',\n",
       "       'relevent_experience', 'enrolled_university', 'education_level',\n",
       "       'major_discipline', 'experience', 'company_size', 'company_type',\n",
       "       'last_new_job', 'training_hours', 'target', 'gender_imputed',\n",
       "       'gender_imputed_proba'],\n",
       "      dtype='object')"
      ]
     },
     "execution_count": 15,
     "metadata": {},
     "output_type": "execute_result"
    }
   ],
   "source": [
    "pred_gen_test.columns"
   ]
  },
  {
   "cell_type": "markdown",
   "id": "41d1977d",
   "metadata": {},
   "source": [
    "### 'gender' predictions"
   ]
  },
  {
   "cell_type": "code",
   "execution_count": 16,
   "id": "f50a33b8",
   "metadata": {},
   "outputs": [],
   "source": [
    "# Drop unneccessary columns\n",
    "pred_gen_test_df = pred_gen_test.drop(columns=['city', \n",
    "                                               'city_development_index',\n",
    "                                               'relevent_experience', \n",
    "                                               'enrolled_university', \n",
    "                                               'education_level',\n",
    "                                               'major_discipline', \n",
    "                                               'experience', \n",
    "                                               'company_size', \n",
    "                                               'company_type',\n",
    "                                               'last_new_job', \n",
    "                                               'training_hours', \n",
    "                                               'target'\n",
    "                                              ])"
   ]
  },
  {
   "cell_type": "code",
   "execution_count": 17,
   "id": "bea4491f",
   "metadata": {},
   "outputs": [],
   "source": [
    "acc_gen_test = pred_gen_test_df.loc[pred_gen_test_df['gender_imputed_proba'] < 0.5]"
   ]
  },
  {
   "cell_type": "code",
   "execution_count": 18,
   "id": "1044d625",
   "metadata": {
    "scrolled": true
   },
   "outputs": [
    {
     "data": {
      "text/plain": [
       "2"
      ]
     },
     "execution_count": 18,
     "metadata": {},
     "output_type": "execute_result"
    }
   ],
   "source": [
    "len(acc_gen_test)"
   ]
  },
  {
   "cell_type": "code",
   "execution_count": 19,
   "id": "e3c60c0b",
   "metadata": {
    "scrolled": true
   },
   "outputs": [
    {
     "data": {
      "text/html": [
       "<div>\n",
       "<style scoped>\n",
       "    .dataframe tbody tr th:only-of-type {\n",
       "        vertical-align: middle;\n",
       "    }\n",
       "\n",
       "    .dataframe tbody tr th {\n",
       "        vertical-align: top;\n",
       "    }\n",
       "\n",
       "    .dataframe thead th {\n",
       "        text-align: right;\n",
       "    }\n",
       "</style>\n",
       "<table border=\"1\" class=\"dataframe\">\n",
       "  <thead>\n",
       "    <tr style=\"text-align: right;\">\n",
       "      <th></th>\n",
       "      <th>enrollee_id</th>\n",
       "      <th>gender</th>\n",
       "      <th>gender_imputed</th>\n",
       "      <th>gender_imputed_proba</th>\n",
       "    </tr>\n",
       "  </thead>\n",
       "  <tbody>\n",
       "    <tr>\n",
       "      <th>3043</th>\n",
       "      <td>15026.0</td>\n",
       "      <td>NaN</td>\n",
       "      <td>Male</td>\n",
       "      <td>0.496757</td>\n",
       "    </tr>\n",
       "    <tr>\n",
       "      <th>18475</th>\n",
       "      <td>29661.0</td>\n",
       "      <td>Male</td>\n",
       "      <td>Female</td>\n",
       "      <td>0.479182</td>\n",
       "    </tr>\n",
       "  </tbody>\n",
       "</table>\n",
       "</div>"
      ],
      "text/plain": [
       "       enrollee_id gender gender_imputed  gender_imputed_proba\n",
       "3043       15026.0    NaN           Male              0.496757\n",
       "18475      29661.0   Male         Female              0.479182"
      ]
     },
     "execution_count": 19,
     "metadata": {},
     "output_type": "execute_result"
    }
   ],
   "source": [
    "acc_gen_test"
   ]
  },
  {
   "cell_type": "code",
   "execution_count": 20,
   "id": "7709ed03",
   "metadata": {},
   "outputs": [
    {
     "name": "stdout",
     "output_type": "stream",
     "text": [
      "Accuracy result: 0.879860559522874\n"
     ]
    }
   ],
   "source": [
    "# 'gender' accuracy\n",
    "gender_test_acc = pred_gen_test_df['gender_imputed_proba'].mean()\n",
    "print(f\"Accuracy result: {gender_test_acc}\")"
   ]
  },
  {
   "cell_type": "markdown",
   "id": "6cba9f50",
   "metadata": {},
   "source": [
    "### 'major_discipline' predictions"
   ]
  },
  {
   "cell_type": "code",
   "execution_count": 21,
   "id": "a8773dc2",
   "metadata": {},
   "outputs": [],
   "source": [
    "# Drop unneccessary columns\n",
    "pred_major_test_df = pred_major_test.drop(columns=['city', \n",
    "                                                   'city_development_index',\n",
    "                                                   'gender',\n",
    "                                                   'relevent_experience', \n",
    "                                                   'enrolled_university', \n",
    "                                                   'education_level',\n",
    "                                                   'experience', \n",
    "                                                   'company_size', \n",
    "                                                   'company_type',\n",
    "                                                   'last_new_job', \n",
    "                                                   'training_hours', \n",
    "                                                   'target'\n",
    "                                                  ])"
   ]
  },
  {
   "cell_type": "code",
   "execution_count": 22,
   "id": "b85ab6d9",
   "metadata": {},
   "outputs": [
    {
     "name": "stdout",
     "output_type": "stream",
     "text": [
      "Accuracy result: 0.8930370881698451\n"
     ]
    }
   ],
   "source": [
    "# 'major_discipline' accuracy\n",
    "major_test_acc = pred_major_test_df['major_discipline_imputed_proba'].mean()\n",
    "print(f\"Accuracy result: {major_test_acc}\")"
   ]
  },
  {
   "cell_type": "markdown",
   "id": "94150f4b",
   "metadata": {},
   "source": [
    "### 'company_size' predictions"
   ]
  },
  {
   "cell_type": "code",
   "execution_count": 23,
   "id": "61bbcbf3",
   "metadata": {},
   "outputs": [],
   "source": [
    "# Drop unneccessary columns\n",
    "pred_comp_size_test_df = pred_comp_size_test.drop(columns=['city', \n",
    "                                                           'city_development_index',\n",
    "                                                           'gender',\n",
    "                                                           'relevent_experience', \n",
    "                                                           'enrolled_university', \n",
    "                                                           'education_level',\n",
    "                                                           'major_discipline', \n",
    "                                                           'experience',  \n",
    "                                                           'company_type',\n",
    "                                                           'last_new_job', \n",
    "                                                           'training_hours', \n",
    "                                                           'target'\n",
    "                                                          ])"
   ]
  },
  {
   "cell_type": "code",
   "execution_count": 24,
   "id": "85a39243",
   "metadata": {},
   "outputs": [
    {
     "name": "stdout",
     "output_type": "stream",
     "text": [
      "Accuracy result: 0.20031740645082177\n"
     ]
    }
   ],
   "source": [
    "# 'company_size' accuracy\n",
    "comp_size_test_acc = pred_comp_size_test_df['company_size_imputed_proba'].mean()\n",
    "print(f\"Accuracy result: {comp_size_test_acc}\")"
   ]
  },
  {
   "cell_type": "markdown",
   "id": "b7245c15",
   "metadata": {},
   "source": [
    "### 'company_type' predictions"
   ]
  },
  {
   "cell_type": "code",
   "execution_count": 25,
   "id": "8216ce87",
   "metadata": {},
   "outputs": [],
   "source": [
    "# Drop unneccessary columns\n",
    "pred_comp_type_test_df = pred_comp_type_test.drop(columns=['city', \n",
    "                                                           'city_development_index',\n",
    "                                                           'gender',\n",
    "                                                           'relevent_experience', \n",
    "                                                           'enrolled_university', \n",
    "                                                           'education_level',\n",
    "                                                           'major_discipline', \n",
    "                                                           'experience', \n",
    "                                                           'company_size', \n",
    "                                                           'last_new_job', \n",
    "                                                           'training_hours', \n",
    "                                                           'target'\n",
    "                                                          ])"
   ]
  },
  {
   "cell_type": "code",
   "execution_count": 26,
   "id": "a33911d8",
   "metadata": {},
   "outputs": [
    {
     "name": "stdout",
     "output_type": "stream",
     "text": [
      "Accuracy result: 0.7402715356829165\n"
     ]
    }
   ],
   "source": [
    "# 'company_type' accuracy\n",
    "comp_type_test_acc = pred_comp_type_test_df['company_type_imputed_proba'].mean()\n",
    "print(f\"Accuracy result: {comp_type_test_acc}\")"
   ]
  },
  {
   "cell_type": "markdown",
   "id": "64aecc49",
   "metadata": {},
   "source": [
    "## Make predictions on 'dropped_df'"
   ]
  },
  {
   "cell_type": "code",
   "execution_count": 27,
   "id": "88dd15b0",
   "metadata": {},
   "outputs": [],
   "source": [
    "pred_gen = imputer_gen.predict(dropped_df)\n",
    "pred_major = imputer_major.predict(dropped_df)\n",
    "pred_comp_size = imputer_comp_size.predict(dropped_df)\n",
    "pred_comp_type = imputer_comp_type.predict(dropped_df)"
   ]
  },
  {
   "cell_type": "markdown",
   "id": "2c27d2dd",
   "metadata": {},
   "source": [
    "### 'gender' predictions"
   ]
  },
  {
   "cell_type": "code",
   "execution_count": 28,
   "id": "27b5ffaf",
   "metadata": {},
   "outputs": [],
   "source": [
    "pred_gen_df = pred_gen.drop(columns=['city', \n",
    "                                     'city_development_index',\n",
    "                                     'relevent_experience', \n",
    "                                     'enrolled_university', \n",
    "                                     'education_level',\n",
    "                                     'major_discipline', \n",
    "                                     'experience', \n",
    "                                     'company_size', \n",
    "                                     'company_type',\n",
    "                                     'last_new_job', \n",
    "                                     'training_hours', \n",
    "                                     'target'\n",
    "                                    ])"
   ]
  },
  {
   "cell_type": "code",
   "execution_count": 29,
   "id": "8110e7b0",
   "metadata": {},
   "outputs": [
    {
     "name": "stdout",
     "output_type": "stream",
     "text": [
      "Accuracy result: 0.8919209057219725\n"
     ]
    }
   ],
   "source": [
    "# 'gender' accuracy\n",
    "gender_acc = pred_gen_df['gender_imputed_proba'].mean()\n",
    "print(f\"Accuracy result: {gender_acc}\")"
   ]
  },
  {
   "cell_type": "markdown",
   "id": "b08b3251",
   "metadata": {},
   "source": [
    "### 'major_discipline' predictions"
   ]
  },
  {
   "cell_type": "code",
   "execution_count": 30,
   "id": "f65200fe",
   "metadata": {},
   "outputs": [],
   "source": [
    "pred_major_df = pred_major.drop(columns=['city', \n",
    "                                         'city_development_index',\n",
    "                                         'gender',\n",
    "                                         'relevent_experience', \n",
    "                                         'enrolled_university', \n",
    "                                         'education_level', \n",
    "                                         'experience', \n",
    "                                         'company_size', \n",
    "                                         'company_type',\n",
    "                                         'last_new_job', \n",
    "                                         'training_hours', \n",
    "                                         'target'\n",
    "                                        ])"
   ]
  },
  {
   "cell_type": "code",
   "execution_count": 31,
   "id": "32625dd5",
   "metadata": {},
   "outputs": [
    {
     "name": "stdout",
     "output_type": "stream",
     "text": [
      "Accuracy result: 0.9035371218145098\n"
     ]
    }
   ],
   "source": [
    "# 'major_discipline' accuracy\n",
    "major_acc = pred_major_df['major_discipline_imputed_proba'].mean()\n",
    "print(f\"Accuracy result: {major_acc}\")"
   ]
  },
  {
   "cell_type": "markdown",
   "id": "28e43631",
   "metadata": {},
   "source": [
    "### 'company_size' predictions"
   ]
  },
  {
   "cell_type": "code",
   "execution_count": 32,
   "id": "ed987b06",
   "metadata": {},
   "outputs": [],
   "source": [
    "pred_comp_size_df = pred_comp_size.drop(columns=['city', \n",
    "                                                 'city_development_index',\n",
    "                                                 'gender',\n",
    "                                                 'relevent_experience', \n",
    "                                                 'enrolled_university', \n",
    "                                                 'education_level',\n",
    "                                                 'major_discipline', \n",
    "                                                 'experience',  \n",
    "                                                 'company_type',\n",
    "                                                 'last_new_job', \n",
    "                                                 'training_hours', \n",
    "                                                 'target'\n",
    "                                                ])"
   ]
  },
  {
   "cell_type": "code",
   "execution_count": 33,
   "id": "e075de56",
   "metadata": {},
   "outputs": [
    {
     "name": "stdout",
     "output_type": "stream",
     "text": [
      "Accuracy result: 0.20323455377716698\n"
     ]
    }
   ],
   "source": [
    "# 'company_size' accuracy\n",
    "comp_size_acc = pred_comp_size_df['company_size_imputed_proba'].mean()\n",
    "print(f\"Accuracy result: {comp_size_acc}\")"
   ]
  },
  {
   "cell_type": "markdown",
   "id": "3de0d011",
   "metadata": {},
   "source": [
    "### 'company_type' predictions"
   ]
  },
  {
   "cell_type": "code",
   "execution_count": 34,
   "id": "8463f1a2",
   "metadata": {},
   "outputs": [],
   "source": [
    "pred_comp_type_df = pred_comp_type.drop(columns=['city', \n",
    "                                                 'city_development_index',\n",
    "                                                 'gender',\n",
    "                                                 'relevent_experience', \n",
    "                                                 'enrolled_university', \n",
    "                                                 'education_level',\n",
    "                                                 'major_discipline', \n",
    "                                                 'experience', \n",
    "                                                 'company_size', \n",
    "                                                 'last_new_job', \n",
    "                                                 'training_hours', \n",
    "                                                 'target'\n",
    "                                                ])"
   ]
  },
  {
   "cell_type": "code",
   "execution_count": 35,
   "id": "cfef6feb",
   "metadata": {},
   "outputs": [
    {
     "name": "stdout",
     "output_type": "stream",
     "text": [
      "Accuracy result: 0.7580764058332564\n"
     ]
    }
   ],
   "source": [
    "# 'company_type' accuracy\n",
    "comp_type_acc = pred_comp_type_df['company_type_imputed_proba'].mean()\n",
    "print(f\"Accuracy result: {comp_type_acc}\")"
   ]
  },
  {
   "cell_type": "code",
   "execution_count": 36,
   "id": "d7a40b18",
   "metadata": {},
   "outputs": [
    {
     "data": {
      "text/plain": [
       "18014"
      ]
     },
     "execution_count": 36,
     "metadata": {},
     "output_type": "execute_result"
    }
   ],
   "source": [
    "len(pred_comp_type_df)"
   ]
  },
  {
   "cell_type": "code",
   "execution_count": 37,
   "id": "b5e4f03c",
   "metadata": {
    "scrolled": false
   },
   "outputs": [
    {
     "data": {
      "text/html": [
       "<div>\n",
       "<style scoped>\n",
       "    .dataframe tbody tr th:only-of-type {\n",
       "        vertical-align: middle;\n",
       "    }\n",
       "\n",
       "    .dataframe tbody tr th {\n",
       "        vertical-align: top;\n",
       "    }\n",
       "\n",
       "    .dataframe thead th {\n",
       "        text-align: right;\n",
       "    }\n",
       "</style>\n",
       "<table border=\"1\" class=\"dataframe\">\n",
       "  <thead>\n",
       "    <tr style=\"text-align: right;\">\n",
       "      <th></th>\n",
       "      <th>enrollee_id</th>\n",
       "      <th>company_type</th>\n",
       "      <th>company_type_imputed</th>\n",
       "      <th>company_type_imputed_proba</th>\n",
       "    </tr>\n",
       "  </thead>\n",
       "  <tbody>\n",
       "    <tr>\n",
       "      <th>0</th>\n",
       "      <td>8949</td>\n",
       "      <td>NaN</td>\n",
       "      <td>Pvt Ltd</td>\n",
       "      <td>0.726640</td>\n",
       "    </tr>\n",
       "    <tr>\n",
       "      <th>2</th>\n",
       "      <td>11561</td>\n",
       "      <td>NaN</td>\n",
       "      <td>Pvt Ltd</td>\n",
       "      <td>0.775364</td>\n",
       "    </tr>\n",
       "    <tr>\n",
       "      <th>6</th>\n",
       "      <td>28806</td>\n",
       "      <td>Funded Startup</td>\n",
       "      <td>Pvt Ltd</td>\n",
       "      <td>0.744974</td>\n",
       "    </tr>\n",
       "    <tr>\n",
       "      <th>8</th>\n",
       "      <td>27107</td>\n",
       "      <td>Pvt Ltd</td>\n",
       "      <td>Pvt Ltd</td>\n",
       "      <td>0.677420</td>\n",
       "    </tr>\n",
       "    <tr>\n",
       "      <th>10</th>\n",
       "      <td>29452</td>\n",
       "      <td>NaN</td>\n",
       "      <td>Pvt Ltd</td>\n",
       "      <td>0.759327</td>\n",
       "    </tr>\n",
       "    <tr>\n",
       "      <th>...</th>\n",
       "      <td>...</td>\n",
       "      <td>...</td>\n",
       "      <td>...</td>\n",
       "      <td>...</td>\n",
       "    </tr>\n",
       "    <tr>\n",
       "      <th>19151</th>\n",
       "      <td>11385</td>\n",
       "      <td>NaN</td>\n",
       "      <td>Pvt Ltd</td>\n",
       "      <td>0.385932</td>\n",
       "    </tr>\n",
       "    <tr>\n",
       "      <th>19152</th>\n",
       "      <td>29754</td>\n",
       "      <td>Funded Startup</td>\n",
       "      <td>Pvt Ltd</td>\n",
       "      <td>0.678418</td>\n",
       "    </tr>\n",
       "    <tr>\n",
       "      <th>19153</th>\n",
       "      <td>7386</td>\n",
       "      <td>NaN</td>\n",
       "      <td>Pvt Ltd</td>\n",
       "      <td>0.728412</td>\n",
       "    </tr>\n",
       "    <tr>\n",
       "      <th>19154</th>\n",
       "      <td>31398</td>\n",
       "      <td>NaN</td>\n",
       "      <td>Pvt Ltd</td>\n",
       "      <td>0.786314</td>\n",
       "    </tr>\n",
       "    <tr>\n",
       "      <th>19157</th>\n",
       "      <td>23834</td>\n",
       "      <td>NaN</td>\n",
       "      <td>Pvt Ltd</td>\n",
       "      <td>0.793738</td>\n",
       "    </tr>\n",
       "  </tbody>\n",
       "</table>\n",
       "<p>10659 rows × 4 columns</p>\n",
       "</div>"
      ],
      "text/plain": [
       "       enrollee_id    company_type company_type_imputed  \\\n",
       "0             8949             NaN              Pvt Ltd   \n",
       "2            11561             NaN              Pvt Ltd   \n",
       "6            28806  Funded Startup              Pvt Ltd   \n",
       "8            27107         Pvt Ltd              Pvt Ltd   \n",
       "10           29452             NaN              Pvt Ltd   \n",
       "...            ...             ...                  ...   \n",
       "19151        11385             NaN              Pvt Ltd   \n",
       "19152        29754  Funded Startup              Pvt Ltd   \n",
       "19153         7386             NaN              Pvt Ltd   \n",
       "19154        31398             NaN              Pvt Ltd   \n",
       "19157        23834             NaN              Pvt Ltd   \n",
       "\n",
       "       company_type_imputed_proba  \n",
       "0                        0.726640  \n",
       "2                        0.775364  \n",
       "6                        0.744974  \n",
       "8                        0.677420  \n",
       "10                       0.759327  \n",
       "...                           ...  \n",
       "19151                    0.385932  \n",
       "19152                    0.678418  \n",
       "19153                    0.728412  \n",
       "19154                    0.786314  \n",
       "19157                    0.793738  \n",
       "\n",
       "[10659 rows x 4 columns]"
      ]
     },
     "execution_count": 37,
     "metadata": {},
     "output_type": "execute_result"
    }
   ],
   "source": [
    "df1 = pred_comp_type_df.loc[pred_comp_type_df['company_type_imputed_proba'] < 0.8]\n",
    "df1"
   ]
  },
  {
   "cell_type": "code",
   "execution_count": 38,
   "id": "9ad6d210",
   "metadata": {},
   "outputs": [],
   "source": [
    "# Merge 'dropped_df' with predicted dataframes pred_gen, pred_major, pred_comp_size, pred_comp_type \n",
    "merge_df = dropped_df.merge(pred_gen_df, on='enrollee_id')\n",
    "merge_2_df = merge_df.merge(pred_major_df, on='enrollee_id')\n",
    "merge_3_df = merge_2_df.merge(pred_comp_size_df, on='enrollee_id')\n",
    "merge_4_df = merge_3_df.merge(pred_comp_type_df, on='enrollee_id')"
   ]
  },
  {
   "cell_type": "code",
   "execution_count": 39,
   "id": "36e7c369",
   "metadata": {
    "scrolled": false
   },
   "outputs": [
    {
     "data": {
      "text/plain": [
       "['enrollee_id',\n",
       " 'city',\n",
       " 'city_development_index',\n",
       " 'gender_x',\n",
       " 'relevent_experience',\n",
       " 'enrolled_university',\n",
       " 'education_level',\n",
       " 'major_discipline_x',\n",
       " 'experience',\n",
       " 'company_size_x',\n",
       " 'company_type_x',\n",
       " 'last_new_job',\n",
       " 'training_hours',\n",
       " 'target',\n",
       " 'gender_y',\n",
       " 'gender_imputed',\n",
       " 'gender_imputed_proba',\n",
       " 'major_discipline_y',\n",
       " 'major_discipline_imputed',\n",
       " 'major_discipline_imputed_proba',\n",
       " 'company_size_y',\n",
       " 'company_size_imputed',\n",
       " 'company_size_imputed_proba',\n",
       " 'company_type_y',\n",
       " 'company_type_imputed',\n",
       " 'company_type_imputed_proba']"
      ]
     },
     "execution_count": 39,
     "metadata": {},
     "output_type": "execute_result"
    }
   ],
   "source": [
    "merge_4_df.columns.tolist()"
   ]
  },
  {
   "cell_type": "code",
   "execution_count": 40,
   "id": "48d90144",
   "metadata": {},
   "outputs": [],
   "source": [
    "dropped_merge_4_df = merge_4_df.drop(columns=['gender_y',\n",
    "                                              'gender_imputed_proba',\n",
    "                                              'major_discipline_y',\n",
    "                                              'major_discipline_imputed_proba',\n",
    "                                              'company_size_y',\n",
    "                                              'company_size_imputed_proba',\n",
    "                                              'company_type_y',\n",
    "                                              'company_type_imputed_proba'\n",
    "                                             ])"
   ]
  },
  {
   "cell_type": "code",
   "execution_count": 41,
   "id": "e58bb4cd",
   "metadata": {
    "scrolled": true
   },
   "outputs": [
    {
     "data": {
      "text/plain": [
       "['enrollee_id',\n",
       " 'city',\n",
       " 'city_development_index',\n",
       " 'gender_x',\n",
       " 'relevent_experience',\n",
       " 'enrolled_university',\n",
       " 'education_level',\n",
       " 'major_discipline_x',\n",
       " 'experience',\n",
       " 'company_size_x',\n",
       " 'company_type_x',\n",
       " 'last_new_job',\n",
       " 'training_hours',\n",
       " 'target',\n",
       " 'gender_imputed',\n",
       " 'major_discipline_imputed',\n",
       " 'company_size_imputed',\n",
       " 'company_type_imputed']"
      ]
     },
     "execution_count": 41,
     "metadata": {},
     "output_type": "execute_result"
    }
   ],
   "source": [
    "dropped_merge_4_df.columns.tolist()"
   ]
  },
  {
   "cell_type": "code",
   "execution_count": 42,
   "id": "96eac2c9",
   "metadata": {},
   "outputs": [],
   "source": [
    "rename_cols = {'gender_x' : 'gender',\n",
    "               'major_discipline_x' : 'major_discipline',\n",
    "               'company_size_x' : 'company_size',\n",
    "               'company_type_x' : 'company_type'\n",
    "              }\n",
    "\n",
    "renamed_merge_4_df = dropped_merge_4_df.rename(columns=rename_cols)"
   ]
  },
  {
   "cell_type": "code",
   "execution_count": 43,
   "id": "682d97c1",
   "metadata": {
    "scrolled": true
   },
   "outputs": [
    {
     "data": {
      "text/plain": [
       "['enrollee_id',\n",
       " 'city',\n",
       " 'city_development_index',\n",
       " 'gender',\n",
       " 'relevent_experience',\n",
       " 'enrolled_university',\n",
       " 'education_level',\n",
       " 'major_discipline',\n",
       " 'experience',\n",
       " 'company_size',\n",
       " 'company_type',\n",
       " 'last_new_job',\n",
       " 'training_hours',\n",
       " 'target',\n",
       " 'gender_imputed',\n",
       " 'major_discipline_imputed',\n",
       " 'company_size_imputed',\n",
       " 'company_type_imputed']"
      ]
     },
     "execution_count": 43,
     "metadata": {},
     "output_type": "execute_result"
    }
   ],
   "source": [
    "renamed_merge_4_df.columns.tolist()"
   ]
  },
  {
   "cell_type": "code",
   "execution_count": 44,
   "id": "f1416add",
   "metadata": {},
   "outputs": [
    {
     "name": "stdout",
     "output_type": "stream",
     "text": [
      "<class 'pandas.core.frame.DataFrame'>\n",
      "Int64Index: 18014 entries, 0 to 18013\n",
      "Data columns (total 18 columns):\n",
      "enrollee_id                 18014 non-null int64\n",
      "city                        18014 non-null object\n",
      "city_development_index      18014 non-null float64\n",
      "gender                      14151 non-null object\n",
      "relevent_experience         18014 non-null object\n",
      "enrolled_university         18014 non-null object\n",
      "education_level             18014 non-null object\n",
      "major_discipline            15792 non-null object\n",
      "experience                  18014 non-null object\n",
      "company_size                12704 non-null object\n",
      "company_type                12538 non-null object\n",
      "last_new_job                18014 non-null object\n",
      "training_hours              18014 non-null int64\n",
      "target                      18014 non-null float64\n",
      "gender_imputed              18014 non-null object\n",
      "major_discipline_imputed    18014 non-null object\n",
      "company_size_imputed        18014 non-null object\n",
      "company_type_imputed        18014 non-null object\n",
      "dtypes: float64(2), int64(2), object(14)\n",
      "memory usage: 2.6+ MB\n",
      "None\n"
     ]
    }
   ],
   "source": [
    "print(renamed_merge_4_df.info())"
   ]
  },
  {
   "cell_type": "code",
   "execution_count": 45,
   "id": "3ecc0f55",
   "metadata": {},
   "outputs": [],
   "source": [
    "# Fill nan values with predicted from imputed columns\n",
    "renamed_merge_4_df['gender'] = renamed_merge_4_df['gender'].fillna(renamed_merge_4_df['gender_imputed'])\n",
    "renamed_merge_4_df['major_discipline'] = renamed_merge_4_df['major_discipline'].fillna(renamed_merge_4_df['major_discipline_imputed'])\n",
    "renamed_merge_4_df['company_size'] = renamed_merge_4_df['company_size'].fillna(renamed_merge_4_df['company_size_imputed'])\n",
    "renamed_merge_4_df['company_type'] = renamed_merge_4_df['company_type'].fillna(renamed_merge_4_df['company_type_imputed'])"
   ]
  },
  {
   "cell_type": "code",
   "execution_count": 46,
   "id": "66d32a01",
   "metadata": {},
   "outputs": [
    {
     "name": "stdout",
     "output_type": "stream",
     "text": [
      "<class 'pandas.core.frame.DataFrame'>\n",
      "Int64Index: 18014 entries, 0 to 18013\n",
      "Data columns (total 18 columns):\n",
      "enrollee_id                 18014 non-null int64\n",
      "city                        18014 non-null object\n",
      "city_development_index      18014 non-null float64\n",
      "gender                      18014 non-null object\n",
      "relevent_experience         18014 non-null object\n",
      "enrolled_university         18014 non-null object\n",
      "education_level             18014 non-null object\n",
      "major_discipline            18014 non-null object\n",
      "experience                  18014 non-null object\n",
      "company_size                18014 non-null object\n",
      "company_type                18014 non-null object\n",
      "last_new_job                18014 non-null object\n",
      "training_hours              18014 non-null int64\n",
      "target                      18014 non-null float64\n",
      "gender_imputed              18014 non-null object\n",
      "major_discipline_imputed    18014 non-null object\n",
      "company_size_imputed        18014 non-null object\n",
      "company_type_imputed        18014 non-null object\n",
      "dtypes: float64(2), int64(2), object(14)\n",
      "memory usage: 2.6+ MB\n",
      "None\n"
     ]
    }
   ],
   "source": [
    "# Check nan values are filled\n",
    "print(renamed_merge_4_df.info())"
   ]
  },
  {
   "cell_type": "code",
   "execution_count": 47,
   "id": "46f70f12",
   "metadata": {},
   "outputs": [],
   "source": [
    "# Drop imputed columns\n",
    "cleaned_df = renamed_merge_4_df.drop(columns=[\n",
    "    'gender_imputed',\n",
    "    'major_discipline_imputed',\n",
    "    'company_size_imputed',\n",
    "    'company_type_imputed'\n",
    "])"
   ]
  },
  {
   "cell_type": "code",
   "execution_count": 48,
   "id": "33f32af2",
   "metadata": {},
   "outputs": [
    {
     "data": {
      "text/plain": [
       "Index(['enrollee_id', 'city', 'city_development_index', 'gender',\n",
       "       'relevent_experience', 'enrolled_university', 'education_level',\n",
       "       'major_discipline', 'experience', 'company_size', 'company_type',\n",
       "       'last_new_job', 'training_hours', 'target'],\n",
       "      dtype='object')"
      ]
     },
     "execution_count": 48,
     "metadata": {},
     "output_type": "execute_result"
    }
   ],
   "source": [
    "# Check columns have been dropped\n",
    "cleaned_df.columns"
   ]
  },
  {
   "cell_type": "code",
   "execution_count": 49,
   "id": "a96abd5b",
   "metadata": {},
   "outputs": [
    {
     "name": "stdout",
     "output_type": "stream",
     "text": [
      "enrollee_id               0\n",
      "city                      0\n",
      "city_development_index    0\n",
      "gender                    0\n",
      "relevent_experience       0\n",
      "enrolled_university       0\n",
      "education_level           0\n",
      "major_discipline          0\n",
      "experience                0\n",
      "company_size              0\n",
      "company_type              0\n",
      "last_new_job              0\n",
      "training_hours            0\n",
      "target                    0\n",
      "dtype: int64\n"
     ]
    }
   ],
   "source": [
    "print(cleaned_df.isnull().sum())"
   ]
  },
  {
   "cell_type": "code",
   "execution_count": null,
   "id": "67e32de8",
   "metadata": {},
   "outputs": [],
   "source": [
    "# Export the cleaned_df as a CSV file\n",
    "# cleaned_df.to_csv('../resources/imputed.csv', index=False)"
   ]
  }
 ],
 "metadata": {
  "kernelspec": {
   "display_name": "Python 3 (ipykernel)",
   "language": "python",
   "name": "python3"
  },
  "language_info": {
   "codemirror_mode": {
    "name": "ipython",
    "version": 3
   },
   "file_extension": ".py",
   "mimetype": "text/x-python",
   "name": "python",
   "nbconvert_exporter": "python",
   "pygments_lexer": "ipython3",
   "version": "3.10.9"
  }
 },
 "nbformat": 4,
 "nbformat_minor": 5
}
