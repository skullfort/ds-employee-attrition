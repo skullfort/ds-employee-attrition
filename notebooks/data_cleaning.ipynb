{
 "cells": [
  {
   "cell_type": "code",
   "execution_count": 1,
   "id": "b22db050",
   "metadata": {},
   "outputs": [],
   "source": [
    "# Import dependencies\n",
    "import pandas as pd\n",
    "from pprint import pprint"
   ]
  },
  {
   "cell_type": "markdown",
   "id": "53529777",
   "metadata": {},
   "source": [
    "# HR ANALYSIS"
   ]
  },
  {
   "cell_type": "code",
   "execution_count": 2,
   "id": "39324701",
   "metadata": {},
   "outputs": [],
   "source": [
    "# Load data\n",
    "path = './resources/hr_analysis_aug_train.csv'\n",
    "\n",
    "hr_df = pd.read_csv(path)"
   ]
  },
  {
   "cell_type": "code",
   "execution_count": 3,
   "id": "c8a5d5a2",
   "metadata": {},
   "outputs": [
    {
     "data": {
      "text/html": [
       "<div>\n",
       "<style scoped>\n",
       "    .dataframe tbody tr th:only-of-type {\n",
       "        vertical-align: middle;\n",
       "    }\n",
       "\n",
       "    .dataframe tbody tr th {\n",
       "        vertical-align: top;\n",
       "    }\n",
       "\n",
       "    .dataframe thead th {\n",
       "        text-align: right;\n",
       "    }\n",
       "</style>\n",
       "<table border=\"1\" class=\"dataframe\">\n",
       "  <thead>\n",
       "    <tr style=\"text-align: right;\">\n",
       "      <th></th>\n",
       "      <th>enrollee_id</th>\n",
       "      <th>city</th>\n",
       "      <th>city_development_index</th>\n",
       "      <th>gender</th>\n",
       "      <th>relevent_experience</th>\n",
       "      <th>enrolled_university</th>\n",
       "      <th>education_level</th>\n",
       "      <th>major_discipline</th>\n",
       "      <th>experience</th>\n",
       "      <th>company_size</th>\n",
       "      <th>company_type</th>\n",
       "      <th>last_new_job</th>\n",
       "      <th>training_hours</th>\n",
       "      <th>target</th>\n",
       "    </tr>\n",
       "  </thead>\n",
       "  <tbody>\n",
       "    <tr>\n",
       "      <th>0</th>\n",
       "      <td>8949</td>\n",
       "      <td>city_103</td>\n",
       "      <td>0.920</td>\n",
       "      <td>Male</td>\n",
       "      <td>Has relevent experience</td>\n",
       "      <td>no_enrollment</td>\n",
       "      <td>Graduate</td>\n",
       "      <td>STEM</td>\n",
       "      <td>&gt;20</td>\n",
       "      <td>NaN</td>\n",
       "      <td>NaN</td>\n",
       "      <td>1</td>\n",
       "      <td>36</td>\n",
       "      <td>1.0</td>\n",
       "    </tr>\n",
       "    <tr>\n",
       "      <th>1</th>\n",
       "      <td>29725</td>\n",
       "      <td>city_40</td>\n",
       "      <td>0.776</td>\n",
       "      <td>Male</td>\n",
       "      <td>No relevent experience</td>\n",
       "      <td>no_enrollment</td>\n",
       "      <td>Graduate</td>\n",
       "      <td>STEM</td>\n",
       "      <td>15</td>\n",
       "      <td>50-99</td>\n",
       "      <td>Pvt Ltd</td>\n",
       "      <td>&gt;4</td>\n",
       "      <td>47</td>\n",
       "      <td>0.0</td>\n",
       "    </tr>\n",
       "    <tr>\n",
       "      <th>2</th>\n",
       "      <td>11561</td>\n",
       "      <td>city_21</td>\n",
       "      <td>0.624</td>\n",
       "      <td>NaN</td>\n",
       "      <td>No relevent experience</td>\n",
       "      <td>Full time course</td>\n",
       "      <td>Graduate</td>\n",
       "      <td>STEM</td>\n",
       "      <td>5</td>\n",
       "      <td>NaN</td>\n",
       "      <td>NaN</td>\n",
       "      <td>never</td>\n",
       "      <td>83</td>\n",
       "      <td>0.0</td>\n",
       "    </tr>\n",
       "    <tr>\n",
       "      <th>3</th>\n",
       "      <td>33241</td>\n",
       "      <td>city_115</td>\n",
       "      <td>0.789</td>\n",
       "      <td>NaN</td>\n",
       "      <td>No relevent experience</td>\n",
       "      <td>NaN</td>\n",
       "      <td>Graduate</td>\n",
       "      <td>Business Degree</td>\n",
       "      <td>&lt;1</td>\n",
       "      <td>NaN</td>\n",
       "      <td>Pvt Ltd</td>\n",
       "      <td>never</td>\n",
       "      <td>52</td>\n",
       "      <td>1.0</td>\n",
       "    </tr>\n",
       "    <tr>\n",
       "      <th>4</th>\n",
       "      <td>666</td>\n",
       "      <td>city_162</td>\n",
       "      <td>0.767</td>\n",
       "      <td>Male</td>\n",
       "      <td>Has relevent experience</td>\n",
       "      <td>no_enrollment</td>\n",
       "      <td>Masters</td>\n",
       "      <td>STEM</td>\n",
       "      <td>&gt;20</td>\n",
       "      <td>50-99</td>\n",
       "      <td>Funded Startup</td>\n",
       "      <td>4</td>\n",
       "      <td>8</td>\n",
       "      <td>0.0</td>\n",
       "    </tr>\n",
       "    <tr>\n",
       "      <th>...</th>\n",
       "      <td>...</td>\n",
       "      <td>...</td>\n",
       "      <td>...</td>\n",
       "      <td>...</td>\n",
       "      <td>...</td>\n",
       "      <td>...</td>\n",
       "      <td>...</td>\n",
       "      <td>...</td>\n",
       "      <td>...</td>\n",
       "      <td>...</td>\n",
       "      <td>...</td>\n",
       "      <td>...</td>\n",
       "      <td>...</td>\n",
       "      <td>...</td>\n",
       "    </tr>\n",
       "    <tr>\n",
       "      <th>19153</th>\n",
       "      <td>7386</td>\n",
       "      <td>city_173</td>\n",
       "      <td>0.878</td>\n",
       "      <td>Male</td>\n",
       "      <td>No relevent experience</td>\n",
       "      <td>no_enrollment</td>\n",
       "      <td>Graduate</td>\n",
       "      <td>Humanities</td>\n",
       "      <td>14</td>\n",
       "      <td>NaN</td>\n",
       "      <td>NaN</td>\n",
       "      <td>1</td>\n",
       "      <td>42</td>\n",
       "      <td>1.0</td>\n",
       "    </tr>\n",
       "    <tr>\n",
       "      <th>19154</th>\n",
       "      <td>31398</td>\n",
       "      <td>city_103</td>\n",
       "      <td>0.920</td>\n",
       "      <td>Male</td>\n",
       "      <td>Has relevent experience</td>\n",
       "      <td>no_enrollment</td>\n",
       "      <td>Graduate</td>\n",
       "      <td>STEM</td>\n",
       "      <td>14</td>\n",
       "      <td>NaN</td>\n",
       "      <td>NaN</td>\n",
       "      <td>4</td>\n",
       "      <td>52</td>\n",
       "      <td>1.0</td>\n",
       "    </tr>\n",
       "    <tr>\n",
       "      <th>19155</th>\n",
       "      <td>24576</td>\n",
       "      <td>city_103</td>\n",
       "      <td>0.920</td>\n",
       "      <td>Male</td>\n",
       "      <td>Has relevent experience</td>\n",
       "      <td>no_enrollment</td>\n",
       "      <td>Graduate</td>\n",
       "      <td>STEM</td>\n",
       "      <td>&gt;20</td>\n",
       "      <td>50-99</td>\n",
       "      <td>Pvt Ltd</td>\n",
       "      <td>4</td>\n",
       "      <td>44</td>\n",
       "      <td>0.0</td>\n",
       "    </tr>\n",
       "    <tr>\n",
       "      <th>19156</th>\n",
       "      <td>5756</td>\n",
       "      <td>city_65</td>\n",
       "      <td>0.802</td>\n",
       "      <td>Male</td>\n",
       "      <td>Has relevent experience</td>\n",
       "      <td>no_enrollment</td>\n",
       "      <td>High School</td>\n",
       "      <td>NaN</td>\n",
       "      <td>&lt;1</td>\n",
       "      <td>500-999</td>\n",
       "      <td>Pvt Ltd</td>\n",
       "      <td>2</td>\n",
       "      <td>97</td>\n",
       "      <td>0.0</td>\n",
       "    </tr>\n",
       "    <tr>\n",
       "      <th>19157</th>\n",
       "      <td>23834</td>\n",
       "      <td>city_67</td>\n",
       "      <td>0.855</td>\n",
       "      <td>NaN</td>\n",
       "      <td>No relevent experience</td>\n",
       "      <td>no_enrollment</td>\n",
       "      <td>Primary School</td>\n",
       "      <td>NaN</td>\n",
       "      <td>2</td>\n",
       "      <td>NaN</td>\n",
       "      <td>NaN</td>\n",
       "      <td>1</td>\n",
       "      <td>127</td>\n",
       "      <td>0.0</td>\n",
       "    </tr>\n",
       "  </tbody>\n",
       "</table>\n",
       "<p>19158 rows × 14 columns</p>\n",
       "</div>"
      ],
      "text/plain": [
       "       enrollee_id      city  city_development_index gender  \\\n",
       "0             8949  city_103                   0.920   Male   \n",
       "1            29725   city_40                   0.776   Male   \n",
       "2            11561   city_21                   0.624    NaN   \n",
       "3            33241  city_115                   0.789    NaN   \n",
       "4              666  city_162                   0.767   Male   \n",
       "...            ...       ...                     ...    ...   \n",
       "19153         7386  city_173                   0.878   Male   \n",
       "19154        31398  city_103                   0.920   Male   \n",
       "19155        24576  city_103                   0.920   Male   \n",
       "19156         5756   city_65                   0.802   Male   \n",
       "19157        23834   city_67                   0.855    NaN   \n",
       "\n",
       "           relevent_experience enrolled_university education_level  \\\n",
       "0      Has relevent experience       no_enrollment        Graduate   \n",
       "1       No relevent experience       no_enrollment        Graduate   \n",
       "2       No relevent experience    Full time course        Graduate   \n",
       "3       No relevent experience                 NaN        Graduate   \n",
       "4      Has relevent experience       no_enrollment         Masters   \n",
       "...                        ...                 ...             ...   \n",
       "19153   No relevent experience       no_enrollment        Graduate   \n",
       "19154  Has relevent experience       no_enrollment        Graduate   \n",
       "19155  Has relevent experience       no_enrollment        Graduate   \n",
       "19156  Has relevent experience       no_enrollment     High School   \n",
       "19157   No relevent experience       no_enrollment  Primary School   \n",
       "\n",
       "      major_discipline experience company_size    company_type last_new_job  \\\n",
       "0                 STEM        >20          NaN             NaN            1   \n",
       "1                 STEM         15        50-99         Pvt Ltd           >4   \n",
       "2                 STEM          5          NaN             NaN        never   \n",
       "3      Business Degree         <1          NaN         Pvt Ltd        never   \n",
       "4                 STEM        >20        50-99  Funded Startup            4   \n",
       "...                ...        ...          ...             ...          ...   \n",
       "19153       Humanities         14          NaN             NaN            1   \n",
       "19154             STEM         14          NaN             NaN            4   \n",
       "19155             STEM        >20        50-99         Pvt Ltd            4   \n",
       "19156              NaN         <1      500-999         Pvt Ltd            2   \n",
       "19157              NaN          2          NaN             NaN            1   \n",
       "\n",
       "       training_hours  target  \n",
       "0                  36     1.0  \n",
       "1                  47     0.0  \n",
       "2                  83     0.0  \n",
       "3                  52     1.0  \n",
       "4                   8     0.0  \n",
       "...               ...     ...  \n",
       "19153              42     1.0  \n",
       "19154              52     1.0  \n",
       "19155              44     0.0  \n",
       "19156              97     0.0  \n",
       "19157             127     0.0  \n",
       "\n",
       "[19158 rows x 14 columns]"
      ]
     },
     "execution_count": 3,
     "metadata": {},
     "output_type": "execute_result"
    }
   ],
   "source": [
    "# View data\n",
    "hr_df"
   ]
  },
  {
   "cell_type": "markdown",
   "id": "fadae702",
   "metadata": {},
   "source": [
    "### Features\n",
    "\n",
    "1. `enrollee_id :` Unique ID for candidate\n",
    "\n",
    "2. `city :` City code\n",
    "\n",
    "3. `city_development_index :` Developement index of the city (scaled)\n",
    "\n",
    "4. `gender :` Gender of candidate\n",
    "\n",
    "5. `relevent_experience :` Relevant experience of candidate\n",
    "\n",
    "6. `enrolled_university :` Type of University course enrolled if any\n",
    "\n",
    "7. `education_level :` Education level of candidate\n",
    "\n",
    "8. `major_discipline :` Education major discipline of candidate\n",
    "\n",
    "9. `experience :` Candidate total experience in years\n",
    "\n",
    "10. `company_size :` No of employees in current employer's company\n",
    "\n",
    "11. `company_type :` Type of current employer\n",
    "\n",
    "12. `last_new_job :` Difference in years between previous job and current job\n",
    "\n",
    "13. `training_hours :` training hours completed\n",
    "\n",
    "14. `target :` 0 – Not looking for job change, 1 – Looking for a job change"
   ]
  },
  {
   "cell_type": "code",
   "execution_count": 4,
   "id": "6e44f4d8",
   "metadata": {
    "scrolled": false
   },
   "outputs": [
    {
     "name": "stdout",
     "output_type": "stream",
     "text": [
      "<class 'pandas.core.frame.DataFrame'>\n",
      "RangeIndex: 19158 entries, 0 to 19157\n",
      "Data columns (total 14 columns):\n",
      "enrollee_id               19158 non-null int64\n",
      "city                      19158 non-null object\n",
      "city_development_index    19158 non-null float64\n",
      "gender                    14650 non-null object\n",
      "relevent_experience       19158 non-null object\n",
      "enrolled_university       18772 non-null object\n",
      "education_level           18698 non-null object\n",
      "major_discipline          16345 non-null object\n",
      "experience                19093 non-null object\n",
      "company_size              13220 non-null object\n",
      "company_type              13018 non-null object\n",
      "last_new_job              18735 non-null object\n",
      "training_hours            19158 non-null int64\n",
      "target                    19158 non-null float64\n",
      "dtypes: float64(2), int64(2), object(10)\n",
      "memory usage: 2.0+ MB\n",
      "None\n"
     ]
    }
   ],
   "source": [
    "# View data information\n",
    "print(hr_df.info())"
   ]
  },
  {
   "cell_type": "code",
   "execution_count": 5,
   "id": "19386ce7",
   "metadata": {
    "scrolled": true
   },
   "outputs": [
    {
     "name": "stdout",
     "output_type": "stream",
     "text": [
      "enrollee_id                  0\n",
      "city                         0\n",
      "city_development_index       0\n",
      "gender                    4508\n",
      "relevent_experience          0\n",
      "enrolled_university        386\n",
      "education_level            460\n",
      "major_discipline          2813\n",
      "experience                  65\n",
      "company_size              5938\n",
      "company_type              6140\n",
      "last_new_job               423\n",
      "training_hours               0\n",
      "target                       0\n",
      "dtype: int64\n",
      "(19158, 14)\n"
     ]
    }
   ],
   "source": [
    "# Print null value counts for each column\n",
    "print(hr_df.isnull().sum())\n",
    "print(hr_df.shape)"
   ]
  },
  {
   "cell_type": "code",
   "execution_count": 6,
   "id": "73927f43",
   "metadata": {},
   "outputs": [],
   "source": [
    "# Drop rows with all nan values\n",
    "dropped_nan_rows = hr_df.dropna(how='all')"
   ]
  },
  {
   "cell_type": "code",
   "execution_count": 7,
   "id": "0767bdb7",
   "metadata": {},
   "outputs": [
    {
     "name": "stdout",
     "output_type": "stream",
     "text": [
      "enrollee_id                  0\n",
      "city                         0\n",
      "city_development_index       0\n",
      "gender                    4508\n",
      "relevent_experience          0\n",
      "enrolled_university        386\n",
      "education_level            460\n",
      "major_discipline          2813\n",
      "experience                  65\n",
      "company_size              5938\n",
      "company_type              6140\n",
      "last_new_job               423\n",
      "training_hours               0\n",
      "target                       0\n",
      "dtype: int64\n",
      "(19158, 14)\n"
     ]
    }
   ],
   "source": [
    "# View dropped rows\n",
    "print(dropped_nan_rows.isnull().sum())\n",
    "print(dropped_nan_rows.shape)"
   ]
  },
  {
   "cell_type": "code",
   "execution_count": 8,
   "id": "4a146a4a",
   "metadata": {},
   "outputs": [],
   "source": [
    "# Drop rows with nan values from selected columns\n",
    "dropped_rows = hr_df.dropna(subset=['enrolled_university', \n",
    "                                     'education_level',\n",
    "                                     'experience',\n",
    "                                     'last_new_job'\n",
    "                                    ])"
   ]
  },
  {
   "cell_type": "code",
   "execution_count": 9,
   "id": "ab280e22",
   "metadata": {},
   "outputs": [
    {
     "name": "stdout",
     "output_type": "stream",
     "text": [
      "enrollee_id                  0\n",
      "city                         0\n",
      "city_development_index       0\n",
      "gender                    3863\n",
      "relevent_experience          0\n",
      "enrolled_university          0\n",
      "education_level              0\n",
      "major_discipline          2222\n",
      "experience                   0\n",
      "company_size              5310\n",
      "company_type              5476\n",
      "last_new_job                 0\n",
      "training_hours               0\n",
      "target                       0\n",
      "dtype: int64\n",
      "(18014, 14)\n"
     ]
    }
   ],
   "source": [
    "# View dropped rows\n",
    "print(dropped_rows.isnull().sum())\n",
    "print(dropped_rows.shape)"
   ]
  },
  {
   "cell_type": "code",
   "execution_count": 10,
   "id": "3f57a560",
   "metadata": {},
   "outputs": [],
   "source": [
    "# Create a copy of the dropped_rows\n",
    "dropped_df = dropped_rows.copy()"
   ]
  },
  {
   "cell_type": "markdown",
   "id": "de1e2b68",
   "metadata": {},
   "source": [
    "## Impute missing values with Datawig\n",
    "* https://github.com/awslabs/datawig\n",
    "* https://towardsdatascience.com/imputation-of-missing-data-in-tables-with-datawig-2d7ab327ece2"
   ]
  },
  {
   "cell_type": "code",
   "execution_count": 11,
   "id": "43d5f80e",
   "metadata": {
    "scrolled": true
   },
   "outputs": [],
   "source": [
    "# Import dependencies\n",
    "import numpy as np\n",
    "import datawig\n",
    "from datawig.utils import random_split\n",
    "from datawig import SimpleImputer\n",
    "\n",
    "# Perform train-test split (Default is 80/20 split)\n",
    "df_train, df_test = random_split(dropped_df, split_ratios=[0.8, 0.2])\n",
    "\n",
    "# Randomly hide 25% of cells in test dataframe\n",
    "hide_proportion = 0.25\n",
    "df_test_missing = df_test.mask(np.random.rand(*df_test.shape) > (1 - hide_proportion))"
   ]
  },
  {
   "cell_type": "code",
   "execution_count": 12,
   "id": "06b8f791",
   "metadata": {},
   "outputs": [],
   "source": [
    "# Define columns with useful info for to-be-imputed column\n",
    "input_cols = ['city',\n",
    "              'city_development_index',\n",
    "              'company_size', \n",
    "              'relevent_experience',\n",
    "              'enrolled_university', \n",
    "              'education_level', \n",
    "              'experience',\n",
    "              'last_new_job',\n",
    "              'training_hours'\n",
    "             ]\n",
    "\n",
    "# Define columns to be imputed\n",
    "output_col_gen = 'gender'\n",
    "output_col_major = 'major_discipline'\n",
    "output_col_comp_size = 'company_size'\n",
    "output_col_comp_type = 'company_type'\n",
    "\n",
    "# Initialize a SimpleImputer model for categorical imputation\n",
    "imputer_gen = datawig.SimpleImputer(\n",
    "    input_columns = input_cols, # column(s) containing information about the column we want to impute\n",
    "    output_column = output_col_gen, # the column we'd like to impute values for\n",
    "    output_path =  'imputer_gen' # stores model data and metrics\n",
    "    )\n",
    "\n",
    "imputer_major = datawig.SimpleImputer(\n",
    "    input_columns = input_cols,\n",
    "    output_column = output_col_major,\n",
    "    output_path =  'imputer_major'\n",
    "    )\n",
    "\n",
    "imputer_comp_size = datawig.SimpleImputer(\n",
    "    input_columns = input_cols, \n",
    "    output_column = output_col_comp_size, \n",
    "    output_path =  'imputer_comp_size'\n",
    "    )\n",
    "\n",
    "imputer_comp_type = datawig.SimpleImputer(\n",
    "    input_columns = input_cols, \n",
    "    output_column = output_col_comp_type, \n",
    "    output_path =  'imputer_comp_type' \n",
    "    )"
   ]
  },
  {
   "cell_type": "code",
   "execution_count": 13,
   "id": "b8c05e55",
   "metadata": {
    "collapsed": true
   },
   "outputs": [
    {
     "name": "stderr",
     "output_type": "stream",
     "text": [
      "/Users/ronaldlam/opt/anaconda3/envs/PythonData/lib/python3.7/site-packages/pandas/core/frame.py:3509: SettingWithCopyWarning: \n",
      "A value is trying to be set on a copy of a slice from a DataFrame.\n",
      "Try using .loc[row_indexer,col_indexer] = value instead\n",
      "\n",
      "See the caveats in the documentation: http://pandas.pydata.org/pandas-docs/stable/user_guide/indexing.html#returning-a-view-versus-a-copy\n",
      "  self[k1] = value[k2]\n",
      "[23:38:54] src/operator/random/../../common/utils.h:450: \n",
      "Storage type fallback detected:\n",
      "operator = Concat\n",
      "input storage types = [csr, default, ]\n",
      "output storage types = [default, ]\n",
      "params = {\"num_args\" : 2, \"dim\" : 1, }\n",
      "context.dev_mask = cpu\n",
      "The operator with default storage type will be dispatched for execution. You're seeing this warning message because the operator above is unable to process the given ndarrays with specified storage types, context and parameter. Temporary dense ndarrays are generated in order to execute the operator. This does not affect the correctness of the programme. You can set environment variable MXNET_STORAGE_FALLBACK_LOG_VERBOSE to 0 to suppress this warning.\n",
      "2023-06-04 23:38:54,702 [INFO]  \n",
      "========== start: fit model\n",
      "2023-06-04 23:38:54,703 [WARNING]  Already bound, ignoring bind()\n",
      "2023-06-04 23:38:56,861 [INFO]  Epoch[0] Batch [0-320]\tSpeed: 2385.33 samples/sec\tcross-entropy=0.350613\tgender-accuracy=0.909073\n",
      "2023-06-04 23:38:59,001 [INFO]  Epoch[0] Train-cross-entropy=0.345904\n",
      "2023-06-04 23:38:59,001 [INFO]  Epoch[0] Train-gender-accuracy=0.903854\n",
      "2023-06-04 23:38:59,002 [INFO]  Epoch[0] Time cost=4.297\n",
      "2023-06-04 23:38:59,008 [INFO]  Saved checkpoint to \"imputer_gen/model-0000.params\"\n",
      "2023-06-04 23:38:59,410 [INFO]  Epoch[0] Validation-cross-entropy=0.353308\n",
      "2023-06-04 23:38:59,411 [INFO]  Epoch[0] Validation-gender-accuracy=0.894643\n",
      "2023-06-04 23:39:01,636 [INFO]  Epoch[1] Batch [0-320]\tSpeed: 2309.53 samples/sec\tcross-entropy=0.318090\tgender-accuracy=0.909073\n",
      "2023-06-04 23:39:03,781 [INFO]  Epoch[1] Train-cross-entropy=0.325231\n",
      "2023-06-04 23:39:03,782 [INFO]  Epoch[1] Train-gender-accuracy=0.903951\n",
      "2023-06-04 23:39:03,783 [INFO]  Epoch[1] Time cost=4.371\n",
      "2023-06-04 23:39:03,788 [INFO]  Saved checkpoint to \"imputer_gen/model-0001.params\"\n",
      "2023-06-04 23:39:04,197 [INFO]  Epoch[1] Validation-cross-entropy=0.342586\n",
      "2023-06-04 23:39:04,198 [INFO]  Epoch[1] Validation-gender-accuracy=0.894643\n",
      "2023-06-04 23:39:06,366 [INFO]  Epoch[2] Batch [0-320]\tSpeed: 2371.81 samples/sec\tcross-entropy=0.313146\tgender-accuracy=0.909073\n",
      "2023-06-04 23:39:08,612 [INFO]  Epoch[2] Train-cross-entropy=0.320715\n",
      "2023-06-04 23:39:08,612 [INFO]  Epoch[2] Train-gender-accuracy=0.903951\n",
      "2023-06-04 23:39:08,613 [INFO]  Epoch[2] Time cost=4.414\n",
      "2023-06-04 23:39:08,617 [INFO]  Saved checkpoint to \"imputer_gen/model-0002.params\"\n",
      "2023-06-04 23:39:09,025 [INFO]  Epoch[2] Validation-cross-entropy=0.340290\n",
      "2023-06-04 23:39:09,026 [INFO]  Epoch[2] Validation-gender-accuracy=0.894643\n",
      "2023-06-04 23:39:11,288 [INFO]  Epoch[3] Batch [0-320]\tSpeed: 2270.83 samples/sec\tcross-entropy=0.310962\tgender-accuracy=0.909073\n",
      "2023-06-04 23:39:13,462 [INFO]  Epoch[3] Train-cross-entropy=0.318475\n",
      "2023-06-04 23:39:13,463 [INFO]  Epoch[3] Train-gender-accuracy=0.903951\n",
      "2023-06-04 23:39:13,464 [INFO]  Epoch[3] Time cost=4.437\n",
      "2023-06-04 23:39:13,468 [INFO]  Saved checkpoint to \"imputer_gen/model-0003.params\"\n",
      "2023-06-04 23:39:13,880 [INFO]  Epoch[3] Validation-cross-entropy=0.338739\n",
      "2023-06-04 23:39:13,881 [INFO]  Epoch[3] Validation-gender-accuracy=0.894643\n",
      "2023-06-04 23:39:16,153 [INFO]  Epoch[4] Batch [0-320]\tSpeed: 2262.40 samples/sec\tcross-entropy=0.309661\tgender-accuracy=0.909073\n",
      "2023-06-04 23:39:18,303 [INFO]  Epoch[4] Train-cross-entropy=0.317071\n",
      "2023-06-04 23:39:18,303 [INFO]  Epoch[4] Train-gender-accuracy=0.903951\n",
      "2023-06-04 23:39:18,304 [INFO]  Epoch[4] Time cost=4.422\n",
      "2023-06-04 23:39:18,309 [INFO]  Saved checkpoint to \"imputer_gen/model-0004.params\"\n",
      "2023-06-04 23:39:18,716 [INFO]  Epoch[4] Validation-cross-entropy=0.337818\n",
      "2023-06-04 23:39:18,716 [INFO]  Epoch[4] Validation-gender-accuracy=0.894643\n",
      "2023-06-04 23:39:20,890 [INFO]  Epoch[5] Batch [0-320]\tSpeed: 2364.14 samples/sec\tcross-entropy=0.308666\tgender-accuracy=0.909073\n",
      "2023-06-04 23:39:23,113 [INFO]  Epoch[5] Train-cross-entropy=0.316026\n",
      "2023-06-04 23:39:23,114 [INFO]  Epoch[5] Train-gender-accuracy=0.903951\n",
      "2023-06-04 23:39:23,115 [INFO]  Epoch[5] Time cost=4.398\n",
      "2023-06-04 23:39:23,120 [INFO]  Saved checkpoint to \"imputer_gen/model-0005.params\"\n",
      "2023-06-04 23:39:23,532 [INFO]  Epoch[5] Validation-cross-entropy=0.337241\n",
      "2023-06-04 23:39:23,532 [INFO]  Epoch[5] Validation-gender-accuracy=0.894643\n",
      "2023-06-04 23:39:25,764 [INFO]  Epoch[6] Batch [0-320]\tSpeed: 2303.74 samples/sec\tcross-entropy=0.307877\tgender-accuracy=0.909073\n",
      "2023-06-04 23:39:27,896 [INFO]  Epoch[6] Train-cross-entropy=0.315203\n",
      "2023-06-04 23:39:27,896 [INFO]  Epoch[6] Train-gender-accuracy=0.903951\n",
      "2023-06-04 23:39:27,897 [INFO]  Epoch[6] Time cost=4.364\n",
      "2023-06-04 23:39:27,902 [INFO]  Saved checkpoint to \"imputer_gen/model-0006.params\"\n",
      "2023-06-04 23:39:28,311 [INFO]  Epoch[6] Validation-cross-entropy=0.336871\n",
      "2023-06-04 23:39:28,312 [INFO]  Epoch[6] Validation-gender-accuracy=0.894643\n",
      "2023-06-04 23:39:30,489 [INFO]  Epoch[7] Batch [0-320]\tSpeed: 2361.29 samples/sec\tcross-entropy=0.307211\tgender-accuracy=0.909073\n",
      "2023-06-04 23:39:32,644 [INFO]  Epoch[7] Train-cross-entropy=0.314501\n",
      "2023-06-04 23:39:32,645 [INFO]  Epoch[7] Train-gender-accuracy=0.903951\n",
      "2023-06-04 23:39:32,646 [INFO]  Epoch[7] Time cost=4.333\n",
      "2023-06-04 23:39:32,651 [INFO]  Saved checkpoint to \"imputer_gen/model-0007.params\"\n",
      "2023-06-04 23:39:33,058 [INFO]  Epoch[7] Validation-cross-entropy=0.336582\n",
      "2023-06-04 23:39:33,059 [INFO]  Epoch[7] Validation-gender-accuracy=0.894643\n",
      "2023-06-04 23:39:35,333 [INFO]  Epoch[8] Batch [0-320]\tSpeed: 2260.27 samples/sec\tcross-entropy=0.306644\tgender-accuracy=0.909073\n",
      "2023-06-04 23:39:37,596 [INFO]  Epoch[8] Train-cross-entropy=0.313909\n",
      "2023-06-04 23:39:37,596 [INFO]  Epoch[8] Train-gender-accuracy=0.903854\n",
      "2023-06-04 23:39:37,597 [INFO]  Epoch[8] Time cost=4.538\n",
      "2023-06-04 23:39:37,602 [INFO]  Saved checkpoint to \"imputer_gen/model-0008.params\"\n",
      "2023-06-04 23:39:38,023 [INFO]  Epoch[8] Validation-cross-entropy=0.336402\n",
      "2023-06-04 23:39:38,024 [INFO]  Epoch[8] Validation-gender-accuracy=0.894643\n",
      "2023-06-04 23:39:40,320 [INFO]  Epoch[9] Batch [0-320]\tSpeed: 2237.22 samples/sec\tcross-entropy=0.306166\tgender-accuracy=0.909073\n",
      "2023-06-04 23:39:42,542 [INFO]  Epoch[9] Train-cross-entropy=0.313423\n",
      "2023-06-04 23:39:42,543 [INFO]  Epoch[9] Train-gender-accuracy=0.903854\n",
      "2023-06-04 23:39:42,543 [INFO]  Epoch[9] Time cost=4.518\n",
      "2023-06-04 23:39:42,550 [INFO]  Saved checkpoint to \"imputer_gen/model-0009.params\"\n",
      "2023-06-04 23:39:42,967 [INFO]  Epoch[9] Validation-cross-entropy=0.336345\n",
      "2023-06-04 23:39:42,968 [INFO]  Epoch[9] Validation-gender-accuracy=0.894643\n",
      "2023-06-04 23:39:45,225 [INFO]  Epoch[10] Batch [0-320]\tSpeed: 2277.30 samples/sec\tcross-entropy=0.305743\tgender-accuracy=0.909073\n",
      "2023-06-04 23:39:47,385 [INFO]  Epoch[10] Train-cross-entropy=0.312997\n",
      "2023-06-04 23:39:47,385 [INFO]  Epoch[10] Train-gender-accuracy=0.903854\n",
      "2023-06-04 23:39:47,386 [INFO]  Epoch[10] Time cost=4.418\n",
      "2023-06-04 23:39:47,391 [INFO]  Saved checkpoint to \"imputer_gen/model-0010.params\"\n",
      "2023-06-04 23:39:47,794 [INFO]  Epoch[10] Validation-cross-entropy=0.336301\n",
      "2023-06-04 23:39:47,795 [INFO]  Epoch[10] Validation-gender-accuracy=0.894643\n",
      "2023-06-04 23:39:49,966 [INFO]  Epoch[11] Batch [0-320]\tSpeed: 2367.73 samples/sec\tcross-entropy=0.305354\tgender-accuracy=0.909073\n",
      "2023-06-04 23:39:52,117 [INFO]  Epoch[11] Train-cross-entropy=0.312605\n",
      "2023-06-04 23:39:52,118 [INFO]  Epoch[11] Train-gender-accuracy=0.903854\n",
      "2023-06-04 23:39:52,118 [INFO]  Epoch[11] Time cost=4.323\n",
      "2023-06-04 23:39:52,123 [INFO]  Saved checkpoint to \"imputer_gen/model-0011.params\"\n",
      "2023-06-04 23:39:52,530 [INFO]  Epoch[11] Validation-cross-entropy=0.336302\n",
      "2023-06-04 23:39:52,531 [INFO]  Epoch[11] Validation-gender-accuracy=0.893750\n",
      "2023-06-04 23:39:54,718 [INFO]  Epoch[12] Batch [0-320]\tSpeed: 2349.83 samples/sec\tcross-entropy=0.305049\tgender-accuracy=0.909073\n",
      "2023-06-04 23:39:56,980 [INFO]  Epoch[12] Train-cross-entropy=0.312422\n"
     ]
    },
    {
     "name": "stderr",
     "output_type": "stream",
     "text": [
      "2023-06-04 23:39:56,981 [INFO]  Epoch[12] Train-gender-accuracy=0.903854\n",
      "2023-06-04 23:39:56,982 [INFO]  Epoch[12] Time cost=4.451\n",
      "2023-06-04 23:39:56,991 [INFO]  Saved checkpoint to \"imputer_gen/model-0012.params\"\n",
      "2023-06-04 23:39:57,477 [INFO]  Epoch[12] Validation-cross-entropy=0.336581\n",
      "2023-06-04 23:39:57,478 [INFO]  Epoch[12] Validation-gender-accuracy=0.893750\n",
      "2023-06-04 23:40:00,071 [INFO]  Epoch[13] Batch [0-320]\tSpeed: 1988.64 samples/sec\tcross-entropy=0.304951\tgender-accuracy=0.909073\n",
      "2023-06-04 23:40:02,355 [INFO]  Epoch[13] Train-cross-entropy=0.312128\n",
      "2023-06-04 23:40:02,356 [INFO]  Epoch[13] Train-gender-accuracy=0.903854\n",
      "2023-06-04 23:40:02,357 [INFO]  Epoch[13] Time cost=4.877\n",
      "2023-06-04 23:40:02,363 [INFO]  Saved checkpoint to \"imputer_gen/model-0013.params\"\n",
      "2023-06-04 23:40:02,766 [INFO]  Epoch[13] Validation-cross-entropy=0.336413\n",
      "2023-06-04 23:40:02,766 [INFO]  Epoch[13] Validation-gender-accuracy=0.893750\n",
      "2023-06-04 23:40:05,006 [INFO]  Epoch[14] Batch [0-320]\tSpeed: 2293.92 samples/sec\tcross-entropy=0.304525\tgender-accuracy=0.909073\n",
      "2023-06-04 23:40:07,266 [INFO]  Epoch[14] Train-cross-entropy=0.311756\n",
      "2023-06-04 23:40:07,267 [INFO]  Epoch[14] Train-gender-accuracy=0.903854\n",
      "2023-06-04 23:40:07,267 [INFO]  Epoch[14] Time cost=4.501\n",
      "2023-06-04 23:40:07,273 [INFO]  Saved checkpoint to \"imputer_gen/model-0014.params\"\n",
      "2023-06-04 23:40:07,677 [INFO]  Epoch[14] Validation-cross-entropy=0.336404\n",
      "2023-06-04 23:40:07,678 [INFO]  Epoch[14] Validation-gender-accuracy=0.893750\n",
      "2023-06-04 23:40:09,899 [INFO]  Epoch[15] Batch [0-320]\tSpeed: 2314.73 samples/sec\tcross-entropy=0.304293\tgender-accuracy=0.909073\n",
      "2023-06-04 23:40:12,113 [INFO]  Epoch[15] Train-cross-entropy=0.311522\n",
      "2023-06-04 23:40:12,114 [INFO]  Epoch[15] Train-gender-accuracy=0.903854\n",
      "2023-06-04 23:40:12,115 [INFO]  Epoch[15] Time cost=4.436\n",
      "2023-06-04 23:40:12,121 [INFO]  Saved checkpoint to \"imputer_gen/model-0015.params\"\n",
      "2023-06-04 23:40:12,544 [INFO]  No improvement detected for 5 epochs compared to 0.33630060223596436 last error obtained: 0.3363901429942676, stopping here\n",
      "2023-06-04 23:40:12,544 [INFO]  \n",
      "========== done (77.84223794937134 s) fit model\n",
      "/Users/ronaldlam/opt/anaconda3/envs/PythonData/lib/python3.7/site-packages/sklearn/metrics/_classification.py:1272: UndefinedMetricWarning: Precision is ill-defined and being set to 0.0 in labels with no predicted samples. Use `zero_division` parameter to control this behavior.\n",
      "  _warn_prf(average, modifier, msg_start, len(result))\n",
      "/Users/ronaldlam/opt/anaconda3/envs/PythonData/lib/python3.7/site-packages/pandas/core/frame.py:3509: SettingWithCopyWarning: \n",
      "A value is trying to be set on a copy of a slice from a DataFrame.\n",
      "Try using .loc[row_indexer,col_indexer] = value instead\n",
      "\n",
      "See the caveats in the documentation: http://pandas.pydata.org/pandas-docs/stable/user_guide/indexing.html#returning-a-view-versus-a-copy\n",
      "  self[k1] = value[k2]\n",
      "/Users/ronaldlam/opt/anaconda3/envs/PythonData/lib/python3.7/site-packages/sklearn/metrics/_classification.py:1272: UndefinedMetricWarning: Precision is ill-defined and being set to 0.0 in labels with no predicted samples. Use `zero_division` parameter to control this behavior.\n",
      "  _warn_prf(average, modifier, msg_start, len(result))\n",
      "/Users/ronaldlam/opt/anaconda3/envs/PythonData/lib/python3.7/site-packages/pandas/core/frame.py:3509: SettingWithCopyWarning: \n",
      "A value is trying to be set on a copy of a slice from a DataFrame.\n",
      "Try using .loc[row_indexer,col_indexer] = value instead\n",
      "\n",
      "See the caveats in the documentation: http://pandas.pydata.org/pandas-docs/stable/user_guide/indexing.html#returning-a-view-versus-a-copy\n",
      "  self[k1] = value[k2]\n",
      "/Users/ronaldlam/opt/anaconda3/envs/PythonData/lib/python3.7/site-packages/pandas/core/frame.py:3509: SettingWithCopyWarning: \n",
      "A value is trying to be set on a copy of a slice from a DataFrame.\n",
      "Try using .loc[row_indexer,col_indexer] = value instead\n",
      "\n",
      "See the caveats in the documentation: http://pandas.pydata.org/pandas-docs/stable/user_guide/indexing.html#returning-a-view-versus-a-copy\n",
      "  self[k1] = value[k2]\n",
      "/Users/ronaldlam/opt/anaconda3/envs/PythonData/lib/python3.7/site-packages/sklearn/metrics/_classification.py:1272: UndefinedMetricWarning: Precision is ill-defined and being set to 0.0 in labels with no predicted samples. Use `zero_division` parameter to control this behavior.\n",
      "  _warn_prf(average, modifier, msg_start, len(result))\n"
     ]
    },
    {
     "data": {
      "text/plain": [
       "<datawig.simple_imputer.SimpleImputer at 0x7fc651737bd0>"
      ]
     },
     "execution_count": 13,
     "metadata": {},
     "output_type": "execute_result"
    }
   ],
   "source": [
    "#Fit an imputer model on the train data\n",
    "imputer_gen.fit(train_df=df_train, num_epochs=50)\n",
    "imputer_major.fit(train_df=df_train, num_epochs=50)\n",
    "imputer_comp_size.fit(train_df=df_train, num_epochs=50)\n",
    "imputer_comp_type.fit(train_df=df_train, num_epochs=50)"
   ]
  },
  {
   "cell_type": "markdown",
   "id": "4ab37dd7",
   "metadata": {},
   "source": [
    "## Test set"
   ]
  },
  {
   "cell_type": "code",
   "execution_count": 14,
   "id": "d38c7391",
   "metadata": {},
   "outputs": [],
   "source": [
    "# Impute missing values and return original dataframe with predictions\n",
    "pred_gen_test = imputer_gen.predict(df_test_missing)\n",
    "pred_major_test = imputer_major.predict(df_test_missing)\n",
    "pred_comp_size_test = imputer_comp_size.predict(df_test_missing)\n",
    "pred_comp_type_test = imputer_comp_type.predict(df_test_missing)"
   ]
  },
  {
   "cell_type": "code",
   "execution_count": 15,
   "id": "73c98d08",
   "metadata": {},
   "outputs": [
    {
     "data": {
      "text/plain": [
       "Index(['enrollee_id', 'city', 'city_development_index', 'gender',\n",
       "       'relevent_experience', 'enrolled_university', 'education_level',\n",
       "       'major_discipline', 'experience', 'company_size', 'company_type',\n",
       "       'last_new_job', 'training_hours', 'target', 'gender_imputed',\n",
       "       'gender_imputed_proba'],\n",
       "      dtype='object')"
      ]
     },
     "execution_count": 15,
     "metadata": {},
     "output_type": "execute_result"
    }
   ],
   "source": [
    "pred_gen_test.columns"
   ]
  },
  {
   "cell_type": "markdown",
   "id": "0088b38a",
   "metadata": {},
   "source": [
    "### 'gender' predictions"
   ]
  },
  {
   "cell_type": "code",
   "execution_count": 16,
   "id": "e78f4988",
   "metadata": {},
   "outputs": [],
   "source": [
    "# Drop unneccessary columns\n",
    "pred_gen_test_df = pred_gen_test.drop(columns=['city', \n",
    "                                               'city_development_index',\n",
    "                                               'relevent_experience', \n",
    "                                               'enrolled_university', \n",
    "                                               'education_level',\n",
    "                                               'major_discipline', \n",
    "                                               'experience', \n",
    "                                               'company_size', \n",
    "                                               'company_type',\n",
    "                                               'last_new_job', \n",
    "                                               'training_hours', \n",
    "                                               'target'\n",
    "                                              ])"
   ]
  },
  {
   "cell_type": "code",
   "execution_count": 21,
   "id": "3a6ed3f5",
   "metadata": {},
   "outputs": [],
   "source": [
    "acc_gen_test = pred_gen_test_df.loc[pred_gen_test_df['gender_imputed_proba'] < 0.5]"
   ]
  },
  {
   "cell_type": "code",
   "execution_count": 22,
   "id": "dc85a71e",
   "metadata": {
    "scrolled": true
   },
   "outputs": [
    {
     "data": {
      "text/plain": [
       "1"
      ]
     },
     "execution_count": 22,
     "metadata": {},
     "output_type": "execute_result"
    }
   ],
   "source": [
    "len(acc_gen_test)"
   ]
  },
  {
   "cell_type": "code",
   "execution_count": 23,
   "id": "3310ed3a",
   "metadata": {
    "scrolled": true
   },
   "outputs": [
    {
     "data": {
      "text/html": [
       "<div>\n",
       "<style scoped>\n",
       "    .dataframe tbody tr th:only-of-type {\n",
       "        vertical-align: middle;\n",
       "    }\n",
       "\n",
       "    .dataframe tbody tr th {\n",
       "        vertical-align: top;\n",
       "    }\n",
       "\n",
       "    .dataframe thead th {\n",
       "        text-align: right;\n",
       "    }\n",
       "</style>\n",
       "<table border=\"1\" class=\"dataframe\">\n",
       "  <thead>\n",
       "    <tr style=\"text-align: right;\">\n",
       "      <th></th>\n",
       "      <th>enrollee_id</th>\n",
       "      <th>gender</th>\n",
       "      <th>gender_imputed</th>\n",
       "      <th>gender_imputed_proba</th>\n",
       "    </tr>\n",
       "  </thead>\n",
       "  <tbody>\n",
       "    <tr>\n",
       "      <th>18475</th>\n",
       "      <td>29661.0</td>\n",
       "      <td>Male</td>\n",
       "      <td>Male</td>\n",
       "      <td>0.491256</td>\n",
       "    </tr>\n",
       "  </tbody>\n",
       "</table>\n",
       "</div>"
      ],
      "text/plain": [
       "       enrollee_id gender gender_imputed  gender_imputed_proba\n",
       "18475      29661.0   Male           Male              0.491256"
      ]
     },
     "execution_count": 23,
     "metadata": {},
     "output_type": "execute_result"
    }
   ],
   "source": [
    "acc_gen_test"
   ]
  },
  {
   "cell_type": "code",
   "execution_count": 24,
   "id": "9f6b3e75",
   "metadata": {},
   "outputs": [
    {
     "name": "stdout",
     "output_type": "stream",
     "text": [
      "Accuracy result: 0.8747291980783917\n"
     ]
    }
   ],
   "source": [
    "# 'gender' accuracy\n",
    "gender_test_acc = pred_gen_test_df['gender_imputed_proba'].mean()\n",
    "print(f\"Accuracy result: {gender_test_acc}\")"
   ]
  },
  {
   "cell_type": "markdown",
   "id": "3b6dde4b",
   "metadata": {},
   "source": [
    "### 'major_discipline' predictions"
   ]
  },
  {
   "cell_type": "code",
   "execution_count": 25,
   "id": "0e4414a6",
   "metadata": {},
   "outputs": [],
   "source": [
    "# Drop unneccessary columns\n",
    "pred_major_test_df = pred_major_test.drop(columns=['city', \n",
    "                                                   'city_development_index',\n",
    "                                                   'gender',\n",
    "                                                   'relevent_experience', \n",
    "                                                   'enrolled_university', \n",
    "                                                   'education_level',\n",
    "                                                   'experience', \n",
    "                                                   'company_size', \n",
    "                                                   'company_type',\n",
    "                                                   'last_new_job', \n",
    "                                                   'training_hours', \n",
    "                                                   'target'\n",
    "                                                  ])"
   ]
  },
  {
   "cell_type": "code",
   "execution_count": 26,
   "id": "d53c2df7",
   "metadata": {},
   "outputs": [
    {
     "name": "stdout",
     "output_type": "stream",
     "text": [
      "Accuracy result: 0.8758431662045738\n"
     ]
    }
   ],
   "source": [
    "# 'major_discipline' accuracy\n",
    "major_test_acc = pred_major_test_df['major_discipline_imputed_proba'].mean()\n",
    "print(f\"Accuracy result: {major_test_acc}\")"
   ]
  },
  {
   "cell_type": "markdown",
   "id": "cd8a7052",
   "metadata": {},
   "source": [
    "### 'company_size' predictions"
   ]
  },
  {
   "cell_type": "code",
   "execution_count": 27,
   "id": "554d2b40",
   "metadata": {},
   "outputs": [],
   "source": [
    "# Drop unneccessary columns\n",
    "pred_comp_size_test_df = pred_comp_size_test.drop(columns=['city', \n",
    "                                                           'city_development_index',\n",
    "                                                           'gender',\n",
    "                                                           'relevent_experience', \n",
    "                                                           'enrolled_university', \n",
    "                                                           'education_level',\n",
    "                                                           'major_discipline', \n",
    "                                                           'experience',  \n",
    "                                                           'company_type',\n",
    "                                                           'last_new_job', \n",
    "                                                           'training_hours', \n",
    "                                                           'target'\n",
    "                                                          ])"
   ]
  },
  {
   "cell_type": "code",
   "execution_count": 28,
   "id": "d631c7f6",
   "metadata": {},
   "outputs": [
    {
     "name": "stdout",
     "output_type": "stream",
     "text": [
      "Accuracy result: 0.9244164989962305\n"
     ]
    }
   ],
   "source": [
    "# 'company_size' accuracy\n",
    "comp_size_test_acc = pred_comp_size_test_df['company_size_imputed_proba'].mean()\n",
    "print(f\"Accuracy result: {comp_size_test_acc}\")"
   ]
  },
  {
   "cell_type": "markdown",
   "id": "9c0021e5",
   "metadata": {},
   "source": [
    "### 'company_type' predictions"
   ]
  },
  {
   "cell_type": "code",
   "execution_count": 29,
   "id": "07fa679b",
   "metadata": {},
   "outputs": [],
   "source": [
    "# Drop unneccessary columns\n",
    "pred_comp_type_test_df = pred_comp_type_test.drop(columns=['city', \n",
    "                                                           'city_development_index',\n",
    "                                                           'gender',\n",
    "                                                           'relevent_experience', \n",
    "                                                           'enrolled_university', \n",
    "                                                           'education_level',\n",
    "                                                           'major_discipline', \n",
    "                                                           'experience', \n",
    "                                                           'company_size', \n",
    "                                                           'last_new_job', \n",
    "                                                           'training_hours', \n",
    "                                                           'target'\n",
    "                                                          ])"
   ]
  },
  {
   "cell_type": "code",
   "execution_count": 30,
   "id": "c63dbfed",
   "metadata": {},
   "outputs": [
    {
     "name": "stdout",
     "output_type": "stream",
     "text": [
      "Accuracy result: 0.7398284066847005\n"
     ]
    }
   ],
   "source": [
    "# 'company_type' accuracy\n",
    "comp_type_test_acc = pred_comp_type_test_df['company_type_imputed_proba'].mean()\n",
    "print(f\"Accuracy result: {comp_type_test_acc}\")"
   ]
  },
  {
   "cell_type": "markdown",
   "id": "88d00d29",
   "metadata": {},
   "source": [
    "## Make predictions on 'dropped_df'"
   ]
  },
  {
   "cell_type": "code",
   "execution_count": 31,
   "id": "fa661a0e",
   "metadata": {},
   "outputs": [],
   "source": [
    "pred_gen = imputer_gen.predict(dropped_df)\n",
    "pred_major = imputer_major.predict(dropped_df)\n",
    "pred_comp_size = imputer_comp_size.predict(dropped_df)\n",
    "pred_comp_type = imputer_comp_type.predict(dropped_df)"
   ]
  },
  {
   "cell_type": "markdown",
   "id": "e11296e5",
   "metadata": {},
   "source": [
    "### 'gender' predictions"
   ]
  },
  {
   "cell_type": "code",
   "execution_count": 32,
   "id": "1635a405",
   "metadata": {},
   "outputs": [],
   "source": [
    "pred_gen_df = pred_gen.drop(columns=['city', \n",
    "                                     'city_development_index',\n",
    "                                     'relevent_experience', \n",
    "                                     'enrolled_university', \n",
    "                                     'education_level',\n",
    "                                     'major_discipline', \n",
    "                                     'experience', \n",
    "                                     'company_size', \n",
    "                                     'company_type',\n",
    "                                     'last_new_job', \n",
    "                                     'training_hours', \n",
    "                                     'target'\n",
    "                                    ])"
   ]
  },
  {
   "cell_type": "code",
   "execution_count": 33,
   "id": "8bf6e157",
   "metadata": {},
   "outputs": [
    {
     "name": "stdout",
     "output_type": "stream",
     "text": [
      "Accuracy result: 0.8809669889493961\n"
     ]
    }
   ],
   "source": [
    "# 'gender' accuracy\n",
    "gender_acc = pred_gen_df['gender_imputed_proba'].mean()\n",
    "print(f\"Accuracy result: {gender_acc}\")"
   ]
  },
  {
   "cell_type": "markdown",
   "id": "96e66d03",
   "metadata": {},
   "source": [
    "### 'major_discipline' predictions"
   ]
  },
  {
   "cell_type": "code",
   "execution_count": 34,
   "id": "3062ae0d",
   "metadata": {},
   "outputs": [],
   "source": [
    "pred_major_df = pred_major.drop(columns=['city', \n",
    "                                         'city_development_index',\n",
    "                                         'gender',\n",
    "                                         'relevent_experience', \n",
    "                                         'enrolled_university', \n",
    "                                         'education_level', \n",
    "                                         'experience', \n",
    "                                         'company_size', \n",
    "                                         'company_type',\n",
    "                                         'last_new_job', \n",
    "                                         'training_hours', \n",
    "                                         'target'\n",
    "                                        ])"
   ]
  },
  {
   "cell_type": "code",
   "execution_count": 35,
   "id": "17eaa7ce",
   "metadata": {},
   "outputs": [
    {
     "name": "stdout",
     "output_type": "stream",
     "text": [
      "Accuracy result: 0.8868143511864722\n"
     ]
    }
   ],
   "source": [
    "# 'major_discipline' accuracy\n",
    "major_acc = pred_major_df['major_discipline_imputed_proba'].mean()\n",
    "print(f\"Accuracy result: {major_acc}\")"
   ]
  },
  {
   "cell_type": "markdown",
   "id": "b279ce31",
   "metadata": {},
   "source": [
    "### 'company_size' predictions"
   ]
  },
  {
   "cell_type": "code",
   "execution_count": 36,
   "id": "30f1ba37",
   "metadata": {},
   "outputs": [],
   "source": [
    "pred_comp_size_df = pred_comp_size.drop(columns=['city', \n",
    "                                                 'city_development_index',\n",
    "                                                 'gender',\n",
    "                                                 'relevent_experience', \n",
    "                                                 'enrolled_university', \n",
    "                                                 'education_level',\n",
    "                                                 'major_discipline', \n",
    "                                                 'experience',  \n",
    "                                                 'company_type',\n",
    "                                                 'last_new_job', \n",
    "                                                 'training_hours', \n",
    "                                                 'target'\n",
    "                                                ])"
   ]
  },
  {
   "cell_type": "code",
   "execution_count": 37,
   "id": "ca04f54f",
   "metadata": {},
   "outputs": [
    {
     "name": "stdout",
     "output_type": "stream",
     "text": [
      "Accuracy result: 0.9547487745654826\n"
     ]
    }
   ],
   "source": [
    "# 'company_size' accuracy\n",
    "comp_size_acc = pred_comp_size_df['company_size_imputed_proba'].mean()\n",
    "print(f\"Accuracy result: {comp_size_acc}\")"
   ]
  },
  {
   "cell_type": "markdown",
   "id": "21c81cca",
   "metadata": {},
   "source": [
    "### 'company_type' predictions"
   ]
  },
  {
   "cell_type": "code",
   "execution_count": 38,
   "id": "5f35ce33",
   "metadata": {},
   "outputs": [],
   "source": [
    "pred_comp_type_df = pred_comp_type.drop(columns=['city', \n",
    "                                                 'city_development_index',\n",
    "                                                 'gender',\n",
    "                                                 'relevent_experience', \n",
    "                                                 'enrolled_university', \n",
    "                                                 'education_level',\n",
    "                                                 'major_discipline', \n",
    "                                                 'experience', \n",
    "                                                 'company_size', \n",
    "                                                 'last_new_job', \n",
    "                                                 'training_hours', \n",
    "                                                 'target'\n",
    "                                                ])"
   ]
  },
  {
   "cell_type": "code",
   "execution_count": 39,
   "id": "2c9be171",
   "metadata": {},
   "outputs": [
    {
     "name": "stdout",
     "output_type": "stream",
     "text": [
      "Accuracy result: 0.7568371378508223\n"
     ]
    }
   ],
   "source": [
    "# 'company_type' accuracy\n",
    "comp_type_acc = pred_comp_type_df['company_type_imputed_proba'].mean()\n",
    "print(f\"Accuracy result: {comp_type_acc}\")"
   ]
  },
  {
   "cell_type": "code",
   "execution_count": 40,
   "id": "4cbef046",
   "metadata": {},
   "outputs": [
    {
     "data": {
      "text/plain": [
       "18014"
      ]
     },
     "execution_count": 40,
     "metadata": {},
     "output_type": "execute_result"
    }
   ],
   "source": [
    "len(pred_comp_type_df)"
   ]
  },
  {
   "cell_type": "code",
   "execution_count": 41,
   "id": "9bb271be",
   "metadata": {
    "scrolled": false
   },
   "outputs": [
    {
     "data": {
      "text/html": [
       "<div>\n",
       "<style scoped>\n",
       "    .dataframe tbody tr th:only-of-type {\n",
       "        vertical-align: middle;\n",
       "    }\n",
       "\n",
       "    .dataframe tbody tr th {\n",
       "        vertical-align: top;\n",
       "    }\n",
       "\n",
       "    .dataframe thead th {\n",
       "        text-align: right;\n",
       "    }\n",
       "</style>\n",
       "<table border=\"1\" class=\"dataframe\">\n",
       "  <thead>\n",
       "    <tr style=\"text-align: right;\">\n",
       "      <th></th>\n",
       "      <th>enrollee_id</th>\n",
       "      <th>company_type</th>\n",
       "      <th>company_type_imputed</th>\n",
       "      <th>company_type_imputed_proba</th>\n",
       "    </tr>\n",
       "  </thead>\n",
       "  <tbody>\n",
       "    <tr>\n",
       "      <th>0</th>\n",
       "      <td>8949</td>\n",
       "      <td>NaN</td>\n",
       "      <td>Pvt Ltd</td>\n",
       "      <td>0.762542</td>\n",
       "    </tr>\n",
       "    <tr>\n",
       "      <th>2</th>\n",
       "      <td>11561</td>\n",
       "      <td>NaN</td>\n",
       "      <td>Pvt Ltd</td>\n",
       "      <td>0.783902</td>\n",
       "    </tr>\n",
       "    <tr>\n",
       "      <th>6</th>\n",
       "      <td>28806</td>\n",
       "      <td>Funded Startup</td>\n",
       "      <td>Pvt Ltd</td>\n",
       "      <td>0.712778</td>\n",
       "    </tr>\n",
       "    <tr>\n",
       "      <th>7</th>\n",
       "      <td>402</td>\n",
       "      <td>Pvt Ltd</td>\n",
       "      <td>Pvt Ltd</td>\n",
       "      <td>0.678497</td>\n",
       "    </tr>\n",
       "    <tr>\n",
       "      <th>8</th>\n",
       "      <td>27107</td>\n",
       "      <td>Pvt Ltd</td>\n",
       "      <td>Pvt Ltd</td>\n",
       "      <td>0.553160</td>\n",
       "    </tr>\n",
       "    <tr>\n",
       "      <th>...</th>\n",
       "      <td>...</td>\n",
       "      <td>...</td>\n",
       "      <td>...</td>\n",
       "      <td>...</td>\n",
       "    </tr>\n",
       "    <tr>\n",
       "      <th>19151</th>\n",
       "      <td>11385</td>\n",
       "      <td>NaN</td>\n",
       "      <td>Public Sector</td>\n",
       "      <td>0.474985</td>\n",
       "    </tr>\n",
       "    <tr>\n",
       "      <th>19152</th>\n",
       "      <td>29754</td>\n",
       "      <td>Funded Startup</td>\n",
       "      <td>Pvt Ltd</td>\n",
       "      <td>0.477216</td>\n",
       "    </tr>\n",
       "    <tr>\n",
       "      <th>19153</th>\n",
       "      <td>7386</td>\n",
       "      <td>NaN</td>\n",
       "      <td>Pvt Ltd</td>\n",
       "      <td>0.695505</td>\n",
       "    </tr>\n",
       "    <tr>\n",
       "      <th>19154</th>\n",
       "      <td>31398</td>\n",
       "      <td>NaN</td>\n",
       "      <td>Pvt Ltd</td>\n",
       "      <td>0.783310</td>\n",
       "    </tr>\n",
       "    <tr>\n",
       "      <th>19155</th>\n",
       "      <td>24576</td>\n",
       "      <td>Pvt Ltd</td>\n",
       "      <td>Pvt Ltd</td>\n",
       "      <td>0.730423</td>\n",
       "    </tr>\n",
       "  </tbody>\n",
       "</table>\n",
       "<p>9776 rows × 4 columns</p>\n",
       "</div>"
      ],
      "text/plain": [
       "       enrollee_id    company_type company_type_imputed  \\\n",
       "0             8949             NaN              Pvt Ltd   \n",
       "2            11561             NaN              Pvt Ltd   \n",
       "6            28806  Funded Startup              Pvt Ltd   \n",
       "7              402         Pvt Ltd              Pvt Ltd   \n",
       "8            27107         Pvt Ltd              Pvt Ltd   \n",
       "...            ...             ...                  ...   \n",
       "19151        11385             NaN        Public Sector   \n",
       "19152        29754  Funded Startup              Pvt Ltd   \n",
       "19153         7386             NaN              Pvt Ltd   \n",
       "19154        31398             NaN              Pvt Ltd   \n",
       "19155        24576         Pvt Ltd              Pvt Ltd   \n",
       "\n",
       "       company_type_imputed_proba  \n",
       "0                        0.762542  \n",
       "2                        0.783902  \n",
       "6                        0.712778  \n",
       "7                        0.678497  \n",
       "8                        0.553160  \n",
       "...                           ...  \n",
       "19151                    0.474985  \n",
       "19152                    0.477216  \n",
       "19153                    0.695505  \n",
       "19154                    0.783310  \n",
       "19155                    0.730423  \n",
       "\n",
       "[9776 rows x 4 columns]"
      ]
     },
     "execution_count": 41,
     "metadata": {},
     "output_type": "execute_result"
    }
   ],
   "source": [
    "df1 = pred_comp_type_df.loc[pred_comp_type_df['company_type_imputed_proba'] < 0.8]\n",
    "df1"
   ]
  },
  {
   "cell_type": "code",
   "execution_count": 42,
   "id": "d55b9345",
   "metadata": {},
   "outputs": [],
   "source": [
    "# Merge 'dropped_df' with predicted dataframes pred_gen, pred_major, pred_comp_size, pred_comp_type \n",
    "merge_df = dropped_df.merge(pred_gen_df, on='enrollee_id')\n",
    "merge_2_df = merge_df.merge(pred_major_df, on='enrollee_id')\n",
    "merge_3_df = merge_2_df.merge(pred_comp_size_df, on='enrollee_id')\n",
    "merge_4_df = merge_3_df.merge(pred_comp_type_df, on='enrollee_id')"
   ]
  },
  {
   "cell_type": "code",
   "execution_count": 43,
   "id": "93ba1f11",
   "metadata": {
    "scrolled": false
   },
   "outputs": [
    {
     "data": {
      "text/plain": [
       "['enrollee_id',\n",
       " 'city',\n",
       " 'city_development_index',\n",
       " 'gender_x',\n",
       " 'relevent_experience',\n",
       " 'enrolled_university',\n",
       " 'education_level',\n",
       " 'major_discipline_x',\n",
       " 'experience',\n",
       " 'company_size_x',\n",
       " 'company_type_x',\n",
       " 'last_new_job',\n",
       " 'training_hours',\n",
       " 'target',\n",
       " 'gender_y',\n",
       " 'gender_imputed',\n",
       " 'gender_imputed_proba',\n",
       " 'major_discipline_y',\n",
       " 'major_discipline_imputed',\n",
       " 'major_discipline_imputed_proba',\n",
       " 'company_size_y',\n",
       " 'company_size_imputed',\n",
       " 'company_size_imputed_proba',\n",
       " 'company_type_y',\n",
       " 'company_type_imputed',\n",
       " 'company_type_imputed_proba']"
      ]
     },
     "execution_count": 43,
     "metadata": {},
     "output_type": "execute_result"
    }
   ],
   "source": [
    "merge_4_df.columns.tolist()"
   ]
  },
  {
   "cell_type": "code",
   "execution_count": 44,
   "id": "241d4e32",
   "metadata": {},
   "outputs": [],
   "source": [
    "dropped_merge_4_df = merge_4_df.drop(columns=['gender_y',\n",
    "                                              'gender_imputed_proba',\n",
    "                                              'major_discipline_y',\n",
    "                                              'major_discipline_imputed_proba',\n",
    "                                              'company_size_y',\n",
    "                                              'company_size_imputed_proba',\n",
    "                                              'company_type_y',\n",
    "                                              'company_type_imputed_proba'\n",
    "                                             ])"
   ]
  },
  {
   "cell_type": "code",
   "execution_count": 45,
   "id": "439eb247",
   "metadata": {
    "scrolled": true
   },
   "outputs": [
    {
     "data": {
      "text/plain": [
       "['enrollee_id',\n",
       " 'city',\n",
       " 'city_development_index',\n",
       " 'gender_x',\n",
       " 'relevent_experience',\n",
       " 'enrolled_university',\n",
       " 'education_level',\n",
       " 'major_discipline_x',\n",
       " 'experience',\n",
       " 'company_size_x',\n",
       " 'company_type_x',\n",
       " 'last_new_job',\n",
       " 'training_hours',\n",
       " 'target',\n",
       " 'gender_imputed',\n",
       " 'major_discipline_imputed',\n",
       " 'company_size_imputed',\n",
       " 'company_type_imputed']"
      ]
     },
     "execution_count": 45,
     "metadata": {},
     "output_type": "execute_result"
    }
   ],
   "source": [
    "dropped_merge_4_df.columns.tolist()"
   ]
  },
  {
   "cell_type": "code",
   "execution_count": 46,
   "id": "0c3352b6",
   "metadata": {},
   "outputs": [],
   "source": [
    "rename_cols = {'gender_x' : 'gender',\n",
    "               'major_discipline_x' : 'major_discipline',\n",
    "               'company_size_x' : 'company_size',\n",
    "               'company_type_x' : 'company_type'\n",
    "              }\n",
    "\n",
    "renamed_merge_4_df = dropped_merge_4_df.rename(columns=rename_cols)"
   ]
  },
  {
   "cell_type": "code",
   "execution_count": 47,
   "id": "946302f6",
   "metadata": {
    "scrolled": true
   },
   "outputs": [
    {
     "data": {
      "text/plain": [
       "['enrollee_id',\n",
       " 'city',\n",
       " 'city_development_index',\n",
       " 'gender',\n",
       " 'relevent_experience',\n",
       " 'enrolled_university',\n",
       " 'education_level',\n",
       " 'major_discipline',\n",
       " 'experience',\n",
       " 'company_size',\n",
       " 'company_type',\n",
       " 'last_new_job',\n",
       " 'training_hours',\n",
       " 'target',\n",
       " 'gender_imputed',\n",
       " 'major_discipline_imputed',\n",
       " 'company_size_imputed',\n",
       " 'company_type_imputed']"
      ]
     },
     "execution_count": 47,
     "metadata": {},
     "output_type": "execute_result"
    }
   ],
   "source": [
    "renamed_merge_4_df.columns.tolist()"
   ]
  },
  {
   "cell_type": "code",
   "execution_count": 48,
   "id": "bc4d7dec",
   "metadata": {},
   "outputs": [
    {
     "name": "stdout",
     "output_type": "stream",
     "text": [
      "<class 'pandas.core.frame.DataFrame'>\n",
      "Int64Index: 18014 entries, 0 to 18013\n",
      "Data columns (total 18 columns):\n",
      "enrollee_id                 18014 non-null int64\n",
      "city                        18014 non-null object\n",
      "city_development_index      18014 non-null float64\n",
      "gender                      14151 non-null object\n",
      "relevent_experience         18014 non-null object\n",
      "enrolled_university         18014 non-null object\n",
      "education_level             18014 non-null object\n",
      "major_discipline            15792 non-null object\n",
      "experience                  18014 non-null object\n",
      "company_size                12704 non-null object\n",
      "company_type                12538 non-null object\n",
      "last_new_job                18014 non-null object\n",
      "training_hours              18014 non-null int64\n",
      "target                      18014 non-null float64\n",
      "gender_imputed              18014 non-null object\n",
      "major_discipline_imputed    18014 non-null object\n",
      "company_size_imputed        18014 non-null object\n",
      "company_type_imputed        18014 non-null object\n",
      "dtypes: float64(2), int64(2), object(14)\n",
      "memory usage: 2.6+ MB\n",
      "None\n"
     ]
    }
   ],
   "source": [
    "print(renamed_merge_4_df.info())"
   ]
  },
  {
   "cell_type": "code",
   "execution_count": 49,
   "id": "7c94e1ec",
   "metadata": {},
   "outputs": [],
   "source": [
    "# Fill nan values with predicted from imputed columns\n",
    "renamed_merge_4_df['gender'] = renamed_merge_4_df['gender'].fillna(renamed_merge_4_df['gender_imputed'])\n",
    "renamed_merge_4_df['major_discipline'] = renamed_merge_4_df['major_discipline'].fillna(renamed_merge_4_df['major_discipline_imputed'])\n",
    "renamed_merge_4_df['company_size'] = renamed_merge_4_df['company_size'].fillna(renamed_merge_4_df['company_size_imputed'])\n",
    "renamed_merge_4_df['company_type'] = renamed_merge_4_df['company_type'].fillna(renamed_merge_4_df['company_type_imputed'])"
   ]
  },
  {
   "cell_type": "code",
   "execution_count": 50,
   "id": "97501942",
   "metadata": {},
   "outputs": [
    {
     "name": "stdout",
     "output_type": "stream",
     "text": [
      "<class 'pandas.core.frame.DataFrame'>\n",
      "Int64Index: 18014 entries, 0 to 18013\n",
      "Data columns (total 18 columns):\n",
      "enrollee_id                 18014 non-null int64\n",
      "city                        18014 non-null object\n",
      "city_development_index      18014 non-null float64\n",
      "gender                      18014 non-null object\n",
      "relevent_experience         18014 non-null object\n",
      "enrolled_university         18014 non-null object\n",
      "education_level             18014 non-null object\n",
      "major_discipline            18014 non-null object\n",
      "experience                  18014 non-null object\n",
      "company_size                18014 non-null object\n",
      "company_type                18014 non-null object\n",
      "last_new_job                18014 non-null object\n",
      "training_hours              18014 non-null int64\n",
      "target                      18014 non-null float64\n",
      "gender_imputed              18014 non-null object\n",
      "major_discipline_imputed    18014 non-null object\n",
      "company_size_imputed        18014 non-null object\n",
      "company_type_imputed        18014 non-null object\n",
      "dtypes: float64(2), int64(2), object(14)\n",
      "memory usage: 2.6+ MB\n",
      "None\n"
     ]
    }
   ],
   "source": [
    "# Check nan values are filled\n",
    "print(renamed_merge_4_df.info())"
   ]
  },
  {
   "cell_type": "code",
   "execution_count": 51,
   "id": "ada9e3e7",
   "metadata": {},
   "outputs": [],
   "source": [
    "# Drop imputed columns\n",
    "cleaned_df = renamed_merge_4_df.drop(columns=[\n",
    "    'gender_imputed',\n",
    "    'major_discipline_imputed',\n",
    "    'company_size_imputed',\n",
    "    'company_type_imputed'\n",
    "])"
   ]
  },
  {
   "cell_type": "code",
   "execution_count": 52,
   "id": "2c04d6a9",
   "metadata": {},
   "outputs": [
    {
     "data": {
      "text/plain": [
       "Index(['enrollee_id', 'city', 'city_development_index', 'gender',\n",
       "       'relevent_experience', 'enrolled_university', 'education_level',\n",
       "       'major_discipline', 'experience', 'company_size', 'company_type',\n",
       "       'last_new_job', 'training_hours', 'target'],\n",
       "      dtype='object')"
      ]
     },
     "execution_count": 52,
     "metadata": {},
     "output_type": "execute_result"
    }
   ],
   "source": [
    "# Check columns have been dropped\n",
    "cleaned_df.columns"
   ]
  },
  {
   "cell_type": "code",
   "execution_count": 53,
   "id": "8c035394",
   "metadata": {},
   "outputs": [
    {
     "name": "stdout",
     "output_type": "stream",
     "text": [
      "enrollee_id               0\n",
      "city                      0\n",
      "city_development_index    0\n",
      "gender                    0\n",
      "relevent_experience       0\n",
      "enrolled_university       0\n",
      "education_level           0\n",
      "major_discipline          0\n",
      "experience                0\n",
      "company_size              0\n",
      "company_type              0\n",
      "last_new_job              0\n",
      "training_hours            0\n",
      "target                    0\n",
      "dtype: int64\n"
     ]
    }
   ],
   "source": [
    "print(cleaned_df.isnull().sum())"
   ]
  },
  {
   "cell_type": "code",
   "execution_count": 54,
   "id": "345e475d",
   "metadata": {},
   "outputs": [],
   "source": [
    "# Export the cleaned_df as a CSV file\n",
    "cleaned_df.to_csv(\"resources/hr_job_change.csv\", index=False)"
   ]
  },
  {
   "cell_type": "code",
   "execution_count": null,
   "id": "fa38b2eb",
   "metadata": {},
   "outputs": [],
   "source": []
  },
  {
   "cell_type": "code",
   "execution_count": null,
   "id": "455dfac0",
   "metadata": {},
   "outputs": [],
   "source": []
  }
 ],
 "metadata": {
  "kernelspec": {
   "display_name": "Python 3 (ipykernel)",
   "language": "python",
   "name": "python3"
  },
  "language_info": {
   "codemirror_mode": {
    "name": "ipython",
    "version": 3
   },
   "file_extension": ".py",
   "mimetype": "text/x-python",
   "name": "python",
   "nbconvert_exporter": "python",
   "pygments_lexer": "ipython3",
   "version": "3.7.7"
  }
 },
 "nbformat": 4,
 "nbformat_minor": 5
}
