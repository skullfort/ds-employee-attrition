{
  "cells": [
    {
      "cell_type": "markdown",
      "id": "75cdffd7",
      "metadata": {
        "id": "75cdffd7"
      },
      "source": [
        "This notebook documents the search for a deep neural network model on the preprocessed data using keras-tuner. For the notebook to run on Google Colab, the project pipeline module and the data file need to be in the google drive."
      ]
    },
    {
      "cell_type": "code",
      "source": [
        "!pip install keras-tuner"
      ],
      "metadata": {
        "colab": {
          "base_uri": "https://localhost:8080/"
        },
        "id": "YAfVagp_73vj",
        "outputId": "c08535da-351a-4c4f-94c6-a9e890ca166d"
      },
      "id": "YAfVagp_73vj",
      "execution_count": 1,
      "outputs": [
        {
          "output_type": "stream",
          "name": "stdout",
          "text": [
            "Looking in indexes: https://pypi.org/simple, https://us-python.pkg.dev/colab-wheels/public/simple/\n",
            "Requirement already satisfied: keras-tuner in /usr/local/lib/python3.10/dist-packages (1.3.5)\n",
            "Requirement already satisfied: packaging in /usr/local/lib/python3.10/dist-packages (from keras-tuner) (23.1)\n",
            "Requirement already satisfied: requests in /usr/local/lib/python3.10/dist-packages (from keras-tuner) (2.27.1)\n",
            "Requirement already satisfied: kt-legacy in /usr/local/lib/python3.10/dist-packages (from keras-tuner) (1.0.5)\n",
            "Requirement already satisfied: urllib3<1.27,>=1.21.1 in /usr/local/lib/python3.10/dist-packages (from requests->keras-tuner) (1.26.15)\n",
            "Requirement already satisfied: certifi>=2017.4.17 in /usr/local/lib/python3.10/dist-packages (from requests->keras-tuner) (2022.12.7)\n",
            "Requirement already satisfied: charset-normalizer~=2.0.0 in /usr/local/lib/python3.10/dist-packages (from requests->keras-tuner) (2.0.12)\n",
            "Requirement already satisfied: idna<4,>=2.5 in /usr/local/lib/python3.10/dist-packages (from requests->keras-tuner) (3.4)\n"
          ]
        }
      ]
    },
    {
      "cell_type": "code",
      "source": [
        "# Mount the google drive in google colab.\n",
        "from google.colab import drive\n",
        "drive.mount('/content/drive')\n",
        "\n",
        "# Insert the directory where the project pipieline file is stored.\n",
        "import sys\n",
        "sys.path.insert(0, '/content/drive/My Drive/Colab Notebooks')"
      ],
      "metadata": {
        "colab": {
          "base_uri": "https://localhost:8080/"
        },
        "id": "T5f3Ya0f9Np5",
        "outputId": "2c4df7f3-8aff-4f9e-ae41-e02ac5ee2232"
      },
      "id": "T5f3Ya0f9Np5",
      "execution_count": 2,
      "outputs": [
        {
          "output_type": "stream",
          "name": "stdout",
          "text": [
            "Drive already mounted at /content/drive; to attempt to forcibly remount, call drive.mount(\"/content/drive\", force_remount=True).\n"
          ]
        }
      ]
    },
    {
      "cell_type": "code",
      "execution_count": 3,
      "id": "9a520639",
      "metadata": {
        "id": "9a520639"
      },
      "outputs": [],
      "source": [
        "# Import dependencies.\n",
        "import pandas as pd\n",
        "import numpy as np\n",
        "\n",
        "import tensorflow as tf\n",
        "import keras_tuner as kt\n",
        "from keras.metrics import AUC\n",
        "\n",
        "from imblearn.over_sampling import RandomOverSampler\n",
        "from sklearn.metrics import roc_auc_score, classification_report\n",
        "from sklearn.model_selection import train_test_split\n",
        "from sklearn.preprocessing import StandardScaler\n",
        "\n",
        "from project_pipeline import preprocess"
      ]
    },
    {
      "cell_type": "code",
      "execution_count": 4,
      "id": "7553c368",
      "metadata": {
        "id": "7553c368",
        "colab": {
          "base_uri": "https://localhost:8080/"
        },
        "outputId": "8df94dab-74d7-46cd-ddff-e87cfcfaf96b"
      },
      "outputs": [
        {
          "output_type": "stream",
          "name": "stdout",
          "text": [
            "<class 'pandas.core.frame.DataFrame'>\n",
            "RangeIndex: 19158 entries, 0 to 19157\n",
            "Data columns (total 13 columns):\n",
            " #   Column                  Non-Null Count  Dtype  \n",
            "---  ------                  --------------  -----  \n",
            " 0   city                    19158 non-null  object \n",
            " 1   city_development_index  19158 non-null  float64\n",
            " 2   gender                  19158 non-null  object \n",
            " 3   relevent_experience     19158 non-null  int64  \n",
            " 4   enrolled_university     19158 non-null  object \n",
            " 5   education_level         19158 non-null  object \n",
            " 6   major_discipline        19158 non-null  object \n",
            " 7   experience              19158 non-null  object \n",
            " 8   company_size            19158 non-null  object \n",
            " 9   company_type            19158 non-null  object \n",
            " 10  last_new_job            19158 non-null  object \n",
            " 11  training_hours          19158 non-null  int64  \n",
            " 12  target                  19158 non-null  float64\n",
            "dtypes: float64(2), int64(2), object(9)\n",
            "memory usage: 1.9+ MB\n"
          ]
        }
      ],
      "source": [
        "# Read in the cleaned data.\n",
        "df = pd.read_csv('cleaned_mode.csv')\n",
        "df.info()"
      ]
    },
    {
      "cell_type": "code",
      "execution_count": 5,
      "id": "834385d1",
      "metadata": {
        "id": "834385d1"
      },
      "outputs": [],
      "source": [
        "# Preprocess the cleaned data in preparation for model implementation.\n",
        "features = pd.get_dummies(df).drop(columns='target').columns.tolist()\n",
        "X_train, X_test, y_train, y_test = preprocess(df)"
      ]
    },
    {
      "cell_type": "code",
      "source": [
        "# Create a method that creates a new Sequential model with hyperparameter options.\n",
        "def create_model(hp):\n",
        "    nn_model = tf.keras.models.Sequential()\n",
        "\n",
        "    # # Allow kerastuner to decide which activation function to use in hidden layers\n",
        "    # activation = hp.Choice('activation',['relu','tanh','sigmoid'])\n",
        "    \n",
        "    # Allow kerastuner to decide number of neurons in first layer.\n",
        "    nn_model.add(tf.keras.layers.Dense(units=hp.Int('first_units',\n",
        "        min_value=50,\n",
        "        max_value=100,\n",
        "        step=10), activation='relu', input_dim=len(features)))\n",
        "\n",
        "    # Allow kerastuner to decide number of hidden layers and neurons in hidden layers.\n",
        "    for i in range(hp.Int('num_layers', 1, 2)):\n",
        "        nn_model.add(tf.keras.layers.Dense(units=hp.Int('units_' + str(i),\n",
        "            min_value=10,\n",
        "            max_value=50,\n",
        "            step=10),\n",
        "            activation='relu'))\n",
        "    \n",
        "    # Add output layer.\n",
        "    nn_model.add(tf.keras.layers.Dense(units=1, activation=\"sigmoid\"))\n",
        "\n",
        "    # Compile the model.\n",
        "    nn_model.compile(loss=\"binary_crossentropy\", optimizer='adam', metrics=tf.keras.metrics.AUC())\n",
        "    \n",
        "    return nn_model"
      ],
      "metadata": {
        "id": "SVpNvRAJtCQX"
      },
      "id": "SVpNvRAJtCQX",
      "execution_count": 6,
      "outputs": []
    },
    {
      "cell_type": "code",
      "source": [
        "# Import the kerastuner library.\n",
        "tuner = kt.Hyperband(\n",
        "    create_model,\n",
        "    objective=kt.Objective('val_auc', direction='max'),\n",
        "    max_epochs=20,\n",
        "    hyperband_iterations=2)"
      ],
      "metadata": {
        "id": "zxcM1PwTxbph"
      },
      "id": "zxcM1PwTxbph",
      "execution_count": 7,
      "outputs": []
    },
    {
      "cell_type": "code",
      "source": [
        "# Run the kerastuner search for best hyperparameters.\n",
        "tuner.search(X_train, y_train, epochs=20, validation_data=(X_test,y_test))"
      ],
      "metadata": {
        "colab": {
          "base_uri": "https://localhost:8080/"
        },
        "id": "5MKVPBuQxbvL",
        "outputId": "2ff58bc7-3109-4a60-8380-4215b094ae3e"
      },
      "id": "5MKVPBuQxbvL",
      "execution_count": 8,
      "outputs": [
        {
          "output_type": "stream",
          "name": "stdout",
          "text": [
            "Trial 60 Complete [00h 00m 42s]\n",
            "val_auc: 0.790590763092041\n",
            "\n",
            "Best val_auc So Far: 0.79603111743927\n",
            "Total elapsed time: 00h 19m 11s\n"
          ]
        }
      ]
    },
    {
      "cell_type": "code",
      "source": [
        "# Get best model hyperparameters.\n",
        "best_hyper = tuner.get_best_hyperparameters(1)[0]\n",
        "best_hyper.values"
      ],
      "metadata": {
        "colab": {
          "base_uri": "https://localhost:8080/"
        },
        "id": "c64SfXed_EN3",
        "outputId": "a1b24630-a6b2-4692-dcaa-e2205806f5f7"
      },
      "id": "c64SfXed_EN3",
      "execution_count": 9,
      "outputs": [
        {
          "output_type": "execute_result",
          "data": {
            "text/plain": [
              "{'first_units': 100,\n",
              " 'num_layers': 2,\n",
              " 'units_0': 30,\n",
              " 'units_1': 40,\n",
              " 'tuner/epochs': 3,\n",
              " 'tuner/initial_epoch': 0,\n",
              " 'tuner/bracket': 2,\n",
              " 'tuner/round': 0}"
            ]
          },
          "metadata": {},
          "execution_count": 9
        }
      ]
    },
    {
      "cell_type": "code",
      "source": [
        "# Evaluate best model against full test data.\n",
        "best_model = tuner.get_best_models(1)[0]\n",
        "model_loss, model_accuracy = best_model.evaluate(X_test, y_test, verbose=2)\n",
        "print(f\"Loss: {model_loss}, ROC AUC: {model_accuracy}\")"
      ],
      "metadata": {
        "id": "1YN0njplxbyA",
        "colab": {
          "base_uri": "https://localhost:8080/"
        },
        "outputId": "55960e85-841a-4fa0-ff2d-67ce4a134139"
      },
      "execution_count": 10,
      "outputs": [
        {
          "output_type": "stream",
          "name": "stdout",
          "text": [
            "150/150 - 0s - loss: 0.5380 - auc: 0.7960 - 482ms/epoch - 3ms/step\n",
            "Loss: 0.5379987359046936, ROC AUC: 0.79603111743927\n"
          ]
        }
      ],
      "id": "1YN0njplxbyA"
    },
    {
      "cell_type": "code",
      "source": [
        "# Make class predictions.\n",
        "predictions = best_model.predict(X_test, verbose=0)\n",
        "classes = np.where(predictions > 0.5, 1, 0)"
      ],
      "metadata": {
        "id": "VoSXdIXr_shW"
      },
      "id": "VoSXdIXr_shW",
      "execution_count": 11,
      "outputs": []
    },
    {
      "cell_type": "code",
      "source": [
        "# Display the classification report.\n",
        "print(classification_report(y_test, classes.flatten()))"
      ],
      "metadata": {
        "colab": {
          "base_uri": "https://localhost:8080/"
        },
        "id": "fiFJosr3Fx8Z",
        "outputId": "9c592fa5-8a65-4a15-bad2-04e0599df889"
      },
      "id": "fiFJosr3Fx8Z",
      "execution_count": 12,
      "outputs": [
        {
          "output_type": "stream",
          "name": "stdout",
          "text": [
            "              precision    recall  f1-score   support\n",
            "\n",
            "         0.0       0.90      0.75      0.82      3596\n",
            "         1.0       0.50      0.75      0.60      1194\n",
            "\n",
            "    accuracy                           0.75      4790\n",
            "   macro avg       0.70      0.75      0.71      4790\n",
            "weighted avg       0.80      0.75      0.76      4790\n",
            "\n"
          ]
        }
      ]
    }
  ],
  "metadata": {
    "colab": {
      "provenance": []
    },
    "kernelspec": {
      "display_name": "Python 3 (ipykernel)",
      "language": "python",
      "name": "python3"
    },
    "language_info": {
      "codemirror_mode": {
        "name": "ipython",
        "version": 3
      },
      "file_extension": ".py",
      "mimetype": "text/x-python",
      "name": "python",
      "nbconvert_exporter": "python",
      "pygments_lexer": "ipython3",
      "version": "3.10.9"
    }
  },
  "nbformat": 4,
  "nbformat_minor": 5
}