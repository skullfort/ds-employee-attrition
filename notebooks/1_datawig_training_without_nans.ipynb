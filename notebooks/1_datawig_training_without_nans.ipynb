{
 "cells": [
  {
   "cell_type": "code",
   "execution_count": 1,
   "id": "b22db050",
   "metadata": {},
   "outputs": [],
   "source": [
    "# Import dependencies.\n",
    "import pandas as pd\n",
    "import numpy as np\n",
    "import datawig\n",
    "from datawig import SimpleImputer\n",
    "\n",
    "import warnings\n",
    "warnings.filterwarnings('ignore')"
   ]
  },
  {
   "cell_type": "code",
   "execution_count": 2,
   "id": "39324701",
   "metadata": {},
   "outputs": [
    {
     "data": {
      "text/html": [
       "<div>\n",
       "<style scoped>\n",
       "    .dataframe tbody tr th:only-of-type {\n",
       "        vertical-align: middle;\n",
       "    }\n",
       "\n",
       "    .dataframe tbody tr th {\n",
       "        vertical-align: top;\n",
       "    }\n",
       "\n",
       "    .dataframe thead th {\n",
       "        text-align: right;\n",
       "    }\n",
       "</style>\n",
       "<table border=\"1\" class=\"dataframe\">\n",
       "  <thead>\n",
       "    <tr style=\"text-align: right;\">\n",
       "      <th></th>\n",
       "      <th>enrollee_id</th>\n",
       "      <th>city</th>\n",
       "      <th>city_development_index</th>\n",
       "      <th>gender</th>\n",
       "      <th>relevent_experience</th>\n",
       "      <th>enrolled_university</th>\n",
       "      <th>education_level</th>\n",
       "      <th>major_discipline</th>\n",
       "      <th>experience</th>\n",
       "      <th>company_size</th>\n",
       "      <th>company_type</th>\n",
       "      <th>last_new_job</th>\n",
       "      <th>training_hours</th>\n",
       "      <th>target</th>\n",
       "    </tr>\n",
       "  </thead>\n",
       "  <tbody>\n",
       "    <tr>\n",
       "      <th>0</th>\n",
       "      <td>8949</td>\n",
       "      <td>city_103</td>\n",
       "      <td>0.920</td>\n",
       "      <td>Male</td>\n",
       "      <td>Has relevent experience</td>\n",
       "      <td>no_enrollment</td>\n",
       "      <td>Graduate</td>\n",
       "      <td>STEM</td>\n",
       "      <td>&gt;20</td>\n",
       "      <td>NaN</td>\n",
       "      <td>NaN</td>\n",
       "      <td>1</td>\n",
       "      <td>36</td>\n",
       "      <td>1.0</td>\n",
       "    </tr>\n",
       "    <tr>\n",
       "      <th>1</th>\n",
       "      <td>29725</td>\n",
       "      <td>city_40</td>\n",
       "      <td>0.776</td>\n",
       "      <td>Male</td>\n",
       "      <td>No relevent experience</td>\n",
       "      <td>no_enrollment</td>\n",
       "      <td>Graduate</td>\n",
       "      <td>STEM</td>\n",
       "      <td>15</td>\n",
       "      <td>50-99</td>\n",
       "      <td>Pvt Ltd</td>\n",
       "      <td>&gt;4</td>\n",
       "      <td>47</td>\n",
       "      <td>0.0</td>\n",
       "    </tr>\n",
       "    <tr>\n",
       "      <th>2</th>\n",
       "      <td>11561</td>\n",
       "      <td>city_21</td>\n",
       "      <td>0.624</td>\n",
       "      <td>NaN</td>\n",
       "      <td>No relevent experience</td>\n",
       "      <td>Full time course</td>\n",
       "      <td>Graduate</td>\n",
       "      <td>STEM</td>\n",
       "      <td>5</td>\n",
       "      <td>NaN</td>\n",
       "      <td>NaN</td>\n",
       "      <td>never</td>\n",
       "      <td>83</td>\n",
       "      <td>0.0</td>\n",
       "    </tr>\n",
       "    <tr>\n",
       "      <th>3</th>\n",
       "      <td>33241</td>\n",
       "      <td>city_115</td>\n",
       "      <td>0.789</td>\n",
       "      <td>NaN</td>\n",
       "      <td>No relevent experience</td>\n",
       "      <td>NaN</td>\n",
       "      <td>Graduate</td>\n",
       "      <td>Business Degree</td>\n",
       "      <td>&lt;1</td>\n",
       "      <td>NaN</td>\n",
       "      <td>Pvt Ltd</td>\n",
       "      <td>never</td>\n",
       "      <td>52</td>\n",
       "      <td>1.0</td>\n",
       "    </tr>\n",
       "    <tr>\n",
       "      <th>4</th>\n",
       "      <td>666</td>\n",
       "      <td>city_162</td>\n",
       "      <td>0.767</td>\n",
       "      <td>Male</td>\n",
       "      <td>Has relevent experience</td>\n",
       "      <td>no_enrollment</td>\n",
       "      <td>Masters</td>\n",
       "      <td>STEM</td>\n",
       "      <td>&gt;20</td>\n",
       "      <td>50-99</td>\n",
       "      <td>Funded Startup</td>\n",
       "      <td>4</td>\n",
       "      <td>8</td>\n",
       "      <td>0.0</td>\n",
       "    </tr>\n",
       "  </tbody>\n",
       "</table>\n",
       "</div>"
      ],
      "text/plain": [
       "   enrollee_id      city  city_development_index gender  \\\n",
       "0         8949  city_103                   0.920   Male   \n",
       "1        29725   city_40                   0.776   Male   \n",
       "2        11561   city_21                   0.624    NaN   \n",
       "3        33241  city_115                   0.789    NaN   \n",
       "4          666  city_162                   0.767   Male   \n",
       "\n",
       "       relevent_experience enrolled_university education_level  \\\n",
       "0  Has relevent experience       no_enrollment        Graduate   \n",
       "1   No relevent experience       no_enrollment        Graduate   \n",
       "2   No relevent experience    Full time course        Graduate   \n",
       "3   No relevent experience                 NaN        Graduate   \n",
       "4  Has relevent experience       no_enrollment         Masters   \n",
       "\n",
       "  major_discipline experience company_size    company_type last_new_job  \\\n",
       "0             STEM        >20          NaN             NaN            1   \n",
       "1             STEM         15        50-99         Pvt Ltd           >4   \n",
       "2             STEM          5          NaN             NaN        never   \n",
       "3  Business Degree         <1          NaN         Pvt Ltd        never   \n",
       "4             STEM        >20        50-99  Funded Startup            4   \n",
       "\n",
       "   training_hours  target  \n",
       "0              36     1.0  \n",
       "1              47     0.0  \n",
       "2              83     0.0  \n",
       "3              52     1.0  \n",
       "4               8     0.0  "
      ]
     },
     "execution_count": 2,
     "metadata": {},
     "output_type": "execute_result"
    }
   ],
   "source": [
    "# Load data.\n",
    "df = pd.read_csv('../resources/train.csv')\n",
    "\n",
    "# View data.\n",
    "df.head()"
   ]
  },
  {
   "cell_type": "code",
   "execution_count": 3,
   "id": "6e44f4d8",
   "metadata": {
    "scrolled": false
   },
   "outputs": [
    {
     "name": "stdout",
     "output_type": "stream",
     "text": [
      "<class 'pandas.core.frame.DataFrame'>\n",
      "RangeIndex: 19158 entries, 0 to 19157\n",
      "Data columns (total 14 columns):\n",
      "enrollee_id               19158 non-null int64\n",
      "city                      19158 non-null object\n",
      "city_development_index    19158 non-null float64\n",
      "gender                    14650 non-null object\n",
      "relevent_experience       19158 non-null object\n",
      "enrolled_university       18772 non-null object\n",
      "education_level           18698 non-null object\n",
      "major_discipline          16345 non-null object\n",
      "experience                19093 non-null object\n",
      "company_size              13220 non-null object\n",
      "company_type              13018 non-null object\n",
      "last_new_job              18735 non-null object\n",
      "training_hours            19158 non-null int64\n",
      "target                    19158 non-null float64\n",
      "dtypes: float64(2), int64(2), object(10)\n",
      "memory usage: 2.0+ MB\n",
      "None\n"
     ]
    }
   ],
   "source": [
    "# View data information.\n",
    "print(df.info())"
   ]
  },
  {
   "cell_type": "code",
   "execution_count": 4,
   "id": "19386ce7",
   "metadata": {
    "scrolled": true
   },
   "outputs": [
    {
     "data": {
      "text/plain": [
       "enrollee_id                  0\n",
       "city                         0\n",
       "city_development_index       0\n",
       "gender                    4508\n",
       "relevent_experience          0\n",
       "enrolled_university        386\n",
       "education_level            460\n",
       "major_discipline          2813\n",
       "experience                  65\n",
       "company_size              5938\n",
       "company_type              6140\n",
       "last_new_job               423\n",
       "training_hours               0\n",
       "target                       0\n",
       "dtype: int64"
      ]
     },
     "execution_count": 4,
     "metadata": {},
     "output_type": "execute_result"
    }
   ],
   "source": [
    "# Print null value counts for each column.\n",
    "df.isnull().sum()"
   ]
  },
  {
   "cell_type": "code",
   "execution_count": 5,
   "id": "4a146a4a",
   "metadata": {},
   "outputs": [],
   "source": [
    "# Drop rows with nan values from selected columns. \n",
    "# These features all have fewer than 500 missing values and with `NaN`'s dropped can be used to impute missing values.\n",
    "df = df.dropna(subset=['enrolled_university', 'education_level', 'experience', 'last_new_job'])"
   ]
  },
  {
   "cell_type": "code",
   "execution_count": 6,
   "id": "ab280e22",
   "metadata": {},
   "outputs": [
    {
     "data": {
      "text/plain": [
       "enrollee_id                  0\n",
       "city                         0\n",
       "city_development_index       0\n",
       "gender                    3863\n",
       "relevent_experience          0\n",
       "enrolled_university          0\n",
       "education_level              0\n",
       "major_discipline          2222\n",
       "experience                   0\n",
       "company_size              5310\n",
       "company_type              5476\n",
       "last_new_job                 0\n",
       "training_hours               0\n",
       "target                       0\n",
       "dtype: int64"
      ]
     },
     "execution_count": 6,
     "metadata": {},
     "output_type": "execute_result"
    }
   ],
   "source": [
    "# View missing values.\n",
    "df.isnull().sum()"
   ]
  },
  {
   "cell_type": "code",
   "execution_count": 7,
   "id": "cab33b14",
   "metadata": {},
   "outputs": [
    {
     "data": {
      "text/plain": [
       "['city',\n",
       " 'city_development_index',\n",
       " 'relevent_experience',\n",
       " 'enrolled_university',\n",
       " 'education_level',\n",
       " 'experience',\n",
       " 'last_new_job',\n",
       " 'training_hours']"
      ]
     },
     "execution_count": 7,
     "metadata": {},
     "output_type": "execute_result"
    }
   ],
   "source": [
    "# Compile the names of the features without missing values into a list.\n",
    "input_cols = df.dropna(axis=1).drop(columns=['enrollee_id', 'target']).columns.tolist()\n",
    "input_cols"
   ]
  },
  {
   "cell_type": "code",
   "execution_count": 8,
   "id": "eee12f20",
   "metadata": {},
   "outputs": [],
   "source": [
    "# Compile the names of the features with missing values (to be imputed) into a list.\n",
    "output_cols = df.columns[df.isnull().any()].tolist()"
   ]
  },
  {
   "cell_type": "code",
   "execution_count": 9,
   "id": "a887fed3",
   "metadata": {},
   "outputs": [],
   "source": [
    "# Create a copy of the original DataFrame.\n",
    "df_cleaned = df.copy()"
   ]
  },
  {
   "cell_type": "markdown",
   "id": "de1e2b68",
   "metadata": {},
   "source": [
    "## Impute missing values with Datawig"
   ]
  },
  {
   "cell_type": "code",
   "execution_count": 10,
   "id": "7969b274",
   "metadata": {},
   "outputs": [
    {
     "name": "stderr",
     "output_type": "stream",
     "text": [
      "2023-06-07 23:07:27,561 [INFO]  \n",
      "========== start: fit model\n",
      "2023-06-07 23:07:27,562 [WARNING]  Already bound, ignoring bind()\n",
      "2023-06-07 23:07:31,734 [INFO]  Epoch[0] Batch [0-398]\tSpeed: 1533.10 samples/sec\tcross-entropy=0.356133\tgender-accuracy=0.903979\n",
      "2023-06-07 23:07:35,896 [INFO]  Epoch[0] Train-cross-entropy=0.343402\n",
      "2023-06-07 23:07:35,896 [INFO]  Epoch[0] Train-gender-accuracy=0.903737\n",
      "2023-06-07 23:07:35,897 [INFO]  Epoch[0] Time cost=8.334\n",
      "2023-06-07 23:07:35,899 [INFO]  Saved checkpoint to \"gender\\model-0000.params\"\n",
      "2023-06-07 23:07:36,581 [INFO]  Epoch[0] Validation-cross-entropy=0.348817\n",
      "2023-06-07 23:07:36,581 [INFO]  Epoch[0] Validation-gender-accuracy=0.892556\n",
      "2023-06-07 23:07:40,700 [INFO]  Epoch[1] Batch [0-398]\tSpeed: 1550.77 samples/sec\tcross-entropy=0.328298\tgender-accuracy=0.903979\n",
      "2023-06-07 23:07:44,850 [INFO]  Epoch[1] Train-cross-entropy=0.324988\n",
      "2023-06-07 23:07:44,851 [INFO]  Epoch[1] Train-gender-accuracy=0.903737\n",
      "2023-06-07 23:07:44,851 [INFO]  Epoch[1] Time cost=8.269\n",
      "2023-06-07 23:07:44,855 [INFO]  Saved checkpoint to \"gender\\model-0001.params\"\n",
      "2023-06-07 23:07:45,542 [INFO]  Epoch[1] Validation-cross-entropy=0.346684\n",
      "2023-06-07 23:07:45,543 [INFO]  Epoch[1] Validation-gender-accuracy=0.892556\n",
      "2023-06-07 23:07:49,697 [INFO]  Epoch[2] Batch [0-398]\tSpeed: 1537.12 samples/sec\tcross-entropy=0.322799\tgender-accuracy=0.903979\n",
      "2023-06-07 23:07:53,958 [INFO]  Epoch[2] Train-cross-entropy=0.320520\n",
      "2023-06-07 23:07:53,959 [INFO]  Epoch[2] Train-gender-accuracy=0.903737\n",
      "2023-06-07 23:07:53,959 [INFO]  Epoch[2] Time cost=8.415\n",
      "2023-06-07 23:07:53,962 [INFO]  Saved checkpoint to \"gender\\model-0002.params\"\n",
      "2023-06-07 23:07:54,667 [INFO]  Epoch[2] Validation-cross-entropy=0.346953\n",
      "2023-06-07 23:07:54,668 [INFO]  Epoch[2] Validation-gender-accuracy=0.892556\n",
      "2023-06-07 23:07:58,819 [INFO]  Epoch[3] Batch [0-398]\tSpeed: 1538.29 samples/sec\tcross-entropy=0.320579\tgender-accuracy=0.903979\n",
      "2023-06-07 23:08:02,963 [INFO]  Epoch[3] Train-cross-entropy=0.318446\n",
      "2023-06-07 23:08:02,964 [INFO]  Epoch[3] Train-gender-accuracy=0.903737\n",
      "2023-06-07 23:08:02,964 [INFO]  Epoch[3] Time cost=8.296\n",
      "2023-06-07 23:08:02,970 [INFO]  Saved checkpoint to \"gender\\model-0003.params\"\n",
      "2023-06-07 23:08:03,662 [INFO]  Epoch[3] Validation-cross-entropy=0.347189\n",
      "2023-06-07 23:08:03,662 [INFO]  Epoch[3] Validation-gender-accuracy=0.892556\n",
      "2023-06-07 23:08:07,892 [INFO]  Epoch[4] Batch [0-398]\tSpeed: 1509.58 samples/sec\tcross-entropy=0.319325\tgender-accuracy=0.903979\n",
      "2023-06-07 23:08:12,098 [INFO]  Epoch[4] Train-cross-entropy=0.317235\n",
      "2023-06-07 23:08:12,099 [INFO]  Epoch[4] Train-gender-accuracy=0.903737\n",
      "2023-06-07 23:08:12,099 [INFO]  Epoch[4] Time cost=8.436\n",
      "2023-06-07 23:08:12,102 [INFO]  Saved checkpoint to \"gender\\model-0004.params\"\n",
      "2023-06-07 23:08:12,801 [INFO]  Epoch[4] Validation-cross-entropy=0.347377\n",
      "2023-06-07 23:08:12,801 [INFO]  Epoch[4] Validation-gender-accuracy=0.892556\n",
      "2023-06-07 23:08:17,016 [INFO]  Epoch[5] Batch [0-398]\tSpeed: 1514.57 samples/sec\tcross-entropy=0.318340\tgender-accuracy=0.903979\n",
      "2023-06-07 23:08:21,170 [INFO]  Epoch[5] Train-cross-entropy=0.316286\n",
      "2023-06-07 23:08:21,171 [INFO]  Epoch[5] Train-gender-accuracy=0.903737\n",
      "2023-06-07 23:08:21,172 [INFO]  Epoch[5] Time cost=8.370\n",
      "2023-06-07 23:08:21,174 [INFO]  Saved checkpoint to \"gender\\model-0005.params\"\n",
      "2023-06-07 23:08:21,856 [INFO]  Epoch[5] Validation-cross-entropy=0.347623\n",
      "2023-06-07 23:08:21,857 [INFO]  Epoch[5] Validation-gender-accuracy=0.892556\n",
      "2023-06-07 23:08:26,025 [INFO]  Epoch[6] Batch [0-398]\tSpeed: 1531.61 samples/sec\tcross-entropy=0.317594\tgender-accuracy=0.903979\n",
      "2023-06-07 23:08:30,149 [INFO]  Epoch[6] Train-cross-entropy=0.315489\n",
      "2023-06-07 23:08:30,150 [INFO]  Epoch[6] Train-gender-accuracy=0.903737\n",
      "2023-06-07 23:08:30,150 [INFO]  Epoch[6] Time cost=8.294\n",
      "2023-06-07 23:08:30,153 [INFO]  Saved checkpoint to \"gender\\model-0006.params\"\n",
      "2023-06-07 23:08:30,866 [INFO]  No improvement detected for 5 epochs compared to 0.34668433975972485 last error obtained: 0.3480151787902532, stopping here\n",
      "2023-06-07 23:08:30,867 [INFO]  \n",
      "========== done (63.307154178619385 s) fit model\n"
     ]
    }
   ],
   "source": [
    "# For each remaining feature that has missing values, impute.\n",
    "for feature in output_cols:\n",
    "    # Create a new DataFrame that consists of the columns without missing values and the column to impute missing values for.\n",
    "    feature_included = df[input_cols + [feature]]\n",
    "    \n",
    "    # Separate rows without missing values into a DataFrame, which will be used for training.\n",
    "    feature_df = feature_included.dropna(how='any')\n",
    "    \n",
    "    # Separate rows with missing values into another DataFrame.\n",
    "    imputation_df = feature_included[feature_included.isnull().any(axis=1)]\n",
    "    \n",
    "    # Compile the model.\n",
    "    model = datawig.SimpleImputer(\n",
    "        input_columns = input_cols, # column(s) containing information about the column we want to impute\n",
    "        output_column = feature # column we'd like to impute values for\n",
    "    )\n",
    "    \n",
    "    # Train the model.\n",
    "    model.fit(feature_df);\n",
    "\n",
    "    # Make predictions using the trained model.\n",
    "    imputation_df = model.predict(imputation_df)\n",
    "    \n",
    "    # Copy the imputed values from the automatically generated column into the original feature column.\n",
    "    imputation_df[feature] = imputation_df[f'{feature}_imputed']\n",
    "    \n",
    "    # Because the column name and row indices are preserved, the imputed feature from `imputation_df` can be used directly to \n",
    "    # fill missing values of the same feature from `df_cleaned`.\n",
    "    df_cleaned[feature].fillna(imputation_df[feature], inplace=True)"
   ]
  },
  {
   "cell_type": "code",
   "execution_count": 11,
   "id": "64a6ec2e",
   "metadata": {},
   "outputs": [],
   "source": [
    "# # The accuracy of imputations for each feature can be obtained by splitting `feature_df` into a training set and a testing set, \n",
    "# # fitting `SimpleImputer` on the training set, and making predictions for the testing test to compared with the target values.\n",
    "\n",
    "# # Perform train-test split while ensuring that strata's relative proportions are represented.\n",
    "# from sklearn.model_selection import train_test_split\n",
    "# X_train, X_test, y_train, y_test = train_test_split(feature_df[input_cols], \n",
    "#                                                     feature_df[feature], \n",
    "#                                                     random_state=42, \n",
    "#                                                     stratify=feature_df[feature])\n",
    "\n",
    "# # Concatenate X and y since features and label (in this case, the column with missing values to be imputed) are combined for the\n",
    "# # Datawig model.\n",
    "# train = pd.concat([X_train, y_train], axis=1)\n",
    "# test = pd.concat([X_test, y_test], axis=1)\n",
    "\n",
    "# # Compile the model.\n",
    "# model = datawig.SimpleImputer(\n",
    "#     input_columns = input_cols, # column(s) containing information about the column we want to impute\n",
    "#     output_column = feature # the column we'd like to impute values for\n",
    "# )\n",
    "\n",
    "# # Train the model.\n",
    "# model.fit(train);\n",
    "\n",
    "# # Make imputations using the trained model.\n",
    "# imputations = model.predict(test)\n",
    "\n",
    "# # Compute the accuracy score.\n",
    "# from sklearn.metrics import accuracy_score\n",
    "# accuracy_score(imputations[feature], imputations[f'{feature}_imputed'])"
   ]
  },
  {
   "cell_type": "code",
   "execution_count": 12,
   "id": "049481d1",
   "metadata": {},
   "outputs": [],
   "source": [
    "# Export df_cleaned as a CSV file.\n",
    "df_cleaned.to_csv('../resources/imputed_loop.csv', index=False)"
   ]
  }
 ],
 "metadata": {
  "kernelspec": {
   "display_name": "myenv",
   "language": "python",
   "name": "myenv"
  },
  "language_info": {
   "codemirror_mode": {
    "name": "ipython",
    "version": 3
   },
   "file_extension": ".py",
   "mimetype": "text/x-python",
   "name": "python",
   "nbconvert_exporter": "python",
   "pygments_lexer": "ipython3",
   "version": "3.7.16"
  }
 },
 "nbformat": 4,
 "nbformat_minor": 5
}
