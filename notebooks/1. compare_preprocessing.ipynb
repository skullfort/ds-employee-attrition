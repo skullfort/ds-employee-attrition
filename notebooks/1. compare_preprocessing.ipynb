{
 "cells": [
  {
   "cell_type": "markdown",
   "id": "f9b0cc60",
   "metadata": {},
   "source": [
    "The notebook applies the preprocessing process from preliminary data exploration to investigate the impact of different imputation methods on the performance of logistic regression classification:\n",
    "- dropping all null values of the original dataset\n",
    "- imputing null values using Datawig with the training set missing values\n",
    "- imputing null values using Datawig with the training set not missing values\n",
    "\n",
    "Preprocessing and model implementaion are written as functions in the `pipeline` module."
   ]
  },
  {
   "cell_type": "code",
   "execution_count": 1,
   "id": "9a520639",
   "metadata": {},
   "outputs": [],
   "source": [
    "import pandas as pd\n",
    "from project_pipeline import clean_data, preprocess, lr_model"
   ]
  },
  {
   "cell_type": "markdown",
   "id": "ec1a16d8",
   "metadata": {},
   "source": [
    "## Drop all null values"
   ]
  },
  {
   "cell_type": "code",
   "execution_count": 2,
   "id": "7553c368",
   "metadata": {},
   "outputs": [
    {
     "name": "stdout",
     "output_type": "stream",
     "text": [
      "<class 'pandas.core.frame.DataFrame'>\n",
      "RangeIndex: 19158 entries, 0 to 19157\n",
      "Data columns (total 14 columns):\n",
      " #   Column                  Non-Null Count  Dtype  \n",
      "---  ------                  --------------  -----  \n",
      " 0   enrollee_id             19158 non-null  int64  \n",
      " 1   city                    19158 non-null  object \n",
      " 2   city_development_index  19158 non-null  float64\n",
      " 3   gender                  14650 non-null  object \n",
      " 4   relevent_experience     19158 non-null  object \n",
      " 5   enrolled_university     18772 non-null  object \n",
      " 6   education_level         18698 non-null  object \n",
      " 7   major_discipline        16345 non-null  object \n",
      " 8   experience              19093 non-null  object \n",
      " 9   company_size            13220 non-null  object \n",
      " 10  company_type            13018 non-null  object \n",
      " 11  last_new_job            18735 non-null  object \n",
      " 12  training_hours          19158 non-null  int64  \n",
      " 13  target                  19158 non-null  float64\n",
      "dtypes: float64(2), int64(2), object(10)\n",
      "memory usage: 2.0+ MB\n"
     ]
    }
   ],
   "source": [
    "# Read in the original data.\n",
    "df = pd.read_csv('../resources/train.csv')\n",
    "df.info()"
   ]
  },
  {
   "cell_type": "code",
   "execution_count": 3,
   "id": "77ac7556",
   "metadata": {},
   "outputs": [
    {
     "name": "stdout",
     "output_type": "stream",
     "text": [
      "<class 'pandas.core.frame.DataFrame'>\n",
      "Int64Index: 8955 entries, 1 to 19155\n",
      "Data columns (total 13 columns):\n",
      " #   Column                  Non-Null Count  Dtype  \n",
      "---  ------                  --------------  -----  \n",
      " 0   city                    8955 non-null   object \n",
      " 1   city_development_index  8955 non-null   float64\n",
      " 2   gender                  8955 non-null   object \n",
      " 3   relevent_experience     8955 non-null   object \n",
      " 4   enrolled_university     8955 non-null   object \n",
      " 5   education_level         8955 non-null   object \n",
      " 6   major_discipline        8955 non-null   object \n",
      " 7   experience              8955 non-null   object \n",
      " 8   company_size            8955 non-null   object \n",
      " 9   company_type            8955 non-null   object \n",
      " 10  last_new_job            8955 non-null   object \n",
      " 11  training_hours          8955 non-null   int64  \n",
      " 12  target                  8955 non-null   float64\n",
      "dtypes: float64(2), int64(1), object(10)\n",
      "memory usage: 979.5+ KB\n"
     ]
    }
   ],
   "source": [
    "# Drop `enrollee_id` as before and all the null values in the DataFrame.\n",
    "df.drop(columns='enrollee_id', inplace=True)\n",
    "df.dropna(inplace=True)\n",
    "df.info()"
   ]
  },
  {
   "cell_type": "code",
   "execution_count": 4,
   "id": "4176e156",
   "metadata": {},
   "outputs": [
    {
     "name": "stdout",
     "output_type": "stream",
     "text": [
      "ROC AUC: 0.73\n",
      "Classification report:\n",
      "              precision    recall  f1-score   support\n",
      "\n",
      "        stay       0.92      0.84      0.88      1868\n",
      "       leave       0.43      0.63      0.51       371\n",
      "\n",
      "    accuracy                           0.80      2239\n",
      "   macro avg       0.68      0.73      0.69      2239\n",
      "weighted avg       0.84      0.80      0.82      2239\n",
      "\n"
     ]
    }
   ],
   "source": [
    "X_train, X_test, y_train, y_test = preprocess(clean_data(df))\n",
    "lr_model(X_train, X_test, y_train, y_test)"
   ]
  },
  {
   "cell_type": "markdown",
   "id": "3287ff72",
   "metadata": {},
   "source": [
    "While the accuracy score for the testing set increases from 0.74 to 0.80, the recall score for predicting individuals leaving their current employment drops from 0.74 to 0.63. Since a higher recall score for predicting individuals leaving their current employment is an important objective of the analysis, this approach of dropping all null values is not considered for the rest of the study."
   ]
  },
  {
   "cell_type": "markdown",
   "id": "aa041caa",
   "metadata": {},
   "source": [
    "## Datawig imputations - training set missing values"
   ]
  },
  {
   "cell_type": "code",
   "execution_count": 5,
   "id": "2d8e99b0",
   "metadata": {},
   "outputs": [
    {
     "name": "stdout",
     "output_type": "stream",
     "text": [
      "<class 'pandas.core.frame.DataFrame'>\n",
      "RangeIndex: 18014 entries, 0 to 18013\n",
      "Data columns (total 14 columns):\n",
      " #   Column                  Non-Null Count  Dtype  \n",
      "---  ------                  --------------  -----  \n",
      " 0   enrollee_id             18014 non-null  int64  \n",
      " 1   city                    18014 non-null  object \n",
      " 2   city_development_index  18014 non-null  float64\n",
      " 3   gender                  18014 non-null  object \n",
      " 4   relevent_experience     18014 non-null  object \n",
      " 5   enrolled_university     18014 non-null  object \n",
      " 6   education_level         18014 non-null  object \n",
      " 7   major_discipline        18014 non-null  object \n",
      " 8   experience              18014 non-null  object \n",
      " 9   company_size            18014 non-null  object \n",
      " 10  company_type            18014 non-null  object \n",
      " 11  last_new_job            18014 non-null  object \n",
      " 12  training_hours          18014 non-null  int64  \n",
      " 13  target                  18014 non-null  float64\n",
      "dtypes: float64(2), int64(2), object(10)\n",
      "memory usage: 1.9+ MB\n"
     ]
    }
   ],
   "source": [
    "# Read in the original data.\n",
    "df = pd.read_csv('../resources/imputed.csv')\n",
    "df.info()"
   ]
  },
  {
   "cell_type": "code",
   "execution_count": 6,
   "id": "7a365a7b",
   "metadata": {},
   "outputs": [
    {
     "name": "stdout",
     "output_type": "stream",
     "text": [
      "ROC AUC: 0.72\n",
      "Classification report:\n",
      "              precision    recall  f1-score   support\n",
      "\n",
      "        stay       0.88      0.76      0.81      3399\n",
      "       leave       0.48      0.69      0.56      1105\n",
      "\n",
      "    accuracy                           0.74      4504\n",
      "   macro avg       0.68      0.72      0.69      4504\n",
      "weighted avg       0.78      0.74      0.75      4504\n",
      "\n"
     ]
    }
   ],
   "source": [
    "X_train, X_test, y_train, y_test = preprocess(clean_data(df))\n",
    "lr_model(X_train, X_test, y_train, y_test)"
   ]
  },
  {
   "cell_type": "markdown",
   "id": "05dbc6bd",
   "metadata": {},
   "source": [
    "## Datawig imputations - training set not missing values"
   ]
  },
  {
   "cell_type": "code",
   "execution_count": 7,
   "id": "77d90463",
   "metadata": {},
   "outputs": [
    {
     "name": "stdout",
     "output_type": "stream",
     "text": [
      "<class 'pandas.core.frame.DataFrame'>\n",
      "RangeIndex: 18014 entries, 0 to 18013\n",
      "Data columns (total 14 columns):\n",
      " #   Column                  Non-Null Count  Dtype  \n",
      "---  ------                  --------------  -----  \n",
      " 0   enrollee_id             18014 non-null  int64  \n",
      " 1   city                    18014 non-null  object \n",
      " 2   city_development_index  18014 non-null  float64\n",
      " 3   gender                  18014 non-null  object \n",
      " 4   relevent_experience     18014 non-null  object \n",
      " 5   enrolled_university     18014 non-null  object \n",
      " 6   education_level         18014 non-null  object \n",
      " 7   major_discipline        18014 non-null  object \n",
      " 8   experience              18014 non-null  object \n",
      " 9   company_size            18014 non-null  object \n",
      " 10  company_type            18014 non-null  object \n",
      " 11  last_new_job            18014 non-null  object \n",
      " 12  training_hours          18014 non-null  int64  \n",
      " 13  target                  18014 non-null  float64\n",
      "dtypes: float64(2), int64(2), object(10)\n",
      "memory usage: 1.9+ MB\n"
     ]
    }
   ],
   "source": [
    "# Read in the original data.\n",
    "df = pd.read_csv('../resources/imputed_loop.csv')\n",
    "df.info()"
   ]
  },
  {
   "cell_type": "code",
   "execution_count": 8,
   "id": "0dceaee0",
   "metadata": {},
   "outputs": [
    {
     "name": "stdout",
     "output_type": "stream",
     "text": [
      "ROC AUC: 0.72\n",
      "Classification report:\n",
      "              precision    recall  f1-score   support\n",
      "\n",
      "        stay       0.88      0.75      0.81      3399\n",
      "       leave       0.48      0.69      0.56      1105\n",
      "\n",
      "    accuracy                           0.74      4504\n",
      "   macro avg       0.68      0.72      0.69      4504\n",
      "weighted avg       0.78      0.74      0.75      4504\n",
      "\n"
     ]
    }
   ],
   "source": [
    "X_train, X_test, y_train, y_test = preprocess(clean_data(df))\n",
    "lr_model(X_train, X_test, y_train, y_test)"
   ]
  },
  {
   "cell_type": "markdown",
   "id": "db587d35",
   "metadata": {},
   "source": [
    "The performance metrics obtained with Datawig imputation show that the logistic regression model results in similar accuracy but lower recall (from 0.74 to 0.69) in comparison with those obtained with mode imputation. Considering that the latter is also computationally less costly, it is used for the rest of the analysis."
   ]
  }
 ],
 "metadata": {
  "kernelspec": {
   "display_name": "Python 3 (ipykernel)",
   "language": "python",
   "name": "python3"
  },
  "language_info": {
   "codemirror_mode": {
    "name": "ipython",
    "version": 3
   },
   "file_extension": ".py",
   "mimetype": "text/x-python",
   "name": "python",
   "nbconvert_exporter": "python",
   "pygments_lexer": "ipython3",
   "version": "3.10.9"
  }
 },
 "nbformat": 4,
 "nbformat_minor": 5
}
